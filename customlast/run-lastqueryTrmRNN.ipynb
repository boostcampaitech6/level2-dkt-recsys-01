{
 "cells": [
  {
   "cell_type": "markdown",
   "metadata": {},
   "source": [
    "# Last Query Transformer RNN\n",
    "\n",
    "- Riiid! 대회의 1st place 를 차지한 모델을 직접 구현해본다"
   ]
  },
  {
   "cell_type": "code",
   "execution_count": 1,
   "metadata": {},
   "outputs": [],
   "source": [
    "import os, random, pickle\n",
    "from tqdm import tqdm\n",
    "from datetime import datetime as dt\n",
    "from easydict import EasyDict\n",
    "\n",
    "import numpy as np\n",
    "import pandas as pd\n",
    "\n",
    "import matplotlib.pyplot as plt\n",
    "\n",
    "import torch\n",
    "import torch.nn as nn\n",
    "from torch.utils.data import Dataset, DataLoader\n",
    "\n",
    "from dataset import SimpleSequenceDKTDataset\n",
    "from models.models import LastQueryTransformerRNN\n",
    "\n",
    "import wandb\n",
    "\n",
    "plt.rcParams[\"font.family\"] = 'NanumGothic'"
   ]
  },
  {
   "cell_type": "code",
   "execution_count": 2,
   "metadata": {},
   "outputs": [],
   "source": [
    "# fix random seed\n",
    "seed = 42\n",
    "random.seed(seed)\n",
    "np.random.seed(seed)\n",
    "_ = torch.manual_seed(seed)"
   ]
  },
  {
   "cell_type": "markdown",
   "metadata": {},
   "source": [
    "# Configs"
   ]
  },
  {
   "cell_type": "code",
   "execution_count": 3,
   "metadata": {},
   "outputs": [
    {
     "name": "stdout",
     "output_type": "stream",
     "text": [
      "{'modelname': 'lastquery', 'result_dir': '.', 'data_dir': 'dataset/', 'data_name': 'dataset_v4-512-False-22.pt', 'max_length': 512, 'embed': False, 'wandb_config': {'wandb': True, 'project_name': 'dkt-dl'}, 'train_config': {'batch_size': 16, 'emb_dim': 128, 'hidden_dim': 128, 'activation_f': 'tanh', 'learnin_rate': 0.001, 'epochs': 100, 'patience': 10, 'CosineAnnealingLR': {'T_max': 10, 'eta_min': 0}, 'StepLR': {'step_size': 2, 'gamma': 0.1}, 'CosineAnnealingWarmRestarts': {'T_0': 1, 'T_mult': 1, 'eta_min': 0}}}\n"
     ]
    }
   ],
   "source": [
    "import yaml\n",
    "\n",
    "#read yaml file\n",
    "with open('rnn_config.yaml') as file:\n",
    "  config = yaml.safe_load(file)\n",
    "print(config)"
   ]
  },
  {
   "cell_type": "code",
   "execution_count": 4,
   "metadata": {},
   "outputs": [],
   "source": [
    "# with open('512-False-embeddings.pickle', 'rb') as f:\n",
    "#         embeddings = EasyDict(pickle.load(f))"
   ]
  },
  {
   "cell_type": "markdown",
   "metadata": {},
   "source": [
    "## wandb logging"
   ]
  },
  {
   "cell_type": "code",
   "execution_count": 5,
   "metadata": {},
   "outputs": [
    {
     "name": "stderr",
     "output_type": "stream",
     "text": [
      "Failed to detect the name of this notebook, you can set it manually with the WANDB_NOTEBOOK_NAME environment variable to enable code saving.\n",
      "\u001b[34m\u001b[1mwandb\u001b[0m: Currently logged in as: \u001b[33mtwndus\u001b[0m (\u001b[33mdkt-recsys1\u001b[0m). Use \u001b[1m`wandb login --relogin`\u001b[0m to force relogin\n"
     ]
    },
    {
     "data": {
      "text/html": [
       "Tracking run with wandb version 0.16.2"
      ],
      "text/plain": [
       "<IPython.core.display.HTML object>"
      ]
     },
     "metadata": {},
     "output_type": "display_data"
    },
    {
     "data": {
      "text/html": [
       "Run data is saved locally in <code>/data/ephemeral/level2-dkt-recsys-01/customlast/wandb/run-20240122_061218-qv1r6x2x</code>"
      ],
      "text/plain": [
       "<IPython.core.display.HTML object>"
      ]
     },
     "metadata": {},
     "output_type": "display_data"
    },
    {
     "data": {
      "text/html": [
       "Syncing run <strong><a href='https://wandb.ai/dkt-recsys1/dkt-dl/runs/qv1r6x2x' target=\"_blank\">lastquery_240122-061216</a></strong> to <a href='https://wandb.ai/dkt-recsys1/dkt-dl' target=\"_blank\">Weights & Biases</a> (<a href='https://wandb.me/run' target=\"_blank\">docs</a>)<br/>"
      ],
      "text/plain": [
       "<IPython.core.display.HTML object>"
      ]
     },
     "metadata": {},
     "output_type": "display_data"
    },
    {
     "data": {
      "text/html": [
       " View project at <a href='https://wandb.ai/dkt-recsys1/dkt-dl' target=\"_blank\">https://wandb.ai/dkt-recsys1/dkt-dl</a>"
      ],
      "text/plain": [
       "<IPython.core.display.HTML object>"
      ]
     },
     "metadata": {},
     "output_type": "display_data"
    },
    {
     "data": {
      "text/html": [
       " View run at <a href='https://wandb.ai/dkt-recsys1/dkt-dl/runs/qv1r6x2x' target=\"_blank\">https://wandb.ai/dkt-recsys1/dkt-dl/runs/qv1r6x2x</a>"
      ],
      "text/plain": [
       "<IPython.core.display.HTML object>"
      ]
     },
     "metadata": {},
     "output_type": "display_data"
    }
   ],
   "source": [
    "import wandb\n",
    "\n",
    "# run name condition\n",
    "now = dt.strftime(dt.now(), '%y%m%d-%H%M%S')\n",
    "\n",
    "if config['wandb_config']['wandb']:\n",
    "    run = wandb.init(\n",
    "        project=config['wandb_config']['project_name'],\n",
    "        name=f'{config[\"modelname\"]}_{now}',\n",
    "        config={\n",
    "        'data_name': config['data_name'],\n",
    "        **config['train_config'],\n",
    "    })"
   ]
  },
  {
   "cell_type": "markdown",
   "metadata": {},
   "source": [
    "# load dataset"
   ]
  },
  {
   "cell_type": "code",
   "execution_count": 6,
   "metadata": {},
   "outputs": [],
   "source": [
    "data_dir = config['data_dir']\n",
    "data_name = config['data_name']\n",
    "\n",
    "train_dataset_v1 = torch.load(os.path.join(data_dir, f'train_{data_name}'))\n",
    "valid_dataset_v1 = torch.load(os.path.join(data_dir, f'valid_{data_name}'))\n",
    "test_dataset_v1 = torch.load(os.path.join(data_dir, f'test_{data_name}'))"
   ]
  },
  {
   "cell_type": "code",
   "execution_count": 7,
   "metadata": {},
   "outputs": [],
   "source": [
    "max_length = config['max_length'] #128 #512\n",
    "embed = config['embed']#True"
   ]
  },
  {
   "cell_type": "code",
   "execution_count": 8,
   "metadata": {},
   "outputs": [
    {
     "data": {
      "text/plain": [
       "(5358,\n",
       " 1340,\n",
       " array([ 9.19800000e+03,  1.49900000e+03,  1.58000000e+02,  8.00000000e+00,\n",
       "         3.60000000e+01,  5.00000000e+00,  5.00000000e+00,  2.00000000e+00,\n",
       "         5.52318100e-01, -2.92775797e-01,  2.00000000e+00,  8.91396333e-01,\n",
       "         4.99141385e-01,  5.32000000e-01,  5.00250376e-01,  4.54762720e-01,\n",
       "         4.54762720e-01,  1.27782247e-01, -4.76472166e-01, -1.09579809e+00,\n",
       "        -5.30640825e-01,  3.01784916e-02]))"
      ]
     },
     "execution_count": 8,
     "metadata": {},
     "output_type": "execute_result"
    }
   ],
   "source": [
    "len(train_dataset_v1), len(valid_dataset_v1), train_dataset_v1[0]['X'][1]"
   ]
  },
  {
   "cell_type": "markdown",
   "metadata": {},
   "source": [
    "# dataloader"
   ]
  },
  {
   "cell_type": "code",
   "execution_count": 9,
   "metadata": {},
   "outputs": [],
   "source": [
    "batch_size = config['train_config']['batch_size']\n",
    "train_dataloader = DataLoader(train_dataset_v1, batch_size, shuffle=True)\n",
    "valid_dataloader = DataLoader(valid_dataset_v1, batch_size, shuffle=True)\n",
    "test_dataloader = DataLoader(test_dataset_v1, batch_size)"
   ]
  },
  {
   "cell_type": "markdown",
   "metadata": {},
   "source": [
    "# Modeling"
   ]
  },
  {
   "cell_type": "code",
   "execution_count": 10,
   "metadata": {},
   "outputs": [],
   "source": [
    "############# 변경 필요 (사용하는 피처들로 구성)\n",
    "category_cols = [\n",
    "    'assessmentItemID', 'testId', 'KnowledgeTag',\n",
    "    'test_group_one', 'test_group_two', 'serial',\n",
    "    'dayofweek', 'time_hour'\n",
    "]\n",
    "scaling_cols = ['time_diff', 'timediff']\n",
    "features = [*category_cols, *scaling_cols, \n",
    "            'previous_label',\n",
    "            # 'acc_window_3', 'acc_window_5', 'acc_window_10',\n",
    "            'user_acc_mean', 'tag_acc_mean', 'item_acc_mean', 'test_acc_mean',\n",
    "            'g1_acc_mean', 'g1_acc_mean', #16\n",
    "            'user_time_median', 'tag_time_median', 'item_time_median', \n",
    "            'g1_time_median', 'g2_time_median',  \n",
    "            # 'user_count', 'user_ability', 'tag_difficulty', \n",
    "            # 'item_difficulty', 'test_difficulty', 'g1_difficulty', 'g2_difficulty',\n",
    "            # 'guess_yn',\n",
    "]"
   ]
  },
  {
   "cell_type": "code",
   "execution_count": 11,
   "metadata": {},
   "outputs": [
    {
     "data": {
      "text/plain": [
       "(22, 8, 14)"
      ]
     },
     "execution_count": 11,
     "metadata": {},
     "output_type": "execute_result"
    }
   ],
   "source": [
    "cat_size = len(category_cols)\n",
    "############# 변경 필요 (command 복붙)\n",
    "cat_emb_size = [\n",
    "    9454, 1537, 912, \n",
    "    9, 198, 13,\n",
    "    7, 6,\n",
    "]\n",
    "# [9454, 1537, 912, 9, 198, 13, 7, 6]\n",
    "\n",
    "num_size = len(features)-cat_size\n",
    "len(features), cat_size, num_size"
   ]
  },
  {
   "cell_type": "code",
   "execution_count": 12,
   "metadata": {},
   "outputs": [],
   "source": [
    "learning_rate = config['train_config']['learnin_rate']\n",
    "\n",
    "seqlen = max_length# 256 #DATA\n",
    "emb_dim = config['train_config']['emb_dim']\n",
    "hidden_dim = config['train_config']['hidden_dim']\n",
    "activation_f = config['train_config']['activation_f']\n",
    "\n",
    "num_heads = 4\n",
    "dropout_ratio = 0.5"
   ]
  },
  {
   "cell_type": "code",
   "execution_count": 13,
   "metadata": {},
   "outputs": [
    {
     "data": {
      "text/plain": [
       "(['assessmentItemID',\n",
       "  'testId',\n",
       "  'KnowledgeTag',\n",
       "  'test_group_one',\n",
       "  'test_group_two',\n",
       "  'serial',\n",
       "  'dayofweek',\n",
       "  'time_hour',\n",
       "  'time_diff',\n",
       "  'timediff',\n",
       "  'previous_label',\n",
       "  'user_acc_mean',\n",
       "  'tag_acc_mean',\n",
       "  'item_acc_mean',\n",
       "  'test_acc_mean',\n",
       "  'g1_acc_mean',\n",
       "  'g1_acc_mean',\n",
       "  'user_time_median',\n",
       "  'tag_time_median',\n",
       "  'item_time_median',\n",
       "  'g1_time_median',\n",
       "  'g2_time_median'],\n",
       " 8,\n",
       " 14,\n",
       " [9454, 1537, 912, 9, 198, 13, 7, 6],\n",
       " 128,\n",
       " 128,\n",
       " 4,\n",
       " 0.5,\n",
       " 'tanh',\n",
       " 512)"
      ]
     },
     "execution_count": 13,
     "metadata": {},
     "output_type": "execute_result"
    }
   ],
   "source": [
    "features, cat_size, num_size, cat_emb_size, emb_dim, hidden_dim, num_heads, dropout_ratio, activation_f, seqlen,"
   ]
  },
  {
   "cell_type": "code",
   "execution_count": 14,
   "metadata": {},
   "outputs": [],
   "source": [
    "# at beginning of the script\n",
    "device = torch.device(\"cuda:0\" if torch.cuda.is_available() else \"cpu\")\n",
    "\n",
    "model = LastQueryTransformerRNN(features, cat_size, num_size, cat_emb_size, \n",
    "    emb_dim, hidden_dim, num_heads, dropout_ratio, activation_f, seqlen,\n",
    "    ).to(device)\n",
    "\n",
    "loss_f = nn.BCEWithLogitsLoss().to(device)\n",
    "adamw = torch.optim.AdamW(model.parameters(), lr=learning_rate)\n",
    "# lr_scheduler = torch.optim.lr_scheduler.StepLR(adamw, step_size=5, gamma=0.1)\n",
    "lr_scheduler = torch.optim.lr_scheduler.ReduceLROnPlateau(adamw, patience=10, factor=0.5, mode='max', verbose=True)\n",
    "# lr_scheduler = torch.optim.lr_scheduler.CosineAnnealingLR(adamw, **config['train_config']['CosineAnnealingLR'])\n",
    "# lr_scheduler = torch.optim.lr_scheduler.CosineAnnealingLR(adamw, T_max=T_max, eta_min=eta_min)\n",
    "# lr_scheduler = torch.optim.lr_scheduler.CosineAnnealingWarmRestarts(\n",
    "#     adamw, **config['train_config']['CosineAnnealingWarmRestarts'])"
   ]
  },
  {
   "cell_type": "code",
   "execution_count": 15,
   "metadata": {},
   "outputs": [],
   "source": [
    "from copy import deepcopy\n",
    "from sklearn.metrics import roc_auc_score, accuracy_score\n",
    "\n",
    "def train_step(model, loss_f, train_dataloader, adamw, device):\n",
    "    loss_sum, auc_sum, acc_sum = 0, 0, 0\n",
    "\n",
    "    for iter, data in enumerate(train_dataloader):\n",
    "\n",
    "        user_ids, X = data['user_id'].int().to(device), data['X'].float().to(device)\n",
    "        y = data['y'].view(data['y'].size(0), 1).float().to(device)\n",
    "        mask = data['mask'].float().to(device)\n",
    "        \n",
    "        pred = model((user_ids, X, mask))\n",
    "        # pred = model((X, mask))\n",
    "        loss = loss_f(pred, y)\n",
    "        \n",
    "        adamw.zero_grad()\n",
    "        loss.backward()\n",
    "        adamw.step()\n",
    "\n",
    "        auc_sum += roc_auc_score(y.detach().cpu().numpy(), torch.sigmoid(pred).detach().cpu().numpy())\n",
    "        acc_sum += accuracy_score(y.detach().cpu().numpy(), torch.sigmoid(pred).detach().cpu().int().numpy()>=0.5)\n",
    "        loss_sum += loss.item()\n",
    "    \n",
    "    # scheduler.step()\n",
    "    \n",
    "    return loss_sum/len(train_dataloader), auc_sum/len(train_dataloader), acc_sum/len(train_dataloader)\n",
    "\n",
    "def valid_step(model, loss_f, valid_dataloader, device):\n",
    "    loss_sum = 0\n",
    "    auc_sum = 0\n",
    "    acc_sum = 0\n",
    "    targets, preds = [], []\n",
    "\n",
    "    for iter, data in enumerate(valid_dataloader):\n",
    "        user_ids, X = data['user_id'].int().to(device), data['X'].float().to(device)\n",
    "        y = data['y'].view(data['y'].size(0), 1).float().to(device)\n",
    "        mask = data['mask'].float().to(device)\n",
    "        pred = model((user_ids, X, mask))\n",
    "        \n",
    "        loss = loss_f(pred, y)\n",
    "\n",
    "        auc_sum += roc_auc_score(y.detach().cpu().numpy(), torch.sigmoid(pred).detach().cpu().numpy())\n",
    "        acc_sum += accuracy_score(y.detach().cpu().numpy(), torch.sigmoid(pred).detach().cpu().numpy()>=0.5)\n",
    "        loss_sum += loss.item()\n",
    "\n",
    "        targets.extend(data['y'].detach().numpy())\n",
    "        preds.extend(torch.sigmoid(pred).detach().cpu().numpy())\n",
    "        \n",
    "    return targets, preds, loss_sum/len(valid_dataloader), auc_sum/len(valid_dataloader), acc_sum/len(valid_dataloader)"
   ]
  },
  {
   "cell_type": "code",
   "execution_count": 16,
   "metadata": {},
   "outputs": [
    {
     "name": "stdout",
     "output_type": "stream",
     "text": [
      "[0 epochs] train_loss: 0.5968, valid_loss: 0.5298, train_auc: 0.7565, valid_auc: 0.8080, valid_auc: 0.7297, valid_acc: 0.7297\n",
      "minimum valid loss is 0.5298 at 0 epoch\n",
      "[1 epochs] train_loss: 0.5320, valid_loss: 0.5363, train_auc: 0.8169, valid_auc: 0.8126, valid_auc: 0.7197, valid_acc: 0.7197\n",
      "[2 epochs] train_loss: 0.5105, valid_loss: 0.5184, train_auc: 0.8350, valid_auc: 0.8291, valid_auc: 0.7354, valid_acc: 0.7354\n",
      "minimum valid loss is 0.5184 at 2 epoch\n",
      "[3 epochs] train_loss: 0.4890, valid_loss: 0.5548, train_auc: 0.8471, valid_auc: 0.8082, valid_auc: 0.7252, valid_acc: 0.7252\n",
      "[4 epochs] train_loss: 0.4747, valid_loss: 0.5589, train_auc: 0.8566, valid_auc: 0.7924, valid_auc: 0.7173, valid_acc: 0.7173\n",
      "[5 epochs] train_loss: 0.4455, valid_loss: 0.5655, train_auc: 0.8775, valid_auc: 0.8069, valid_auc: 0.7351, valid_acc: 0.7351\n",
      "[6 epochs] train_loss: 0.4218, valid_loss: 0.6109, train_auc: 0.8874, valid_auc: 0.7947, valid_auc: 0.7188, valid_acc: 0.7188\n",
      "[7 epochs] train_loss: 0.4010, valid_loss: 0.5861, train_auc: 0.9030, valid_auc: 0.7933, valid_auc: 0.7195, valid_acc: 0.7195\n",
      "[8 epochs] train_loss: 0.3809, valid_loss: 0.6001, train_auc: 0.9129, valid_auc: 0.7692, valid_auc: 0.7016, valid_acc: 0.7016\n",
      "[9 epochs] train_loss: 0.3576, valid_loss: 0.6350, train_auc: 0.9216, valid_auc: 0.7906, valid_auc: 0.7103, valid_acc: 0.7103\n",
      "[10 epochs] train_loss: 0.3260, valid_loss: 0.7066, train_auc: 0.9349, valid_auc: 0.7602, valid_auc: 0.7054, valid_acc: 0.7054\n",
      "[11 epochs] train_loss: 0.2915, valid_loss: 0.7345, train_auc: 0.9498, valid_auc: 0.7631, valid_auc: 0.7049, valid_acc: 0.7049\n",
      "[12 epochs] train_loss: 0.2502, valid_loss: 0.7926, train_auc: 0.9614, valid_auc: 0.7700, valid_auc: 0.6994, valid_acc: 0.6994\n",
      "early stopped at 12 epoch\n"
     ]
    }
   ],
   "source": [
    "epochs = config['train_config']['epochs']\n",
    "best_auc, best_epochs = 0, 0\n",
    "least_loss, patience, num = 1e+9, config['train_config']['patience'], 0\n",
    "best_model = None\n",
    "\n",
    "torch.autograd.set_detect_anomaly(True)\n",
    "\n",
    "for e in range(epochs):\n",
    "\n",
    "    train_loss, train_auc, train_acc = train_step(model, loss_f, train_dataloader, adamw, device)\n",
    "    _, _, valid_loss, valid_auc, valid_acc = valid_step(model, loss_f, valid_dataloader, device)\n",
    "\n",
    "    print(f'[{e} epochs] train_loss: {train_loss:.4f}, valid_loss: {valid_loss:.4f}, train_auc: {train_auc:.4f}, valid_auc: {valid_auc:.4f}, valid_auc: {valid_acc:.4f}, valid_acc: {valid_acc:.4f}')\n",
    "    \n",
    "    if config['wandb_config']['wandb']:\n",
    "        wandb.log({\"train_loss\": train_loss, \"valid_loss\": valid_loss,\n",
    "                \"train_auc\": train_auc, \"valid_auc\": valid_auc})\n",
    "    \n",
    "    if valid_loss < least_loss:\n",
    "        print(f'minimum valid loss is {valid_loss:.4f} at {e} epoch')\n",
    "        least_loss, num = valid_loss, 0\n",
    "        best_auc, best_epochs = valid_auc, e\n",
    "        best_model = deepcopy(model.state_dict())\n",
    "    else:\n",
    "        num += 1\n",
    "        if num >= patience:\n",
    "            print(f'early stopped at {e} epoch')\n",
    "            break\n",
    "    \n",
    "    lr_scheduler.step(valid_loss)"
   ]
  },
  {
   "cell_type": "code",
   "execution_count": 17,
   "metadata": {},
   "outputs": [
    {
     "data": {
      "text/plain": [
       "(2,\n",
       " 0.8290508515954946,\n",
       " 0.8515408593420317,\n",
       " 0.8315890789105074,\n",
       " 0.769269722814499,\n",
       " 0.7452876984126984,\n",
       " 2)"
      ]
     },
     "execution_count": 17,
     "metadata": {},
     "output_type": "execute_result"
    }
   ],
   "source": [
    "model.load_state_dict(best_model)\n",
    "targets, preds, valid_loss, valid_auc, valid_acc = valid_step(model, loss_f, valid_dataloader, device)\n",
    "_, _, train_loss, train_auc, train_acc = valid_step(model, loss_f, train_dataloader, device)\n",
    "best_epochs, best_auc, train_auc, valid_auc, train_acc, valid_acc, best_epochs"
   ]
  },
  {
   "cell_type": "code",
   "execution_count": 18,
   "metadata": {},
   "outputs": [],
   "source": [
    "if config['wandb_config']['wandb']:\n",
    "    run.log({\n",
    "        \"final_train_auc\": train_auc,\n",
    "        \"final_valid_auc\": valid_auc,\n",
    "    })"
   ]
  },
  {
   "cell_type": "code",
   "execution_count": 19,
   "metadata": {},
   "outputs": [
    {
     "data": {
      "text/plain": [
       "array([[499, 199],\n",
       "       [142, 500]])"
      ]
     },
     "execution_count": 19,
     "metadata": {},
     "output_type": "execute_result"
    }
   ],
   "source": [
    "from sklearn.metrics import confusion_matrix\n",
    "confusion_matrix(targets, np.array(preds) > 0.5)"
   ]
  },
  {
   "cell_type": "code",
   "execution_count": 20,
   "metadata": {},
   "outputs": [
    {
     "data": {
      "text/plain": [
       "(array([179., 171.,  92.,  87.,  91., 112., 135., 178., 174., 121.]),\n",
       " array([0.00906951, 0.10261139, 0.19615325, 0.28969511, 0.383237  ,\n",
       "        0.47677886, 0.57032073, 0.66386259, 0.75740451, 0.85094637,\n",
       "        0.94448823]),\n",
       " <BarContainer object of 10 artists>)"
      ]
     },
     "execution_count": 20,
     "metadata": {},
     "output_type": "execute_result"
    },
    {
     "data": {
      "image/png": "[encoded data removed]",
      "text/plain": [
       "<Figure size 640x480 with 1 Axes>"
      ]
     },
     "metadata": {},
     "output_type": "display_data"
    }
   ],
   "source": [
    "plt.hist([pred[0] for pred in preds])"
   ]
  },
  {
   "cell_type": "code",
   "execution_count": 21,
   "metadata": {},
   "outputs": [
    {
     "data": {
      "text/plain": [
       "0.4118388"
      ]
     },
     "execution_count": 21,
     "metadata": {},
     "output_type": "execute_result"
    }
   ],
   "source": [
    "from sklearn.metrics import roc_curve, auc\n",
    "# ROC 곡선 계산\n",
    "fpr, tpr, thresholds = roc_curve(targets, preds)\n",
    "roc_auc = auc(fpr, tpr)\n",
    "\n",
    "# 최적의 임계값 찾기\n",
    "optimal_idx = np.argmax(tpr - fpr)\n",
    "optimal_threshold = thresholds[optimal_idx]\n",
    "optimal_threshold"
   ]
  },
  {
   "cell_type": "code",
   "execution_count": 22,
   "metadata": {},
   "outputs": [
    {
     "name": "stderr",
     "output_type": "stream",
     "text": [
      "/tmp/ipykernel_387667/3411821847.py:1: DeprecationWarning: Conversion of an array with ndim > 0 to a scalar is deprecated, and will error in future. Ensure you extract a single element from your array before performing this operation. (Deprecated NumPy 1.25.)\n",
      "  preds_ = [int(pred > optimal_threshold) for pred in preds]\n",
      "wandb: WARNING Source type is set to 'repo' but some required information is missing from the environment. A job will not be created from this run. See https://docs.wandb.ai/guides/launch/create-job\n"
     ]
    },
    {
     "data": {
      "application/vnd.jupyter.widget-view+json": {
       "model_id": "fb5b86429a154ba097c0680f35623da8",
       "version_major": 2,
       "version_minor": 0
      },
      "text/plain": [
       "VBox(children=(Label(value='0.003 MB of 0.003 MB uploaded\\r'), FloatProgress(value=1.0, max=1.0)))"
      ]
     },
     "metadata": {},
     "output_type": "display_data"
    },
    {
     "data": {
      "text/html": [
       "<style>\n",
       "    table.wandb td:nth-child(1) { padding: 0 10px; text-align: left ; width: auto;} td:nth-child(2) {text-align: left ; width: 100%}\n",
       "    .wandb-row { display: flex; flex-direction: row; flex-wrap: wrap; justify-content: flex-start; width: 100% }\n",
       "    .wandb-col { display: flex; flex-direction: column; flex-basis: 100%; flex: 1; padding: 10px; }\n",
       "    </style>\n",
       "<div class=\"wandb-row\"><div class=\"wandb-col\"><h3>Run history:</h3><br/><table class=\"wandb\"><tr><td>final_train_auc</td><td>▁</td></tr><tr><td>final_valid_auc</td><td>▁</td></tr><tr><td>train_auc</td><td>▁▃▄▄▄▅▅▆▆▇▇██</td></tr><tr><td>train_loss</td><td>█▇▆▆▆▅▄▄▄▃▃▂▁</td></tr><tr><td>valid_auc</td><td>▆▆█▆▄▆▅▄▂▄▁▁▂</td></tr><tr><td>valid_loss</td><td>▁▁▁▂▂▂▃▃▃▄▆▇█</td></tr></table><br/></div><div class=\"wandb-col\"><h3>Run summary:</h3><br/><table class=\"wandb\"><tr><td>final_train_auc</td><td>0.85154</td></tr><tr><td>final_valid_auc</td><td>0.83159</td></tr><tr><td>train_auc</td><td>0.96145</td></tr><tr><td>train_loss</td><td>0.25018</td></tr><tr><td>valid_auc</td><td>0.76998</td></tr><tr><td>valid_loss</td><td>0.79257</td></tr></table><br/></div></div>"
      ],
      "text/plain": [
       "<IPython.core.display.HTML object>"
      ]
     },
     "metadata": {},
     "output_type": "display_data"
    },
    {
     "data": {
      "text/html": [
       " View run <strong style=\"color:#cdcd00\">lastquery_240122-061216</strong> at: <a href='https://wandb.ai/dkt-recsys1/dkt-dl/runs/qv1r6x2x' target=\"_blank\">https://wandb.ai/dkt-recsys1/dkt-dl/runs/qv1r6x2x</a><br/>Synced 5 W&B file(s), 1 media file(s), 1 artifact file(s) and 0 other file(s)"
      ],
      "text/plain": [
       "<IPython.core.display.HTML object>"
      ]
     },
     "metadata": {},
     "output_type": "display_data"
    },
    {
     "data": {
      "text/html": [
       "Find logs at: <code>./wandb/run-20240122_061218-qv1r6x2x/logs</code>"
      ],
      "text/plain": [
       "<IPython.core.display.HTML object>"
      ]
     },
     "metadata": {},
     "output_type": "display_data"
    }
   ],
   "source": [
    "preds_ = [int(pred > optimal_threshold) for pred in preds]\n",
    "\n",
    "if config['wandb_config']['wandb']:\n",
    "    run.log({\n",
    "        \"confusion_matrix\": wandb.plot.confusion_matrix(\n",
    "            probs=None,\n",
    "            y_true=targets, preds=preds_,\n",
    "            class_names=['0', '1'])})\n",
    "\n",
    "    # finish wandb run\n",
    "    run.finish()"
   ]
  },
  {
   "cell_type": "code",
   "execution_count": 23,
   "metadata": {},
   "outputs": [],
   "source": [
    "# test auc\n",
    "def test_step(model, test_dataloader, device):\n",
    "    user_ids_, test_pred_proba = [], []\n",
    "    for iter, data in enumerate(test_dataloader):\n",
    "        user_ids, X = data['user_id'].int().to(device), data['X'].float().to(device)\n",
    "        mask = data['mask'].float().to(device)\n",
    "        pred = model((user_ids, X, mask))\n",
    "\n",
    "        # user_id = data['user_id'].int().to(device)\n",
    "        # X = data['X'].float().to(device)\n",
    "        # mask = data['mask'].float().to(device)\n",
    "        # pred = model((user_id, X, mask))\n",
    "\n",
    "        user_ids_.extend(data['user_id'].detach().numpy())\n",
    "        test_pred_proba.extend(torch.sigmoid(pred).detach().cpu().numpy())\n",
    "        \n",
    "    return user_ids, test_pred_proba"
   ]
  },
  {
   "cell_type": "code",
   "execution_count": 24,
   "metadata": {},
   "outputs": [],
   "source": [
    "user_ids, test_pred_proba = test_step(model, test_dataloader, device)"
   ]
  },
  {
   "cell_type": "code",
   "execution_count": 25,
   "metadata": {},
   "outputs": [],
   "source": [
    "submission_df = pd.read_csv('../../data/sample_submission.csv')\n",
    "submission_df.prediction = np.array(test_pred_proba)"
   ]
  },
  {
   "cell_type": "code",
   "execution_count": 26,
   "metadata": {},
   "outputs": [
    {
     "data": {
      "text/plain": [
       "(array([ 89., 104.,  56.,  42.,  44.,  53.,  75., 113., 109.,  59.]),\n",
       " array([0.01164642, 0.10479945, 0.19795248, 0.29110551, 0.38425854,\n",
       "        0.47741157, 0.57056457, 0.66371763, 0.75687063, 0.85002369,\n",
       "        0.94317669]),\n",
       " <BarContainer object of 10 artists>)"
      ]
     },
     "execution_count": 26,
     "metadata": {},
     "output_type": "execute_result"
    },
    {
     "data": {
      "image/png": "[encoded data removed]",
      "text/plain": [
       "<Figure size 640x480 with 1 Axes>"
      ]
     },
     "metadata": {},
     "output_type": "display_data"
    }
   ],
   "source": [
    "plt.hist(np.array(test_pred_proba))"
   ]
  },
  {
   "cell_type": "code",
   "execution_count": 27,
   "metadata": {},
   "outputs": [],
   "source": [
    "result_dir = config['result_dir']\n",
    "# now = dt.strftime(dt.now(), '%y%m%d-%H%M%S')\n",
    "modelname = config['modelname']\n",
    "savename = f'{modelname}_{now}_{valid_auc:.4f}.csv'\n",
    "submission_df.to_csv(os.path.join(result_dir, savename), index=False)"
   ]
  },
  {
   "cell_type": "code",
   "execution_count": 28,
   "metadata": {},
   "outputs": [
    {
     "data": {
      "text/plain": [
       "'lastquery_240122-061216_0.8316.csv'"
      ]
     },
     "execution_count": 28,
     "metadata": {},
     "output_type": "execute_result"
    }
   ],
   "source": [
    "savename"
   ]
  }
 ],
 "metadata": {
  "kernelspec": {
   "display_name": ".dkt",
   "language": "python",
   "name": "python3"
  },
  "language_info": {
   "codemirror_mode": {
    "name": "ipython",
    "version": 3
   },
   "file_extension": ".py",
   "mimetype": "text/x-python",
   "name": "python",
   "nbconvert_exporter": "python",
   "pygments_lexer": "ipython3",
   "version": "3.10.4"
  }
 },
 "nbformat": 4,
 "nbformat_minor": 2
}
