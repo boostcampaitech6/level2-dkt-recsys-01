{
 "cells": [
  {
   "cell_type": "markdown",
   "metadata": {},
   "source": [
    "# GBDT baselines - LightGBM\n",
    "\n",
    "- 작성일: 240108\n",
    "- 작성자: 이주연\n",
    "\n",
    "특이 사항\n",
    "- 평가 데이터를 학습/평가 데이터 전처리에 사용함\n",
    "- user, tag, item, test의 평균 정답률을 agg하여 사용함. 단 agg 시 label 데이터를 포함하지 않고 진행함.\n",
    "- hyperparameter tuning 전혀 없이 default setting으로 진행. 단, categorical data는 명시.\n",
    "- acc: 0.6478, AUROC: 0.7143"
   ]
  },
  {
   "cell_type": "code",
   "execution_count": 1,
   "metadata": {},
   "outputs": [],
   "source": [
    "import os, random\n",
    "\n",
    "import numpy as np\n",
    "import pandas as pd\n",
    "\n",
    "import matplotlib.pyplot as plt\n",
    "import seaborn as sns\n",
    "\n",
    "plt.rcParams[\"font.family\"] = 'NanumGothic'"
   ]
  },
  {
   "cell_type": "code",
   "execution_count": 2,
   "metadata": {},
   "outputs": [],
   "source": [
    "seed = 42\n",
    "random.seed(seed)\n",
    "np.random.seed(seed)"
   ]
  },
  {
   "cell_type": "markdown",
   "metadata": {},
   "source": [
    "### data load"
   ]
  },
  {
   "cell_type": "code",
   "execution_count": 3,
   "metadata": {},
   "outputs": [],
   "source": [
    "data_dir = '../data'"
   ]
  },
  {
   "cell_type": "code",
   "execution_count": 4,
   "metadata": {},
   "outputs": [
    {
     "data": {
      "text/plain": [
       "((2266586, 6), (260114, 6))"
      ]
     },
     "execution_count": 4,
     "metadata": {},
     "output_type": "execute_result"
    }
   ],
   "source": [
    "train_df = pd.read_csv(os.path.join(data_dir, 'train_data.csv'))\n",
    "test_df = pd.read_csv(os.path.join(data_dir, 'test_data.csv'))\n",
    "submission_df = pd.read_csv(os.path.join(data_dir, 'sample_submission.csv'))\n",
    "\n",
    "train_df.shape, test_df.shape"
   ]
  },
  {
   "cell_type": "markdown",
   "metadata": {},
   "source": [
    "## preprocessing"
   ]
  },
  {
   "cell_type": "code",
   "execution_count": 5,
   "metadata": {},
   "outputs": [],
   "source": [
    "# # 누적 카운트\n",
    "# train_df['cumcount'] = train_df.groupby('userID').cumcount()\n",
    "# test_df['cumcount'] = test_df.groupby('userID').cumcount()\n",
    "\n",
    "# drop Timestamp\n",
    "train_df = train_df.drop(columns=['Timestamp'])\n",
    "test_df = test_df.drop(columns=['Timestamp'])"
   ]
  },
  {
   "cell_type": "code",
   "execution_count": 6,
   "metadata": {},
   "outputs": [
    {
     "data": {
      "text/plain": [
       "Index(['userID', 'assessmentItemID', 'testId', 'answerCode', 'KnowledgeTag'], dtype='object')"
      ]
     },
     "execution_count": 6,
     "metadata": {},
     "output_type": "execute_result"
    }
   ],
   "source": [
    "# split label\n",
    "train_label = train_df.drop_duplicates(subset=['userID'], keep='last')\n",
    "test_label = test_df.drop_duplicates(subset=['userID'], keep='last')\n",
    "\n",
    "# drop labels\n",
    "train_df = train_df.drop(index=train_label.index)\n",
    "test_df = test_df.drop(index=test_label.index)\n",
    "base_df = pd.concat([train_df, test_df], axis=0)\n",
    "\n",
    "base_df.columns"
   ]
  },
  {
   "cell_type": "markdown",
   "metadata": {},
   "source": [
    "### aggregation"
   ]
  },
  {
   "cell_type": "code",
   "execution_count": 7,
   "metadata": {},
   "outputs": [
    {
     "data": {
      "text/html": [
       "<div>\n",
       "<style scoped>\n",
       "    .dataframe tbody tr th:only-of-type {\n",
       "        vertical-align: middle;\n",
       "    }\n",
       "\n",
       "    .dataframe tbody tr th {\n",
       "        vertical-align: top;\n",
       "    }\n",
       "\n",
       "    .dataframe thead th {\n",
       "        text-align: right;\n",
       "    }\n",
       "</style>\n",
       "<table border=\"1\" class=\"dataframe\">\n",
       "  <thead>\n",
       "    <tr style=\"text-align: right;\">\n",
       "      <th></th>\n",
       "      <th>avg_acc</th>\n",
       "      <th>total_test</th>\n",
       "    </tr>\n",
       "    <tr>\n",
       "      <th>userID</th>\n",
       "      <th></th>\n",
       "      <th></th>\n",
       "    </tr>\n",
       "  </thead>\n",
       "  <tbody>\n",
       "    <tr>\n",
       "      <th>0</th>\n",
       "      <td>0.631720</td>\n",
       "      <td>744</td>\n",
       "    </tr>\n",
       "    <tr>\n",
       "      <th>1</th>\n",
       "      <td>0.853004</td>\n",
       "      <td>932</td>\n",
       "    </tr>\n",
       "    <tr>\n",
       "      <th>2</th>\n",
       "      <td>0.614545</td>\n",
       "      <td>275</td>\n",
       "    </tr>\n",
       "    <tr>\n",
       "      <th>3</th>\n",
       "      <td>0.692754</td>\n",
       "      <td>1035</td>\n",
       "    </tr>\n",
       "    <tr>\n",
       "      <th>4</th>\n",
       "      <td>0.694030</td>\n",
       "      <td>670</td>\n",
       "    </tr>\n",
       "  </tbody>\n",
       "</table>\n",
       "</div>"
      ],
      "text/plain": [
       "         avg_acc  total_test\n",
       "userID                      \n",
       "0       0.631720         744\n",
       "1       0.853004         932\n",
       "2       0.614545         275\n",
       "3       0.692754        1035\n",
       "4       0.694030         670"
      ]
     },
     "execution_count": 7,
     "metadata": {},
     "output_type": "execute_result"
    }
   ],
   "source": [
    "# agg\n",
    "base_user_agg = base_df.groupby('userID').agg(\n",
    "    avg_acc=('answerCode','mean'), \n",
    "    total_test=('answerCode','count'),\n",
    ")\n",
    "base_user_agg.head()"
   ]
  },
  {
   "cell_type": "code",
   "execution_count": 8,
   "metadata": {},
   "outputs": [
    {
     "data": {
      "text/html": [
       "<div>\n",
       "<style scoped>\n",
       "    .dataframe tbody tr th:only-of-type {\n",
       "        vertical-align: middle;\n",
       "    }\n",
       "\n",
       "    .dataframe tbody tr th {\n",
       "        vertical-align: top;\n",
       "    }\n",
       "\n",
       "    .dataframe thead th {\n",
       "        text-align: right;\n",
       "    }\n",
       "</style>\n",
       "<table border=\"1\" class=\"dataframe\">\n",
       "  <thead>\n",
       "    <tr style=\"text-align: right;\">\n",
       "      <th></th>\n",
       "      <th>tag_acc</th>\n",
       "    </tr>\n",
       "    <tr>\n",
       "      <th>KnowledgeTag</th>\n",
       "      <th></th>\n",
       "    </tr>\n",
       "  </thead>\n",
       "  <tbody>\n",
       "    <tr>\n",
       "      <th>23</th>\n",
       "      <td>0.592593</td>\n",
       "    </tr>\n",
       "    <tr>\n",
       "      <th>24</th>\n",
       "      <td>0.625000</td>\n",
       "    </tr>\n",
       "    <tr>\n",
       "      <th>25</th>\n",
       "      <td>0.850000</td>\n",
       "    </tr>\n",
       "    <tr>\n",
       "      <th>26</th>\n",
       "      <td>0.611193</td>\n",
       "    </tr>\n",
       "    <tr>\n",
       "      <th>30</th>\n",
       "      <td>0.530000</td>\n",
       "    </tr>\n",
       "  </tbody>\n",
       "</table>\n",
       "</div>"
      ],
      "text/plain": [
       "               tag_acc\n",
       "KnowledgeTag          \n",
       "23            0.592593\n",
       "24            0.625000\n",
       "25            0.850000\n",
       "26            0.611193\n",
       "30            0.530000"
      ]
     },
     "execution_count": 8,
     "metadata": {},
     "output_type": "execute_result"
    }
   ],
   "source": [
    "base_tag_agg = base_df.groupby('KnowledgeTag').agg(tag_acc=('answerCode','mean'))\n",
    "base_tag_agg.head()"
   ]
  },
  {
   "cell_type": "code",
   "execution_count": 9,
   "metadata": {},
   "outputs": [
    {
     "data": {
      "text/html": [
       "<div>\n",
       "<style scoped>\n",
       "    .dataframe tbody tr th:only-of-type {\n",
       "        vertical-align: middle;\n",
       "    }\n",
       "\n",
       "    .dataframe tbody tr th {\n",
       "        vertical-align: top;\n",
       "    }\n",
       "\n",
       "    .dataframe thead th {\n",
       "        text-align: right;\n",
       "    }\n",
       "</style>\n",
       "<table border=\"1\" class=\"dataframe\">\n",
       "  <thead>\n",
       "    <tr style=\"text-align: right;\">\n",
       "      <th></th>\n",
       "      <th>item_acc</th>\n",
       "    </tr>\n",
       "    <tr>\n",
       "      <th>assessmentItemID</th>\n",
       "      <th></th>\n",
       "    </tr>\n",
       "  </thead>\n",
       "  <tbody>\n",
       "    <tr>\n",
       "      <th>A010001001</th>\n",
       "      <td>0.922857</td>\n",
       "    </tr>\n",
       "    <tr>\n",
       "      <th>A010001002</th>\n",
       "      <td>0.960000</td>\n",
       "    </tr>\n",
       "    <tr>\n",
       "      <th>A010001003</th>\n",
       "      <td>0.905714</td>\n",
       "    </tr>\n",
       "    <tr>\n",
       "      <th>A010001004</th>\n",
       "      <td>0.945714</td>\n",
       "    </tr>\n",
       "    <tr>\n",
       "      <th>A010001005</th>\n",
       "      <td>0.882857</td>\n",
       "    </tr>\n",
       "  </tbody>\n",
       "</table>\n",
       "</div>"
      ],
      "text/plain": [
       "                  item_acc\n",
       "assessmentItemID          \n",
       "A010001001        0.922857\n",
       "A010001002        0.960000\n",
       "A010001003        0.905714\n",
       "A010001004        0.945714\n",
       "A010001005        0.882857"
      ]
     },
     "execution_count": 9,
     "metadata": {},
     "output_type": "execute_result"
    }
   ],
   "source": [
    "base_item_agg = base_df.groupby('assessmentItemID').agg(item_acc=('answerCode','mean'))\n",
    "base_item_agg.head()"
   ]
  },
  {
   "cell_type": "code",
   "execution_count": 10,
   "metadata": {},
   "outputs": [
    {
     "data": {
      "text/html": [
       "<div>\n",
       "<style scoped>\n",
       "    .dataframe tbody tr th:only-of-type {\n",
       "        vertical-align: middle;\n",
       "    }\n",
       "\n",
       "    .dataframe tbody tr th {\n",
       "        vertical-align: top;\n",
       "    }\n",
       "\n",
       "    .dataframe thead th {\n",
       "        text-align: right;\n",
       "    }\n",
       "</style>\n",
       "<table border=\"1\" class=\"dataframe\">\n",
       "  <thead>\n",
       "    <tr style=\"text-align: right;\">\n",
       "      <th></th>\n",
       "      <th>test_acc</th>\n",
       "    </tr>\n",
       "    <tr>\n",
       "      <th>testId</th>\n",
       "      <th></th>\n",
       "    </tr>\n",
       "  </thead>\n",
       "  <tbody>\n",
       "    <tr>\n",
       "      <th>A010000001</th>\n",
       "      <td>0.923429</td>\n",
       "    </tr>\n",
       "    <tr>\n",
       "      <th>A010000002</th>\n",
       "      <td>0.931429</td>\n",
       "    </tr>\n",
       "    <tr>\n",
       "      <th>A010000003</th>\n",
       "      <td>0.842857</td>\n",
       "    </tr>\n",
       "    <tr>\n",
       "      <th>A010000004</th>\n",
       "      <td>0.880571</td>\n",
       "    </tr>\n",
       "    <tr>\n",
       "      <th>A010000005</th>\n",
       "      <td>0.849143</td>\n",
       "    </tr>\n",
       "  </tbody>\n",
       "</table>\n",
       "</div>"
      ],
      "text/plain": [
       "            test_acc\n",
       "testId              \n",
       "A010000001  0.923429\n",
       "A010000002  0.931429\n",
       "A010000003  0.842857\n",
       "A010000004  0.880571\n",
       "A010000005  0.849143"
      ]
     },
     "execution_count": 10,
     "metadata": {},
     "output_type": "execute_result"
    }
   ],
   "source": [
    "base_test_agg = base_df.groupby('testId').agg(test_acc=('answerCode','mean'))\n",
    "base_test_agg.head()"
   ]
  },
  {
   "cell_type": "code",
   "execution_count": 11,
   "metadata": {},
   "outputs": [
    {
     "data": {
      "text/html": [
       "<div>\n",
       "<style scoped>\n",
       "    .dataframe tbody tr th:only-of-type {\n",
       "        vertical-align: middle;\n",
       "    }\n",
       "\n",
       "    .dataframe tbody tr th {\n",
       "        vertical-align: top;\n",
       "    }\n",
       "\n",
       "    .dataframe thead th {\n",
       "        text-align: right;\n",
       "    }\n",
       "</style>\n",
       "<table border=\"1\" class=\"dataframe\">\n",
       "  <thead>\n",
       "    <tr style=\"text-align: right;\">\n",
       "      <th></th>\n",
       "      <th>userID</th>\n",
       "      <th>assessmentItemID</th>\n",
       "      <th>testId</th>\n",
       "      <th>answerCode</th>\n",
       "      <th>KnowledgeTag</th>\n",
       "      <th>avg_acc</th>\n",
       "      <th>total_test</th>\n",
       "      <th>tag_acc</th>\n",
       "      <th>item_acc</th>\n",
       "      <th>test_acc</th>\n",
       "    </tr>\n",
       "  </thead>\n",
       "  <tbody>\n",
       "    <tr>\n",
       "      <th>744</th>\n",
       "      <td>0</td>\n",
       "      <td>A080129006</td>\n",
       "      <td>A080000129</td>\n",
       "      <td>0</td>\n",
       "      <td>2725</td>\n",
       "      <td>0.631720</td>\n",
       "      <td>744</td>\n",
       "      <td>0.303871</td>\n",
       "      <td>0.156593</td>\n",
       "      <td>0.362708</td>\n",
       "    </tr>\n",
       "    <tr>\n",
       "      <th>1677</th>\n",
       "      <td>1</td>\n",
       "      <td>A090074006</td>\n",
       "      <td>A090000074</td>\n",
       "      <td>1</td>\n",
       "      <td>2648</td>\n",
       "      <td>0.853004</td>\n",
       "      <td>932</td>\n",
       "      <td>0.451737</td>\n",
       "      <td>0.478261</td>\n",
       "      <td>0.436567</td>\n",
       "    </tr>\n",
       "    <tr>\n",
       "      <th>1953</th>\n",
       "      <td>2</td>\n",
       "      <td>A050139007</td>\n",
       "      <td>A050000139</td>\n",
       "      <td>0</td>\n",
       "      <td>428</td>\n",
       "      <td>0.614545</td>\n",
       "      <td>275</td>\n",
       "      <td>0.678480</td>\n",
       "      <td>0.125000</td>\n",
       "      <td>0.626797</td>\n",
       "    </tr>\n",
       "    <tr>\n",
       "      <th>2786</th>\n",
       "      <td>5</td>\n",
       "      <td>A080138007</td>\n",
       "      <td>A080000138</td>\n",
       "      <td>1</td>\n",
       "      <td>8431</td>\n",
       "      <td>0.795673</td>\n",
       "      <td>832</td>\n",
       "      <td>0.472861</td>\n",
       "      <td>0.554622</td>\n",
       "      <td>0.499468</td>\n",
       "    </tr>\n",
       "    <tr>\n",
       "      <th>3707</th>\n",
       "      <td>6</td>\n",
       "      <td>A030145005</td>\n",
       "      <td>A030000145</td>\n",
       "      <td>0</td>\n",
       "      <td>7817</td>\n",
       "      <td>0.443478</td>\n",
       "      <td>920</td>\n",
       "      <td>0.616850</td>\n",
       "      <td>0.615120</td>\n",
       "      <td>0.627767</td>\n",
       "    </tr>\n",
       "  </tbody>\n",
       "</table>\n",
       "</div>"
      ],
      "text/plain": [
       "      userID assessmentItemID      testId  answerCode  KnowledgeTag   avg_acc  \\\n",
       "744        0       A080129006  A080000129           0          2725  0.631720   \n",
       "1677       1       A090074006  A090000074           1          2648  0.853004   \n",
       "1953       2       A050139007  A050000139           0           428  0.614545   \n",
       "2786       5       A080138007  A080000138           1          8431  0.795673   \n",
       "3707       6       A030145005  A030000145           0          7817  0.443478   \n",
       "\n",
       "      total_test   tag_acc  item_acc  test_acc  \n",
       "744          744  0.303871  0.156593  0.362708  \n",
       "1677         932  0.451737  0.478261  0.436567  \n",
       "1953         275  0.678480  0.125000  0.626797  \n",
       "2786         832  0.472861  0.554622  0.499468  \n",
       "3707         920  0.616850  0.615120  0.627767  "
      ]
     },
     "execution_count": 11,
     "metadata": {},
     "output_type": "execute_result"
    }
   ],
   "source": [
    "base_tabular = pd.merge(train_label, base_user_agg, left_on='userID', right_index=True, how='left')\n",
    "base_tabular = pd.merge(base_tabular, base_tag_agg, left_on='KnowledgeTag', right_index=True, how='left')\n",
    "base_tabular = pd.merge(base_tabular, base_item_agg, left_on='assessmentItemID', right_index=True, how='left')\n",
    "base_tabular = pd.merge(base_tabular, base_test_agg, left_on='testId', right_index=True, how='left')\n",
    "base_tabular.head()"
   ]
  },
  {
   "cell_type": "code",
   "execution_count": 12,
   "metadata": {},
   "outputs": [
    {
     "data": {
      "text/html": [
       "<div>\n",
       "<style scoped>\n",
       "    .dataframe tbody tr th:only-of-type {\n",
       "        vertical-align: middle;\n",
       "    }\n",
       "\n",
       "    .dataframe tbody tr th {\n",
       "        vertical-align: top;\n",
       "    }\n",
       "\n",
       "    .dataframe thead th {\n",
       "        text-align: right;\n",
       "    }\n",
       "</style>\n",
       "<table border=\"1\" class=\"dataframe\">\n",
       "  <thead>\n",
       "    <tr style=\"text-align: right;\">\n",
       "      <th></th>\n",
       "      <th>userID</th>\n",
       "      <th>assessmentItemID</th>\n",
       "      <th>testId</th>\n",
       "      <th>answerCode</th>\n",
       "      <th>KnowledgeTag</th>\n",
       "      <th>avg_acc</th>\n",
       "      <th>total_test</th>\n",
       "      <th>tag_acc</th>\n",
       "      <th>item_acc</th>\n",
       "      <th>test_acc</th>\n",
       "    </tr>\n",
       "  </thead>\n",
       "  <tbody>\n",
       "    <tr>\n",
       "      <th>744</th>\n",
       "      <td>0</td>\n",
       "      <td>A080129006</td>\n",
       "      <td>A080000129</td>\n",
       "      <td>0</td>\n",
       "      <td>2725</td>\n",
       "      <td>0.631720</td>\n",
       "      <td>744</td>\n",
       "      <td>0.303871</td>\n",
       "      <td>0.156593</td>\n",
       "      <td>0.362708</td>\n",
       "    </tr>\n",
       "    <tr>\n",
       "      <th>1677</th>\n",
       "      <td>1</td>\n",
       "      <td>A090074006</td>\n",
       "      <td>A090000074</td>\n",
       "      <td>1</td>\n",
       "      <td>2648</td>\n",
       "      <td>0.853004</td>\n",
       "      <td>932</td>\n",
       "      <td>0.451737</td>\n",
       "      <td>0.478261</td>\n",
       "      <td>0.436567</td>\n",
       "    </tr>\n",
       "    <tr>\n",
       "      <th>1953</th>\n",
       "      <td>2</td>\n",
       "      <td>A050139007</td>\n",
       "      <td>A050000139</td>\n",
       "      <td>0</td>\n",
       "      <td>428</td>\n",
       "      <td>0.614545</td>\n",
       "      <td>275</td>\n",
       "      <td>0.678480</td>\n",
       "      <td>0.125000</td>\n",
       "      <td>0.626797</td>\n",
       "    </tr>\n",
       "    <tr>\n",
       "      <th>2786</th>\n",
       "      <td>5</td>\n",
       "      <td>A080138007</td>\n",
       "      <td>A080000138</td>\n",
       "      <td>1</td>\n",
       "      <td>8431</td>\n",
       "      <td>0.795673</td>\n",
       "      <td>832</td>\n",
       "      <td>0.472861</td>\n",
       "      <td>0.554622</td>\n",
       "      <td>0.499468</td>\n",
       "    </tr>\n",
       "    <tr>\n",
       "      <th>3707</th>\n",
       "      <td>6</td>\n",
       "      <td>A030145005</td>\n",
       "      <td>A030000145</td>\n",
       "      <td>0</td>\n",
       "      <td>7817</td>\n",
       "      <td>0.443478</td>\n",
       "      <td>920</td>\n",
       "      <td>0.616850</td>\n",
       "      <td>0.615120</td>\n",
       "      <td>0.627767</td>\n",
       "    </tr>\n",
       "  </tbody>\n",
       "</table>\n",
       "</div>"
      ],
      "text/plain": [
       "      userID assessmentItemID      testId  answerCode  KnowledgeTag   avg_acc  \\\n",
       "744        0       A080129006  A080000129           0          2725  0.631720   \n",
       "1677       1       A090074006  A090000074           1          2648  0.853004   \n",
       "1953       2       A050139007  A050000139           0           428  0.614545   \n",
       "2786       5       A080138007  A080000138           1          8431  0.795673   \n",
       "3707       6       A030145005  A030000145           0          7817  0.443478   \n",
       "\n",
       "      total_test   tag_acc  item_acc  test_acc  \n",
       "744          744  0.303871  0.156593  0.362708  \n",
       "1677         932  0.451737  0.478261  0.436567  \n",
       "1953         275  0.678480  0.125000  0.626797  \n",
       "2786         832  0.472861  0.554622  0.499468  \n",
       "3707         920  0.616850  0.615120  0.627767  "
      ]
     },
     "execution_count": 12,
     "metadata": {},
     "output_type": "execute_result"
    }
   ],
   "source": [
    "# train merge\n",
    "train_tabular = pd.merge(train_label, base_user_agg, left_on='userID', right_index=True, how='left')\n",
    "train_tabular = pd.merge(train_tabular, base_tag_agg, left_on='KnowledgeTag', right_index=True, how='left')\n",
    "train_tabular = pd.merge(train_tabular, base_item_agg, left_on='assessmentItemID', right_index=True, how='left')\n",
    "train_tabular = pd.merge(train_tabular, base_test_agg, left_on='testId', right_index=True, how='left')\n",
    "train_tabular.head()"
   ]
  },
  {
   "cell_type": "code",
   "execution_count": 13,
   "metadata": {},
   "outputs": [
    {
     "data": {
      "text/html": [
       "<div>\n",
       "<style scoped>\n",
       "    .dataframe tbody tr th:only-of-type {\n",
       "        vertical-align: middle;\n",
       "    }\n",
       "\n",
       "    .dataframe tbody tr th {\n",
       "        vertical-align: top;\n",
       "    }\n",
       "\n",
       "    .dataframe thead th {\n",
       "        text-align: right;\n",
       "    }\n",
       "</style>\n",
       "<table border=\"1\" class=\"dataframe\">\n",
       "  <thead>\n",
       "    <tr style=\"text-align: right;\">\n",
       "      <th></th>\n",
       "      <th>userID</th>\n",
       "      <th>assessmentItemID</th>\n",
       "      <th>testId</th>\n",
       "      <th>answerCode</th>\n",
       "      <th>KnowledgeTag</th>\n",
       "      <th>avg_acc</th>\n",
       "      <th>total_test</th>\n",
       "      <th>tag_acc</th>\n",
       "      <th>item_acc</th>\n",
       "      <th>test_acc</th>\n",
       "    </tr>\n",
       "  </thead>\n",
       "  <tbody>\n",
       "    <tr>\n",
       "      <th>1035</th>\n",
       "      <td>3</td>\n",
       "      <td>A050133008</td>\n",
       "      <td>A050000133</td>\n",
       "      <td>-1</td>\n",
       "      <td>5289</td>\n",
       "      <td>0.692754</td>\n",
       "      <td>1035</td>\n",
       "      <td>0.559729</td>\n",
       "      <td>0.536290</td>\n",
       "      <td>0.655656</td>\n",
       "    </tr>\n",
       "    <tr>\n",
       "      <th>1706</th>\n",
       "      <td>4</td>\n",
       "      <td>A070146008</td>\n",
       "      <td>A070000146</td>\n",
       "      <td>-1</td>\n",
       "      <td>9080</td>\n",
       "      <td>0.694030</td>\n",
       "      <td>670</td>\n",
       "      <td>0.548426</td>\n",
       "      <td>0.605839</td>\n",
       "      <td>0.651477</td>\n",
       "    </tr>\n",
       "    <tr>\n",
       "      <th>3023</th>\n",
       "      <td>13</td>\n",
       "      <td>A070111008</td>\n",
       "      <td>A070000111</td>\n",
       "      <td>-1</td>\n",
       "      <td>9660</td>\n",
       "      <td>0.695289</td>\n",
       "      <td>1316</td>\n",
       "      <td>0.495308</td>\n",
       "      <td>0.369478</td>\n",
       "      <td>0.456957</td>\n",
       "    </tr>\n",
       "    <tr>\n",
       "      <th>4283</th>\n",
       "      <td>17</td>\n",
       "      <td>A090064006</td>\n",
       "      <td>A090000064</td>\n",
       "      <td>-1</td>\n",
       "      <td>2611</td>\n",
       "      <td>0.818904</td>\n",
       "      <td>1259</td>\n",
       "      <td>0.422518</td>\n",
       "      <td>0.274725</td>\n",
       "      <td>0.449915</td>\n",
       "    </tr>\n",
       "    <tr>\n",
       "      <th>4670</th>\n",
       "      <td>26</td>\n",
       "      <td>A060135007</td>\n",
       "      <td>A060000135</td>\n",
       "      <td>-1</td>\n",
       "      <td>1422</td>\n",
       "      <td>0.759067</td>\n",
       "      <td>386</td>\n",
       "      <td>0.611052</td>\n",
       "      <td>0.315126</td>\n",
       "      <td>0.642693</td>\n",
       "    </tr>\n",
       "  </tbody>\n",
       "</table>\n",
       "</div>"
      ],
      "text/plain": [
       "      userID assessmentItemID      testId  answerCode  KnowledgeTag   avg_acc  \\\n",
       "1035       3       A050133008  A050000133          -1          5289  0.692754   \n",
       "1706       4       A070146008  A070000146          -1          9080  0.694030   \n",
       "3023      13       A070111008  A070000111          -1          9660  0.695289   \n",
       "4283      17       A090064006  A090000064          -1          2611  0.818904   \n",
       "4670      26       A060135007  A060000135          -1          1422  0.759067   \n",
       "\n",
       "      total_test   tag_acc  item_acc  test_acc  \n",
       "1035        1035  0.559729  0.536290  0.655656  \n",
       "1706         670  0.548426  0.605839  0.651477  \n",
       "3023        1316  0.495308  0.369478  0.456957  \n",
       "4283        1259  0.422518  0.274725  0.449915  \n",
       "4670         386  0.611052  0.315126  0.642693  "
      ]
     },
     "execution_count": 13,
     "metadata": {},
     "output_type": "execute_result"
    }
   ],
   "source": [
    "# train merge\n",
    "test_tabular = pd.merge(test_label, base_user_agg, left_on='userID', right_index=True, how='left')\n",
    "test_tabular = pd.merge(test_tabular, base_tag_agg, left_on='KnowledgeTag', right_index=True, how='left')\n",
    "test_tabular = pd.merge(test_tabular, base_item_agg, left_on='assessmentItemID', right_index=True, how='left')\n",
    "test_tabular = pd.merge(test_tabular, base_test_agg, left_on='testId', right_index=True, how='left')\n",
    "test_tabular.head()"
   ]
  },
  {
   "cell_type": "code",
   "execution_count": 14,
   "metadata": {},
   "outputs": [],
   "source": [
    "# astype categorical data\n",
    "category_columns = ['userID', 'assessmentItemID', 'testId', 'KnowledgeTag']\n",
    "\n",
    "train_tabular[category_columns] = train_tabular[category_columns].astype(\"category\")\n",
    "test_tabular[category_columns] = test_tabular[category_columns].astype(\"category\")"
   ]
  },
  {
   "cell_type": "code",
   "execution_count": 15,
   "metadata": {},
   "outputs": [],
   "source": [
    "# define X, y data\n",
    "X_train = train_tabular.drop(columns='answerCode')\n",
    "y_train = train_tabular[['answerCode']]\n",
    "\n",
    "X_test = test_tabular.drop(columns='answerCode')"
   ]
  },
  {
   "cell_type": "markdown",
   "metadata": {},
   "source": [
    "## train/valid split"
   ]
  },
  {
   "cell_type": "code",
   "execution_count": 16,
   "metadata": {},
   "outputs": [],
   "source": [
    "from sklearn.model_selection import train_test_split"
   ]
  },
  {
   "cell_type": "code",
   "execution_count": 17,
   "metadata": {},
   "outputs": [
    {
     "data": {
      "text/plain": [
       "((5358, 9), (1340, 9))"
      ]
     },
     "execution_count": 17,
     "metadata": {},
     "output_type": "execute_result"
    }
   ],
   "source": [
    "X_train, X_valid, y_train, y_valid = train_test_split(X_train, y_train, test_size=.2, shuffle=True)\n",
    "\n",
    "X_train.shape, X_valid.shape"
   ]
  },
  {
   "cell_type": "code",
   "execution_count": 18,
   "metadata": {},
   "outputs": [
    {
     "data": {
      "text/html": [
       "<div>\n",
       "<style scoped>\n",
       "    .dataframe tbody tr th:only-of-type {\n",
       "        vertical-align: middle;\n",
       "    }\n",
       "\n",
       "    .dataframe tbody tr th {\n",
       "        vertical-align: top;\n",
       "    }\n",
       "\n",
       "    .dataframe thead th {\n",
       "        text-align: right;\n",
       "    }\n",
       "</style>\n",
       "<table border=\"1\" class=\"dataframe\">\n",
       "  <thead>\n",
       "    <tr style=\"text-align: right;\">\n",
       "      <th></th>\n",
       "      <th>userID</th>\n",
       "      <th>assessmentItemID</th>\n",
       "      <th>testId</th>\n",
       "      <th>KnowledgeTag</th>\n",
       "      <th>avg_acc</th>\n",
       "      <th>total_test</th>\n",
       "      <th>tag_acc</th>\n",
       "      <th>item_acc</th>\n",
       "      <th>test_acc</th>\n",
       "    </tr>\n",
       "  </thead>\n",
       "  <tbody>\n",
       "    <tr>\n",
       "      <th>1919639</th>\n",
       "      <td>3808</td>\n",
       "      <td>A080091008</td>\n",
       "      <td>A080000091</td>\n",
       "      <td>7118</td>\n",
       "      <td>0.515385</td>\n",
       "      <td>130</td>\n",
       "      <td>0.382872</td>\n",
       "      <td>0.360406</td>\n",
       "      <td>0.540701</td>\n",
       "    </tr>\n",
       "    <tr>\n",
       "      <th>1123856</th>\n",
       "      <td>1724</td>\n",
       "      <td>A010152005</td>\n",
       "      <td>A010000152</td>\n",
       "      <td>7801</td>\n",
       "      <td>0.869885</td>\n",
       "      <td>953</td>\n",
       "      <td>0.811954</td>\n",
       "      <td>0.764706</td>\n",
       "      <td>0.805172</td>\n",
       "    </tr>\n",
       "    <tr>\n",
       "      <th>2247625</th>\n",
       "      <td>6680</td>\n",
       "      <td>A040163005</td>\n",
       "      <td>A040000163</td>\n",
       "      <td>2120</td>\n",
       "      <td>0.586207</td>\n",
       "      <td>29</td>\n",
       "      <td>0.738293</td>\n",
       "      <td>0.341216</td>\n",
       "      <td>0.778075</td>\n",
       "    </tr>\n",
       "    <tr>\n",
       "      <th>2120114</th>\n",
       "      <td>4948</td>\n",
       "      <td>A080129006</td>\n",
       "      <td>A080000129</td>\n",
       "      <td>2725</td>\n",
       "      <td>0.289720</td>\n",
       "      <td>107</td>\n",
       "      <td>0.303871</td>\n",
       "      <td>0.156593</td>\n",
       "      <td>0.362708</td>\n",
       "    </tr>\n",
       "    <tr>\n",
       "      <th>1879747</th>\n",
       "      <td>3654</td>\n",
       "      <td>A070130008</td>\n",
       "      <td>A070000130</td>\n",
       "      <td>9067</td>\n",
       "      <td>0.761719</td>\n",
       "      <td>256</td>\n",
       "      <td>0.595698</td>\n",
       "      <td>0.632911</td>\n",
       "      <td>0.574522</td>\n",
       "    </tr>\n",
       "  </tbody>\n",
       "</table>\n",
       "</div>"
      ],
      "text/plain": [
       "        userID assessmentItemID      testId KnowledgeTag   avg_acc  \\\n",
       "1919639   3808       A080091008  A080000091         7118  0.515385   \n",
       "1123856   1724       A010152005  A010000152         7801  0.869885   \n",
       "2247625   6680       A040163005  A040000163         2120  0.586207   \n",
       "2120114   4948       A080129006  A080000129         2725  0.289720   \n",
       "1879747   3654       A070130008  A070000130         9067  0.761719   \n",
       "\n",
       "         total_test   tag_acc  item_acc  test_acc  \n",
       "1919639         130  0.382872  0.360406  0.540701  \n",
       "1123856         953  0.811954  0.764706  0.805172  \n",
       "2247625          29  0.738293  0.341216  0.778075  \n",
       "2120114         107  0.303871  0.156593  0.362708  \n",
       "1879747         256  0.595698  0.632911  0.574522  "
      ]
     },
     "execution_count": 18,
     "metadata": {},
     "output_type": "execute_result"
    }
   ],
   "source": [
    "X_train.head()"
   ]
  },
  {
   "cell_type": "markdown",
   "metadata": {},
   "source": [
    "## train LightGBM with default setting"
   ]
  },
  {
   "cell_type": "code",
   "execution_count": 19,
   "metadata": {},
   "outputs": [],
   "source": [
    "# from xgboost import XGBClassifier\n",
    "import lightgbm as lgb"
   ]
  },
  {
   "cell_type": "code",
   "execution_count": 20,
   "metadata": {},
   "outputs": [],
   "source": [
    "lgb_train = lgb.Dataset(X_train, y_train, categorical_feature='auto')\n",
    "lgb_valid = lgb.Dataset(X_valid, y_valid, categorical_feature='auto')\n",
    "lgb_test = lgb.Dataset(X_test, categorical_feature='auto')#, y_test)"
   ]
  },
  {
   "cell_type": "code",
   "execution_count": 21,
   "metadata": {},
   "outputs": [
    {
     "name": "stdout",
     "output_type": "stream",
     "text": [
      "[LightGBM] [Warning] Categorical features with more bins than the configured maximum bin number found.\n",
      "[LightGBM] [Warning] For categorical features, max_bin and max_bin_by_feature may be ignored with a large number of categories.\n",
      "[LightGBM] [Info] Number of positive: 2571, number of negative: 2787\n",
      "[LightGBM] [Info] Auto-choosing col-wise multi-threading, the overhead of testing was 0.000332 seconds.\n",
      "You can set `force_col_wise=true` to remove the overhead.\n",
      "[LightGBM] [Info] Total Bins 2646\n",
      "[LightGBM] [Info] Number of data points in the train set: 5358, number of used features: 9\n",
      "[LightGBM] [Info] [binary:BoostFromScore]: pavg=0.479843 -> initscore=-0.080671\n",
      "[LightGBM] [Info] Start training from score -0.080671\n"
     ]
    }
   ],
   "source": [
    "# create model instance\n",
    "param = {'objective': 'binary', 'metric': 'auc'}\n",
    "\n",
    "model = lgb.train(\n",
    "    param,\n",
    "    lgb_train,\n",
    "    valid_sets=[lgb_valid],\n",
    ")"
   ]
  },
  {
   "cell_type": "code",
   "execution_count": 22,
   "metadata": {},
   "outputs": [
    {
     "data": {
      "image/png": "[encoded data removed]",
      "text/plain": [
       "<Figure size 640x480 with 1 Axes>"
      ]
     },
     "metadata": {},
     "output_type": "display_data"
    }
   ],
   "source": [
    "# predict proba histogram\n",
    "plt.hist(model.predict(X_train), label='train')\n",
    "plt.hist(model.predict(X_valid), label='valid')\n",
    "plt.hist(model.predict(X_test), label='test')\n",
    "plt.legend()\n",
    "plt.show()"
   ]
  },
  {
   "cell_type": "markdown",
   "metadata": {},
   "source": [
    "## evaluation by validation data"
   ]
  },
  {
   "cell_type": "markdown",
   "metadata": {},
   "source": [
    "### get optimal threshold with auroc curve"
   ]
  },
  {
   "cell_type": "code",
   "execution_count": 23,
   "metadata": {},
   "outputs": [
    {
     "data": {
      "text/plain": [
       "0.41178550751399334"
      ]
     },
     "execution_count": 23,
     "metadata": {},
     "output_type": "execute_result"
    }
   ],
   "source": [
    "from sklearn.metrics import roc_curve, auc\n",
    "# ROC 곡선 계산\n",
    "fpr, tpr, thresholds = roc_curve(y_valid, model.predict(X_valid))\n",
    "roc_auc = auc(fpr, tpr)\n",
    "\n",
    "# 최적의 임계값 찾기\n",
    "optimal_idx = np.argmax(tpr - fpr)\n",
    "optimal_threshold = thresholds[optimal_idx]\n",
    "optimal_threshold"
   ]
  },
  {
   "cell_type": "code",
   "execution_count": 24,
   "metadata": {},
   "outputs": [],
   "source": [
    "from sklearn.metrics import accuracy_score, roc_auc_score"
   ]
  },
  {
   "cell_type": "code",
   "execution_count": 25,
   "metadata": {},
   "outputs": [
    {
     "name": "stdout",
     "output_type": "stream",
     "text": [
      "acc: 0.6478, AUROC: 0.7143\n"
     ]
    }
   ],
   "source": [
    "acc = accuracy_score(y_valid, model.predict(X_valid)>optimal_threshold)\n",
    "auroc = roc_auc_score(y_valid, model.predict(X_valid))\n",
    "\n",
    "print(f'acc: {acc:.4f}, AUROC: {auroc:.4f}')"
   ]
  },
  {
   "cell_type": "markdown",
   "metadata": {},
   "source": [
    "## understand the results"
   ]
  },
  {
   "cell_type": "markdown",
   "metadata": {},
   "source": [
    "### confusion matrix"
   ]
  },
  {
   "cell_type": "code",
   "execution_count": 26,
   "metadata": {},
   "outputs": [
    {
     "data": {
      "text/plain": [
       "<sklearn.metrics._plot.confusion_matrix.ConfusionMatrixDisplay at 0x7ffad417a920>"
      ]
     },
     "execution_count": 26,
     "metadata": {},
     "output_type": "execute_result"
    },
    {
     "data": {
      "image/png": "[encoded data removed]",
      "text/plain": [
       "<Figure size 640x480 with 2 Axes>"
      ]
     },
     "metadata": {},
     "output_type": "display_data"
    }
   ],
   "source": [
    "from sklearn.metrics import confusion_matrix, ConfusionMatrixDisplay\n",
    "\n",
    "cmd = ConfusionMatrixDisplay(confusion_matrix(y_valid, model.predict(X_valid)>optimal_threshold))\n",
    "cmd.plot()"
   ]
  },
  {
   "cell_type": "markdown",
   "metadata": {},
   "source": [
    "### feature importance"
   ]
  },
  {
   "cell_type": "code",
   "execution_count": 27,
   "metadata": {},
   "outputs": [
    {
     "data": {
      "text/plain": [
       "<Axes: title={'center': 'Feature importance'}, xlabel='Feature importance', ylabel='Features'>"
      ]
     },
     "execution_count": 27,
     "metadata": {},
     "output_type": "execute_result"
    },
    {
     "data": {
      "image/png": "[encoded data removed]",
      "text/plain": [
       "<Figure size 640x480 with 1 Axes>"
      ]
     },
     "metadata": {},
     "output_type": "display_data"
    }
   ],
   "source": [
    "lgb.plot_importance(model)"
   ]
  },
  {
   "cell_type": "markdown",
   "metadata": {},
   "source": [
    "## save submissions"
   ]
  },
  {
   "cell_type": "code",
   "execution_count": 28,
   "metadata": {},
   "outputs": [],
   "source": [
    "submission_df.prediction = model.predict(test_tabular.drop(columns=['answerCode']))"
   ]
  },
  {
   "cell_type": "code",
   "execution_count": 29,
   "metadata": {},
   "outputs": [],
   "source": [
    "from datetime import datetime as dt\n",
    "now = dt.strftime(dt.now(), '%y%m%d-%H%M%S')"
   ]
  },
  {
   "cell_type": "code",
   "execution_count": 30,
   "metadata": {},
   "outputs": [],
   "source": [
    "modelname = 'lgbm'\n",
    "result_dir = '../results/'\n",
    "submission_df.to_csv(os.path.join(result_dir, f'{modelname}-{auroc:.4f}-{now}.csv'), index=False)"
   ]
  }
 ],
 "metadata": {
  "kernelspec": {
   "display_name": ".dkt",
   "language": "python",
   "name": "python3"
  },
  "language_info": {
   "codemirror_mode": {
    "name": "ipython",
    "version": 3
   },
   "file_extension": ".py",
   "mimetype": "text/x-python",
   "name": "python",
   "nbconvert_exporter": "python",
   "pygments_lexer": "ipython3",
   "version": "3.10.4"
  }
 },
 "nbformat": 4,
 "nbformat_minor": 2
}
