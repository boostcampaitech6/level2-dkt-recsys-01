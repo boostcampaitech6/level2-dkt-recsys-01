{
 "cells": [
  {
   "cell_type": "markdown",
   "metadata": {},
   "source": [
    "# GBDT baselines - catBoost\n",
    "\n",
    "- 작성일: 240108\n",
    "- 작성자: 이주연\n",
    "\n",
    "특이 사항\n",
    "- 평가 데이터를 학습/평가 데이터 전처리에 사용함\n",
    "- user, tag, item, test의 평균 정답률을 agg하여 사용함. 단 agg 시 label 데이터를 포함하지 않고 진행함.\n",
    "- hyperparameter tuning 전혀 없이 default setting으로 진행. 단, categorical data는 명시.\n",
    "- acc: 0.6888, AUROC: 0.7507"
   ]
  },
  {
   "cell_type": "code",
   "execution_count": 1,
   "metadata": {},
   "outputs": [],
   "source": [
    "import os, random\n",
    "\n",
    "import numpy as np\n",
    "import pandas as pd\n",
    "\n",
    "import matplotlib.pyplot as plt\n",
    "import seaborn as sns\n",
    "\n",
    "plt.rcParams[\"font.family\"] = 'NanumGothic'"
   ]
  },
  {
   "cell_type": "code",
   "execution_count": 2,
   "metadata": {},
   "outputs": [],
   "source": [
    "seed = 42\n",
    "random.seed(seed)\n",
    "np.random.seed(seed)"
   ]
  },
  {
   "cell_type": "markdown",
   "metadata": {},
   "source": [
    "### data load"
   ]
  },
  {
   "cell_type": "code",
   "execution_count": 3,
   "metadata": {},
   "outputs": [],
   "source": [
    "data_dir = '../data'"
   ]
  },
  {
   "cell_type": "code",
   "execution_count": 4,
   "metadata": {},
   "outputs": [
    {
     "data": {
      "text/plain": [
       "((2266586, 6), (260114, 6))"
      ]
     },
     "execution_count": 4,
     "metadata": {},
     "output_type": "execute_result"
    }
   ],
   "source": [
    "train_df = pd.read_csv(os.path.join(data_dir, 'train_data.csv'))\n",
    "test_df = pd.read_csv(os.path.join(data_dir, 'test_data.csv'))\n",
    "submission_df = pd.read_csv(os.path.join(data_dir, 'sample_submission.csv'))\n",
    "\n",
    "train_df.shape, test_df.shape"
   ]
  },
  {
   "cell_type": "markdown",
   "metadata": {},
   "source": [
    "## preprocessing"
   ]
  },
  {
   "cell_type": "code",
   "execution_count": 5,
   "metadata": {},
   "outputs": [],
   "source": [
    "# # 누적 카운트\n",
    "# train_df['cumcount'] = train_df.groupby('userID').cumcount()\n",
    "# test_df['cumcount'] = test_df.groupby('userID').cumcount()\n",
    "\n",
    "# drop Timestamp\n",
    "train_df = train_df.drop(columns=['Timestamp'])\n",
    "test_df = test_df.drop(columns=['Timestamp'])"
   ]
  },
  {
   "cell_type": "code",
   "execution_count": 6,
   "metadata": {},
   "outputs": [
    {
     "data": {
      "text/plain": [
       "Index(['userID', 'assessmentItemID', 'testId', 'answerCode', 'KnowledgeTag'], dtype='object')"
      ]
     },
     "execution_count": 6,
     "metadata": {},
     "output_type": "execute_result"
    }
   ],
   "source": [
    "# split label\n",
    "train_label = train_df.drop_duplicates(subset=['userID'], keep='last')\n",
    "test_label = test_df.drop_duplicates(subset=['userID'], keep='last')\n",
    "\n",
    "# drop labels\n",
    "train_df = train_df.drop(index=train_label.index)\n",
    "test_df = test_df.drop(index=test_label.index)\n",
    "base_df = pd.concat([train_df, test_df], axis=0)\n",
    "\n",
    "base_df.columns"
   ]
  },
  {
   "cell_type": "markdown",
   "metadata": {},
   "source": [
    "### aggregation"
   ]
  },
  {
   "cell_type": "code",
   "execution_count": 7,
   "metadata": {},
   "outputs": [
    {
     "data": {
      "text/html": [
       "<div>\n",
       "<style scoped>\n",
       "    .dataframe tbody tr th:only-of-type {\n",
       "        vertical-align: middle;\n",
       "    }\n",
       "\n",
       "    .dataframe tbody tr th {\n",
       "        vertical-align: top;\n",
       "    }\n",
       "\n",
       "    .dataframe thead th {\n",
       "        text-align: right;\n",
       "    }\n",
       "</style>\n",
       "<table border=\"1\" class=\"dataframe\">\n",
       "  <thead>\n",
       "    <tr style=\"text-align: right;\">\n",
       "      <th></th>\n",
       "      <th>avg_acc</th>\n",
       "      <th>total_test</th>\n",
       "    </tr>\n",
       "    <tr>\n",
       "      <th>userID</th>\n",
       "      <th></th>\n",
       "      <th></th>\n",
       "    </tr>\n",
       "  </thead>\n",
       "  <tbody>\n",
       "    <tr>\n",
       "      <th>0</th>\n",
       "      <td>0.631720</td>\n",
       "      <td>744</td>\n",
       "    </tr>\n",
       "    <tr>\n",
       "      <th>1</th>\n",
       "      <td>0.853004</td>\n",
       "      <td>932</td>\n",
       "    </tr>\n",
       "    <tr>\n",
       "      <th>2</th>\n",
       "      <td>0.614545</td>\n",
       "      <td>275</td>\n",
       "    </tr>\n",
       "    <tr>\n",
       "      <th>3</th>\n",
       "      <td>0.692754</td>\n",
       "      <td>1035</td>\n",
       "    </tr>\n",
       "    <tr>\n",
       "      <th>4</th>\n",
       "      <td>0.694030</td>\n",
       "      <td>670</td>\n",
       "    </tr>\n",
       "  </tbody>\n",
       "</table>\n",
       "</div>"
      ],
      "text/plain": [
       "         avg_acc  total_test\n",
       "userID                      \n",
       "0       0.631720         744\n",
       "1       0.853004         932\n",
       "2       0.614545         275\n",
       "3       0.692754        1035\n",
       "4       0.694030         670"
      ]
     },
     "execution_count": 7,
     "metadata": {},
     "output_type": "execute_result"
    }
   ],
   "source": [
    "# agg\n",
    "base_user_agg = base_df.groupby('userID').agg(\n",
    "    avg_acc=('answerCode','mean'), \n",
    "    total_test=('answerCode','count'),\n",
    ")\n",
    "base_user_agg.head()"
   ]
  },
  {
   "cell_type": "code",
   "execution_count": 8,
   "metadata": {},
   "outputs": [
    {
     "data": {
      "text/html": [
       "<div>\n",
       "<style scoped>\n",
       "    .dataframe tbody tr th:only-of-type {\n",
       "        vertical-align: middle;\n",
       "    }\n",
       "\n",
       "    .dataframe tbody tr th {\n",
       "        vertical-align: top;\n",
       "    }\n",
       "\n",
       "    .dataframe thead th {\n",
       "        text-align: right;\n",
       "    }\n",
       "</style>\n",
       "<table border=\"1\" class=\"dataframe\">\n",
       "  <thead>\n",
       "    <tr style=\"text-align: right;\">\n",
       "      <th></th>\n",
       "      <th>tag_acc</th>\n",
       "    </tr>\n",
       "    <tr>\n",
       "      <th>KnowledgeTag</th>\n",
       "      <th></th>\n",
       "    </tr>\n",
       "  </thead>\n",
       "  <tbody>\n",
       "    <tr>\n",
       "      <th>23</th>\n",
       "      <td>0.592593</td>\n",
       "    </tr>\n",
       "    <tr>\n",
       "      <th>24</th>\n",
       "      <td>0.625000</td>\n",
       "    </tr>\n",
       "    <tr>\n",
       "      <th>25</th>\n",
       "      <td>0.850000</td>\n",
       "    </tr>\n",
       "    <tr>\n",
       "      <th>26</th>\n",
       "      <td>0.611193</td>\n",
       "    </tr>\n",
       "    <tr>\n",
       "      <th>30</th>\n",
       "      <td>0.530000</td>\n",
       "    </tr>\n",
       "  </tbody>\n",
       "</table>\n",
       "</div>"
      ],
      "text/plain": [
       "               tag_acc\n",
       "KnowledgeTag          \n",
       "23            0.592593\n",
       "24            0.625000\n",
       "25            0.850000\n",
       "26            0.611193\n",
       "30            0.530000"
      ]
     },
     "execution_count": 8,
     "metadata": {},
     "output_type": "execute_result"
    }
   ],
   "source": [
    "base_tag_agg = base_df.groupby('KnowledgeTag').agg(tag_acc=('answerCode','mean'))\n",
    "base_tag_agg.head()"
   ]
  },
  {
   "cell_type": "code",
   "execution_count": 9,
   "metadata": {},
   "outputs": [
    {
     "data": {
      "text/html": [
       "<div>\n",
       "<style scoped>\n",
       "    .dataframe tbody tr th:only-of-type {\n",
       "        vertical-align: middle;\n",
       "    }\n",
       "\n",
       "    .dataframe tbody tr th {\n",
       "        vertical-align: top;\n",
       "    }\n",
       "\n",
       "    .dataframe thead th {\n",
       "        text-align: right;\n",
       "    }\n",
       "</style>\n",
       "<table border=\"1\" class=\"dataframe\">\n",
       "  <thead>\n",
       "    <tr style=\"text-align: right;\">\n",
       "      <th></th>\n",
       "      <th>item_acc</th>\n",
       "    </tr>\n",
       "    <tr>\n",
       "      <th>assessmentItemID</th>\n",
       "      <th></th>\n",
       "    </tr>\n",
       "  </thead>\n",
       "  <tbody>\n",
       "    <tr>\n",
       "      <th>A010001001</th>\n",
       "      <td>0.922857</td>\n",
       "    </tr>\n",
       "    <tr>\n",
       "      <th>A010001002</th>\n",
       "      <td>0.960000</td>\n",
       "    </tr>\n",
       "    <tr>\n",
       "      <th>A010001003</th>\n",
       "      <td>0.905714</td>\n",
       "    </tr>\n",
       "    <tr>\n",
       "      <th>A010001004</th>\n",
       "      <td>0.945714</td>\n",
       "    </tr>\n",
       "    <tr>\n",
       "      <th>A010001005</th>\n",
       "      <td>0.882857</td>\n",
       "    </tr>\n",
       "  </tbody>\n",
       "</table>\n",
       "</div>"
      ],
      "text/plain": [
       "                  item_acc\n",
       "assessmentItemID          \n",
       "A010001001        0.922857\n",
       "A010001002        0.960000\n",
       "A010001003        0.905714\n",
       "A010001004        0.945714\n",
       "A010001005        0.882857"
      ]
     },
     "execution_count": 9,
     "metadata": {},
     "output_type": "execute_result"
    }
   ],
   "source": [
    "base_item_agg = base_df.groupby('assessmentItemID').agg(item_acc=('answerCode','mean'))\n",
    "base_item_agg.head()"
   ]
  },
  {
   "cell_type": "code",
   "execution_count": 10,
   "metadata": {},
   "outputs": [
    {
     "data": {
      "text/html": [
       "<div>\n",
       "<style scoped>\n",
       "    .dataframe tbody tr th:only-of-type {\n",
       "        vertical-align: middle;\n",
       "    }\n",
       "\n",
       "    .dataframe tbody tr th {\n",
       "        vertical-align: top;\n",
       "    }\n",
       "\n",
       "    .dataframe thead th {\n",
       "        text-align: right;\n",
       "    }\n",
       "</style>\n",
       "<table border=\"1\" class=\"dataframe\">\n",
       "  <thead>\n",
       "    <tr style=\"text-align: right;\">\n",
       "      <th></th>\n",
       "      <th>test_acc</th>\n",
       "    </tr>\n",
       "    <tr>\n",
       "      <th>testId</th>\n",
       "      <th></th>\n",
       "    </tr>\n",
       "  </thead>\n",
       "  <tbody>\n",
       "    <tr>\n",
       "      <th>A010000001</th>\n",
       "      <td>0.923429</td>\n",
       "    </tr>\n",
       "    <tr>\n",
       "      <th>A010000002</th>\n",
       "      <td>0.931429</td>\n",
       "    </tr>\n",
       "    <tr>\n",
       "      <th>A010000003</th>\n",
       "      <td>0.842857</td>\n",
       "    </tr>\n",
       "    <tr>\n",
       "      <th>A010000004</th>\n",
       "      <td>0.880571</td>\n",
       "    </tr>\n",
       "    <tr>\n",
       "      <th>A010000005</th>\n",
       "      <td>0.849143</td>\n",
       "    </tr>\n",
       "  </tbody>\n",
       "</table>\n",
       "</div>"
      ],
      "text/plain": [
       "            test_acc\n",
       "testId              \n",
       "A010000001  0.923429\n",
       "A010000002  0.931429\n",
       "A010000003  0.842857\n",
       "A010000004  0.880571\n",
       "A010000005  0.849143"
      ]
     },
     "execution_count": 10,
     "metadata": {},
     "output_type": "execute_result"
    }
   ],
   "source": [
    "base_test_agg = base_df.groupby('testId').agg(test_acc=('answerCode','mean'))\n",
    "base_test_agg.head()"
   ]
  },
  {
   "cell_type": "code",
   "execution_count": 11,
   "metadata": {},
   "outputs": [
    {
     "data": {
      "text/html": [
       "<div>\n",
       "<style scoped>\n",
       "    .dataframe tbody tr th:only-of-type {\n",
       "        vertical-align: middle;\n",
       "    }\n",
       "\n",
       "    .dataframe tbody tr th {\n",
       "        vertical-align: top;\n",
       "    }\n",
       "\n",
       "    .dataframe thead th {\n",
       "        text-align: right;\n",
       "    }\n",
       "</style>\n",
       "<table border=\"1\" class=\"dataframe\">\n",
       "  <thead>\n",
       "    <tr style=\"text-align: right;\">\n",
       "      <th></th>\n",
       "      <th>userID</th>\n",
       "      <th>assessmentItemID</th>\n",
       "      <th>testId</th>\n",
       "      <th>answerCode</th>\n",
       "      <th>KnowledgeTag</th>\n",
       "      <th>avg_acc</th>\n",
       "      <th>total_test</th>\n",
       "      <th>tag_acc</th>\n",
       "      <th>item_acc</th>\n",
       "      <th>test_acc</th>\n",
       "    </tr>\n",
       "  </thead>\n",
       "  <tbody>\n",
       "    <tr>\n",
       "      <th>744</th>\n",
       "      <td>0</td>\n",
       "      <td>A080129006</td>\n",
       "      <td>A080000129</td>\n",
       "      <td>0</td>\n",
       "      <td>2725</td>\n",
       "      <td>0.631720</td>\n",
       "      <td>744</td>\n",
       "      <td>0.303871</td>\n",
       "      <td>0.156593</td>\n",
       "      <td>0.362708</td>\n",
       "    </tr>\n",
       "    <tr>\n",
       "      <th>1677</th>\n",
       "      <td>1</td>\n",
       "      <td>A090074006</td>\n",
       "      <td>A090000074</td>\n",
       "      <td>1</td>\n",
       "      <td>2648</td>\n",
       "      <td>0.853004</td>\n",
       "      <td>932</td>\n",
       "      <td>0.451737</td>\n",
       "      <td>0.478261</td>\n",
       "      <td>0.436567</td>\n",
       "    </tr>\n",
       "    <tr>\n",
       "      <th>1953</th>\n",
       "      <td>2</td>\n",
       "      <td>A050139007</td>\n",
       "      <td>A050000139</td>\n",
       "      <td>0</td>\n",
       "      <td>428</td>\n",
       "      <td>0.614545</td>\n",
       "      <td>275</td>\n",
       "      <td>0.678480</td>\n",
       "      <td>0.125000</td>\n",
       "      <td>0.626797</td>\n",
       "    </tr>\n",
       "    <tr>\n",
       "      <th>2786</th>\n",
       "      <td>5</td>\n",
       "      <td>A080138007</td>\n",
       "      <td>A080000138</td>\n",
       "      <td>1</td>\n",
       "      <td>8431</td>\n",
       "      <td>0.795673</td>\n",
       "      <td>832</td>\n",
       "      <td>0.472861</td>\n",
       "      <td>0.554622</td>\n",
       "      <td>0.499468</td>\n",
       "    </tr>\n",
       "    <tr>\n",
       "      <th>3707</th>\n",
       "      <td>6</td>\n",
       "      <td>A030145005</td>\n",
       "      <td>A030000145</td>\n",
       "      <td>0</td>\n",
       "      <td>7817</td>\n",
       "      <td>0.443478</td>\n",
       "      <td>920</td>\n",
       "      <td>0.616850</td>\n",
       "      <td>0.615120</td>\n",
       "      <td>0.627767</td>\n",
       "    </tr>\n",
       "  </tbody>\n",
       "</table>\n",
       "</div>"
      ],
      "text/plain": [
       "      userID assessmentItemID      testId  answerCode  KnowledgeTag   avg_acc  \\\n",
       "744        0       A080129006  A080000129           0          2725  0.631720   \n",
       "1677       1       A090074006  A090000074           1          2648  0.853004   \n",
       "1953       2       A050139007  A050000139           0           428  0.614545   \n",
       "2786       5       A080138007  A080000138           1          8431  0.795673   \n",
       "3707       6       A030145005  A030000145           0          7817  0.443478   \n",
       "\n",
       "      total_test   tag_acc  item_acc  test_acc  \n",
       "744          744  0.303871  0.156593  0.362708  \n",
       "1677         932  0.451737  0.478261  0.436567  \n",
       "1953         275  0.678480  0.125000  0.626797  \n",
       "2786         832  0.472861  0.554622  0.499468  \n",
       "3707         920  0.616850  0.615120  0.627767  "
      ]
     },
     "execution_count": 11,
     "metadata": {},
     "output_type": "execute_result"
    }
   ],
   "source": [
    "base_tabular = pd.merge(train_label, base_user_agg, left_on='userID', right_index=True, how='left')\n",
    "base_tabular = pd.merge(base_tabular, base_tag_agg, left_on='KnowledgeTag', right_index=True, how='left')\n",
    "base_tabular = pd.merge(base_tabular, base_item_agg, left_on='assessmentItemID', right_index=True, how='left')\n",
    "base_tabular = pd.merge(base_tabular, base_test_agg, left_on='testId', right_index=True, how='left')\n",
    "base_tabular.head()"
   ]
  },
  {
   "cell_type": "code",
   "execution_count": 12,
   "metadata": {},
   "outputs": [
    {
     "data": {
      "text/html": [
       "<div>\n",
       "<style scoped>\n",
       "    .dataframe tbody tr th:only-of-type {\n",
       "        vertical-align: middle;\n",
       "    }\n",
       "\n",
       "    .dataframe tbody tr th {\n",
       "        vertical-align: top;\n",
       "    }\n",
       "\n",
       "    .dataframe thead th {\n",
       "        text-align: right;\n",
       "    }\n",
       "</style>\n",
       "<table border=\"1\" class=\"dataframe\">\n",
       "  <thead>\n",
       "    <tr style=\"text-align: right;\">\n",
       "      <th></th>\n",
       "      <th>userID</th>\n",
       "      <th>assessmentItemID</th>\n",
       "      <th>testId</th>\n",
       "      <th>answerCode</th>\n",
       "      <th>KnowledgeTag</th>\n",
       "      <th>avg_acc</th>\n",
       "      <th>total_test</th>\n",
       "      <th>tag_acc</th>\n",
       "      <th>item_acc</th>\n",
       "      <th>test_acc</th>\n",
       "    </tr>\n",
       "  </thead>\n",
       "  <tbody>\n",
       "    <tr>\n",
       "      <th>744</th>\n",
       "      <td>0</td>\n",
       "      <td>A080129006</td>\n",
       "      <td>A080000129</td>\n",
       "      <td>0</td>\n",
       "      <td>2725</td>\n",
       "      <td>0.631720</td>\n",
       "      <td>744</td>\n",
       "      <td>0.303871</td>\n",
       "      <td>0.156593</td>\n",
       "      <td>0.362708</td>\n",
       "    </tr>\n",
       "    <tr>\n",
       "      <th>1677</th>\n",
       "      <td>1</td>\n",
       "      <td>A090074006</td>\n",
       "      <td>A090000074</td>\n",
       "      <td>1</td>\n",
       "      <td>2648</td>\n",
       "      <td>0.853004</td>\n",
       "      <td>932</td>\n",
       "      <td>0.451737</td>\n",
       "      <td>0.478261</td>\n",
       "      <td>0.436567</td>\n",
       "    </tr>\n",
       "    <tr>\n",
       "      <th>1953</th>\n",
       "      <td>2</td>\n",
       "      <td>A050139007</td>\n",
       "      <td>A050000139</td>\n",
       "      <td>0</td>\n",
       "      <td>428</td>\n",
       "      <td>0.614545</td>\n",
       "      <td>275</td>\n",
       "      <td>0.678480</td>\n",
       "      <td>0.125000</td>\n",
       "      <td>0.626797</td>\n",
       "    </tr>\n",
       "    <tr>\n",
       "      <th>2786</th>\n",
       "      <td>5</td>\n",
       "      <td>A080138007</td>\n",
       "      <td>A080000138</td>\n",
       "      <td>1</td>\n",
       "      <td>8431</td>\n",
       "      <td>0.795673</td>\n",
       "      <td>832</td>\n",
       "      <td>0.472861</td>\n",
       "      <td>0.554622</td>\n",
       "      <td>0.499468</td>\n",
       "    </tr>\n",
       "    <tr>\n",
       "      <th>3707</th>\n",
       "      <td>6</td>\n",
       "      <td>A030145005</td>\n",
       "      <td>A030000145</td>\n",
       "      <td>0</td>\n",
       "      <td>7817</td>\n",
       "      <td>0.443478</td>\n",
       "      <td>920</td>\n",
       "      <td>0.616850</td>\n",
       "      <td>0.615120</td>\n",
       "      <td>0.627767</td>\n",
       "    </tr>\n",
       "  </tbody>\n",
       "</table>\n",
       "</div>"
      ],
      "text/plain": [
       "      userID assessmentItemID      testId  answerCode  KnowledgeTag   avg_acc  \\\n",
       "744        0       A080129006  A080000129           0          2725  0.631720   \n",
       "1677       1       A090074006  A090000074           1          2648  0.853004   \n",
       "1953       2       A050139007  A050000139           0           428  0.614545   \n",
       "2786       5       A080138007  A080000138           1          8431  0.795673   \n",
       "3707       6       A030145005  A030000145           0          7817  0.443478   \n",
       "\n",
       "      total_test   tag_acc  item_acc  test_acc  \n",
       "744          744  0.303871  0.156593  0.362708  \n",
       "1677         932  0.451737  0.478261  0.436567  \n",
       "1953         275  0.678480  0.125000  0.626797  \n",
       "2786         832  0.472861  0.554622  0.499468  \n",
       "3707         920  0.616850  0.615120  0.627767  "
      ]
     },
     "execution_count": 12,
     "metadata": {},
     "output_type": "execute_result"
    }
   ],
   "source": [
    "# train merge\n",
    "train_tabular = pd.merge(train_label, base_user_agg, left_on='userID', right_index=True, how='left')\n",
    "train_tabular = pd.merge(train_tabular, base_tag_agg, left_on='KnowledgeTag', right_index=True, how='left')\n",
    "train_tabular = pd.merge(train_tabular, base_item_agg, left_on='assessmentItemID', right_index=True, how='left')\n",
    "train_tabular = pd.merge(train_tabular, base_test_agg, left_on='testId', right_index=True, how='left')\n",
    "train_tabular.head()"
   ]
  },
  {
   "cell_type": "code",
   "execution_count": 13,
   "metadata": {},
   "outputs": [
    {
     "data": {
      "text/html": [
       "<div>\n",
       "<style scoped>\n",
       "    .dataframe tbody tr th:only-of-type {\n",
       "        vertical-align: middle;\n",
       "    }\n",
       "\n",
       "    .dataframe tbody tr th {\n",
       "        vertical-align: top;\n",
       "    }\n",
       "\n",
       "    .dataframe thead th {\n",
       "        text-align: right;\n",
       "    }\n",
       "</style>\n",
       "<table border=\"1\" class=\"dataframe\">\n",
       "  <thead>\n",
       "    <tr style=\"text-align: right;\">\n",
       "      <th></th>\n",
       "      <th>userID</th>\n",
       "      <th>assessmentItemID</th>\n",
       "      <th>testId</th>\n",
       "      <th>answerCode</th>\n",
       "      <th>KnowledgeTag</th>\n",
       "      <th>avg_acc</th>\n",
       "      <th>total_test</th>\n",
       "      <th>tag_acc</th>\n",
       "      <th>item_acc</th>\n",
       "      <th>test_acc</th>\n",
       "    </tr>\n",
       "  </thead>\n",
       "  <tbody>\n",
       "    <tr>\n",
       "      <th>1035</th>\n",
       "      <td>3</td>\n",
       "      <td>A050133008</td>\n",
       "      <td>A050000133</td>\n",
       "      <td>-1</td>\n",
       "      <td>5289</td>\n",
       "      <td>0.692754</td>\n",
       "      <td>1035</td>\n",
       "      <td>0.559729</td>\n",
       "      <td>0.536290</td>\n",
       "      <td>0.655656</td>\n",
       "    </tr>\n",
       "    <tr>\n",
       "      <th>1706</th>\n",
       "      <td>4</td>\n",
       "      <td>A070146008</td>\n",
       "      <td>A070000146</td>\n",
       "      <td>-1</td>\n",
       "      <td>9080</td>\n",
       "      <td>0.694030</td>\n",
       "      <td>670</td>\n",
       "      <td>0.548426</td>\n",
       "      <td>0.605839</td>\n",
       "      <td>0.651477</td>\n",
       "    </tr>\n",
       "    <tr>\n",
       "      <th>3023</th>\n",
       "      <td>13</td>\n",
       "      <td>A070111008</td>\n",
       "      <td>A070000111</td>\n",
       "      <td>-1</td>\n",
       "      <td>9660</td>\n",
       "      <td>0.695289</td>\n",
       "      <td>1316</td>\n",
       "      <td>0.495308</td>\n",
       "      <td>0.369478</td>\n",
       "      <td>0.456957</td>\n",
       "    </tr>\n",
       "    <tr>\n",
       "      <th>4283</th>\n",
       "      <td>17</td>\n",
       "      <td>A090064006</td>\n",
       "      <td>A090000064</td>\n",
       "      <td>-1</td>\n",
       "      <td>2611</td>\n",
       "      <td>0.818904</td>\n",
       "      <td>1259</td>\n",
       "      <td>0.422518</td>\n",
       "      <td>0.274725</td>\n",
       "      <td>0.449915</td>\n",
       "    </tr>\n",
       "    <tr>\n",
       "      <th>4670</th>\n",
       "      <td>26</td>\n",
       "      <td>A060135007</td>\n",
       "      <td>A060000135</td>\n",
       "      <td>-1</td>\n",
       "      <td>1422</td>\n",
       "      <td>0.759067</td>\n",
       "      <td>386</td>\n",
       "      <td>0.611052</td>\n",
       "      <td>0.315126</td>\n",
       "      <td>0.642693</td>\n",
       "    </tr>\n",
       "  </tbody>\n",
       "</table>\n",
       "</div>"
      ],
      "text/plain": [
       "      userID assessmentItemID      testId  answerCode  KnowledgeTag   avg_acc  \\\n",
       "1035       3       A050133008  A050000133          -1          5289  0.692754   \n",
       "1706       4       A070146008  A070000146          -1          9080  0.694030   \n",
       "3023      13       A070111008  A070000111          -1          9660  0.695289   \n",
       "4283      17       A090064006  A090000064          -1          2611  0.818904   \n",
       "4670      26       A060135007  A060000135          -1          1422  0.759067   \n",
       "\n",
       "      total_test   tag_acc  item_acc  test_acc  \n",
       "1035        1035  0.559729  0.536290  0.655656  \n",
       "1706         670  0.548426  0.605839  0.651477  \n",
       "3023        1316  0.495308  0.369478  0.456957  \n",
       "4283        1259  0.422518  0.274725  0.449915  \n",
       "4670         386  0.611052  0.315126  0.642693  "
      ]
     },
     "execution_count": 13,
     "metadata": {},
     "output_type": "execute_result"
    }
   ],
   "source": [
    "# train merge\n",
    "test_tabular = pd.merge(test_label, base_user_agg, left_on='userID', right_index=True, how='left')\n",
    "test_tabular = pd.merge(test_tabular, base_tag_agg, left_on='KnowledgeTag', right_index=True, how='left')\n",
    "test_tabular = pd.merge(test_tabular, base_item_agg, left_on='assessmentItemID', right_index=True, how='left')\n",
    "test_tabular = pd.merge(test_tabular, base_test_agg, left_on='testId', right_index=True, how='left')\n",
    "test_tabular.head()"
   ]
  },
  {
   "cell_type": "code",
   "execution_count": 14,
   "metadata": {},
   "outputs": [],
   "source": [
    "# astype categorical data\n",
    "category_columns = ['userID', 'assessmentItemID', 'testId', 'KnowledgeTag']\n",
    "\n",
    "train_tabular[category_columns] = train_tabular[category_columns].astype(\"category\")\n",
    "test_tabular[category_columns] = test_tabular[category_columns].astype(\"category\")"
   ]
  },
  {
   "cell_type": "code",
   "execution_count": 15,
   "metadata": {},
   "outputs": [],
   "source": [
    "# define X, y data\n",
    "X_train = train_tabular.drop(columns='answerCode')\n",
    "y_train = train_tabular[['answerCode']]\n",
    "\n",
    "X_test = test_tabular.drop(columns='answerCode')"
   ]
  },
  {
   "cell_type": "markdown",
   "metadata": {},
   "source": [
    "## train/valid split"
   ]
  },
  {
   "cell_type": "code",
   "execution_count": 16,
   "metadata": {},
   "outputs": [],
   "source": [
    "from sklearn.model_selection import train_test_split"
   ]
  },
  {
   "cell_type": "code",
   "execution_count": 17,
   "metadata": {},
   "outputs": [
    {
     "data": {
      "text/plain": [
       "((5358, 9), (1340, 9))"
      ]
     },
     "execution_count": 17,
     "metadata": {},
     "output_type": "execute_result"
    }
   ],
   "source": [
    "X_train, X_valid, y_train, y_valid = train_test_split(X_train, y_train, test_size=.2, shuffle=True)\n",
    "\n",
    "X_train.shape, X_valid.shape"
   ]
  },
  {
   "cell_type": "code",
   "execution_count": 18,
   "metadata": {},
   "outputs": [
    {
     "data": {
      "text/html": [
       "<div>\n",
       "<style scoped>\n",
       "    .dataframe tbody tr th:only-of-type {\n",
       "        vertical-align: middle;\n",
       "    }\n",
       "\n",
       "    .dataframe tbody tr th {\n",
       "        vertical-align: top;\n",
       "    }\n",
       "\n",
       "    .dataframe thead th {\n",
       "        text-align: right;\n",
       "    }\n",
       "</style>\n",
       "<table border=\"1\" class=\"dataframe\">\n",
       "  <thead>\n",
       "    <tr style=\"text-align: right;\">\n",
       "      <th></th>\n",
       "      <th>userID</th>\n",
       "      <th>assessmentItemID</th>\n",
       "      <th>testId</th>\n",
       "      <th>KnowledgeTag</th>\n",
       "      <th>avg_acc</th>\n",
       "      <th>total_test</th>\n",
       "      <th>tag_acc</th>\n",
       "      <th>item_acc</th>\n",
       "      <th>test_acc</th>\n",
       "    </tr>\n",
       "  </thead>\n",
       "  <tbody>\n",
       "    <tr>\n",
       "      <th>1919639</th>\n",
       "      <td>3808</td>\n",
       "      <td>A080091008</td>\n",
       "      <td>A080000091</td>\n",
       "      <td>7118</td>\n",
       "      <td>0.515385</td>\n",
       "      <td>130</td>\n",
       "      <td>0.382872</td>\n",
       "      <td>0.360406</td>\n",
       "      <td>0.540701</td>\n",
       "    </tr>\n",
       "    <tr>\n",
       "      <th>1123856</th>\n",
       "      <td>1724</td>\n",
       "      <td>A010152005</td>\n",
       "      <td>A010000152</td>\n",
       "      <td>7801</td>\n",
       "      <td>0.869885</td>\n",
       "      <td>953</td>\n",
       "      <td>0.811954</td>\n",
       "      <td>0.764706</td>\n",
       "      <td>0.805172</td>\n",
       "    </tr>\n",
       "    <tr>\n",
       "      <th>2247625</th>\n",
       "      <td>6680</td>\n",
       "      <td>A040163005</td>\n",
       "      <td>A040000163</td>\n",
       "      <td>2120</td>\n",
       "      <td>0.586207</td>\n",
       "      <td>29</td>\n",
       "      <td>0.738293</td>\n",
       "      <td>0.341216</td>\n",
       "      <td>0.778075</td>\n",
       "    </tr>\n",
       "    <tr>\n",
       "      <th>2120114</th>\n",
       "      <td>4948</td>\n",
       "      <td>A080129006</td>\n",
       "      <td>A080000129</td>\n",
       "      <td>2725</td>\n",
       "      <td>0.289720</td>\n",
       "      <td>107</td>\n",
       "      <td>0.303871</td>\n",
       "      <td>0.156593</td>\n",
       "      <td>0.362708</td>\n",
       "    </tr>\n",
       "    <tr>\n",
       "      <th>1879747</th>\n",
       "      <td>3654</td>\n",
       "      <td>A070130008</td>\n",
       "      <td>A070000130</td>\n",
       "      <td>9067</td>\n",
       "      <td>0.761719</td>\n",
       "      <td>256</td>\n",
       "      <td>0.595698</td>\n",
       "      <td>0.632911</td>\n",
       "      <td>0.574522</td>\n",
       "    </tr>\n",
       "  </tbody>\n",
       "</table>\n",
       "</div>"
      ],
      "text/plain": [
       "        userID assessmentItemID      testId KnowledgeTag   avg_acc  \\\n",
       "1919639   3808       A080091008  A080000091         7118  0.515385   \n",
       "1123856   1724       A010152005  A010000152         7801  0.869885   \n",
       "2247625   6680       A040163005  A040000163         2120  0.586207   \n",
       "2120114   4948       A080129006  A080000129         2725  0.289720   \n",
       "1879747   3654       A070130008  A070000130         9067  0.761719   \n",
       "\n",
       "         total_test   tag_acc  item_acc  test_acc  \n",
       "1919639         130  0.382872  0.360406  0.540701  \n",
       "1123856         953  0.811954  0.764706  0.805172  \n",
       "2247625          29  0.738293  0.341216  0.778075  \n",
       "2120114         107  0.303871  0.156593  0.362708  \n",
       "1879747         256  0.595698  0.632911  0.574522  "
      ]
     },
     "execution_count": 18,
     "metadata": {},
     "output_type": "execute_result"
    }
   ],
   "source": [
    "X_train.head()"
   ]
  },
  {
   "cell_type": "markdown",
   "metadata": {},
   "source": [
    "## train catBoost with default setting"
   ]
  },
  {
   "cell_type": "code",
   "execution_count": 19,
   "metadata": {},
   "outputs": [],
   "source": [
    "from catboost import CatBoostClassifier, Pool, metrics, cv"
   ]
  },
  {
   "cell_type": "code",
   "execution_count": 20,
   "metadata": {},
   "outputs": [],
   "source": [
    "model = CatBoostClassifier(\n",
    "    custom_loss='AUC',\n",
    "    logging_level='Silent',\n",
    "    od_type='Iter',\n",
    "    od_wait=40\n",
    ")"
   ]
  },
  {
   "cell_type": "code",
   "execution_count": 21,
   "metadata": {},
   "outputs": [
    {
     "name": "stdout",
     "output_type": "stream",
     "text": [
      "Learning rate set to 0.04797\n",
      "0:\tlearn: 0.6854774\ttest: 0.6855637\tbest: 0.6855637 (0)\ttotal: 58.2ms\tremaining: 58.1s\n",
      "1:\tlearn: 0.6779089\ttest: 0.6780772\tbest: 0.6780772 (1)\ttotal: 66.4ms\tremaining: 33.1s\n",
      "2:\tlearn: 0.6707682\ttest: 0.6711868\tbest: 0.6711868 (2)\ttotal: 74.6ms\tremaining: 24.8s\n",
      "3:\tlearn: 0.6646152\ttest: 0.6648829\tbest: 0.6648829 (3)\ttotal: 82.3ms\tremaining: 20.5s\n",
      "4:\tlearn: 0.6591281\ttest: 0.6595120\tbest: 0.6595120 (4)\ttotal: 90.1ms\tremaining: 17.9s\n",
      "5:\tlearn: 0.6538810\ttest: 0.6542003\tbest: 0.6542003 (5)\ttotal: 97.6ms\tremaining: 16.2s\n",
      "6:\tlearn: 0.6498505\ttest: 0.6503221\tbest: 0.6503221 (6)\ttotal: 105ms\tremaining: 14.9s\n",
      "7:\tlearn: 0.6458639\ttest: 0.6461908\tbest: 0.6461908 (7)\ttotal: 113ms\tremaining: 14s\n",
      "8:\tlearn: 0.6425662\ttest: 0.6429983\tbest: 0.6429983 (8)\ttotal: 120ms\tremaining: 13.2s\n",
      "9:\tlearn: 0.6392762\ttest: 0.6396092\tbest: 0.6396092 (9)\ttotal: 127ms\tremaining: 12.5s\n",
      "10:\tlearn: 0.6356736\ttest: 0.6360253\tbest: 0.6360253 (10)\ttotal: 134ms\tremaining: 12s\n",
      "11:\tlearn: 0.6325993\ttest: 0.6332837\tbest: 0.6332837 (11)\ttotal: 141ms\tremaining: 11.6s\n",
      "12:\tlearn: 0.6293010\ttest: 0.6303016\tbest: 0.6303016 (12)\ttotal: 148ms\tremaining: 11.2s\n",
      "13:\tlearn: 0.6267073\ttest: 0.6278191\tbest: 0.6278191 (13)\ttotal: 155ms\tremaining: 10.9s\n",
      "14:\tlearn: 0.6242775\ttest: 0.6253775\tbest: 0.6253775 (14)\ttotal: 161ms\tremaining: 10.6s\n",
      "15:\tlearn: 0.6221007\ttest: 0.6234096\tbest: 0.6234096 (15)\ttotal: 168ms\tremaining: 10.4s\n",
      "16:\tlearn: 0.6201008\ttest: 0.6215796\tbest: 0.6215796 (16)\ttotal: 175ms\tremaining: 10.1s\n",
      "17:\tlearn: 0.6178752\ttest: 0.6191520\tbest: 0.6191520 (17)\ttotal: 183ms\tremaining: 9.98s\n",
      "18:\tlearn: 0.6158385\ttest: 0.6172536\tbest: 0.6172536 (18)\ttotal: 191ms\tremaining: 9.88s\n",
      "19:\tlearn: 0.6139754\ttest: 0.6159435\tbest: 0.6159435 (19)\ttotal: 199ms\tremaining: 9.77s\n",
      "20:\tlearn: 0.6122044\ttest: 0.6142034\tbest: 0.6142034 (20)\ttotal: 206ms\tremaining: 9.62s\n",
      "21:\tlearn: 0.6106923\ttest: 0.6129730\tbest: 0.6129730 (21)\ttotal: 213ms\tremaining: 9.45s\n",
      "22:\tlearn: 0.6092809\ttest: 0.6116680\tbest: 0.6116680 (22)\ttotal: 219ms\tremaining: 9.31s\n",
      "23:\tlearn: 0.6078078\ttest: 0.6108046\tbest: 0.6108046 (23)\ttotal: 227ms\tremaining: 9.24s\n",
      "24:\tlearn: 0.6064677\ttest: 0.6097794\tbest: 0.6097794 (24)\ttotal: 234ms\tremaining: 9.13s\n",
      "25:\tlearn: 0.6052115\ttest: 0.6089945\tbest: 0.6089945 (25)\ttotal: 241ms\tremaining: 9.04s\n",
      "26:\tlearn: 0.6043422\ttest: 0.6079427\tbest: 0.6079427 (26)\ttotal: 248ms\tremaining: 8.94s\n",
      "27:\tlearn: 0.6035174\ttest: 0.6072487\tbest: 0.6072487 (27)\ttotal: 255ms\tremaining: 8.86s\n",
      "28:\tlearn: 0.6019864\ttest: 0.6060394\tbest: 0.6060394 (28)\ttotal: 262ms\tremaining: 8.77s\n",
      "29:\tlearn: 0.6008824\ttest: 0.6053455\tbest: 0.6053455 (29)\ttotal: 269ms\tremaining: 8.7s\n",
      "30:\tlearn: 0.5999051\ttest: 0.6046719\tbest: 0.6046719 (30)\ttotal: 276ms\tremaining: 8.63s\n",
      "31:\tlearn: 0.5989032\ttest: 0.6040744\tbest: 0.6040744 (31)\ttotal: 282ms\tremaining: 8.54s\n",
      "32:\tlearn: 0.5983374\ttest: 0.6037521\tbest: 0.6037521 (32)\ttotal: 290ms\tremaining: 8.48s\n",
      "33:\tlearn: 0.5976515\ttest: 0.6034479\tbest: 0.6034479 (33)\ttotal: 296ms\tremaining: 8.42s\n",
      "34:\tlearn: 0.5968696\ttest: 0.6031936\tbest: 0.6031936 (34)\ttotal: 303ms\tremaining: 8.34s\n",
      "35:\tlearn: 0.5960071\ttest: 0.6027865\tbest: 0.6027865 (35)\ttotal: 309ms\tremaining: 8.28s\n",
      "36:\tlearn: 0.5958217\ttest: 0.6025934\tbest: 0.6025934 (36)\ttotal: 314ms\tremaining: 8.16s\n",
      "37:\tlearn: 0.5949659\ttest: 0.6019836\tbest: 0.6019836 (37)\ttotal: 321ms\tremaining: 8.11s\n",
      "38:\tlearn: 0.5940362\ttest: 0.6015890\tbest: 0.6015890 (38)\ttotal: 327ms\tremaining: 8.05s\n",
      "39:\tlearn: 0.5935554\ttest: 0.6013061\tbest: 0.6013061 (39)\ttotal: 333ms\tremaining: 8s\n",
      "40:\tlearn: 0.5933920\ttest: 0.6010531\tbest: 0.6010531 (40)\ttotal: 338ms\tremaining: 7.9s\n",
      "41:\tlearn: 0.5926144\ttest: 0.6005224\tbest: 0.6005224 (41)\ttotal: 345ms\tremaining: 7.87s\n",
      "42:\tlearn: 0.5921888\ttest: 0.6004024\tbest: 0.6004024 (42)\ttotal: 351ms\tremaining: 7.81s\n",
      "43:\tlearn: 0.5915662\ttest: 0.5998678\tbest: 0.5998678 (43)\ttotal: 357ms\tremaining: 7.76s\n",
      "44:\tlearn: 0.5908704\ttest: 0.5995853\tbest: 0.5995853 (44)\ttotal: 364ms\tremaining: 7.72s\n",
      "45:\tlearn: 0.5904088\ttest: 0.5992729\tbest: 0.5992729 (45)\ttotal: 370ms\tremaining: 7.67s\n",
      "46:\tlearn: 0.5902119\ttest: 0.5990343\tbest: 0.5990343 (46)\ttotal: 374ms\tremaining: 7.59s\n",
      "47:\tlearn: 0.5897904\ttest: 0.5987951\tbest: 0.5987951 (47)\ttotal: 381ms\tremaining: 7.56s\n",
      "48:\tlearn: 0.5896237\ttest: 0.5987437\tbest: 0.5987437 (48)\ttotal: 385ms\tremaining: 7.47s\n",
      "49:\tlearn: 0.5891049\ttest: 0.5986579\tbest: 0.5986579 (49)\ttotal: 392ms\tremaining: 7.45s\n",
      "50:\tlearn: 0.5884823\ttest: 0.5981814\tbest: 0.5981814 (50)\ttotal: 398ms\tremaining: 7.41s\n",
      "51:\tlearn: 0.5877904\ttest: 0.5978288\tbest: 0.5978288 (51)\ttotal: 405ms\tremaining: 7.38s\n",
      "52:\tlearn: 0.5870452\ttest: 0.5976086\tbest: 0.5976086 (52)\ttotal: 412ms\tremaining: 7.35s\n",
      "53:\tlearn: 0.5867222\ttest: 0.5973949\tbest: 0.5973949 (53)\ttotal: 417ms\tremaining: 7.3s\n",
      "54:\tlearn: 0.5867208\ttest: 0.5974119\tbest: 0.5973949 (53)\ttotal: 420ms\tremaining: 7.21s\n",
      "55:\tlearn: 0.5863048\ttest: 0.5973987\tbest: 0.5973949 (53)\ttotal: 426ms\tremaining: 7.18s\n",
      "56:\tlearn: 0.5858095\ttest: 0.5973486\tbest: 0.5973486 (56)\ttotal: 433ms\tremaining: 7.16s\n",
      "57:\tlearn: 0.5853164\ttest: 0.5970728\tbest: 0.5970728 (57)\ttotal: 439ms\tremaining: 7.13s\n",
      "58:\tlearn: 0.5853049\ttest: 0.5970890\tbest: 0.5970728 (57)\ttotal: 443ms\tremaining: 7.06s\n",
      "59:\tlearn: 0.5848833\ttest: 0.5969172\tbest: 0.5969172 (59)\ttotal: 449ms\tremaining: 7.03s\n",
      "60:\tlearn: 0.5845111\ttest: 0.5967975\tbest: 0.5967975 (60)\ttotal: 456ms\tremaining: 7.02s\n",
      "61:\tlearn: 0.5841495\ttest: 0.5969473\tbest: 0.5967975 (60)\ttotal: 463ms\tremaining: 7s\n",
      "62:\tlearn: 0.5836892\ttest: 0.5967517\tbest: 0.5967517 (62)\ttotal: 469ms\tremaining: 6.98s\n",
      "63:\tlearn: 0.5833349\ttest: 0.5966885\tbest: 0.5966885 (63)\ttotal: 475ms\tremaining: 6.94s\n",
      "64:\tlearn: 0.5829122\ttest: 0.5968476\tbest: 0.5966885 (63)\ttotal: 481ms\tremaining: 6.92s\n",
      "65:\tlearn: 0.5825781\ttest: 0.5967223\tbest: 0.5966885 (63)\ttotal: 488ms\tremaining: 6.9s\n",
      "66:\tlearn: 0.5821455\ttest: 0.5964288\tbest: 0.5964288 (66)\ttotal: 493ms\tremaining: 6.87s\n",
      "67:\tlearn: 0.5820101\ttest: 0.5964022\tbest: 0.5964022 (67)\ttotal: 499ms\tremaining: 6.84s\n",
      "68:\tlearn: 0.5814079\ttest: 0.5962795\tbest: 0.5962795 (68)\ttotal: 506ms\tremaining: 6.83s\n",
      "69:\tlearn: 0.5813664\ttest: 0.5961987\tbest: 0.5961987 (69)\ttotal: 510ms\tremaining: 6.78s\n",
      "70:\tlearn: 0.5811069\ttest: 0.5962644\tbest: 0.5961987 (69)\ttotal: 516ms\tremaining: 6.76s\n",
      "71:\tlearn: 0.5808618\ttest: 0.5959810\tbest: 0.5959810 (71)\ttotal: 523ms\tremaining: 6.74s\n",
      "72:\tlearn: 0.5806088\ttest: 0.5958248\tbest: 0.5958248 (72)\ttotal: 529ms\tremaining: 6.71s\n",
      "73:\tlearn: 0.5802653\ttest: 0.5958284\tbest: 0.5958248 (72)\ttotal: 535ms\tremaining: 6.69s\n",
      "74:\tlearn: 0.5799335\ttest: 0.5956637\tbest: 0.5956637 (74)\ttotal: 540ms\tremaining: 6.66s\n",
      "75:\tlearn: 0.5798440\ttest: 0.5956171\tbest: 0.5956171 (75)\ttotal: 546ms\tremaining: 6.64s\n",
      "76:\tlearn: 0.5798237\ttest: 0.5956792\tbest: 0.5956171 (75)\ttotal: 550ms\tremaining: 6.59s\n",
      "77:\tlearn: 0.5795283\ttest: 0.5955422\tbest: 0.5955422 (77)\ttotal: 557ms\tremaining: 6.58s\n",
      "78:\tlearn: 0.5792200\ttest: 0.5953150\tbest: 0.5953150 (78)\ttotal: 562ms\tremaining: 6.55s\n",
      "79:\tlearn: 0.5788840\ttest: 0.5955638\tbest: 0.5953150 (78)\ttotal: 569ms\tremaining: 6.54s\n",
      "80:\tlearn: 0.5788039\ttest: 0.5955569\tbest: 0.5953150 (78)\ttotal: 574ms\tremaining: 6.51s\n",
      "81:\tlearn: 0.5787940\ttest: 0.5955414\tbest: 0.5953150 (78)\ttotal: 577ms\tremaining: 6.46s\n",
      "82:\tlearn: 0.5787549\ttest: 0.5955968\tbest: 0.5953150 (78)\ttotal: 581ms\tremaining: 6.42s\n",
      "83:\tlearn: 0.5787164\ttest: 0.5956239\tbest: 0.5953150 (78)\ttotal: 585ms\tremaining: 6.38s\n",
      "84:\tlearn: 0.5782811\ttest: 0.5955765\tbest: 0.5953150 (78)\ttotal: 591ms\tremaining: 6.36s\n",
      "85:\tlearn: 0.5780258\ttest: 0.5954503\tbest: 0.5953150 (78)\ttotal: 597ms\tremaining: 6.34s\n",
      "86:\tlearn: 0.5778425\ttest: 0.5954489\tbest: 0.5953150 (78)\ttotal: 603ms\tremaining: 6.33s\n",
      "87:\tlearn: 0.5774889\ttest: 0.5953192\tbest: 0.5953150 (78)\ttotal: 611ms\tremaining: 6.33s\n",
      "88:\tlearn: 0.5774021\ttest: 0.5953477\tbest: 0.5953150 (78)\ttotal: 614ms\tremaining: 6.29s\n",
      "89:\tlearn: 0.5773001\ttest: 0.5954113\tbest: 0.5953150 (78)\ttotal: 621ms\tremaining: 6.28s\n",
      "90:\tlearn: 0.5771515\ttest: 0.5953605\tbest: 0.5953150 (78)\ttotal: 625ms\tremaining: 6.25s\n",
      "91:\tlearn: 0.5766927\ttest: 0.5953014\tbest: 0.5953014 (91)\ttotal: 632ms\tremaining: 6.23s\n",
      "92:\tlearn: 0.5762479\ttest: 0.5952929\tbest: 0.5952929 (92)\ttotal: 638ms\tremaining: 6.22s\n",
      "93:\tlearn: 0.5761304\ttest: 0.5952661\tbest: 0.5952661 (93)\ttotal: 645ms\tremaining: 6.21s\n",
      "94:\tlearn: 0.5757783\ttest: 0.5955323\tbest: 0.5952661 (93)\ttotal: 651ms\tremaining: 6.2s\n",
      "95:\tlearn: 0.5754905\ttest: 0.5953190\tbest: 0.5952661 (93)\ttotal: 656ms\tremaining: 6.18s\n",
      "96:\tlearn: 0.5751982\ttest: 0.5953071\tbest: 0.5952661 (93)\ttotal: 663ms\tremaining: 6.17s\n",
      "97:\tlearn: 0.5750196\ttest: 0.5953179\tbest: 0.5952661 (93)\ttotal: 669ms\tremaining: 6.16s\n",
      "98:\tlearn: 0.5746560\ttest: 0.5953666\tbest: 0.5952661 (93)\ttotal: 675ms\tremaining: 6.15s\n",
      "99:\tlearn: 0.5743360\ttest: 0.5955326\tbest: 0.5952661 (93)\ttotal: 682ms\tremaining: 6.14s\n",
      "100:\tlearn: 0.5739125\ttest: 0.5955990\tbest: 0.5952661 (93)\ttotal: 689ms\tremaining: 6.13s\n",
      "101:\tlearn: 0.5736896\ttest: 0.5955581\tbest: 0.5952661 (93)\ttotal: 695ms\tremaining: 6.12s\n",
      "102:\tlearn: 0.5734935\ttest: 0.5955571\tbest: 0.5952661 (93)\ttotal: 702ms\tremaining: 6.12s\n",
      "103:\tlearn: 0.5734935\ttest: 0.5955571\tbest: 0.5952661 (93)\ttotal: 705ms\tremaining: 6.07s\n",
      "104:\tlearn: 0.5730973\ttest: 0.5955287\tbest: 0.5952661 (93)\ttotal: 711ms\tremaining: 6.06s\n",
      "105:\tlearn: 0.5730592\ttest: 0.5954663\tbest: 0.5952661 (93)\ttotal: 716ms\tremaining: 6.04s\n",
      "106:\tlearn: 0.5727613\ttest: 0.5956665\tbest: 0.5952661 (93)\ttotal: 723ms\tremaining: 6.03s\n",
      "107:\tlearn: 0.5723179\ttest: 0.5956167\tbest: 0.5952661 (93)\ttotal: 729ms\tremaining: 6.02s\n",
      "108:\tlearn: 0.5720551\ttest: 0.5955095\tbest: 0.5952661 (93)\ttotal: 736ms\tremaining: 6.01s\n",
      "109:\tlearn: 0.5716848\ttest: 0.5954082\tbest: 0.5952661 (93)\ttotal: 743ms\tremaining: 6.01s\n",
      "110:\tlearn: 0.5714230\ttest: 0.5952932\tbest: 0.5952661 (93)\ttotal: 750ms\tremaining: 6s\n",
      "111:\tlearn: 0.5710981\ttest: 0.5952567\tbest: 0.5952567 (111)\ttotal: 755ms\tremaining: 5.99s\n",
      "112:\tlearn: 0.5709533\ttest: 0.5952501\tbest: 0.5952501 (112)\ttotal: 762ms\tremaining: 5.98s\n",
      "113:\tlearn: 0.5706125\ttest: 0.5952092\tbest: 0.5952092 (113)\ttotal: 768ms\tremaining: 5.97s\n",
      "114:\tlearn: 0.5702698\ttest: 0.5951760\tbest: 0.5951760 (114)\ttotal: 774ms\tremaining: 5.96s\n",
      "115:\tlearn: 0.5701265\ttest: 0.5951910\tbest: 0.5951760 (114)\ttotal: 779ms\tremaining: 5.94s\n",
      "116:\tlearn: 0.5698920\ttest: 0.5953590\tbest: 0.5951760 (114)\ttotal: 786ms\tremaining: 5.93s\n",
      "117:\tlearn: 0.5696344\ttest: 0.5953492\tbest: 0.5951760 (114)\ttotal: 792ms\tremaining: 5.92s\n",
      "118:\tlearn: 0.5692523\ttest: 0.5954028\tbest: 0.5951760 (114)\ttotal: 798ms\tremaining: 5.91s\n",
      "119:\tlearn: 0.5687487\ttest: 0.5953437\tbest: 0.5951760 (114)\ttotal: 805ms\tremaining: 5.9s\n",
      "120:\tlearn: 0.5684138\ttest: 0.5952856\tbest: 0.5951760 (114)\ttotal: 812ms\tremaining: 5.89s\n",
      "121:\tlearn: 0.5682514\ttest: 0.5952981\tbest: 0.5951760 (114)\ttotal: 819ms\tremaining: 5.89s\n",
      "122:\tlearn: 0.5679125\ttest: 0.5953531\tbest: 0.5951760 (114)\ttotal: 826ms\tremaining: 5.89s\n",
      "123:\tlearn: 0.5675710\ttest: 0.5953757\tbest: 0.5951760 (114)\ttotal: 833ms\tremaining: 5.88s\n",
      "124:\tlearn: 0.5673467\ttest: 0.5954345\tbest: 0.5951760 (114)\ttotal: 839ms\tremaining: 5.87s\n",
      "125:\tlearn: 0.5671107\ttest: 0.5953787\tbest: 0.5951760 (114)\ttotal: 848ms\tremaining: 5.88s\n",
      "126:\tlearn: 0.5669320\ttest: 0.5953520\tbest: 0.5951760 (114)\ttotal: 854ms\tremaining: 5.87s\n",
      "127:\tlearn: 0.5665838\ttest: 0.5953535\tbest: 0.5951760 (114)\ttotal: 861ms\tremaining: 5.86s\n",
      "128:\tlearn: 0.5664269\ttest: 0.5953648\tbest: 0.5951760 (114)\ttotal: 868ms\tremaining: 5.86s\n",
      "129:\tlearn: 0.5662609\ttest: 0.5952668\tbest: 0.5951760 (114)\ttotal: 874ms\tremaining: 5.85s\n",
      "130:\tlearn: 0.5658809\ttest: 0.5951638\tbest: 0.5951638 (130)\ttotal: 880ms\tremaining: 5.84s\n",
      "131:\tlearn: 0.5658678\ttest: 0.5951800\tbest: 0.5951638 (130)\ttotal: 883ms\tremaining: 5.81s\n",
      "132:\tlearn: 0.5656559\ttest: 0.5951688\tbest: 0.5951638 (130)\ttotal: 891ms\tremaining: 5.81s\n",
      "133:\tlearn: 0.5654363\ttest: 0.5951987\tbest: 0.5951638 (130)\ttotal: 898ms\tremaining: 5.8s\n",
      "134:\tlearn: 0.5651469\ttest: 0.5951870\tbest: 0.5951638 (130)\ttotal: 905ms\tremaining: 5.8s\n",
      "135:\tlearn: 0.5648387\ttest: 0.5949709\tbest: 0.5949709 (135)\ttotal: 911ms\tremaining: 5.79s\n",
      "136:\tlearn: 0.5645666\ttest: 0.5948503\tbest: 0.5948503 (136)\ttotal: 919ms\tremaining: 5.79s\n",
      "137:\tlearn: 0.5641685\ttest: 0.5947860\tbest: 0.5947860 (137)\ttotal: 925ms\tremaining: 5.78s\n",
      "138:\tlearn: 0.5639842\ttest: 0.5947531\tbest: 0.5947531 (138)\ttotal: 932ms\tremaining: 5.77s\n",
      "139:\tlearn: 0.5639009\ttest: 0.5947542\tbest: 0.5947531 (138)\ttotal: 938ms\tremaining: 5.76s\n",
      "140:\tlearn: 0.5638198\ttest: 0.5947642\tbest: 0.5947531 (138)\ttotal: 944ms\tremaining: 5.75s\n",
      "141:\tlearn: 0.5636969\ttest: 0.5947015\tbest: 0.5947015 (141)\ttotal: 951ms\tremaining: 5.74s\n",
      "142:\tlearn: 0.5634647\ttest: 0.5946715\tbest: 0.5946715 (142)\ttotal: 957ms\tremaining: 5.74s\n",
      "143:\tlearn: 0.5632682\ttest: 0.5946052\tbest: 0.5946052 (143)\ttotal: 965ms\tremaining: 5.74s\n",
      "144:\tlearn: 0.5632155\ttest: 0.5947117\tbest: 0.5946052 (143)\ttotal: 969ms\tremaining: 5.72s\n",
      "145:\tlearn: 0.5629021\ttest: 0.5946095\tbest: 0.5946052 (143)\ttotal: 976ms\tremaining: 5.71s\n",
      "146:\tlearn: 0.5624046\ttest: 0.5945882\tbest: 0.5945882 (146)\ttotal: 983ms\tremaining: 5.7s\n",
      "147:\tlearn: 0.5620474\ttest: 0.5945123\tbest: 0.5945123 (147)\ttotal: 989ms\tremaining: 5.69s\n",
      "148:\tlearn: 0.5620168\ttest: 0.5944788\tbest: 0.5944788 (148)\ttotal: 995ms\tremaining: 5.68s\n",
      "149:\tlearn: 0.5616564\ttest: 0.5943401\tbest: 0.5943401 (149)\ttotal: 1s\tremaining: 5.69s\n",
      "150:\tlearn: 0.5615800\ttest: 0.5943624\tbest: 0.5943401 (149)\ttotal: 1.01s\tremaining: 5.68s\n",
      "151:\tlearn: 0.5612706\ttest: 0.5943928\tbest: 0.5943401 (149)\ttotal: 1.02s\tremaining: 5.68s\n",
      "152:\tlearn: 0.5609947\ttest: 0.5943562\tbest: 0.5943401 (149)\ttotal: 1.02s\tremaining: 5.68s\n",
      "153:\tlearn: 0.5606503\ttest: 0.5942668\tbest: 0.5942668 (153)\ttotal: 1.03s\tremaining: 5.67s\n",
      "154:\tlearn: 0.5606311\ttest: 0.5942449\tbest: 0.5942449 (154)\ttotal: 1.04s\tremaining: 5.66s\n",
      "155:\tlearn: 0.5603845\ttest: 0.5938626\tbest: 0.5938626 (155)\ttotal: 1.05s\tremaining: 5.66s\n",
      "156:\tlearn: 0.5603106\ttest: 0.5937255\tbest: 0.5937255 (156)\ttotal: 1.05s\tremaining: 5.65s\n",
      "157:\tlearn: 0.5599620\ttest: 0.5938788\tbest: 0.5937255 (156)\ttotal: 1.06s\tremaining: 5.64s\n",
      "158:\tlearn: 0.5597087\ttest: 0.5941171\tbest: 0.5937255 (156)\ttotal: 1.06s\tremaining: 5.63s\n",
      "159:\tlearn: 0.5595960\ttest: 0.5941566\tbest: 0.5937255 (156)\ttotal: 1.07s\tremaining: 5.62s\n",
      "160:\tlearn: 0.5595960\ttest: 0.5941566\tbest: 0.5937255 (156)\ttotal: 1.07s\tremaining: 5.61s\n",
      "161:\tlearn: 0.5593784\ttest: 0.5941387\tbest: 0.5937255 (156)\ttotal: 1.08s\tremaining: 5.6s\n",
      "162:\tlearn: 0.5591165\ttest: 0.5942818\tbest: 0.5937255 (156)\ttotal: 1.09s\tremaining: 5.59s\n",
      "163:\tlearn: 0.5588701\ttest: 0.5942674\tbest: 0.5937255 (156)\ttotal: 1.09s\tremaining: 5.58s\n",
      "164:\tlearn: 0.5587190\ttest: 0.5942506\tbest: 0.5937255 (156)\ttotal: 1.1s\tremaining: 5.58s\n",
      "165:\tlearn: 0.5584435\ttest: 0.5943077\tbest: 0.5937255 (156)\ttotal: 1.11s\tremaining: 5.57s\n",
      "166:\tlearn: 0.5582812\ttest: 0.5942992\tbest: 0.5937255 (156)\ttotal: 1.11s\tremaining: 5.56s\n",
      "167:\tlearn: 0.5579333\ttest: 0.5943897\tbest: 0.5937255 (156)\ttotal: 1.12s\tremaining: 5.56s\n",
      "168:\tlearn: 0.5574799\ttest: 0.5942879\tbest: 0.5937255 (156)\ttotal: 1.13s\tremaining: 5.55s\n",
      "169:\tlearn: 0.5571625\ttest: 0.5945066\tbest: 0.5937255 (156)\ttotal: 1.14s\tremaining: 5.54s\n",
      "170:\tlearn: 0.5568960\ttest: 0.5944493\tbest: 0.5937255 (156)\ttotal: 1.14s\tremaining: 5.53s\n",
      "171:\tlearn: 0.5566355\ttest: 0.5944327\tbest: 0.5937255 (156)\ttotal: 1.15s\tremaining: 5.53s\n",
      "172:\tlearn: 0.5563595\ttest: 0.5943366\tbest: 0.5937255 (156)\ttotal: 1.16s\tremaining: 5.52s\n",
      "173:\tlearn: 0.5561398\ttest: 0.5942342\tbest: 0.5937255 (156)\ttotal: 1.16s\tremaining: 5.52s\n",
      "174:\tlearn: 0.5556524\ttest: 0.5941969\tbest: 0.5937255 (156)\ttotal: 1.18s\tremaining: 5.54s\n",
      "175:\tlearn: 0.5554151\ttest: 0.5942396\tbest: 0.5937255 (156)\ttotal: 1.18s\tremaining: 5.53s\n",
      "176:\tlearn: 0.5552117\ttest: 0.5942688\tbest: 0.5937255 (156)\ttotal: 1.19s\tremaining: 5.52s\n",
      "177:\tlearn: 0.5549819\ttest: 0.5943192\tbest: 0.5937255 (156)\ttotal: 1.19s\tremaining: 5.51s\n",
      "178:\tlearn: 0.5546358\ttest: 0.5943445\tbest: 0.5937255 (156)\ttotal: 1.2s\tremaining: 5.51s\n",
      "179:\tlearn: 0.5543848\ttest: 0.5943548\tbest: 0.5937255 (156)\ttotal: 1.21s\tremaining: 5.51s\n",
      "180:\tlearn: 0.5539721\ttest: 0.5942367\tbest: 0.5937255 (156)\ttotal: 1.22s\tremaining: 5.5s\n",
      "181:\tlearn: 0.5538262\ttest: 0.5941786\tbest: 0.5937255 (156)\ttotal: 1.22s\tremaining: 5.5s\n",
      "182:\tlearn: 0.5536171\ttest: 0.5940787\tbest: 0.5937255 (156)\ttotal: 1.23s\tremaining: 5.5s\n",
      "183:\tlearn: 0.5531184\ttest: 0.5940765\tbest: 0.5937255 (156)\ttotal: 1.24s\tremaining: 5.49s\n",
      "184:\tlearn: 0.5529061\ttest: 0.5939999\tbest: 0.5937255 (156)\ttotal: 1.25s\tremaining: 5.49s\n",
      "185:\tlearn: 0.5526913\ttest: 0.5940571\tbest: 0.5937255 (156)\ttotal: 1.25s\tremaining: 5.48s\n",
      "186:\tlearn: 0.5524651\ttest: 0.5940945\tbest: 0.5937255 (156)\ttotal: 1.26s\tremaining: 5.48s\n",
      "187:\tlearn: 0.5522166\ttest: 0.5942644\tbest: 0.5937255 (156)\ttotal: 1.27s\tremaining: 5.47s\n",
      "188:\tlearn: 0.5519348\ttest: 0.5942898\tbest: 0.5937255 (156)\ttotal: 1.27s\tremaining: 5.47s\n",
      "189:\tlearn: 0.5517136\ttest: 0.5941544\tbest: 0.5937255 (156)\ttotal: 1.28s\tremaining: 5.46s\n",
      "190:\tlearn: 0.5513867\ttest: 0.5940619\tbest: 0.5937255 (156)\ttotal: 1.29s\tremaining: 5.46s\n",
      "191:\tlearn: 0.5512484\ttest: 0.5940418\tbest: 0.5937255 (156)\ttotal: 1.29s\tremaining: 5.45s\n",
      "192:\tlearn: 0.5512473\ttest: 0.5940417\tbest: 0.5937255 (156)\ttotal: 1.3s\tremaining: 5.43s\n",
      "193:\tlearn: 0.5509338\ttest: 0.5940229\tbest: 0.5937255 (156)\ttotal: 1.31s\tremaining: 5.43s\n",
      "194:\tlearn: 0.5507599\ttest: 0.5939736\tbest: 0.5937255 (156)\ttotal: 1.31s\tremaining: 5.42s\n",
      "195:\tlearn: 0.5504001\ttest: 0.5939775\tbest: 0.5937255 (156)\ttotal: 1.32s\tremaining: 5.41s\n",
      "196:\tlearn: 0.5502435\ttest: 0.5937074\tbest: 0.5937074 (196)\ttotal: 1.33s\tremaining: 5.41s\n",
      "197:\tlearn: 0.5501181\ttest: 0.5937552\tbest: 0.5937074 (196)\ttotal: 1.33s\tremaining: 5.39s\n",
      "198:\tlearn: 0.5499708\ttest: 0.5937533\tbest: 0.5937074 (196)\ttotal: 1.34s\tremaining: 5.39s\n",
      "199:\tlearn: 0.5497744\ttest: 0.5938803\tbest: 0.5937074 (196)\ttotal: 1.34s\tremaining: 5.38s\n",
      "200:\tlearn: 0.5494770\ttest: 0.5937443\tbest: 0.5937074 (196)\ttotal: 1.35s\tremaining: 5.37s\n",
      "201:\tlearn: 0.5489285\ttest: 0.5934755\tbest: 0.5934755 (201)\ttotal: 1.36s\tremaining: 5.36s\n",
      "202:\tlearn: 0.5486628\ttest: 0.5933966\tbest: 0.5933966 (202)\ttotal: 1.36s\tremaining: 5.36s\n",
      "203:\tlearn: 0.5483642\ttest: 0.5935736\tbest: 0.5933966 (202)\ttotal: 1.37s\tremaining: 5.35s\n",
      "204:\tlearn: 0.5480722\ttest: 0.5934501\tbest: 0.5933966 (202)\ttotal: 1.38s\tremaining: 5.35s\n",
      "205:\tlearn: 0.5477087\ttest: 0.5933185\tbest: 0.5933185 (205)\ttotal: 1.39s\tremaining: 5.34s\n",
      "206:\tlearn: 0.5474604\ttest: 0.5932505\tbest: 0.5932505 (206)\ttotal: 1.39s\tremaining: 5.34s\n",
      "207:\tlearn: 0.5470778\ttest: 0.5933165\tbest: 0.5932505 (206)\ttotal: 1.4s\tremaining: 5.33s\n",
      "208:\tlearn: 0.5467378\ttest: 0.5932885\tbest: 0.5932505 (206)\ttotal: 1.41s\tremaining: 5.33s\n",
      "209:\tlearn: 0.5464540\ttest: 0.5930542\tbest: 0.5930542 (209)\ttotal: 1.41s\tremaining: 5.32s\n",
      "210:\tlearn: 0.5460392\ttest: 0.5930767\tbest: 0.5930542 (209)\ttotal: 1.42s\tremaining: 5.31s\n",
      "211:\tlearn: 0.5458665\ttest: 0.5932467\tbest: 0.5930542 (209)\ttotal: 1.43s\tremaining: 5.32s\n",
      "212:\tlearn: 0.5457778\ttest: 0.5932898\tbest: 0.5930542 (209)\ttotal: 1.45s\tremaining: 5.35s\n",
      "213:\tlearn: 0.5455473\ttest: 0.5934344\tbest: 0.5930542 (209)\ttotal: 1.46s\tremaining: 5.34s\n",
      "214:\tlearn: 0.5452812\ttest: 0.5933088\tbest: 0.5930542 (209)\ttotal: 1.46s\tremaining: 5.34s\n",
      "215:\tlearn: 0.5449968\ttest: 0.5933242\tbest: 0.5930542 (209)\ttotal: 1.47s\tremaining: 5.33s\n",
      "216:\tlearn: 0.5445564\ttest: 0.5932129\tbest: 0.5930542 (209)\ttotal: 1.48s\tremaining: 5.33s\n",
      "217:\tlearn: 0.5443621\ttest: 0.5931198\tbest: 0.5930542 (209)\ttotal: 1.48s\tremaining: 5.32s\n",
      "218:\tlearn: 0.5442652\ttest: 0.5931093\tbest: 0.5930542 (209)\ttotal: 1.49s\tremaining: 5.31s\n",
      "219:\tlearn: 0.5440552\ttest: 0.5933544\tbest: 0.5930542 (209)\ttotal: 1.5s\tremaining: 5.3s\n",
      "220:\tlearn: 0.5438716\ttest: 0.5935041\tbest: 0.5930542 (209)\ttotal: 1.5s\tremaining: 5.3s\n",
      "221:\tlearn: 0.5436481\ttest: 0.5934474\tbest: 0.5930542 (209)\ttotal: 1.51s\tremaining: 5.29s\n",
      "222:\tlearn: 0.5434360\ttest: 0.5935120\tbest: 0.5930542 (209)\ttotal: 1.51s\tremaining: 5.28s\n",
      "223:\tlearn: 0.5430841\ttest: 0.5934587\tbest: 0.5930542 (209)\ttotal: 1.52s\tremaining: 5.28s\n",
      "224:\tlearn: 0.5425950\ttest: 0.5935913\tbest: 0.5930542 (209)\ttotal: 1.54s\tremaining: 5.29s\n",
      "225:\tlearn: 0.5423545\ttest: 0.5935503\tbest: 0.5930542 (209)\ttotal: 1.54s\tremaining: 5.29s\n",
      "226:\tlearn: 0.5419635\ttest: 0.5935860\tbest: 0.5930542 (209)\ttotal: 1.55s\tremaining: 5.28s\n",
      "227:\tlearn: 0.5416733\ttest: 0.5935904\tbest: 0.5930542 (209)\ttotal: 1.56s\tremaining: 5.28s\n",
      "228:\tlearn: 0.5413000\ttest: 0.5934814\tbest: 0.5930542 (209)\ttotal: 1.56s\tremaining: 5.27s\n",
      "229:\tlearn: 0.5408630\ttest: 0.5936062\tbest: 0.5930542 (209)\ttotal: 1.57s\tremaining: 5.26s\n",
      "230:\tlearn: 0.5406326\ttest: 0.5934904\tbest: 0.5930542 (209)\ttotal: 1.58s\tremaining: 5.26s\n",
      "231:\tlearn: 0.5402695\ttest: 0.5934347\tbest: 0.5930542 (209)\ttotal: 1.59s\tremaining: 5.25s\n",
      "232:\tlearn: 0.5399554\ttest: 0.5934403\tbest: 0.5930542 (209)\ttotal: 1.59s\tremaining: 5.25s\n",
      "233:\tlearn: 0.5397360\ttest: 0.5934602\tbest: 0.5930542 (209)\ttotal: 1.6s\tremaining: 5.24s\n",
      "234:\tlearn: 0.5394656\ttest: 0.5935845\tbest: 0.5930542 (209)\ttotal: 1.61s\tremaining: 5.24s\n",
      "235:\tlearn: 0.5393611\ttest: 0.5936234\tbest: 0.5930542 (209)\ttotal: 1.62s\tremaining: 5.23s\n",
      "236:\tlearn: 0.5391874\ttest: 0.5937219\tbest: 0.5930542 (209)\ttotal: 1.62s\tremaining: 5.23s\n",
      "237:\tlearn: 0.5389705\ttest: 0.5936624\tbest: 0.5930542 (209)\ttotal: 1.63s\tremaining: 5.22s\n",
      "238:\tlearn: 0.5388603\ttest: 0.5936519\tbest: 0.5930542 (209)\ttotal: 1.64s\tremaining: 5.21s\n",
      "239:\tlearn: 0.5384982\ttest: 0.5935434\tbest: 0.5930542 (209)\ttotal: 1.64s\tremaining: 5.21s\n",
      "240:\tlearn: 0.5382147\ttest: 0.5934820\tbest: 0.5930542 (209)\ttotal: 1.65s\tremaining: 5.2s\n",
      "241:\tlearn: 0.5376885\ttest: 0.5936596\tbest: 0.5930542 (209)\ttotal: 1.66s\tremaining: 5.19s\n",
      "242:\tlearn: 0.5373781\ttest: 0.5935011\tbest: 0.5930542 (209)\ttotal: 1.66s\tremaining: 5.18s\n",
      "243:\tlearn: 0.5370114\ttest: 0.5936132\tbest: 0.5930542 (209)\ttotal: 1.67s\tremaining: 5.18s\n",
      "244:\tlearn: 0.5367458\ttest: 0.5936891\tbest: 0.5930542 (209)\ttotal: 1.68s\tremaining: 5.17s\n",
      "245:\tlearn: 0.5365863\ttest: 0.5935535\tbest: 0.5930542 (209)\ttotal: 1.69s\tremaining: 5.17s\n",
      "246:\tlearn: 0.5362416\ttest: 0.5934734\tbest: 0.5930542 (209)\ttotal: 1.69s\tremaining: 5.16s\n",
      "247:\tlearn: 0.5359945\ttest: 0.5934207\tbest: 0.5930542 (209)\ttotal: 1.7s\tremaining: 5.16s\n",
      "248:\tlearn: 0.5356309\ttest: 0.5931342\tbest: 0.5930542 (209)\ttotal: 1.71s\tremaining: 5.17s\n",
      "249:\tlearn: 0.5353108\ttest: 0.5929839\tbest: 0.5929839 (249)\ttotal: 1.73s\tremaining: 5.18s\n",
      "250:\tlearn: 0.5350330\ttest: 0.5929408\tbest: 0.5929408 (250)\ttotal: 1.73s\tremaining: 5.17s\n",
      "251:\tlearn: 0.5347486\ttest: 0.5930342\tbest: 0.5929408 (250)\ttotal: 1.74s\tremaining: 5.16s\n",
      "252:\tlearn: 0.5345058\ttest: 0.5930545\tbest: 0.5929408 (250)\ttotal: 1.75s\tremaining: 5.16s\n",
      "253:\tlearn: 0.5341876\ttest: 0.5931574\tbest: 0.5929408 (250)\ttotal: 1.75s\tremaining: 5.15s\n",
      "254:\tlearn: 0.5340853\ttest: 0.5932396\tbest: 0.5929408 (250)\ttotal: 1.76s\tremaining: 5.14s\n",
      "255:\tlearn: 0.5339207\ttest: 0.5933469\tbest: 0.5929408 (250)\ttotal: 1.77s\tremaining: 5.14s\n",
      "256:\tlearn: 0.5337619\ttest: 0.5933850\tbest: 0.5929408 (250)\ttotal: 1.77s\tremaining: 5.13s\n",
      "257:\tlearn: 0.5336157\ttest: 0.5932304\tbest: 0.5929408 (250)\ttotal: 1.78s\tremaining: 5.13s\n",
      "258:\tlearn: 0.5334289\ttest: 0.5932857\tbest: 0.5929408 (250)\ttotal: 1.79s\tremaining: 5.12s\n",
      "259:\tlearn: 0.5331959\ttest: 0.5932961\tbest: 0.5929408 (250)\ttotal: 1.8s\tremaining: 5.12s\n",
      "260:\tlearn: 0.5330239\ttest: 0.5933542\tbest: 0.5929408 (250)\ttotal: 1.8s\tremaining: 5.11s\n",
      "261:\tlearn: 0.5327630\ttest: 0.5933756\tbest: 0.5929408 (250)\ttotal: 1.81s\tremaining: 5.11s\n",
      "262:\tlearn: 0.5324502\ttest: 0.5934618\tbest: 0.5929408 (250)\ttotal: 1.82s\tremaining: 5.1s\n",
      "263:\tlearn: 0.5322198\ttest: 0.5934657\tbest: 0.5929408 (250)\ttotal: 1.83s\tremaining: 5.09s\n",
      "264:\tlearn: 0.5319582\ttest: 0.5933648\tbest: 0.5929408 (250)\ttotal: 1.83s\tremaining: 5.08s\n",
      "265:\tlearn: 0.5316587\ttest: 0.5934898\tbest: 0.5929408 (250)\ttotal: 1.84s\tremaining: 5.08s\n",
      "266:\tlearn: 0.5313011\ttest: 0.5935102\tbest: 0.5929408 (250)\ttotal: 1.85s\tremaining: 5.07s\n",
      "267:\tlearn: 0.5310389\ttest: 0.5934657\tbest: 0.5929408 (250)\ttotal: 1.85s\tremaining: 5.06s\n",
      "268:\tlearn: 0.5307211\ttest: 0.5936382\tbest: 0.5929408 (250)\ttotal: 1.86s\tremaining: 5.05s\n",
      "269:\tlearn: 0.5305631\ttest: 0.5935810\tbest: 0.5929408 (250)\ttotal: 1.87s\tremaining: 5.05s\n",
      "270:\tlearn: 0.5301950\ttest: 0.5934195\tbest: 0.5929408 (250)\ttotal: 1.88s\tremaining: 5.04s\n",
      "271:\tlearn: 0.5297952\ttest: 0.5936580\tbest: 0.5929408 (250)\ttotal: 1.88s\tremaining: 5.04s\n",
      "272:\tlearn: 0.5296569\ttest: 0.5936779\tbest: 0.5929408 (250)\ttotal: 1.89s\tremaining: 5.03s\n",
      "273:\tlearn: 0.5294706\ttest: 0.5936882\tbest: 0.5929408 (250)\ttotal: 1.9s\tremaining: 5.03s\n",
      "274:\tlearn: 0.5292759\ttest: 0.5937125\tbest: 0.5929408 (250)\ttotal: 1.9s\tremaining: 5.02s\n",
      "275:\tlearn: 0.5290072\ttest: 0.5937481\tbest: 0.5929408 (250)\ttotal: 1.91s\tremaining: 5.01s\n",
      "276:\tlearn: 0.5286845\ttest: 0.5937236\tbest: 0.5929408 (250)\ttotal: 1.92s\tremaining: 5.01s\n",
      "277:\tlearn: 0.5283749\ttest: 0.5938251\tbest: 0.5929408 (250)\ttotal: 1.92s\tremaining: 5s\n",
      "278:\tlearn: 0.5281880\ttest: 0.5940026\tbest: 0.5929408 (250)\ttotal: 1.93s\tremaining: 4.99s\n",
      "279:\tlearn: 0.5278972\ttest: 0.5940585\tbest: 0.5929408 (250)\ttotal: 1.94s\tremaining: 4.99s\n",
      "280:\tlearn: 0.5275641\ttest: 0.5939503\tbest: 0.5929408 (250)\ttotal: 1.94s\tremaining: 4.97s\n",
      "281:\tlearn: 0.5273266\ttest: 0.5936924\tbest: 0.5929408 (250)\ttotal: 1.95s\tremaining: 4.97s\n",
      "282:\tlearn: 0.5270160\ttest: 0.5935857\tbest: 0.5929408 (250)\ttotal: 1.96s\tremaining: 4.96s\n",
      "283:\tlearn: 0.5269079\ttest: 0.5936615\tbest: 0.5929408 (250)\ttotal: 1.96s\tremaining: 4.95s\n",
      "284:\tlearn: 0.5264661\ttest: 0.5937424\tbest: 0.5929408 (250)\ttotal: 1.97s\tremaining: 4.95s\n",
      "285:\tlearn: 0.5262948\ttest: 0.5936790\tbest: 0.5929408 (250)\ttotal: 1.98s\tremaining: 4.94s\n",
      "286:\tlearn: 0.5259789\ttest: 0.5936943\tbest: 0.5929408 (250)\ttotal: 1.99s\tremaining: 4.93s\n",
      "287:\tlearn: 0.5257863\ttest: 0.5936736\tbest: 0.5929408 (250)\ttotal: 1.99s\tremaining: 4.93s\n",
      "288:\tlearn: 0.5256056\ttest: 0.5936894\tbest: 0.5929408 (250)\ttotal: 2s\tremaining: 4.92s\n",
      "289:\tlearn: 0.5252644\ttest: 0.5937704\tbest: 0.5929408 (250)\ttotal: 2.01s\tremaining: 4.91s\n",
      "290:\tlearn: 0.5249397\ttest: 0.5936516\tbest: 0.5929408 (250)\ttotal: 2.01s\tremaining: 4.91s\n",
      "Stopped by overfitting detector  (40 iterations wait)\n",
      "\n",
      "bestTest = 0.5929408362\n",
      "bestIteration = 250\n",
      "\n",
      "Shrink model to first 251 iterations.\n"
     ]
    },
    {
     "data": {
      "text/plain": [
       "<catboost.core.CatBoostClassifier at 0x7f203586f490>"
      ]
     },
     "execution_count": 21,
     "metadata": {},
     "output_type": "execute_result"
    }
   ],
   "source": [
    "model.fit(\n",
    "    X_train, y_train,\n",
    "    cat_features=category_columns,\n",
    "    eval_set=(X_valid, y_valid),\n",
    "    logging_level='Verbose',  # you can uncomment this for text output\n",
    ")"
   ]
  },
  {
   "cell_type": "code",
   "execution_count": 22,
   "metadata": {},
   "outputs": [
    {
     "data": {
      "text/plain": [
       "(array([2787.,    0.,    0.,    0.,    0.,    0.,    0.,    0.,    0.,\n",
       "        2571.]),\n",
       " array([0. , 0.1, 0.2, 0.3, 0.4, 0.5, 0.6, 0.7, 0.8, 0.9, 1. ]),\n",
       " <BarContainer object of 10 artists>)"
      ]
     },
     "execution_count": 22,
     "metadata": {},
     "output_type": "execute_result"
    },
    {
     "data": {
      "image/png": "[encoded data removed]",
      "text/plain": [
       "<Figure size 640x480 with 1 Axes>"
      ]
     },
     "metadata": {},
     "output_type": "display_data"
    }
   ],
   "source": [
    "plt.hist(y_train, label='train')"
   ]
  },
  {
   "cell_type": "code",
   "execution_count": 23,
   "metadata": {},
   "outputs": [
    {
     "data": {
      "image/png": "[encoded data removed]",
      "text/plain": [
       "<Figure size 640x480 with 1 Axes>"
      ]
     },
     "metadata": {},
     "output_type": "display_data"
    }
   ],
   "source": [
    "# predict proba histogram\n",
    "plt.hist(model.predict_proba(X_train)[:,1], label='train')\n",
    "plt.hist(model.predict_proba(X_valid)[:,1], label='valid')\n",
    "plt.hist(model.predict_proba(X_test)[:,1], label='test')\n",
    "plt.legend()\n",
    "plt.show()"
   ]
  },
  {
   "cell_type": "markdown",
   "metadata": {},
   "source": [
    "## evaluation by validation data"
   ]
  },
  {
   "cell_type": "markdown",
   "metadata": {},
   "source": [
    "### get optimal threshold with auroc curve"
   ]
  },
  {
   "cell_type": "code",
   "execution_count": 24,
   "metadata": {},
   "outputs": [
    {
     "data": {
      "text/plain": [
       "0.4671791588228435"
      ]
     },
     "execution_count": 24,
     "metadata": {},
     "output_type": "execute_result"
    }
   ],
   "source": [
    "from sklearn.metrics import roc_curve, auc\n",
    "# ROC 곡선 계산\n",
    "fpr, tpr, thresholds = roc_curve(y_valid, model.predict_proba(X_valid)[:,1])\n",
    "roc_auc = auc(fpr, tpr)\n",
    "\n",
    "# 최적의 임계값 찾기\n",
    "optimal_idx = np.argmax(tpr - fpr)\n",
    "optimal_threshold = thresholds[optimal_idx]\n",
    "optimal_threshold"
   ]
  },
  {
   "cell_type": "code",
   "execution_count": 25,
   "metadata": {},
   "outputs": [],
   "source": [
    "from sklearn.metrics import accuracy_score, roc_auc_score"
   ]
  },
  {
   "cell_type": "code",
   "execution_count": 26,
   "metadata": {},
   "outputs": [
    {
     "name": "stdout",
     "output_type": "stream",
     "text": [
      "acc: 0.6888, AUROC: 0.7507\n"
     ]
    }
   ],
   "source": [
    "acc = accuracy_score(y_valid, model.predict(X_valid))\n",
    "auroc = roc_auc_score(y_valid, model.predict_proba(X_valid)[:,1])\n",
    "\n",
    "print(f'acc: {acc:.4f}, AUROC: {auroc:.4f}')"
   ]
  },
  {
   "cell_type": "markdown",
   "metadata": {},
   "source": [
    "## understand the results"
   ]
  },
  {
   "cell_type": "markdown",
   "metadata": {},
   "source": [
    "### confusion matrix"
   ]
  },
  {
   "cell_type": "code",
   "execution_count": 27,
   "metadata": {},
   "outputs": [
    {
     "data": {
      "text/plain": [
       "<sklearn.metrics._plot.confusion_matrix.ConfusionMatrixDisplay at 0x7f2036d463b0>"
      ]
     },
     "execution_count": 27,
     "metadata": {},
     "output_type": "execute_result"
    },
    {
     "data": {
      "image/png": "[encoded data removed]",
      "text/plain": [
       "<Figure size 640x480 with 2 Axes>"
      ]
     },
     "metadata": {},
     "output_type": "display_data"
    }
   ],
   "source": [
    "from sklearn.metrics import confusion_matrix, ConfusionMatrixDisplay\n",
    "\n",
    "cmd = ConfusionMatrixDisplay(confusion_matrix(y_valid, model.predict(X_valid)))\n",
    "cmd.plot()"
   ]
  },
  {
   "cell_type": "markdown",
   "metadata": {},
   "source": [
    "### feature importance"
   ]
  },
  {
   "cell_type": "code",
   "execution_count": 28,
   "metadata": {},
   "outputs": [
    {
     "data": {
      "image/png": "[encoded data removed]",
      "text/plain": [
       "<Figure size 640x480 with 1 Axes>"
      ]
     },
     "metadata": {},
     "output_type": "display_data"
    }
   ],
   "source": [
    "sns.barplot( model.get_feature_importance())\n",
    "plt.xticks(ticks=range(len(X_train.columns)), \n",
    "           labels=X_train.columns, rotation=45)\n",
    "plt.show()"
   ]
  },
  {
   "cell_type": "markdown",
   "metadata": {},
   "source": [
    "## save submissions"
   ]
  },
  {
   "cell_type": "code",
   "execution_count": 29,
   "metadata": {},
   "outputs": [],
   "source": [
    "submission_df.prediction = model.predict_proba(test_tabular.drop(columns=['answerCode']))[:,1]"
   ]
  },
  {
   "cell_type": "code",
   "execution_count": 30,
   "metadata": {},
   "outputs": [],
   "source": [
    "from datetime import datetime as dt\n",
    "now = dt.strftime(dt.now(), '%y%m%d-%H%M%S')"
   ]
  },
  {
   "cell_type": "code",
   "execution_count": 31,
   "metadata": {},
   "outputs": [],
   "source": [
    "modelname = 'catBoost'\n",
    "result_dir = '../results/'\n",
    "submission_df.to_csv(os.path.join(result_dir, f'{modelname}-{auroc:.4f}-{now}.csv'), index=False)"
   ]
  },
  {
   "cell_type": "code",
   "execution_count": null,
   "metadata": {},
   "outputs": [],
   "source": []
  },
  {
   "cell_type": "code",
   "execution_count": null,
   "metadata": {},
   "outputs": [],
   "source": []
  }
 ],
 "metadata": {
  "kernelspec": {
   "display_name": ".dkt",
   "language": "python",
   "name": "python3"
  },
  "language_info": {
   "codemirror_mode": {
    "name": "ipython",
    "version": 3
   },
   "file_extension": ".py",
   "mimetype": "text/x-python",
   "name": "python",
   "nbconvert_exporter": "python",
   "pygments_lexer": "ipython3",
   "version": "3.10.4"
  }
 },
 "nbformat": 4,
 "nbformat_minor": 2
}
