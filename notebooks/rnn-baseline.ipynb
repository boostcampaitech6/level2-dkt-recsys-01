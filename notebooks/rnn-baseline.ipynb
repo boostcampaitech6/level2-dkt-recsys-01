{
 "cells": [
  {
   "cell_type": "markdown",
   "metadata": {},
   "source": [
    "# Simple RNN Baseline\n",
    "\n",
    "- Transformer 적용 이전, 성능의 원활한 비교를 위해 DNN baseline으로 RNN 모델을 빌드함\n",
    "- 간단한 구조로 구성"
   ]
  },
  {
   "cell_type": "code",
   "execution_count": 1,
   "metadata": {},
   "outputs": [],
   "source": [
    "import os, random\n",
    "from tqdm import tqdm\n",
    "\n",
    "import numpy as np\n",
    "import pandas as pd\n",
    "\n",
    "import matplotlib.pyplot as plt\n",
    "\n",
    "import torch\n",
    "import torch.nn as nn\n",
    "from torch.utils.data import Dataset, DataLoader\n",
    "\n",
    "plt.rcParams[\"font.family\"] = 'NanumGothic'"
   ]
  },
  {
   "cell_type": "code",
   "execution_count": 2,
   "metadata": {},
   "outputs": [],
   "source": [
    "# fix random seed\n",
    "seed = 42\n",
    "random.seed(seed)\n",
    "np.random.seed(seed)\n",
    "_ = torch.manual_seed(seed)"
   ]
  },
  {
   "cell_type": "markdown",
   "metadata": {},
   "source": [
    "# prep dataset, dataloader"
   ]
  },
  {
   "cell_type": "markdown",
   "metadata": {},
   "source": [
    "## label encoding"
   ]
  },
  {
   "cell_type": "code",
   "execution_count": 3,
   "metadata": {},
   "outputs": [],
   "source": [
    "from sklearn.preprocessing import LabelEncoder\n",
    "from collections import defaultdict\n",
    "\n",
    "train_df = pd.read_csv('../../data/train_data.csv')\n",
    "test_df = pd.read_csv('../../data/test_data.csv')\n",
    "\n",
    "class MultiLabelEncoder:\n",
    "    # 참고: https://stackoverflow.com/questions/24458645/label-encoding-across-multiple-columns-in-scikit-learn\n",
    "\n",
    "    def __init__(self, df):\n",
    "        # define encoder dict\n",
    "        self.d = defaultdict(LabelEncoder)\n",
    "        # Encoding the variable\n",
    "        for col in df.columns:\n",
    "            self.d[col] = self.d[col].fit(df[col])\n",
    "    \n",
    "    def encode(self, df):\n",
    "        return df.apply(lambda x: self.d[x.name].transform(x))\n",
    "\n",
    "    def decode(self, df):\n",
    "    # Inverse the encoded\n",
    "        return df.apply(lambda x: self.d[x.name].inverse_transform(x))\n",
    "\n",
    "category_cols = ['assessmentItemID', 'testId', 'KnowledgeTag']\n",
    "mle = MultiLabelEncoder(train_df[category_cols])"
   ]
  },
  {
   "cell_type": "markdown",
   "metadata": {},
   "source": [
    "## get sequences by user"
   ]
  },
  {
   "cell_type": "code",
   "execution_count": 4,
   "metadata": {},
   "outputs": [],
   "source": [
    "def get_sequence_by_user(df, features, max_length=512, train=True):\n",
    "    user_ids, inputs, masks, targets = [], [], [], []\n",
    "\n",
    "    for user_id in tqdm(df['userID'].unique()):\n",
    "\n",
    "        # get user data with user_id\n",
    "        user_data = df[df['userID'] == user_id]\n",
    "        # get additional info (previous label)\n",
    "        user_data = user_data.assign(previous_label=(user_data.answerCode.shift(1)+1).fillna(0).values)\n",
    "        # get sequence to numpy\n",
    "        sequence = user_data[features].to_numpy()\n",
    "        # get target data: last answerCode\n",
    "        target = user_data['answerCode'].values[-1]\n",
    "\n",
    "        # cut or pad sequences with max_length\n",
    "        if len(sequence) < max_length:\n",
    "            padding = np.zeros((max_length - len(sequence), sequence.shape[1]))\n",
    "            mask = np.vstack((padding, np.ones_like(sequence)))\n",
    "            sequence = np.vstack((padding, sequence))\n",
    "        else:\n",
    "            sequence = sequence[-max_length:]\n",
    "            mask = np.ones((max_length, sequence.shape[1]))\n",
    "        \n",
    "        user_ids.append(user_id)\n",
    "        inputs.append(sequence)\n",
    "        masks.append(mask)\n",
    "        targets.append(target)\n",
    "\n",
    "    return np.array(user_ids), np.array(inputs), np.array(masks), np.array(targets)"
   ]
  },
  {
   "cell_type": "markdown",
   "metadata": {},
   "source": [
    "## dataset"
   ]
  },
  {
   "cell_type": "code",
   "execution_count": 5,
   "metadata": {},
   "outputs": [],
   "source": [
    "def get_data(data_path, mle, category_cols, features, max_length, train=True):\n",
    "    # read data\n",
    "    df = pd.read_csv(data_path)\n",
    "    # preprocess\n",
    "    # label encoding\n",
    "    df_encoded = mle.encode(df[category_cols])\n",
    "    df = pd.concat([df.drop(category_cols, axis=1), df_encoded], axis=1)\n",
    "\n",
    "    # sequence\n",
    "    return get_sequence_by_user(df, features, max_length, train)"
   ]
  },
  {
   "cell_type": "code",
   "execution_count": 6,
   "metadata": {},
   "outputs": [
    {
     "name": "stderr",
     "output_type": "stream",
     "text": [
      "100%|██████████| 6698/6698 [00:32<00:00, 208.28it/s]\n",
      "100%|██████████| 744/744 [00:01<00:00, 408.90it/s]\n"
     ]
    }
   ],
   "source": [
    "train_path = '../../data/train_data.csv'\n",
    "test_path = '../../data/test_data.csv'\n",
    "features = ['assessmentItemID','testId','KnowledgeTag', 'previous_label']\n",
    "max_length = 512\n",
    "\n",
    "train_data = get_data(train_path, mle, category_cols, features, max_length, train=True)\n",
    "test_data = get_data(test_path, mle, category_cols, features, max_length, train=False)"
   ]
  },
  {
   "cell_type": "markdown",
   "metadata": {},
   "source": [
    "## split"
   ]
  },
  {
   "cell_type": "code",
   "execution_count": 7,
   "metadata": {},
   "outputs": [],
   "source": [
    "from sklearn.model_selection import train_test_split\n",
    "\n",
    "def train_val_split(user_ids, X, masks, target, train_size=.8):\n",
    "    # split index and target\n",
    "    train_index, valid_index, train_y, valid_y = train_test_split(\n",
    "        range(target.shape[0]), target, train_size=.8, stratify=target)\n",
    "    # split X\n",
    "    train_X, valid_X = X[train_index], X[valid_index]\n",
    "    # split masks\n",
    "    train_masks, valid_masks = masks[train_index], masks[valid_index]\n",
    "    # split users\n",
    "    train_users, valid_users = user_ids[train_index], user_ids[valid_index]\n",
    "\n",
    "    return (train_users, train_X, train_masks, train_y), (valid_users, valid_X, valid_masks, valid_y)"
   ]
  },
  {
   "cell_type": "code",
   "execution_count": 8,
   "metadata": {},
   "outputs": [],
   "source": [
    "train_data, valid_data = train_val_split(*train_data)"
   ]
  },
  {
   "cell_type": "markdown",
   "metadata": {},
   "source": [
    "## prep dataset"
   ]
  },
  {
   "cell_type": "code",
   "execution_count": 9,
   "metadata": {},
   "outputs": [],
   "source": [
    "class SimpleSequenceDKTDataset(Dataset):\n",
    "    def __init__(self, user_ids, X, mask, y=None, max_length=512, train=True):\n",
    "        super().__init__()\n",
    "        self.train = train\n",
    "\n",
    "        self.user_ids = user_ids\n",
    "        self.X = X\n",
    "        self.mask = mask\n",
    "        if self.train:\n",
    "            self.y = y\n",
    "    \n",
    "    def __len__(self):\n",
    "        return len(self.user_ids)\n",
    "    \n",
    "    def __getitem__(self, index):\n",
    "        item = {'user_id': self.user_ids[index]}\n",
    "        item['X'] = self.X[index]\n",
    "        item['mask'] = self.mask[index]\n",
    "        if self.train:\n",
    "            item['y'] = self.y[index]\n",
    "        return item\n",
    "    \n",
    "    def get_user_ids(self):\n",
    "        return self.user_ids"
   ]
  },
  {
   "cell_type": "code",
   "execution_count": 10,
   "metadata": {},
   "outputs": [
    {
     "data": {
      "text/plain": [
       "(5358, 1340, 744)"
      ]
     },
     "execution_count": 10,
     "metadata": {},
     "output_type": "execute_result"
    }
   ],
   "source": [
    "train_dataset = SimpleSequenceDKTDataset(*train_data)\n",
    "valid_dataset = SimpleSequenceDKTDataset(*valid_data)\n",
    "test_dataset = SimpleSequenceDKTDataset(*test_data, train=False)\n",
    "len(train_dataset), len(valid_dataset), len(test_dataset)"
   ]
  },
  {
   "cell_type": "markdown",
   "metadata": {},
   "source": [
    "## dataloader"
   ]
  },
  {
   "cell_type": "code",
   "execution_count": 11,
   "metadata": {},
   "outputs": [],
   "source": [
    "batch_size = 128\n",
    "train_dataloader = DataLoader(train_dataset, batch_size, shuffle=True)\n",
    "valid_dataloader = DataLoader(valid_dataset, batch_size, shuffle=True)\n",
    "test_dataloader = DataLoader(test_dataset, batch_size)"
   ]
  },
  {
   "cell_type": "markdown",
   "metadata": {},
   "source": [
    "# Modeling"
   ]
  },
  {
   "cell_type": "code",
   "execution_count": 12,
   "metadata": {},
   "outputs": [],
   "source": [
    "cat_size = len(features[:-1])\n",
    "cat_emb_size = [len(mle.d[feature].classes_) for feature in features[:-1]]\n",
    "num_size = 1"
   ]
  },
  {
   "cell_type": "code",
   "execution_count": 13,
   "metadata": {},
   "outputs": [],
   "source": [
    "class SimpleRNNModel(nn.Module):\n",
    "\n",
    "    def __init__(self, features, cat_size, num_size, cat_emb_size, hdim, activation_f):\n",
    "        super().__init__()\n",
    "        # for categorical data\n",
    "        self.embedding = nn.Embedding(sum(cat_emb_size)+cat_size, hdim, dtype=torch.float32)\n",
    "        self.cat_linear = nn.Linear(hdim*cat_size, hdim//2, dtype=torch.float32)\n",
    "        self.cat_layernorm = nn.LayerNorm(hdim//2)\n",
    "        # for continuous data\n",
    "        self.cont_linear = nn.Linear(num_size, hdim//2, dtype=torch.float32)\n",
    "        self.cont_layernorm = nn.LayerNorm(hdim//2)\n",
    "        # rnn cell\n",
    "        self.rnn_cell = nn.RNNCell(hdim, hdim, activation_f, dtype=torch.float32)\n",
    "        self.last_layer = nn.Linear(hdim, 1, dtype=torch.float32)\n",
    "\n",
    "    def init_params(self):\n",
    "        # rnn\n",
    "        nn.init.kaiming_uniform_(self.rnn_cell.weight_ih)\n",
    "        nn.init.kaiming_uniform_(self.rnn_cell.weight_hh)\n",
    "        nn.init.zeros_(self.rnn_cell.bias_ih)\n",
    "        nn.init.zeros_(self.rnn_cell.bias_hh)\n",
    "        # last layer\n",
    "        nn.init.kaiming_uniform_(self.last_layer.weights)\n",
    "        nn.init.zeros_(self.last_layer.bias)\n",
    "\n",
    "    def forward(self, x):\n",
    "        x, mask = x\n",
    "        batch_size, seq_len, _ = x.size()\n",
    "\n",
    "        # categorical data embedding\n",
    "        offset = x.new_tensor(np.array([0, *np.cumsum(cat_emb_size)[:-1]])) + 1\n",
    "        x_cat = (x[:,:,:-1] + offset).mul(mask[:,:,:-1])\n",
    "        x_cat = self.embedding(x_cat.int()).view(batch_size, seq_len, -1)\n",
    "        x_cat = self.cat_linear(x_cat)\n",
    "        x_cat = self.cat_layernorm(x_cat)\n",
    "\n",
    "        # continuous\n",
    "        x_cont = x[:,:,-1].view(batch_size, seq_len, -1)\n",
    "        x_cont = self.cont_linear(x_cont)\n",
    "        x_cont = self.cont_layernorm(x_cont)\n",
    "\n",
    "        # concat data\n",
    "        x_concat = torch.concat([x_cat, x_cont], dim=-1)\n",
    "\n",
    "        rnn_hidden = torch.rand(batch_size, self.rnn_cell.hidden_size, \n",
    "            dtype=torch.float32).to(device)\n",
    "        \n",
    "        for e in range(seq_len):\n",
    "            rnn_hidden = self.rnn_cell(x_concat[:, e, :], rnn_hidden)\n",
    "\n",
    "        output = self.last_layer(rnn_hidden)\n",
    "        \n",
    "        return output"
   ]
  },
  {
   "cell_type": "code",
   "execution_count": 14,
   "metadata": {},
   "outputs": [],
   "source": [
    "learning_rate = 1e-1\n",
    "T_max = 10\n",
    "eta_min = 0\n",
    "\n",
    "seqlen = 512\n",
    "input_feature = 4\n",
    "hdim = 16"
   ]
  },
  {
   "cell_type": "code",
   "execution_count": 15,
   "metadata": {},
   "outputs": [],
   "source": [
    "# # at beginning of the script\n",
    "# device = torch.device('cpu')\n",
    "device = torch.device(\"cuda:0\" if torch.cuda.is_available() else \"cpu\")\n",
    "\n",
    "model = SimpleRNNModel(features, cat_size, num_size, cat_emb_size, hdim, 'tanh').to(device)\n",
    "\n",
    "loss_f = nn.BCEWithLogitsLoss().to(device)\n",
    "adamw = torch.optim.AdamW(model.parameters(), lr=learning_rate)\n",
    "lr_schedular = torch.optim.lr_scheduler.CosineAnnealingLR(adamw, T_max=T_max, eta_min=eta_min)"
   ]
  },
  {
   "cell_type": "code",
   "execution_count": 16,
   "metadata": {},
   "outputs": [],
   "source": [
    "from copy import deepcopy\n",
    "from sklearn.metrics import roc_auc_score\n",
    "\n",
    "def train_step(model, loss_f, train_dataloader, adamw, scheduler, device):\n",
    "    loss_sum, auc_sum = 0, 0\n",
    "\n",
    "    for iter, data in enumerate(train_dataloader):\n",
    "\n",
    "        X, y = data['X'].float().to(device), data['y'].view(data['y'].size(0), 1).float().to(device)\n",
    "        mask = data['mask'].float().to(device)\n",
    "    \n",
    "        pred = model((X, mask))\n",
    "        loss = loss_f(pred, y)\n",
    "        \n",
    "        adamw.zero_grad()\n",
    "        loss.backward()\n",
    "        adamw.step()\n",
    "\n",
    "        auc_sum += roc_auc_score(y.detach().cpu().numpy(), (torch.sigmoid(pred).detach().cpu().numpy()>=0.5).astype(int))\n",
    "        loss_sum += loss.item()\n",
    "    \n",
    "    scheduler.step()\n",
    "    \n",
    "    return loss_sum/len(train_dataloader), auc_sum/len(train_dataloader)\n",
    "\n",
    "def valid_step(model, loss_f, valid_dataloader, device):\n",
    "    loss_sum = 0\n",
    "    auc_sum = 0\n",
    "    targets, preds = [], []\n",
    "\n",
    "    for iter, data in enumerate(valid_dataloader):\n",
    "        X, y = data['X'].float().to(device), data['y'].view(data['y'].size(0), 1).float().to(device)\n",
    "        mask = data['mask'].float().to(device)\n",
    "        pred = model((X, mask))\n",
    "        \n",
    "        loss = loss_f(pred, y)\n",
    "\n",
    "        auc_sum += roc_auc_score(y.detach().cpu().numpy(), (torch.sigmoid(pred).detach().cpu().numpy()>=0.5).astype(int))\n",
    "        loss_sum += loss.item()\n",
    "\n",
    "        targets.extend(data['y'].detach().numpy())\n",
    "        preds.extend(torch.sigmoid(pred).detach().cpu().numpy())\n",
    "        \n",
    "    return targets, preds, loss_sum/len(valid_dataloader), auc_sum/len(valid_dataloader)"
   ]
  },
  {
   "cell_type": "code",
   "execution_count": 17,
   "metadata": {},
   "outputs": [
    {
     "name": "stdout",
     "output_type": "stream",
     "text": [
      "[0 epochs] train_loss: 0.6767, valid_loss: 0.6087, train_auc: 0.5869, valid_auc: 0.6701\n",
      "[1 epochs] train_loss: 0.5938, valid_loss: 0.6139, train_auc: 0.6912, valid_auc: 0.6702\n",
      "[2 epochs] train_loss: 0.5687, valid_loss: 0.6028, train_auc: 0.7142, valid_auc: 0.6857\n",
      "[3 epochs] train_loss: 0.5456, valid_loss: 0.6164, train_auc: 0.7334, valid_auc: 0.6988\n",
      "[4 epochs] train_loss: 0.5277, valid_loss: 0.5914, train_auc: 0.7465, valid_auc: 0.6781\n",
      "[5 epochs] train_loss: 0.5156, valid_loss: 0.6221, train_auc: 0.7532, valid_auc: 0.6684\n",
      "[6 epochs] train_loss: 0.5048, valid_loss: 0.6077, train_auc: 0.7581, valid_auc: 0.6797\n",
      "[7 epochs] train_loss: 0.4929, valid_loss: 0.6302, train_auc: 0.7700, valid_auc: 0.6777\n",
      "[8 epochs] train_loss: 0.4759, valid_loss: 0.6179, train_auc: 0.7764, valid_auc: 0.6986\n",
      "[9 epochs] train_loss: 0.4628, valid_loss: 0.6198, train_auc: 0.7847, valid_auc: 0.6872\n",
      "[10 epochs] train_loss: 0.4559, valid_loss: 0.6226, train_auc: 0.7897, valid_auc: 0.6916\n",
      "[11 epochs] train_loss: 0.4563, valid_loss: 0.6174, train_auc: 0.7893, valid_auc: 0.6861\n",
      "[12 epochs] train_loss: 0.4569, valid_loss: 0.6324, train_auc: 0.7891, valid_auc: 0.6828\n",
      "[13 epochs] train_loss: 0.4704, valid_loss: 0.6389, train_auc: 0.7790, valid_auc: 0.6773\n",
      "[14 epochs] train_loss: 0.4823, valid_loss: 0.6268, train_auc: 0.7701, valid_auc: 0.6810\n",
      "early stopped at 14 epoch\n"
     ]
    }
   ],
   "source": [
    "epochs = 30\n",
    "best_auc, best_epochs = 0, 0\n",
    "least_loss, patience, num = 1e+9, 10, 0\n",
    "best_model = None\n",
    "\n",
    "for e in range(epochs):\n",
    "\n",
    "    train_loss, train_auc = train_step(model, loss_f, train_dataloader, adamw, lr_schedular, device)\n",
    "    _, _, valid_loss, valid_auc = valid_step(model, loss_f, valid_dataloader, device)\n",
    "\n",
    "    if best_auc < valid_auc:\n",
    "        best_auc, best_epochs = valid_auc, e\n",
    "        best_model = deepcopy(model.state_dict())\n",
    "\n",
    "    print(f'[{e} epochs] train_loss: {train_loss:.4f}, valid_loss: {valid_loss:.4f}, train_auc: {train_auc:.4f}, valid_auc: {valid_auc:.4f}')\n",
    "    \n",
    "    if valid_loss < least_loss:\n",
    "        least_loss, num = valid_loss, 0\n",
    "    else:\n",
    "        num += 1\n",
    "        if num >= patience:\n",
    "            print(f'early stopped at {e} epoch')\n",
    "            break"
   ]
  },
  {
   "cell_type": "code",
   "execution_count": 18,
   "metadata": {},
   "outputs": [
    {
     "data": {
      "text/plain": [
       "(0.6987918758704563, 3, 0.7497908939301835, 0.7006010379213227)"
      ]
     },
     "execution_count": 18,
     "metadata": {},
     "output_type": "execute_result"
    }
   ],
   "source": [
    "model.load_state_dict(best_model)\n",
    "targets, preds, valid_loss, valid_auc = valid_step(model, loss_f, valid_dataloader, device)\n",
    "_, _, train_loss, train_auc = valid_step(model, loss_f, train_dataloader, device)\n",
    "best_auc, best_epochs, train_auc, valid_auc"
   ]
  },
  {
   "cell_type": "code",
   "execution_count": 19,
   "metadata": {},
   "outputs": [
    {
     "data": {
      "text/plain": [
       "array([[544, 154],\n",
       "       [249, 393]])"
      ]
     },
     "execution_count": 19,
     "metadata": {},
     "output_type": "execute_result"
    }
   ],
   "source": [
    "from sklearn.metrics import confusion_matrix\n",
    "confusion_matrix(targets, np.array(preds) > 0.5)"
   ]
  },
  {
   "cell_type": "code",
   "execution_count": 20,
   "metadata": {},
   "outputs": [],
   "source": [
    "# test auc\n",
    "def test_step(model, loss_f, test_dataloader, device):\n",
    "    user_ids, test_pred_proba = [], []\n",
    "\n",
    "    for iter, data in enumerate(test_dataloader):\n",
    "        X = data['X'].float().to(device)\n",
    "        mask = data['mask'].float().to(device)\n",
    "        pred = model((X, mask))\n",
    "\n",
    "        user_ids.extend(data['user_id'].detach().numpy())\n",
    "        test_pred_proba.extend(torch.sigmoid(pred).detach().cpu().numpy())\n",
    "        \n",
    "    return user_ids, test_pred_proba"
   ]
  },
  {
   "cell_type": "code",
   "execution_count": 21,
   "metadata": {},
   "outputs": [],
   "source": [
    "user_ids, test_pred_proba = test_step(model, loss_f, test_dataloader, device)"
   ]
  },
  {
   "cell_type": "code",
   "execution_count": 22,
   "metadata": {},
   "outputs": [],
   "source": [
    "submission_df = pd.read_csv('../../data/sample_submission.csv')\n",
    "submission_df.prediction = np.array(test_pred_proba)"
   ]
  },
  {
   "cell_type": "code",
   "execution_count": 23,
   "metadata": {},
   "outputs": [],
   "source": [
    "from datetime import datetime as dt\n",
    "result_dir = '../results/'\n",
    "now = dt.strftime(dt.now(), '%y%m%d-%H%M%S')\n",
    "modelname = 'rnn'\n",
    "savename = f'{modelname}_{now}_{valid_auc:.4f}.csv'\n",
    "submission_df.to_csv(os.path.join(result_dir, savename), index=False)"
   ]
  }
 ],
 "metadata": {
  "kernelspec": {
   "display_name": ".dkt",
   "language": "python",
   "name": "python3"
  },
  "language_info": {
   "codemirror_mode": {
    "name": "ipython",
    "version": 3
   },
   "file_extension": ".py",
   "mimetype": "text/x-python",
   "name": "python",
   "nbconvert_exporter": "python",
   "pygments_lexer": "ipython3",
   "version": "3.10.4"
  }
 },
 "nbformat": 4,
 "nbformat_minor": 2
}
