{
 "cells": [
  {
   "cell_type": "markdown",
   "metadata": {},
   "source": [
    "# GBDT baselines\n",
    "\n",
    "- 작성일: 240108\n",
    "- 작성자: 이주연\n",
    "\n",
    "특이 사항\n",
    "- 평가 데이터를 학습/평가 데이터 전처리에 사용함\n",
    "- user, tag, item, test의 평균 정답률을 agg하여 사용함. 단 agg 시 label 데이터를 포함하지 않고 진행함.\n",
    "- hyperparameter tuning 전혀 없이 default setting으로 진행. 단, categorical data는 명시."
   ]
  },
  {
   "cell_type": "code",
   "execution_count": 1,
   "metadata": {},
   "outputs": [],
   "source": [
    "import os, random\n",
    "from datetime import datetime as dt\n",
    "from string import ascii_lowercase\n",
    "\n",
    "import numpy as np\n",
    "import pandas as pd\n",
    "\n",
    "import matplotlib.pyplot as plt\n",
    "import seaborn as sns\n",
    "\n",
    "import wandb\n",
    "\n",
    "plt.rcParams[\"font.family\"] = 'NanumGothic'"
   ]
  },
  {
   "cell_type": "code",
   "execution_count": 2,
   "metadata": {},
   "outputs": [
    {
     "data": {
      "text/plain": [
       "'XGBoost_240109-030628_zvsaw'"
      ]
     },
     "execution_count": 2,
     "metadata": {},
     "output_type": "execute_result"
    }
   ],
   "source": [
    "# project config\n",
    "projectname = \"dkt-gbdt\"\n",
    "\n",
    "# run config\n",
    "modelname = input('input model name (XGBoost, LightGBM, CatBoost): ') # XGBoost, LightGBM, CatBoost\n",
    "now = dt.strftime(dt.now(), '%y%m%d-%H%M%S')\n",
    "randomcode = \"\".join(random.choices(ascii_lowercase, k=5)) # before fix random seed\n",
    "runname = f'{modelname}_{now}_{randomcode}'\n",
    "runname"
   ]
  },
  {
   "cell_type": "code",
   "execution_count": 3,
   "metadata": {},
   "outputs": [],
   "source": [
    "seed = 42\n",
    "random.seed(seed)\n",
    "np.random.seed(seed)"
   ]
  },
  {
   "cell_type": "markdown",
   "metadata": {},
   "source": [
    "### data load"
   ]
  },
  {
   "cell_type": "code",
   "execution_count": 4,
   "metadata": {},
   "outputs": [],
   "source": [
    "data_dir = '../../dkt/data'"
   ]
  },
  {
   "cell_type": "code",
   "execution_count": 5,
   "metadata": {},
   "outputs": [
    {
     "data": {
      "text/plain": [
       "((2266586, 6), (260114, 6))"
      ]
     },
     "execution_count": 5,
     "metadata": {},
     "output_type": "execute_result"
    }
   ],
   "source": [
    "train_df = pd.read_csv(os.path.join(data_dir, 'train_data.csv'))\n",
    "test_df = pd.read_csv(os.path.join(data_dir, 'test_data.csv'))\n",
    "submission_df = pd.read_csv(os.path.join(data_dir, 'sample_submission.csv'))\n",
    "\n",
    "train_df.shape, test_df.shape"
   ]
  },
  {
   "cell_type": "markdown",
   "metadata": {},
   "source": [
    "## preprocessing"
   ]
  },
  {
   "cell_type": "code",
   "execution_count": 6,
   "metadata": {},
   "outputs": [],
   "source": [
    "# drop Timestamp\n",
    "train_df = train_df.drop(columns=['Timestamp'])\n",
    "test_df = test_df.drop(columns=['Timestamp'])"
   ]
  },
  {
   "cell_type": "code",
   "execution_count": 7,
   "metadata": {},
   "outputs": [
    {
     "data": {
      "text/plain": [
       "Index(['userID', 'assessmentItemID', 'testId', 'answerCode', 'KnowledgeTag'], dtype='object')"
      ]
     },
     "execution_count": 7,
     "metadata": {},
     "output_type": "execute_result"
    }
   ],
   "source": [
    "# split label\n",
    "train_label = train_df.drop_duplicates(subset=['userID'], keep='last')\n",
    "test_label = test_df.drop_duplicates(subset=['userID'], keep='last')\n",
    "\n",
    "# drop labels\n",
    "train_df = train_df.drop(index=train_label.index)\n",
    "test_df = test_df.drop(index=test_label.index)\n",
    "base_df = pd.concat([train_df, test_df], axis=0)\n",
    "\n",
    "base_df.columns"
   ]
  },
  {
   "cell_type": "markdown",
   "metadata": {},
   "source": [
    "### aggregation"
   ]
  },
  {
   "cell_type": "code",
   "execution_count": 8,
   "metadata": {},
   "outputs": [
    {
     "data": {
      "text/html": [
       "<div>\n",
       "<style scoped>\n",
       "    .dataframe tbody tr th:only-of-type {\n",
       "        vertical-align: middle;\n",
       "    }\n",
       "\n",
       "    .dataframe tbody tr th {\n",
       "        vertical-align: top;\n",
       "    }\n",
       "\n",
       "    .dataframe thead th {\n",
       "        text-align: right;\n",
       "    }\n",
       "</style>\n",
       "<table border=\"1\" class=\"dataframe\">\n",
       "  <thead>\n",
       "    <tr style=\"text-align: right;\">\n",
       "      <th></th>\n",
       "      <th>avg_acc</th>\n",
       "      <th>total_test</th>\n",
       "    </tr>\n",
       "    <tr>\n",
       "      <th>userID</th>\n",
       "      <th></th>\n",
       "      <th></th>\n",
       "    </tr>\n",
       "  </thead>\n",
       "  <tbody>\n",
       "    <tr>\n",
       "      <th>0</th>\n",
       "      <td>0.631720</td>\n",
       "      <td>744</td>\n",
       "    </tr>\n",
       "    <tr>\n",
       "      <th>1</th>\n",
       "      <td>0.853004</td>\n",
       "      <td>932</td>\n",
       "    </tr>\n",
       "    <tr>\n",
       "      <th>2</th>\n",
       "      <td>0.614545</td>\n",
       "      <td>275</td>\n",
       "    </tr>\n",
       "    <tr>\n",
       "      <th>3</th>\n",
       "      <td>0.692754</td>\n",
       "      <td>1035</td>\n",
       "    </tr>\n",
       "    <tr>\n",
       "      <th>4</th>\n",
       "      <td>0.694030</td>\n",
       "      <td>670</td>\n",
       "    </tr>\n",
       "  </tbody>\n",
       "</table>\n",
       "</div>"
      ],
      "text/plain": [
       "         avg_acc  total_test\n",
       "userID                      \n",
       "0       0.631720         744\n",
       "1       0.853004         932\n",
       "2       0.614545         275\n",
       "3       0.692754        1035\n",
       "4       0.694030         670"
      ]
     },
     "execution_count": 8,
     "metadata": {},
     "output_type": "execute_result"
    }
   ],
   "source": [
    "# agg\n",
    "base_user_agg = base_df.groupby('userID').agg(\n",
    "    avg_acc=('answerCode','mean'), \n",
    "    total_test=('answerCode','count'),\n",
    ")\n",
    "base_user_agg.head()"
   ]
  },
  {
   "cell_type": "code",
   "execution_count": 9,
   "metadata": {},
   "outputs": [
    {
     "data": {
      "text/html": [
       "<div>\n",
       "<style scoped>\n",
       "    .dataframe tbody tr th:only-of-type {\n",
       "        vertical-align: middle;\n",
       "    }\n",
       "\n",
       "    .dataframe tbody tr th {\n",
       "        vertical-align: top;\n",
       "    }\n",
       "\n",
       "    .dataframe thead th {\n",
       "        text-align: right;\n",
       "    }\n",
       "</style>\n",
       "<table border=\"1\" class=\"dataframe\">\n",
       "  <thead>\n",
       "    <tr style=\"text-align: right;\">\n",
       "      <th></th>\n",
       "      <th>tag_acc</th>\n",
       "    </tr>\n",
       "    <tr>\n",
       "      <th>KnowledgeTag</th>\n",
       "      <th></th>\n",
       "    </tr>\n",
       "  </thead>\n",
       "  <tbody>\n",
       "    <tr>\n",
       "      <th>23</th>\n",
       "      <td>0.592593</td>\n",
       "    </tr>\n",
       "    <tr>\n",
       "      <th>24</th>\n",
       "      <td>0.625000</td>\n",
       "    </tr>\n",
       "    <tr>\n",
       "      <th>25</th>\n",
       "      <td>0.850000</td>\n",
       "    </tr>\n",
       "    <tr>\n",
       "      <th>26</th>\n",
       "      <td>0.611193</td>\n",
       "    </tr>\n",
       "    <tr>\n",
       "      <th>30</th>\n",
       "      <td>0.530000</td>\n",
       "    </tr>\n",
       "  </tbody>\n",
       "</table>\n",
       "</div>"
      ],
      "text/plain": [
       "               tag_acc\n",
       "KnowledgeTag          \n",
       "23            0.592593\n",
       "24            0.625000\n",
       "25            0.850000\n",
       "26            0.611193\n",
       "30            0.530000"
      ]
     },
     "execution_count": 9,
     "metadata": {},
     "output_type": "execute_result"
    }
   ],
   "source": [
    "base_tag_agg = base_df.groupby('KnowledgeTag').agg(tag_acc=('answerCode','mean'))\n",
    "base_tag_agg.head()"
   ]
  },
  {
   "cell_type": "code",
   "execution_count": 10,
   "metadata": {},
   "outputs": [
    {
     "data": {
      "text/html": [
       "<div>\n",
       "<style scoped>\n",
       "    .dataframe tbody tr th:only-of-type {\n",
       "        vertical-align: middle;\n",
       "    }\n",
       "\n",
       "    .dataframe tbody tr th {\n",
       "        vertical-align: top;\n",
       "    }\n",
       "\n",
       "    .dataframe thead th {\n",
       "        text-align: right;\n",
       "    }\n",
       "</style>\n",
       "<table border=\"1\" class=\"dataframe\">\n",
       "  <thead>\n",
       "    <tr style=\"text-align: right;\">\n",
       "      <th></th>\n",
       "      <th>item_acc</th>\n",
       "    </tr>\n",
       "    <tr>\n",
       "      <th>assessmentItemID</th>\n",
       "      <th></th>\n",
       "    </tr>\n",
       "  </thead>\n",
       "  <tbody>\n",
       "    <tr>\n",
       "      <th>A010001001</th>\n",
       "      <td>0.922857</td>\n",
       "    </tr>\n",
       "    <tr>\n",
       "      <th>A010001002</th>\n",
       "      <td>0.960000</td>\n",
       "    </tr>\n",
       "    <tr>\n",
       "      <th>A010001003</th>\n",
       "      <td>0.905714</td>\n",
       "    </tr>\n",
       "    <tr>\n",
       "      <th>A010001004</th>\n",
       "      <td>0.945714</td>\n",
       "    </tr>\n",
       "    <tr>\n",
       "      <th>A010001005</th>\n",
       "      <td>0.882857</td>\n",
       "    </tr>\n",
       "  </tbody>\n",
       "</table>\n",
       "</div>"
      ],
      "text/plain": [
       "                  item_acc\n",
       "assessmentItemID          \n",
       "A010001001        0.922857\n",
       "A010001002        0.960000\n",
       "A010001003        0.905714\n",
       "A010001004        0.945714\n",
       "A010001005        0.882857"
      ]
     },
     "execution_count": 10,
     "metadata": {},
     "output_type": "execute_result"
    }
   ],
   "source": [
    "base_item_agg = base_df.groupby('assessmentItemID').agg(item_acc=('answerCode','mean'))\n",
    "base_item_agg.head()"
   ]
  },
  {
   "cell_type": "code",
   "execution_count": 11,
   "metadata": {},
   "outputs": [
    {
     "data": {
      "text/html": [
       "<div>\n",
       "<style scoped>\n",
       "    .dataframe tbody tr th:only-of-type {\n",
       "        vertical-align: middle;\n",
       "    }\n",
       "\n",
       "    .dataframe tbody tr th {\n",
       "        vertical-align: top;\n",
       "    }\n",
       "\n",
       "    .dataframe thead th {\n",
       "        text-align: right;\n",
       "    }\n",
       "</style>\n",
       "<table border=\"1\" class=\"dataframe\">\n",
       "  <thead>\n",
       "    <tr style=\"text-align: right;\">\n",
       "      <th></th>\n",
       "      <th>test_acc</th>\n",
       "    </tr>\n",
       "    <tr>\n",
       "      <th>testId</th>\n",
       "      <th></th>\n",
       "    </tr>\n",
       "  </thead>\n",
       "  <tbody>\n",
       "    <tr>\n",
       "      <th>A010000001</th>\n",
       "      <td>0.923429</td>\n",
       "    </tr>\n",
       "    <tr>\n",
       "      <th>A010000002</th>\n",
       "      <td>0.931429</td>\n",
       "    </tr>\n",
       "    <tr>\n",
       "      <th>A010000003</th>\n",
       "      <td>0.842857</td>\n",
       "    </tr>\n",
       "    <tr>\n",
       "      <th>A010000004</th>\n",
       "      <td>0.880571</td>\n",
       "    </tr>\n",
       "    <tr>\n",
       "      <th>A010000005</th>\n",
       "      <td>0.849143</td>\n",
       "    </tr>\n",
       "  </tbody>\n",
       "</table>\n",
       "</div>"
      ],
      "text/plain": [
       "            test_acc\n",
       "testId              \n",
       "A010000001  0.923429\n",
       "A010000002  0.931429\n",
       "A010000003  0.842857\n",
       "A010000004  0.880571\n",
       "A010000005  0.849143"
      ]
     },
     "execution_count": 11,
     "metadata": {},
     "output_type": "execute_result"
    }
   ],
   "source": [
    "base_test_agg = base_df.groupby('testId').agg(test_acc=('answerCode','mean'))\n",
    "base_test_agg.head()"
   ]
  },
  {
   "cell_type": "code",
   "execution_count": 12,
   "metadata": {},
   "outputs": [
    {
     "data": {
      "text/html": [
       "<div>\n",
       "<style scoped>\n",
       "    .dataframe tbody tr th:only-of-type {\n",
       "        vertical-align: middle;\n",
       "    }\n",
       "\n",
       "    .dataframe tbody tr th {\n",
       "        vertical-align: top;\n",
       "    }\n",
       "\n",
       "    .dataframe thead th {\n",
       "        text-align: right;\n",
       "    }\n",
       "</style>\n",
       "<table border=\"1\" class=\"dataframe\">\n",
       "  <thead>\n",
       "    <tr style=\"text-align: right;\">\n",
       "      <th></th>\n",
       "      <th>userID</th>\n",
       "      <th>assessmentItemID</th>\n",
       "      <th>testId</th>\n",
       "      <th>answerCode</th>\n",
       "      <th>KnowledgeTag</th>\n",
       "      <th>avg_acc</th>\n",
       "      <th>total_test</th>\n",
       "      <th>tag_acc</th>\n",
       "      <th>item_acc</th>\n",
       "      <th>test_acc</th>\n",
       "    </tr>\n",
       "  </thead>\n",
       "  <tbody>\n",
       "    <tr>\n",
       "      <th>744</th>\n",
       "      <td>0</td>\n",
       "      <td>A080129006</td>\n",
       "      <td>A080000129</td>\n",
       "      <td>0</td>\n",
       "      <td>2725</td>\n",
       "      <td>0.631720</td>\n",
       "      <td>744</td>\n",
       "      <td>0.303871</td>\n",
       "      <td>0.156593</td>\n",
       "      <td>0.362708</td>\n",
       "    </tr>\n",
       "    <tr>\n",
       "      <th>1677</th>\n",
       "      <td>1</td>\n",
       "      <td>A090074006</td>\n",
       "      <td>A090000074</td>\n",
       "      <td>1</td>\n",
       "      <td>2648</td>\n",
       "      <td>0.853004</td>\n",
       "      <td>932</td>\n",
       "      <td>0.451737</td>\n",
       "      <td>0.478261</td>\n",
       "      <td>0.436567</td>\n",
       "    </tr>\n",
       "    <tr>\n",
       "      <th>1953</th>\n",
       "      <td>2</td>\n",
       "      <td>A050139007</td>\n",
       "      <td>A050000139</td>\n",
       "      <td>0</td>\n",
       "      <td>428</td>\n",
       "      <td>0.614545</td>\n",
       "      <td>275</td>\n",
       "      <td>0.678480</td>\n",
       "      <td>0.125000</td>\n",
       "      <td>0.626797</td>\n",
       "    </tr>\n",
       "    <tr>\n",
       "      <th>2786</th>\n",
       "      <td>5</td>\n",
       "      <td>A080138007</td>\n",
       "      <td>A080000138</td>\n",
       "      <td>1</td>\n",
       "      <td>8431</td>\n",
       "      <td>0.795673</td>\n",
       "      <td>832</td>\n",
       "      <td>0.472861</td>\n",
       "      <td>0.554622</td>\n",
       "      <td>0.499468</td>\n",
       "    </tr>\n",
       "    <tr>\n",
       "      <th>3707</th>\n",
       "      <td>6</td>\n",
       "      <td>A030145005</td>\n",
       "      <td>A030000145</td>\n",
       "      <td>0</td>\n",
       "      <td>7817</td>\n",
       "      <td>0.443478</td>\n",
       "      <td>920</td>\n",
       "      <td>0.616850</td>\n",
       "      <td>0.615120</td>\n",
       "      <td>0.627767</td>\n",
       "    </tr>\n",
       "  </tbody>\n",
       "</table>\n",
       "</div>"
      ],
      "text/plain": [
       "      userID assessmentItemID      testId  answerCode  KnowledgeTag   avg_acc  \\\n",
       "744        0       A080129006  A080000129           0          2725  0.631720   \n",
       "1677       1       A090074006  A090000074           1          2648  0.853004   \n",
       "1953       2       A050139007  A050000139           0           428  0.614545   \n",
       "2786       5       A080138007  A080000138           1          8431  0.795673   \n",
       "3707       6       A030145005  A030000145           0          7817  0.443478   \n",
       "\n",
       "      total_test   tag_acc  item_acc  test_acc  \n",
       "744          744  0.303871  0.156593  0.362708  \n",
       "1677         932  0.451737  0.478261  0.436567  \n",
       "1953         275  0.678480  0.125000  0.626797  \n",
       "2786         832  0.472861  0.554622  0.499468  \n",
       "3707         920  0.616850  0.615120  0.627767  "
      ]
     },
     "execution_count": 12,
     "metadata": {},
     "output_type": "execute_result"
    }
   ],
   "source": [
    "base_tabular = pd.merge(train_label, base_user_agg, left_on='userID', right_index=True, how='left')\n",
    "base_tabular = pd.merge(base_tabular, base_tag_agg, left_on='KnowledgeTag', right_index=True, how='left')\n",
    "base_tabular = pd.merge(base_tabular, base_item_agg, left_on='assessmentItemID', right_index=True, how='left')\n",
    "base_tabular = pd.merge(base_tabular, base_test_agg, left_on='testId', right_index=True, how='left')\n",
    "base_tabular.head()"
   ]
  },
  {
   "cell_type": "code",
   "execution_count": 13,
   "metadata": {},
   "outputs": [
    {
     "data": {
      "text/html": [
       "<div>\n",
       "<style scoped>\n",
       "    .dataframe tbody tr th:only-of-type {\n",
       "        vertical-align: middle;\n",
       "    }\n",
       "\n",
       "    .dataframe tbody tr th {\n",
       "        vertical-align: top;\n",
       "    }\n",
       "\n",
       "    .dataframe thead th {\n",
       "        text-align: right;\n",
       "    }\n",
       "</style>\n",
       "<table border=\"1\" class=\"dataframe\">\n",
       "  <thead>\n",
       "    <tr style=\"text-align: right;\">\n",
       "      <th></th>\n",
       "      <th>userID</th>\n",
       "      <th>assessmentItemID</th>\n",
       "      <th>testId</th>\n",
       "      <th>answerCode</th>\n",
       "      <th>KnowledgeTag</th>\n",
       "      <th>avg_acc</th>\n",
       "      <th>total_test</th>\n",
       "      <th>tag_acc</th>\n",
       "      <th>item_acc</th>\n",
       "      <th>test_acc</th>\n",
       "    </tr>\n",
       "  </thead>\n",
       "  <tbody>\n",
       "    <tr>\n",
       "      <th>744</th>\n",
       "      <td>0</td>\n",
       "      <td>A080129006</td>\n",
       "      <td>A080000129</td>\n",
       "      <td>0</td>\n",
       "      <td>2725</td>\n",
       "      <td>0.631720</td>\n",
       "      <td>744</td>\n",
       "      <td>0.303871</td>\n",
       "      <td>0.156593</td>\n",
       "      <td>0.362708</td>\n",
       "    </tr>\n",
       "    <tr>\n",
       "      <th>1677</th>\n",
       "      <td>1</td>\n",
       "      <td>A090074006</td>\n",
       "      <td>A090000074</td>\n",
       "      <td>1</td>\n",
       "      <td>2648</td>\n",
       "      <td>0.853004</td>\n",
       "      <td>932</td>\n",
       "      <td>0.451737</td>\n",
       "      <td>0.478261</td>\n",
       "      <td>0.436567</td>\n",
       "    </tr>\n",
       "    <tr>\n",
       "      <th>1953</th>\n",
       "      <td>2</td>\n",
       "      <td>A050139007</td>\n",
       "      <td>A050000139</td>\n",
       "      <td>0</td>\n",
       "      <td>428</td>\n",
       "      <td>0.614545</td>\n",
       "      <td>275</td>\n",
       "      <td>0.678480</td>\n",
       "      <td>0.125000</td>\n",
       "      <td>0.626797</td>\n",
       "    </tr>\n",
       "    <tr>\n",
       "      <th>2786</th>\n",
       "      <td>5</td>\n",
       "      <td>A080138007</td>\n",
       "      <td>A080000138</td>\n",
       "      <td>1</td>\n",
       "      <td>8431</td>\n",
       "      <td>0.795673</td>\n",
       "      <td>832</td>\n",
       "      <td>0.472861</td>\n",
       "      <td>0.554622</td>\n",
       "      <td>0.499468</td>\n",
       "    </tr>\n",
       "    <tr>\n",
       "      <th>3707</th>\n",
       "      <td>6</td>\n",
       "      <td>A030145005</td>\n",
       "      <td>A030000145</td>\n",
       "      <td>0</td>\n",
       "      <td>7817</td>\n",
       "      <td>0.443478</td>\n",
       "      <td>920</td>\n",
       "      <td>0.616850</td>\n",
       "      <td>0.615120</td>\n",
       "      <td>0.627767</td>\n",
       "    </tr>\n",
       "  </tbody>\n",
       "</table>\n",
       "</div>"
      ],
      "text/plain": [
       "      userID assessmentItemID      testId  answerCode  KnowledgeTag   avg_acc  \\\n",
       "744        0       A080129006  A080000129           0          2725  0.631720   \n",
       "1677       1       A090074006  A090000074           1          2648  0.853004   \n",
       "1953       2       A050139007  A050000139           0           428  0.614545   \n",
       "2786       5       A080138007  A080000138           1          8431  0.795673   \n",
       "3707       6       A030145005  A030000145           0          7817  0.443478   \n",
       "\n",
       "      total_test   tag_acc  item_acc  test_acc  \n",
       "744          744  0.303871  0.156593  0.362708  \n",
       "1677         932  0.451737  0.478261  0.436567  \n",
       "1953         275  0.678480  0.125000  0.626797  \n",
       "2786         832  0.472861  0.554622  0.499468  \n",
       "3707         920  0.616850  0.615120  0.627767  "
      ]
     },
     "execution_count": 13,
     "metadata": {},
     "output_type": "execute_result"
    }
   ],
   "source": [
    "# train merge\n",
    "train_tabular = pd.merge(train_label, base_user_agg, left_on='userID', right_index=True, how='left')\n",
    "train_tabular = pd.merge(train_tabular, base_tag_agg, left_on='KnowledgeTag', right_index=True, how='left')\n",
    "train_tabular = pd.merge(train_tabular, base_item_agg, left_on='assessmentItemID', right_index=True, how='left')\n",
    "train_tabular = pd.merge(train_tabular, base_test_agg, left_on='testId', right_index=True, how='left')\n",
    "train_tabular.head()"
   ]
  },
  {
   "cell_type": "code",
   "execution_count": 14,
   "metadata": {},
   "outputs": [
    {
     "data": {
      "text/html": [
       "<div>\n",
       "<style scoped>\n",
       "    .dataframe tbody tr th:only-of-type {\n",
       "        vertical-align: middle;\n",
       "    }\n",
       "\n",
       "    .dataframe tbody tr th {\n",
       "        vertical-align: top;\n",
       "    }\n",
       "\n",
       "    .dataframe thead th {\n",
       "        text-align: right;\n",
       "    }\n",
       "</style>\n",
       "<table border=\"1\" class=\"dataframe\">\n",
       "  <thead>\n",
       "    <tr style=\"text-align: right;\">\n",
       "      <th></th>\n",
       "      <th>userID</th>\n",
       "      <th>assessmentItemID</th>\n",
       "      <th>testId</th>\n",
       "      <th>answerCode</th>\n",
       "      <th>KnowledgeTag</th>\n",
       "      <th>avg_acc</th>\n",
       "      <th>total_test</th>\n",
       "      <th>tag_acc</th>\n",
       "      <th>item_acc</th>\n",
       "      <th>test_acc</th>\n",
       "    </tr>\n",
       "  </thead>\n",
       "  <tbody>\n",
       "    <tr>\n",
       "      <th>1035</th>\n",
       "      <td>3</td>\n",
       "      <td>A050133008</td>\n",
       "      <td>A050000133</td>\n",
       "      <td>-1</td>\n",
       "      <td>5289</td>\n",
       "      <td>0.692754</td>\n",
       "      <td>1035</td>\n",
       "      <td>0.559729</td>\n",
       "      <td>0.536290</td>\n",
       "      <td>0.655656</td>\n",
       "    </tr>\n",
       "    <tr>\n",
       "      <th>1706</th>\n",
       "      <td>4</td>\n",
       "      <td>A070146008</td>\n",
       "      <td>A070000146</td>\n",
       "      <td>-1</td>\n",
       "      <td>9080</td>\n",
       "      <td>0.694030</td>\n",
       "      <td>670</td>\n",
       "      <td>0.548426</td>\n",
       "      <td>0.605839</td>\n",
       "      <td>0.651477</td>\n",
       "    </tr>\n",
       "    <tr>\n",
       "      <th>3023</th>\n",
       "      <td>13</td>\n",
       "      <td>A070111008</td>\n",
       "      <td>A070000111</td>\n",
       "      <td>-1</td>\n",
       "      <td>9660</td>\n",
       "      <td>0.695289</td>\n",
       "      <td>1316</td>\n",
       "      <td>0.495308</td>\n",
       "      <td>0.369478</td>\n",
       "      <td>0.456957</td>\n",
       "    </tr>\n",
       "    <tr>\n",
       "      <th>4283</th>\n",
       "      <td>17</td>\n",
       "      <td>A090064006</td>\n",
       "      <td>A090000064</td>\n",
       "      <td>-1</td>\n",
       "      <td>2611</td>\n",
       "      <td>0.818904</td>\n",
       "      <td>1259</td>\n",
       "      <td>0.422518</td>\n",
       "      <td>0.274725</td>\n",
       "      <td>0.449915</td>\n",
       "    </tr>\n",
       "    <tr>\n",
       "      <th>4670</th>\n",
       "      <td>26</td>\n",
       "      <td>A060135007</td>\n",
       "      <td>A060000135</td>\n",
       "      <td>-1</td>\n",
       "      <td>1422</td>\n",
       "      <td>0.759067</td>\n",
       "      <td>386</td>\n",
       "      <td>0.611052</td>\n",
       "      <td>0.315126</td>\n",
       "      <td>0.642693</td>\n",
       "    </tr>\n",
       "  </tbody>\n",
       "</table>\n",
       "</div>"
      ],
      "text/plain": [
       "      userID assessmentItemID      testId  answerCode  KnowledgeTag   avg_acc  \\\n",
       "1035       3       A050133008  A050000133          -1          5289  0.692754   \n",
       "1706       4       A070146008  A070000146          -1          9080  0.694030   \n",
       "3023      13       A070111008  A070000111          -1          9660  0.695289   \n",
       "4283      17       A090064006  A090000064          -1          2611  0.818904   \n",
       "4670      26       A060135007  A060000135          -1          1422  0.759067   \n",
       "\n",
       "      total_test   tag_acc  item_acc  test_acc  \n",
       "1035        1035  0.559729  0.536290  0.655656  \n",
       "1706         670  0.548426  0.605839  0.651477  \n",
       "3023        1316  0.495308  0.369478  0.456957  \n",
       "4283        1259  0.422518  0.274725  0.449915  \n",
       "4670         386  0.611052  0.315126  0.642693  "
      ]
     },
     "execution_count": 14,
     "metadata": {},
     "output_type": "execute_result"
    }
   ],
   "source": [
    "# train merge\n",
    "test_tabular = pd.merge(test_label, base_user_agg, left_on='userID', right_index=True, how='left')\n",
    "test_tabular = pd.merge(test_tabular, base_tag_agg, left_on='KnowledgeTag', right_index=True, how='left')\n",
    "test_tabular = pd.merge(test_tabular, base_item_agg, left_on='assessmentItemID', right_index=True, how='left')\n",
    "test_tabular = pd.merge(test_tabular, base_test_agg, left_on='testId', right_index=True, how='left')\n",
    "test_tabular.head()"
   ]
  },
  {
   "cell_type": "code",
   "execution_count": 15,
   "metadata": {},
   "outputs": [],
   "source": [
    "# astype categorical data\n",
    "category_columns = ['userID', 'assessmentItemID', 'testId', 'KnowledgeTag']\n",
    "\n",
    "train_tabular[category_columns] = train_tabular[category_columns].astype(\"category\")\n",
    "test_tabular[category_columns] = test_tabular[category_columns].astype(\"category\")"
   ]
  },
  {
   "cell_type": "code",
   "execution_count": 16,
   "metadata": {},
   "outputs": [],
   "source": [
    "# define X, y data\n",
    "X_train = train_tabular.drop(columns='answerCode')\n",
    "y_train = train_tabular[['answerCode']]\n",
    "\n",
    "X_test = test_tabular.drop(columns='answerCode')"
   ]
  },
  {
   "cell_type": "markdown",
   "metadata": {},
   "source": [
    "## train/valid split"
   ]
  },
  {
   "cell_type": "code",
   "execution_count": 17,
   "metadata": {},
   "outputs": [],
   "source": [
    "from sklearn.model_selection import train_test_split"
   ]
  },
  {
   "cell_type": "code",
   "execution_count": 18,
   "metadata": {},
   "outputs": [
    {
     "data": {
      "text/plain": [
       "((5358, 9), (1340, 9))"
      ]
     },
     "execution_count": 18,
     "metadata": {},
     "output_type": "execute_result"
    }
   ],
   "source": [
    "X_train, X_valid, y_train, y_valid = train_test_split(X_train, y_train, test_size=.2, shuffle=True)\n",
    "\n",
    "X_train.shape, X_valid.shape"
   ]
  },
  {
   "cell_type": "markdown",
   "metadata": {},
   "source": [
    "## train GBDT with default setting"
   ]
  },
  {
   "cell_type": "code",
   "execution_count": 19,
   "metadata": {},
   "outputs": [
    {
     "name": "stderr",
     "output_type": "stream",
     "text": [
      "Failed to detect the name of this notebook, you can set it manually with the WANDB_NOTEBOOK_NAME environment variable to enable code saving.\n",
      "\u001b[34m\u001b[1mwandb\u001b[0m: Currently logged in as: \u001b[33mtwndus\u001b[0m (\u001b[33mdkt-recsys1\u001b[0m). Use \u001b[1m`wandb login --relogin`\u001b[0m to force relogin\n"
     ]
    },
    {
     "data": {
      "text/html": [
       "Tracking run with wandb version 0.16.1"
      ],
      "text/plain": [
       "<IPython.core.display.HTML object>"
      ]
     },
     "metadata": {},
     "output_type": "display_data"
    },
    {
     "data": {
      "text/html": [
       "Run data is saved locally in <code>/data/ephemeral/level2-dkt-recsys-01/notebooks/wandb/run-20240109_030635-soadf30u</code>"
      ],
      "text/plain": [
       "<IPython.core.display.HTML object>"
      ]
     },
     "metadata": {},
     "output_type": "display_data"
    },
    {
     "data": {
      "text/html": [
       "Syncing run <strong><a href='https://wandb.ai/dkt-recsys1/dkt-gbdt/runs/soadf30u' target=\"_blank\">XGBoost_240109-030628_zvsaw</a></strong> to <a href='https://wandb.ai/dkt-recsys1/dkt-gbdt' target=\"_blank\">Weights & Biases</a> (<a href='https://wandb.me/run' target=\"_blank\">docs</a>)<br/>"
      ],
      "text/plain": [
       "<IPython.core.display.HTML object>"
      ]
     },
     "metadata": {},
     "output_type": "display_data"
    },
    {
     "data": {
      "text/html": [
       " View project at <a href='https://wandb.ai/dkt-recsys1/dkt-gbdt' target=\"_blank\">https://wandb.ai/dkt-recsys1/dkt-gbdt</a>"
      ],
      "text/plain": [
       "<IPython.core.display.HTML object>"
      ]
     },
     "metadata": {},
     "output_type": "display_data"
    },
    {
     "data": {
      "text/html": [
       " View run at <a href='https://wandb.ai/dkt-recsys1/dkt-gbdt/runs/soadf30u' target=\"_blank\">https://wandb.ai/dkt-recsys1/dkt-gbdt/runs/soadf30u</a>"
      ],
      "text/plain": [
       "<IPython.core.display.HTML object>"
      ]
     },
     "metadata": {},
     "output_type": "display_data"
    }
   ],
   "source": [
    "\n",
    "# start a new wandb run to track this script\n",
    "run = wandb.init(\n",
    "    # set the wandb project where this run will be logged\n",
    "    project=projectname,\n",
    "    name=runname,\n",
    "    # track hyperparameters and run metadata\n",
    "    config={\n",
    "    \"learning_rate\": 'None',\n",
    "    \"modelname\": modelname,\n",
    "    \"dataset\": \"dkt-agg\",\n",
    "    }\n",
    ")"
   ]
  },
  {
   "cell_type": "code",
   "execution_count": 20,
   "metadata": {},
   "outputs": [],
   "source": [
    "from xgboost import XGBClassifier\n",
    "from wandb.xgboost import WandbCallback as WandbCallbackXGB\n",
    "\n",
    "import lightgbm as lgb\n",
    "from wandb.lightgbm import wandb_callback, log_summary\n",
    "\n",
    "from catboost import CatBoostClassifier\n",
    "from wandb.catboost import WandbCallback as WandbCallbackCatBoost"
   ]
  },
  {
   "cell_type": "code",
   "execution_count": 21,
   "metadata": {},
   "outputs": [
    {
     "name": "stdout",
     "output_type": "stream",
     "text": [
      "[0]\tvalidation_0-logloss:0.65110\n",
      "[1]\tvalidation_0-logloss:0.63184\n",
      "[2]\tvalidation_0-logloss:0.62230\n",
      "[3]\tvalidation_0-logloss:0.62220\n",
      "[4]\tvalidation_0-logloss:0.62189\n",
      "[5]\tvalidation_0-logloss:0.62255\n",
      "[6]\tvalidation_0-logloss:0.62374\n",
      "[7]\tvalidation_0-logloss:0.62919\n",
      "[8]\tvalidation_0-logloss:0.63163\n",
      "[9]\tvalidation_0-logloss:0.63379\n",
      "[10]\tvalidation_0-logloss:0.63667\n",
      "[11]\tvalidation_0-logloss:0.63843\n",
      "[12]\tvalidation_0-logloss:0.63834\n",
      "[13]\tvalidation_0-logloss:0.63918\n",
      "[14]\tvalidation_0-logloss:0.64220\n",
      "[15]\tvalidation_0-logloss:0.64208\n",
      "[16]\tvalidation_0-logloss:0.64481\n",
      "[17]\tvalidation_0-logloss:0.64782\n",
      "[18]\tvalidation_0-logloss:0.65132\n",
      "[19]\tvalidation_0-logloss:0.65354\n",
      "[20]\tvalidation_0-logloss:0.65713\n",
      "[21]\tvalidation_0-logloss:0.65867\n",
      "[22]\tvalidation_0-logloss:0.65962\n",
      "[23]\tvalidation_0-logloss:0.66295\n",
      "[24]\tvalidation_0-logloss:0.66423\n",
      "[25]\tvalidation_0-logloss:0.66673\n",
      "[26]\tvalidation_0-logloss:0.66697\n",
      "[27]\tvalidation_0-logloss:0.66765\n",
      "[28]\tvalidation_0-logloss:0.67124\n",
      "[29]\tvalidation_0-logloss:0.67291\n",
      "[30]\tvalidation_0-logloss:0.67406\n",
      "[31]\tvalidation_0-logloss:0.67662\n",
      "[32]\tvalidation_0-logloss:0.67893\n",
      "[33]\tvalidation_0-logloss:0.68109\n",
      "[34]\tvalidation_0-logloss:0.68325\n",
      "[35]\tvalidation_0-logloss:0.68460\n",
      "[36]\tvalidation_0-logloss:0.68711\n",
      "[37]\tvalidation_0-logloss:0.68695\n",
      "[38]\tvalidation_0-logloss:0.68844\n",
      "[39]\tvalidation_0-logloss:0.69063\n",
      "[40]\tvalidation_0-logloss:0.69398\n",
      "[41]\tvalidation_0-logloss:0.69609\n",
      "[42]\tvalidation_0-logloss:0.69777\n",
      "[43]\tvalidation_0-logloss:0.69996\n",
      "[44]\tvalidation_0-logloss:0.69990\n"
     ]
    }
   ],
   "source": [
    "if modelname == 'XGBoost':\n",
    "    # create model instance\n",
    "    model = XGBClassifier(\n",
    "        objective='binary:logistic',\n",
    "        enable_categorical=True,\n",
    "        early_stopping_rounds=40, # early stopping\n",
    "        callbacks=[WandbCallbackXGB(log_model=True)],\n",
    "        )\n",
    "    # fit model\n",
    "    model = model.fit(X_train, y_train, eval_set=[(X_valid, y_valid)])\n",
    "    \n",
    "    # get best iter\n",
    "    best_iter = model.get_booster().best_iteration\n",
    "\n",
    "elif modelname == 'LightGBM':\n",
    "    # prep dataset\n",
    "    lgb_train = lgb.Dataset(X_train, y_train, categorical_feature='auto')\n",
    "    lgb_valid = lgb.Dataset(X_valid, y_valid, categorical_feature='auto')\n",
    "    # create model instance\n",
    "    param = {\n",
    "        'objective': 'binary', 'metric': 'auc',\n",
    "        'stopping_rounds':40 # early stopping\n",
    "        }\n",
    "    # fit model\n",
    "    model = lgb.train(\n",
    "        param, lgb_train,\n",
    "        valid_sets=[lgb_valid],\n",
    "        callbacks=[wandb_callback()],\n",
    "    )\n",
    "    best_iter = model.best_iteration\n",
    "\n",
    "    # Log feature importance plot and upload model checkpoint to W&B\n",
    "    log_summary(model, save_model_checkpoint=True)\n",
    "\n",
    "elif modelname == 'CatBoost':\n",
    "    # define model\n",
    "    model = CatBoostClassifier(\n",
    "        custom_loss='AUC',\n",
    "        logging_level='Silent',\n",
    "        od_type='Iter',\n",
    "        od_wait=40, # early stopping\n",
    "        )\n",
    "\n",
    "    # fit model\n",
    "    model = model.fit(\n",
    "        X_train, y_train,\n",
    "        cat_features=category_columns,\n",
    "        eval_set=(X_valid, y_valid),\n",
    "        logging_level='Verbose',  # you can uncomment this for text output\n",
    "        use_best_model=True, # user best model\n",
    "        callbacks=[WandbCallbackCatBoost()],\n",
    "    )\n",
    "else:\n",
    "    raise ValueError(\n",
    "        f\"{modelname} not found. Please specify the model name as one of the following: 'XGBoost', 'LightGBM', 'CatBoost'.\")"
   ]
  },
  {
   "cell_type": "markdown",
   "metadata": {},
   "source": [
    "## evaluation by validation data"
   ]
  },
  {
   "cell_type": "code",
   "execution_count": 22,
   "metadata": {},
   "outputs": [],
   "source": [
    "if modelname == 'XGBoost':\n",
    "    # predict proba\n",
    "    train_pred_proba = model.predict_proba(X_train, iteration_range=(0, best_iter+1))[:,1]\n",
    "    valid_pred_proba = model.predict_proba(X_valid, iteration_range=(0, best_iter+1))[:,1]\n",
    "    test_pred_proba = model.predict_proba(X_test, iteration_range=(0, best_iter+1))[:,1]\n",
    "\n",
    "elif modelname == 'CatBoost':\n",
    "    # predict proba\n",
    "    train_pred_proba = model.predict_proba(X_train)[:,1]\n",
    "    valid_pred_proba = model.predict_proba(X_valid)[:,1]\n",
    "    test_pred_proba = model.predict_proba(X_test)[:,1]\n",
    "    \n",
    "elif modelname == 'LightGBM':\n",
    "    # predict proba\n",
    "    train_pred_proba = model.predict(X_train, num_iteration=best_iter)\n",
    "    valid_pred_proba = model.predict(X_valid, num_iteration=best_iter)\n",
    "    test_pred_proba = model.predict(X_test, num_iteration=best_iter)\n",
    "\n",
    "# pred class\n",
    "train_pred = train_pred_proba > 0.5\n",
    "valid_pred = valid_pred_proba > 0.5\n",
    "test_pred = test_pred_proba > 0.5"
   ]
  },
  {
   "cell_type": "code",
   "execution_count": 23,
   "metadata": {},
   "outputs": [
    {
     "data": {
      "image/png": "[encoded data removed]",
      "text/plain": [
       "<Figure size 640x480 with 1 Axes>"
      ]
     },
     "metadata": {},
     "output_type": "display_data"
    }
   ],
   "source": [
    "# predict proba histogram\n",
    "plt.hist(train_pred_proba, label='train')\n",
    "plt.hist(valid_pred_proba, label='valid')\n",
    "plt.hist(test_pred_proba, label='test')\n",
    "plt.legend()\n",
    "plt.title(f'{modelname} output distribution')\n",
    "plt.show()"
   ]
  },
  {
   "cell_type": "markdown",
   "metadata": {},
   "source": [
    "### get optimal threshold with auroc curve"
   ]
  },
  {
   "cell_type": "code",
   "execution_count": 24,
   "metadata": {},
   "outputs": [
    {
     "data": {
      "text/plain": [
       "0.550164"
      ]
     },
     "execution_count": 24,
     "metadata": {},
     "output_type": "execute_result"
    }
   ],
   "source": [
    "from sklearn.metrics import roc_curve, auc\n",
    "# ROC 곡선 계산\n",
    "fpr, tpr, thresholds = roc_curve(y_valid, valid_pred_proba)\n",
    "roc_auc = auc(fpr, tpr)\n",
    "\n",
    "# 최적의 임계값 찾기\n",
    "optimal_idx = np.argmax(tpr - fpr)\n",
    "optimal_threshold = thresholds[optimal_idx]\n",
    "optimal_threshold"
   ]
  },
  {
   "cell_type": "code",
   "execution_count": 25,
   "metadata": {},
   "outputs": [],
   "source": [
    "from sklearn.metrics import accuracy_score, roc_auc_score"
   ]
  },
  {
   "cell_type": "code",
   "execution_count": 26,
   "metadata": {},
   "outputs": [
    {
     "name": "stdout",
     "output_type": "stream",
     "text": [
      "train acc: 0.7501, train AUC: 0.8318\n",
      "valid acc: 0.6418, valid AUC: 0.7081\n"
     ]
    }
   ],
   "source": [
    "train_acc = accuracy_score(y_train, train_pred)\n",
    "valid_acc = accuracy_score(y_valid, valid_pred)\n",
    "train_auc = roc_auc_score(y_train, train_pred_proba)\n",
    "valid_auc = roc_auc_score(y_valid, valid_pred_proba)\n",
    "\n",
    "print(f'train acc: {train_acc:.4f}, train AUC: {train_auc:.4f}')\n",
    "print(f'valid acc: {valid_acc:.4f}, valid AUC: {valid_auc:.4f}')"
   ]
  },
  {
   "cell_type": "code",
   "execution_count": 27,
   "metadata": {},
   "outputs": [],
   "source": [
    "run.log({\n",
    "    \"final_train_acc\": train_acc,\n",
    "    \"final_valid_acc\": valid_acc,\n",
    "    \"final_train_auc\": train_auc,\n",
    "    \"final_valid_auc\": valid_auc,\n",
    "})"
   ]
  },
  {
   "cell_type": "markdown",
   "metadata": {},
   "source": [
    "with default settings\n",
    "\n",
    "- XGBoost (early stopping 40)\n",
    "   - train acc: 0.7501, train AUC: 0.8318\n",
    "   - valid acc: 0.6418, valid AUC: 0.7081\n",
    "- XGBoost (no early stopping, overfitted)\n",
    "   - train acc: 0.9793, train AUC: 0.9972\n",
    "   - valid acc: 0.6313, valid AUC: 0.6911\n",
    "- LightGBM (early stopping 40 == no early stopping, slightly overfitted)\n",
    "   - train acc: 0.8457, train AUC: 0.9285\n",
    "   - valid acc: 0.6433, valid AUC: 0.7143\n",
    "- CatBoost (early stopping iter 40)\n",
    "   - train acc: 0.7004, train AUC: 0.7773\n",
    "   - valid acc: 0.6888, valid AUC: 0.7507"
   ]
  },
  {
   "cell_type": "markdown",
   "metadata": {},
   "source": [
    "## understand the results"
   ]
  },
  {
   "cell_type": "markdown",
   "metadata": {},
   "source": [
    "### confusion matrix"
   ]
  },
  {
   "cell_type": "code",
   "execution_count": 28,
   "metadata": {},
   "outputs": [
    {
     "data": {
      "image/png": "[encoded data removed]",
      "text/plain": [
       "<Figure size 640x480 with 2 Axes>"
      ]
     },
     "metadata": {},
     "output_type": "display_data"
    }
   ],
   "source": [
    "from sklearn.metrics import confusion_matrix, ConfusionMatrixDisplay\n",
    "\n",
    "fig, ax = plt.subplots()\n",
    "cmd = ConfusionMatrixDisplay(confusion_matrix(y_valid, valid_pred))\n",
    "cmd.plot(cmap='Blues', ax=ax)\n",
    "plt.show()"
   ]
  },
  {
   "cell_type": "code",
   "execution_count": 29,
   "metadata": {},
   "outputs": [],
   "source": [
    "run.log({\n",
    "    \"confusion_matrix\": wandb.plot.confusion_matrix(\n",
    "        probs=None,\n",
    "        y_true=np.squeeze(y_valid.values, axis=1), preds=valid_pred.astype(int),\n",
    "        class_names=['0', '1'])})"
   ]
  },
  {
   "cell_type": "markdown",
   "metadata": {},
   "source": [
    "### feature importance"
   ]
  },
  {
   "cell_type": "code",
   "execution_count": 30,
   "metadata": {},
   "outputs": [
    {
     "data": {
      "image/png": "[encoded data removed]",
      "text/plain": [
       "<Figure size 640x480 with 1 Axes>"
      ]
     },
     "metadata": {},
     "output_type": "display_data"
    }
   ],
   "source": [
    "fig, ax = plt.subplots()\n",
    "if modelname == 'XGBoost':\n",
    "    importance = model.feature_importances_\n",
    "    barplot = sns.barplot(importance, ax=ax)\n",
    "    barplot.set_xticks(range(len(X_train.columns)))\n",
    "    barplot.set_xticklabels(X_train.columns, rotation=45)\n",
    "    \n",
    "elif modelname == 'LightGBM':\n",
    "    importance = model.feature_importance('gain')\n",
    "    barplot = sns.barplot(importance, ax=ax)\n",
    "    barplot.set_xticks(range(len(X_train.columns)))\n",
    "    barplot.set_xticklabels(X_train.columns, rotation=45)\n",
    "    \n",
    "elif modelname == 'CatBoost':\n",
    "    importance = model.get_feature_importance()\n",
    "    barplot = sns.barplot(importance, ax=ax)\n",
    "    barplot.set_xticks(range(len(X_train.columns)))\n",
    "    barplot.set_xticklabels(X_train.columns, rotation=45)\n",
    "\n",
    "plot_title = f'GBDT feature importance'\n",
    "ax.set_title(plot_title)\n",
    "plt.tight_layout()\n",
    "plt.show()"
   ]
  },
  {
   "cell_type": "code",
   "execution_count": 31,
   "metadata": {},
   "outputs": [],
   "source": [
    "# wandb plotting\n",
    "xy_labels = [\"feature names\", \"importance\"]\n",
    "data = pd.DataFrame([X_train.columns, importance]).T\n",
    "data.columns = xy_labels\n",
    "data.importance /= sum(data.importance)\n",
    "table = wandb.Table(columns=xy_labels, data=data)\n",
    "\n",
    "run.log({\"feature importance plot\" : wandb.plot.bar(\n",
    "    table, *xy_labels, title=plot_title)})"
   ]
  },
  {
   "cell_type": "code",
   "execution_count": 32,
   "metadata": {},
   "outputs": [
    {
     "data": {
      "application/vnd.jupyter.widget-view+json": {
       "model_id": "d0848888441b4827a1881cd0e590fdd7",
       "version_major": 2,
       "version_minor": 0
      },
      "text/plain": [
       "VBox(children=(Label(value='1.028 MB of 1.028 MB uploaded\\r'), FloatProgress(value=1.0, max=1.0)))"
      ]
     },
     "metadata": {},
     "output_type": "display_data"
    },
    {
     "name": "stderr",
     "output_type": "stream",
     "text": [
      "wandb: WARNING Source type is set to 'repo' but some required information is missing from the environment. A job will not be created from this run. See https://docs.wandb.ai/guides/launch/create-job\n"
     ]
    },
    {
     "data": {
      "text/html": [
       "<style>\n",
       "    table.wandb td:nth-child(1) { padding: 0 10px; text-align: left ; width: auto;} td:nth-child(2) {text-align: left ; width: 100%}\n",
       "    .wandb-row { display: flex; flex-direction: row; flex-wrap: wrap; justify-content: flex-start; width: 100% }\n",
       "    .wandb-col { display: flex; flex-direction: column; flex-basis: 100%; flex: 1; padding: 10px; }\n",
       "    </style>\n",
       "<div class=\"wandb-row\"><div class=\"wandb-col\"><h3>Run history:</h3><br/><table class=\"wandb\"><tr><td>best_iteration</td><td>▁</td></tr><tr><td>best_score</td><td>▁</td></tr><tr><td>epoch</td><td>▁▁▁▁▂▂▂▂▂▃▃▃▃▃▃▄▄▄▄▄▅▅▅▅▅▅▆▆▆▆▆▆▇▇▇▇▇███</td></tr><tr><td>final_train_acc</td><td>▁</td></tr><tr><td>final_train_auc</td><td>▁</td></tr><tr><td>final_valid_acc</td><td>▁</td></tr><tr><td>final_valid_auc</td><td>▁</td></tr><tr><td>validation_0-logloss</td><td>▄▂▁▁▁▁▁▂▂▂▂▂▃▃▃▃▄▄▄▄▄▅▅▅▅▅▆▆▆▆▆▇▇▇▇▇▇███</td></tr></table><br/></div><div class=\"wandb-col\"><h3>Run summary:</h3><br/><table class=\"wandb\"><tr><td>best_iteration</td><td>4</td></tr><tr><td>best_score</td><td>0.62189</td></tr><tr><td>epoch</td><td>44</td></tr><tr><td>final_train_acc</td><td>0.75009</td></tr><tr><td>final_train_auc</td><td>0.83175</td></tr><tr><td>final_valid_acc</td><td>0.64179</td></tr><tr><td>final_valid_auc</td><td>0.70812</td></tr></table><br/></div></div>"
      ],
      "text/plain": [
       "<IPython.core.display.HTML object>"
      ]
     },
     "metadata": {},
     "output_type": "display_data"
    },
    {
     "data": {
      "text/html": [
       " View run <strong style=\"color:#cdcd00\">XGBoost_240109-030628_zvsaw</strong> at: <a href='https://wandb.ai/dkt-recsys1/dkt-gbdt/runs/soadf30u' target=\"_blank\">https://wandb.ai/dkt-recsys1/dkt-gbdt/runs/soadf30u</a><br/>Synced 5 W&B file(s), 3 media file(s), 4 artifact file(s) and 1 other file(s)"
      ],
      "text/plain": [
       "<IPython.core.display.HTML object>"
      ]
     },
     "metadata": {},
     "output_type": "display_data"
    },
    {
     "data": {
      "text/html": [
       "Find logs at: <code>./wandb/run-20240109_030635-soadf30u/logs</code>"
      ],
      "text/plain": [
       "<IPython.core.display.HTML object>"
      ]
     },
     "metadata": {},
     "output_type": "display_data"
    }
   ],
   "source": [
    "# finish wandb run\n",
    "run.finish()"
   ]
  },
  {
   "cell_type": "markdown",
   "metadata": {},
   "source": [
    "## save submissions"
   ]
  },
  {
   "cell_type": "code",
   "execution_count": 33,
   "metadata": {},
   "outputs": [],
   "source": [
    "submission_df.prediction = test_pred_proba"
   ]
  },
  {
   "cell_type": "code",
   "execution_count": 34,
   "metadata": {},
   "outputs": [],
   "source": [
    "result_dir = '../results/'\n",
    "savename = f'{modelname}_{now}_{randomcode}_{valid_auc:.4f}.csv'\n",
    "submission_df.to_csv(os.path.join(result_dir, savename), index=False)"
   ]
  }
 ],
 "metadata": {
  "kernelspec": {
   "display_name": ".dkt",
   "language": "python",
   "name": "python3"
  },
  "language_info": {
   "codemirror_mode": {
    "name": "ipython",
    "version": 3
   },
   "file_extension": ".py",
   "mimetype": "text/x-python",
   "name": "python",
   "nbconvert_exporter": "python",
   "pygments_lexer": "ipython3",
   "version": "3.10.4"
  }
 },
 "nbformat": 4,
 "nbformat_minor": 2
}
