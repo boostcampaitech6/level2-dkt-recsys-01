{
 "cells": [
  {
   "cell_type": "markdown",
   "metadata": {},
   "source": [
    "# LightGNN 구현"
   ]
  },
  {
   "cell_type": "code",
   "execution_count": 1,
   "metadata": {},
   "outputs": [],
   "source": [
    "import os, random\n",
    "from tqdm import tqdm\n",
    "\n",
    "import numpy as np\n",
    "import pandas as pd\n",
    "\n",
    "import torch\n",
    "import torch.nn as nn\n",
    "\n",
    "import torch_geometric\n",
    "import torch_geometric.nn as geonn\n",
    "from torch_geometric.data.data import Data\n",
    "\n",
    "from sklearn.metrics import roc_auc_score, accuracy_score"
   ]
  },
  {
   "cell_type": "code",
   "execution_count": 2,
   "metadata": {},
   "outputs": [],
   "source": [
    "# pip install torch_geometric"
   ]
  },
  {
   "cell_type": "code",
   "execution_count": 3,
   "metadata": {},
   "outputs": [],
   "source": [
    "# fix random seed\n",
    "seed = 42\n",
    "random.seed(seed)\n",
    "np.random.seed(seed)\n",
    "_ = torch.manual_seed(seed)"
   ]
  },
  {
   "cell_type": "markdown",
   "metadata": {},
   "source": [
    "## load data"
   ]
  },
  {
   "cell_type": "code",
   "execution_count": 4,
   "metadata": {},
   "outputs": [
    {
     "data": {
      "text/plain": [
       "((2266586, 6), (260114, 6))"
      ]
     },
     "execution_count": 4,
     "metadata": {},
     "output_type": "execute_result"
    }
   ],
   "source": [
    "# load data\n",
    "data_dir = '../../../dkt/data'\n",
    "train_df = pd.read_csv(os.path.join(data_dir, 'train_data.csv'))\n",
    "test_df = pd.read_csv(os.path.join(data_dir, 'test_data.csv'))\n",
    "submission_df = pd.read_csv(os.path.join(data_dir, 'sample_submission.csv'))\n",
    "\n",
    "train_df.shape, test_df.shape"
   ]
  },
  {
   "cell_type": "markdown",
   "metadata": {},
   "source": [
    "## 학습 및 테스트 데이터에서 맨 마지막 레코드 제외"
   ]
  },
  {
   "cell_type": "code",
   "execution_count": 5,
   "metadata": {},
   "outputs": [
    {
     "data": {
      "text/plain": [
       "(2475974, 6)"
      ]
     },
     "execution_count": 5,
     "metadata": {},
     "output_type": "execute_result"
    }
   ],
   "source": [
    "train_last = train_df.drop_duplicates(['userID'], keep='last')\n",
    "test_last = test_df.drop_duplicates(['userID'], keep='last')\n",
    "\n",
    "# train_df2 = train_df.drop(index=train_last.index).drop_duplicates(['userID', 'assessmentItemID'], keep='last')\n",
    "train_df2 = train_df.drop_duplicates(['userID', 'assessmentItemID'], keep='last')\n",
    "test_df2 = test_df.drop(index=test_last.index).drop_duplicates(['userID', 'assessmentItemID'], keep='last')\n",
    "\n",
    "base_df = pd.concat([train_df2, test_df2], axis=0)\n",
    "base_df.shape"
   ]
  },
  {
   "cell_type": "markdown",
   "metadata": {},
   "source": [
    "### 유저, 아이템 ID 정보 추출 및 사전 만들기"
   ]
  },
  {
   "cell_type": "code",
   "execution_count": 6,
   "metadata": {},
   "outputs": [
    {
     "data": {
      "text/plain": [
       "(7442, 9454)"
      ]
     },
     "execution_count": 6,
     "metadata": {},
     "output_type": "execute_result"
    }
   ],
   "source": [
    "# total user id and item id\n",
    "user_ids = np.concatenate([train_df.userID.unique(), test_df.userID.unique()])\n",
    "item_ids = train_df.assessmentItemID.unique()\n",
    "len(user_ids), len(item_ids)"
   ]
  },
  {
   "cell_type": "code",
   "execution_count": 7,
   "metadata": {},
   "outputs": [],
   "source": [
    "user_id2index = {uid:i for i, uid in enumerate(user_ids)}\n",
    "item_id2index = {iid:i+len(user_ids) for i, iid in enumerate(item_ids)}"
   ]
  },
  {
   "cell_type": "markdown",
   "metadata": {},
   "source": [
    "### 만든 사전으로 ID를 숫자로 변환하기"
   ]
  },
  {
   "cell_type": "code",
   "execution_count": 8,
   "metadata": {},
   "outputs": [],
   "source": [
    "base_df['userID'] = base_df['userID'].map(lambda x: user_id2index.get(x,x))\n",
    "base_df['assessmentItemID'] = base_df['assessmentItemID'].map(lambda x: item_id2index.get(x,x))"
   ]
  },
  {
   "cell_type": "code",
   "execution_count": 9,
   "metadata": {},
   "outputs": [
    {
     "name": "stderr",
     "output_type": "stream",
     "text": [
      "/tmp/ipykernel_225790/45524005.py:1: SettingWithCopyWarning: \n",
      "A value is trying to be set on a copy of a slice from a DataFrame.\n",
      "Try using .loc[row_indexer,col_indexer] = value instead\n",
      "\n",
      "See the caveats in the documentation: https://pandas.pydata.org/pandas-docs/stable/user_guide/indexing.html#returning-a-view-versus-a-copy\n",
      "  train_last['userID'] = train_last['userID'].map(lambda x: user_id2index.get(x,x))\n",
      "/tmp/ipykernel_225790/45524005.py:2: SettingWithCopyWarning: \n",
      "A value is trying to be set on a copy of a slice from a DataFrame.\n",
      "Try using .loc[row_indexer,col_indexer] = value instead\n",
      "\n",
      "See the caveats in the documentation: https://pandas.pydata.org/pandas-docs/stable/user_guide/indexing.html#returning-a-view-versus-a-copy\n",
      "  train_last['assessmentItemID'] = train_last['assessmentItemID'].map(lambda x: item_id2index.get(x,x))\n",
      "/tmp/ipykernel_225790/45524005.py:4: SettingWithCopyWarning: \n",
      "A value is trying to be set on a copy of a slice from a DataFrame.\n",
      "Try using .loc[row_indexer,col_indexer] = value instead\n",
      "\n",
      "See the caveats in the documentation: https://pandas.pydata.org/pandas-docs/stable/user_guide/indexing.html#returning-a-view-versus-a-copy\n",
      "  test_last['userID'] = test_last['userID'].map(lambda x: user_id2index.get(x,x))\n",
      "/tmp/ipykernel_225790/45524005.py:5: SettingWithCopyWarning: \n",
      "A value is trying to be set on a copy of a slice from a DataFrame.\n",
      "Try using .loc[row_indexer,col_indexer] = value instead\n",
      "\n",
      "See the caveats in the documentation: https://pandas.pydata.org/pandas-docs/stable/user_guide/indexing.html#returning-a-view-versus-a-copy\n",
      "  test_last['assessmentItemID'] = test_last['assessmentItemID'].map(lambda x: item_id2index.get(x,x))\n"
     ]
    }
   ],
   "source": [
    "train_last['userID'] = train_last['userID'].map(lambda x: user_id2index.get(x,x))\n",
    "train_last['assessmentItemID'] = train_last['assessmentItemID'].map(lambda x: item_id2index.get(x,x))\n",
    "\n",
    "test_last['userID'] = test_last['userID'].map(lambda x: user_id2index.get(x,x))\n",
    "test_last['assessmentItemID'] = test_last['assessmentItemID'].map(lambda x: item_id2index.get(x,x))"
   ]
  },
  {
   "cell_type": "code",
   "execution_count": 10,
   "metadata": {},
   "outputs": [],
   "source": [
    "# # define positive edge and negative edge\n",
    "# pos_edge = base_df[base_df['answerCode'] == 1][['userID','assessmentItemID']].values\n",
    "# neg_edge = base_df[base_df['answerCode'] == 0][['userID','assessmentItemID']].values\n",
    "# pos_edge_label = base_df[base_df['answerCode'] == 1][['answerCode']].values\n",
    "# neg_edge_label = base_df[base_df['answerCode'] == 0][['answerCode']].values\n",
    "# pos_edge.shape, neg_edge.shape"
   ]
  },
  {
   "cell_type": "markdown",
   "metadata": {},
   "source": [
    "### 전체 레코드 데이터 추출"
   ]
  },
  {
   "cell_type": "code",
   "execution_count": 11,
   "metadata": {},
   "outputs": [
    {
     "data": {
      "text/plain": [
       "(2475974, 2)"
      ]
     },
     "execution_count": 11,
     "metadata": {},
     "output_type": "execute_result"
    }
   ],
   "source": [
    "total_edges = base_df[['userID','assessmentItemID']].values\n",
    "total_edge_labels = base_df[['answerCode']].values\n",
    "total_edges.shape"
   ]
  },
  {
   "cell_type": "code",
   "execution_count": 12,
   "metadata": {},
   "outputs": [
    {
     "data": {
      "text/plain": [
       "((6698, 2), (744, 2))"
      ]
     },
     "execution_count": 12,
     "metadata": {},
     "output_type": "execute_result"
    }
   ],
   "source": [
    "train_last_edges = train_last[['userID','assessmentItemID']].values\n",
    "train_last_edge_labels = train_last[['answerCode']].values\n",
    "\n",
    "test_last_edges = test_last[['userID','assessmentItemID']].values\n",
    "test_last_edge_labels = test_last[['answerCode']].values\n",
    "train_last_edges.shape, test_last_edges.shape"
   ]
  },
  {
   "cell_type": "markdown",
   "metadata": {},
   "source": [
    "### 데이터 셔플"
   ]
  },
  {
   "cell_type": "code",
   "execution_count": 13,
   "metadata": {},
   "outputs": [],
   "source": [
    "shuffle_index = list(range(len(total_edges))) \n",
    "np.random.shuffle(shuffle_index)\n",
    "\n",
    "total_edges = total_edges[shuffle_index]\n",
    "total_edge_labels = total_edge_labels[shuffle_index]"
   ]
  },
  {
   "cell_type": "markdown",
   "metadata": {},
   "source": [
    "### 학습, 검증 데이터 분할"
   ]
  },
  {
   "cell_type": "code",
   "execution_count": 14,
   "metadata": {},
   "outputs": [],
   "source": [
    "from sklearn.model_selection import train_test_split\n",
    "\n",
    "train_edges, valid_edges, train_edge_labels, valid_edge_labels = \\\n",
    "    train_test_split(total_edges, total_edge_labels, \n",
    "                     test_size=.15, shuffle=True, stratify=total_edge_labels)\n",
    "# train_edges, train_edge_labels = total_edges, total_edge_labels\n",
    "# valid_edges, valid_edge_labels = train_last_edges, train_last_edge_labels"
   ]
  },
  {
   "cell_type": "markdown",
   "metadata": {},
   "source": [
    "## 학습에 필요한 변수 지정"
   ]
  },
  {
   "cell_type": "code",
   "execution_count": 15,
   "metadata": {},
   "outputs": [],
   "source": [
    "batch_size = 4096\n",
    "learning_rate = 0.01\n",
    "epochs = 500\n",
    "patience = 5\n",
    "\n",
    "embedding_dim = 128\n",
    "num_layers = 3\n",
    "\n",
    "total_edge_index = range(total_edges.shape[0])\n",
    "num_nodes = len(user_ids)+len(item_ids)\n",
    "device = torch.device(\"cuda:0\" if torch.cuda.is_available() else \"cpu\")"
   ]
  },
  {
   "cell_type": "code",
   "execution_count": 16,
   "metadata": {},
   "outputs": [],
   "source": [
    "model = geonn.LightGCN(num_nodes, embedding_dim, num_layers).to(device)\n",
    "optimizer = torch.optim.AdamW(model.parameters(), lr=learning_rate)\n",
    "lr_scheduler = torch.optim.lr_scheduler.ReduceLROnPlateau(optimizer, patience=5, factor=0.5, mode='max', verbose=True)"
   ]
  },
  {
   "cell_type": "code",
   "execution_count": 17,
   "metadata": {},
   "outputs": [],
   "source": [
    "def train(optimizer, model, edge_index, edge_labels):\n",
    "    model.train()\n",
    "\n",
    "    preds = model.predict_link(edge_index, prob=True)\n",
    "    \n",
    "    optimizer.zero_grad()\n",
    "    loss = model.link_pred_loss(preds, edge_labels)\n",
    "    loss.backward()\n",
    "    optimizer.step()\n",
    "\n",
    "    preds_ = preds.detach().cpu().numpy()\n",
    "    labels = edge_labels.detach().cpu().numpy()\n",
    "    \n",
    "    auroc = roc_auc_score(labels, preds_)\n",
    "    accuracy = accuracy_score(labels, preds_ > 0.5)\n",
    "\n",
    "    return loss, auroc, accuracy\n",
    "\n",
    "def validate(optimizer, model, edge_index, edge_labels):\n",
    "    model.eval()\n",
    "\n",
    "    preds = model.predict_link(edge_index, prob=True)\n",
    "    loss = model.link_pred_loss(preds, edge_labels)\n",
    "\n",
    "    preds_ = preds.detach().cpu().numpy()\n",
    "    labels = edge_labels.detach().cpu().numpy()\n",
    "\n",
    "    auroc = roc_auc_score(labels, preds_)\n",
    "    accuracy = accuracy_score(labels, preds_>0.5)\n",
    "\n",
    "    return loss, auroc, accuracy"
   ]
  },
  {
   "cell_type": "code",
   "execution_count": 18,
   "metadata": {},
   "outputs": [],
   "source": [
    "# 학습, 검증 엣지 텐서로 변환 & transpose\n",
    "train_edges = torch.tensor(train_edges).T.to(device)\n",
    "valid_edges = torch.tensor(valid_edges).T.to(device)\n",
    "\n",
    "# 학습, 검증 레이블 텐서로 변환 & unsqueeze\n",
    "train_edge_labels = torch.tensor(train_edge_labels).squeeze(-1).to(device)\n",
    "valid_edge_labels = torch.tensor(valid_edge_labels).squeeze(-1).to(device)"
   ]
  },
  {
   "cell_type": "code",
   "execution_count": 19,
   "metadata": {},
   "outputs": [],
   "source": [
    "from copy import deepcopy"
   ]
  },
  {
   "cell_type": "code",
   "execution_count": 20,
   "metadata": {},
   "outputs": [
    {
     "name": "stdout",
     "output_type": "stream",
     "text": [
      "epochs 0: train loss: 0.6469267010688782, train auroc: 0.4997, train accuracy: 0.4998\n",
      "            valid loss: 0.6469271183013916, valid auroc: 0.4997, valid accuracy: 0.4989\n",
      "minimum valid loss is 0.6469 at 0 epoch\n",
      "epochs 1: train loss: 0.6469259858131409, train auroc: 0.5421, train accuracy: 0.5276\n",
      "            valid loss: 0.6469270586967468, valid auroc: 0.5006, valid accuracy: 0.4998\n",
      "minimum valid loss is 0.6469 at 1 epoch\n",
      "epochs 2: train loss: 0.6469252705574036, train auroc: 0.5838, train accuracy: 0.5551\n",
      "            valid loss: 0.646926999092102, valid auroc: 0.5037, valid accuracy: 0.5027\n",
      "minimum valid loss is 0.6469 at 2 epoch\n",
      "epochs 3: train loss: 0.6469244360923767, train auroc: 0.6250, train accuracy: 0.5827\n",
      "            valid loss: 0.6469268202781677, valid auroc: 0.5105, valid accuracy: 0.5071\n",
      "minimum valid loss is 0.6469 at 3 epoch\n",
      "epochs 4: train loss: 0.6469236016273499, train auroc: 0.6658, train accuracy: 0.6105\n",
      "            valid loss: 0.6469265818595886, valid auroc: 0.5222, valid accuracy: 0.5149\n",
      "minimum valid loss is 0.6469 at 4 epoch\n",
      "epochs 5: train loss: 0.6469225287437439, train auroc: 0.7061, train accuracy: 0.6389\n",
      "            valid loss: 0.64692622423172, valid auroc: 0.5399, valid accuracy: 0.5270\n",
      "minimum valid loss is 0.6469 at 5 epoch\n",
      "epochs 6: train loss: 0.6469213366508484, train auroc: 0.7452, train accuracy: 0.6678\n",
      "            valid loss: 0.6469255685806274, valid auroc: 0.5638, valid accuracy: 0.5436\n",
      "minimum valid loss is 0.6469 at 6 epoch\n",
      "epochs 7: train loss: 0.6469197869300842, train auroc: 0.7818, train accuracy: 0.6962\n",
      "            valid loss: 0.6469246745109558, valid auroc: 0.5929, valid accuracy: 0.5634\n",
      "minimum valid loss is 0.6469 at 7 epoch\n",
      "epochs 8: train loss: 0.6469177603721619, train auroc: 0.8136, train accuracy: 0.7234\n",
      "            valid loss: 0.6469232439994812, valid auroc: 0.6245, valid accuracy: 0.5859\n",
      "minimum valid loss is 0.6469 at 8 epoch\n",
      "epochs 9: train loss: 0.6469154357910156, train auroc: 0.8388, train accuracy: 0.7478\n",
      "            valid loss: 0.6469210982322693, valid auroc: 0.6556, valid accuracy: 0.6094\n",
      "minimum valid loss is 0.6469 at 9 epoch\n",
      "epochs 10: train loss: 0.6469120979309082, train auroc: 0.8563, train accuracy: 0.7682\n",
      "            valid loss: 0.6469182372093201, valid auroc: 0.6838, valid accuracy: 0.6326\n",
      "minimum valid loss is 0.6469 at 10 epoch\n",
      "epochs 11: train loss: 0.6469079256057739, train auroc: 0.8668, train accuracy: 0.7843\n",
      "            valid loss: 0.6469142436981201, valid auroc: 0.7076, valid accuracy: 0.6539\n",
      "minimum valid loss is 0.6469 at 11 epoch\n",
      "epochs 12: train loss: 0.6469024419784546, train auroc: 0.8714, train accuracy: 0.7958\n",
      "            valid loss: 0.646908700466156, valid auroc: 0.7269, valid accuracy: 0.6723\n",
      "minimum valid loss is 0.6469 at 12 epoch\n",
      "epochs 13: train loss: 0.6468953490257263, train auroc: 0.8717, train accuracy: 0.8035\n",
      "            valid loss: 0.6469011902809143, valid auroc: 0.7418, valid accuracy: 0.6880\n",
      "minimum valid loss is 0.6469 at 13 epoch\n",
      "epochs 14: train loss: 0.6468860507011414, train auroc: 0.8690, train accuracy: 0.8076\n",
      "            valid loss: 0.6468912363052368, valid auroc: 0.7531, valid accuracy: 0.7012\n",
      "minimum valid loss is 0.6469 at 14 epoch\n",
      "epochs 15: train loss: 0.6468740105628967, train auroc: 0.8643, train accuracy: 0.8093\n",
      "            valid loss: 0.6468780636787415, valid auroc: 0.7614, valid accuracy: 0.7115\n",
      "minimum valid loss is 0.6469 at 15 epoch\n",
      "epochs 16: train loss: 0.6468585133552551, train auroc: 0.8586, train accuracy: 0.8087\n",
      "            valid loss: 0.6468608975410461, valid auroc: 0.7672, valid accuracy: 0.7197\n",
      "minimum valid loss is 0.6469 at 16 epoch\n",
      "epochs 17: train loss: 0.6468386054039001, train auroc: 0.8523, train accuracy: 0.8067\n",
      "            valid loss: 0.6468387842178345, valid auroc: 0.7713, valid accuracy: 0.7262\n",
      "minimum valid loss is 0.6468 at 17 epoch\n",
      "epochs 18: train loss: 0.6468134522438049, train auroc: 0.8460, train accuracy: 0.8038\n",
      "            valid loss: 0.6468105316162109, valid auroc: 0.7740, valid accuracy: 0.7311\n",
      "minimum valid loss is 0.6468 at 18 epoch\n",
      "epochs 19: train loss: 0.6467816233634949, train auroc: 0.8398, train accuracy: 0.8003\n",
      "            valid loss: 0.64677494764328, valid auroc: 0.7757, valid accuracy: 0.7344\n",
      "minimum valid loss is 0.6468 at 19 epoch\n",
      "epochs 20: train loss: 0.6467419862747192, train auroc: 0.8340, train accuracy: 0.7962\n",
      "            valid loss: 0.6467304229736328, valid auroc: 0.7767, valid accuracy: 0.7369\n",
      "minimum valid loss is 0.6467 at 20 epoch\n",
      "epochs 21: train loss: 0.6466929316520691, train auroc: 0.8286, train accuracy: 0.7921\n",
      "            valid loss: 0.6466754078865051, valid auroc: 0.7773, valid accuracy: 0.7387\n",
      "minimum valid loss is 0.6467 at 21 epoch\n",
      "epochs 22: train loss: 0.6466326117515564, train auroc: 0.8237, train accuracy: 0.7880\n",
      "            valid loss: 0.6466079354286194, valid auroc: 0.7775, valid accuracy: 0.7399\n",
      "minimum valid loss is 0.6466 at 22 epoch\n",
      "epochs 23: train loss: 0.6465591192245483, train auroc: 0.8192, train accuracy: 0.7840\n",
      "            valid loss: 0.646526038646698, valid auroc: 0.7774, valid accuracy: 0.7405\n",
      "minimum valid loss is 0.6465 at 23 epoch\n",
      "epochs 24: train loss: 0.646470308303833, train auroc: 0.8153, train accuracy: 0.7803\n",
      "            valid loss: 0.6464273929595947, valid auroc: 0.7773, valid accuracy: 0.7409\n",
      "minimum valid loss is 0.6464 at 24 epoch\n",
      "epochs 25: train loss: 0.6463637351989746, train auroc: 0.8117, train accuracy: 0.7767\n",
      "            valid loss: 0.6463096141815186, valid auroc: 0.7770, valid accuracy: 0.7408\n",
      "minimum valid loss is 0.6463 at 25 epoch\n",
      "epochs 26: train loss: 0.6462370157241821, train auroc: 0.8086, train accuracy: 0.7733\n",
      "            valid loss: 0.6461700201034546, valid auroc: 0.7766, valid accuracy: 0.7406\n",
      "minimum valid loss is 0.6462 at 26 epoch\n",
      "epochs 27: train loss: 0.6460872888565063, train auroc: 0.8058, train accuracy: 0.7702\n",
      "            valid loss: 0.6460059285163879, valid auroc: 0.7763, valid accuracy: 0.7403\n",
      "minimum valid loss is 0.6460 at 27 epoch\n",
      "epochs 28: train loss: 0.6459116339683533, train auroc: 0.8033, train accuracy: 0.7674\n",
      "            valid loss: 0.6458144187927246, valid auroc: 0.7759, valid accuracy: 0.7399\n",
      "minimum valid loss is 0.6458 at 28 epoch\n",
      "epochs 29: train loss: 0.6457071900367737, train auroc: 0.8011, train accuracy: 0.7647\n",
      "            valid loss: 0.6455923318862915, valid auroc: 0.7755, valid accuracy: 0.7393\n",
      "minimum valid loss is 0.6456 at 29 epoch\n",
      "epochs 30: train loss: 0.6454706192016602, train auroc: 0.7992, train accuracy: 0.7622\n",
      "            valid loss: 0.6453367471694946, valid auroc: 0.7751, valid accuracy: 0.7389\n",
      "minimum valid loss is 0.6453 at 30 epoch\n",
      "epochs 31: train loss: 0.6451987028121948, train auroc: 0.7975, train accuracy: 0.7600\n",
      "            valid loss: 0.6450442671775818, valid auroc: 0.7748, valid accuracy: 0.7383\n",
      "minimum valid loss is 0.6450 at 31 epoch\n",
      "epochs 32: train loss: 0.6448880434036255, train auroc: 0.7959, train accuracy: 0.7579\n",
      "            valid loss: 0.6447116136550903, valid auroc: 0.7744, valid accuracy: 0.7377\n",
      "minimum valid loss is 0.6447 at 32 epoch\n",
      "epochs 33: train loss: 0.6445351839065552, train auroc: 0.7946, train accuracy: 0.7561\n",
      "            valid loss: 0.6443355679512024, valid auroc: 0.7741, valid accuracy: 0.7370\n",
      "minimum valid loss is 0.6443 at 33 epoch\n",
      "epochs 34: train loss: 0.6441367268562317, train auroc: 0.7934, train accuracy: 0.7543\n",
      "            valid loss: 0.6439128518104553, valid auroc: 0.7738, valid accuracy: 0.7365\n",
      "minimum valid loss is 0.6439 at 34 epoch\n",
      "epochs 35: train loss: 0.6436892151832581, train auroc: 0.7923, train accuracy: 0.7528\n",
      "            valid loss: 0.6434400677680969, valid auroc: 0.7736, valid accuracy: 0.7358\n",
      "minimum valid loss is 0.6434 at 35 epoch\n",
      "epochs 36: train loss: 0.6431892514228821, train auroc: 0.7914, train accuracy: 0.7514\n",
      "            valid loss: 0.642914354801178, valid auroc: 0.7733, valid accuracy: 0.7353\n",
      "minimum valid loss is 0.6429 at 36 epoch\n",
      "epochs 37: train loss: 0.6426336765289307, train auroc: 0.7905, train accuracy: 0.7501\n",
      "            valid loss: 0.6423325538635254, valid auroc: 0.7731, valid accuracy: 0.7347\n",
      "minimum valid loss is 0.6423 at 37 epoch\n",
      "epochs 38: train loss: 0.6420191526412964, train auroc: 0.7898, train accuracy: 0.7490\n",
      "            valid loss: 0.6416918039321899, valid auroc: 0.7729, valid accuracy: 0.7342\n",
      "minimum valid loss is 0.6417 at 38 epoch\n",
      "epochs 39: train loss: 0.6413428783416748, train auroc: 0.7891, train accuracy: 0.7479\n",
      "            valid loss: 0.6409896016120911, valid auroc: 0.7727, valid accuracy: 0.7336\n",
      "minimum valid loss is 0.6410 at 39 epoch\n",
      "epochs 40: train loss: 0.6406021118164062, train auroc: 0.7885, train accuracy: 0.7468\n",
      "            valid loss: 0.640223503112793, valid auroc: 0.7725, valid accuracy: 0.7330\n",
      "minimum valid loss is 0.6402 at 40 epoch\n",
      "epochs 41: train loss: 0.6397942900657654, train auroc: 0.7880, train accuracy: 0.7459\n",
      "            valid loss: 0.6393917202949524, valid auroc: 0.7724, valid accuracy: 0.7326\n",
      "minimum valid loss is 0.6394 at 41 epoch\n",
      "epochs 42: train loss: 0.6389174461364746, train auroc: 0.7875, train accuracy: 0.7450\n",
      "            valid loss: 0.6384923458099365, valid auroc: 0.7723, valid accuracy: 0.7320\n",
      "minimum valid loss is 0.6385 at 42 epoch\n",
      "epochs 43: train loss: 0.6379697918891907, train auroc: 0.7870, train accuracy: 0.7441\n",
      "            valid loss: 0.6375244855880737, valid auroc: 0.7722, valid accuracy: 0.7316\n",
      "minimum valid loss is 0.6375 at 43 epoch\n",
      "epochs 44: train loss: 0.6369500160217285, train auroc: 0.7867, train accuracy: 0.7434\n",
      "            valid loss: 0.6364871859550476, valid auroc: 0.7721, valid accuracy: 0.7312\n",
      "minimum valid loss is 0.6365 at 44 epoch\n",
      "epochs 45: train loss: 0.6358575820922852, train auroc: 0.7863, train accuracy: 0.7426\n",
      "            valid loss: 0.6353805065155029, valid auroc: 0.7720, valid accuracy: 0.7309\n",
      "minimum valid loss is 0.6354 at 45 epoch\n",
      "epochs 46: train loss: 0.6346920728683472, train auroc: 0.7860, train accuracy: 0.7420\n",
      "            valid loss: 0.6342047452926636, valid auroc: 0.7719, valid accuracy: 0.7305\n",
      "minimum valid loss is 0.6342 at 46 epoch\n",
      "epochs 47: train loss: 0.6334539651870728, train auroc: 0.7858, train accuracy: 0.7414\n",
      "            valid loss: 0.6329609751701355, valid auroc: 0.7719, valid accuracy: 0.7302\n",
      "minimum valid loss is 0.6330 at 47 epoch\n",
      "epochs 48: train loss: 0.6321443915367126, train auroc: 0.7856, train accuracy: 0.7409\n",
      "            valid loss: 0.6316509246826172, valid auroc: 0.7719, valid accuracy: 0.7298\n",
      "minimum valid loss is 0.6317 at 48 epoch\n",
      "epochs 49: train loss: 0.6307650208473206, train auroc: 0.7854, train accuracy: 0.7404\n",
      "            valid loss: 0.6302769780158997, valid auroc: 0.7719, valid accuracy: 0.7295\n",
      "minimum valid loss is 0.6303 at 49 epoch\n",
      "epochs 50: train loss: 0.6293184757232666, train auroc: 0.7852, train accuracy: 0.7399\n",
      "            valid loss: 0.6288422346115112, valid auroc: 0.7719, valid accuracy: 0.7292\n",
      "minimum valid loss is 0.6288 at 50 epoch\n",
      "epochs 51: train loss: 0.6278077363967896, train auroc: 0.7851, train accuracy: 0.7394\n",
      "            valid loss: 0.6273506283760071, valid auroc: 0.7719, valid accuracy: 0.7290\n",
      "minimum valid loss is 0.6274 at 51 epoch\n",
      "epochs 52: train loss: 0.6262370347976685, train auroc: 0.7850, train accuracy: 0.7390\n",
      "            valid loss: 0.625806450843811, valid auroc: 0.7720, valid accuracy: 0.7287\n",
      "minimum valid loss is 0.6258 at 52 epoch\n",
      "epochs 53: train loss: 0.6246106624603271, train auroc: 0.7849, train accuracy: 0.7386\n",
      "            valid loss: 0.6242149472236633, valid auroc: 0.7720, valid accuracy: 0.7285\n",
      "minimum valid loss is 0.6242 at 53 epoch\n",
      "epochs 54: train loss: 0.6229342222213745, train auroc: 0.7849, train accuracy: 0.7383\n",
      "            valid loss: 0.6225818395614624, valid auroc: 0.7721, valid accuracy: 0.7283\n",
      "minimum valid loss is 0.6226 at 54 epoch\n",
      "epochs 55: train loss: 0.6212136149406433, train auroc: 0.7849, train accuracy: 0.7380\n",
      "            valid loss: 0.6209133267402649, valid auroc: 0.7722, valid accuracy: 0.7283\n",
      "minimum valid loss is 0.6209 at 55 epoch\n",
      "epochs 56: train loss: 0.6194553375244141, train auroc: 0.7849, train accuracy: 0.7377\n",
      "            valid loss: 0.6192162036895752, valid auroc: 0.7724, valid accuracy: 0.7282\n",
      "minimum valid loss is 0.6192 at 56 epoch\n",
      "epochs 57: train loss: 0.6176663041114807, train auroc: 0.7850, train accuracy: 0.7375\n",
      "            valid loss: 0.6174973845481873, valid auroc: 0.7725, valid accuracy: 0.7280\n",
      "minimum valid loss is 0.6175 at 57 epoch\n",
      "epochs 58: train loss: 0.6158538460731506, train auroc: 0.7851, train accuracy: 0.7372\n",
      "            valid loss: 0.6157642006874084, valid auroc: 0.7727, valid accuracy: 0.7279\n",
      "minimum valid loss is 0.6158 at 58 epoch\n",
      "epochs 59: train loss: 0.6140256524085999, train auroc: 0.7852, train accuracy: 0.7371\n",
      "            valid loss: 0.6140240430831909, valid auroc: 0.7729, valid accuracy: 0.7278\n",
      "minimum valid loss is 0.6140 at 59 epoch\n",
      "epochs 60: train loss: 0.6121892929077148, train auroc: 0.7854, train accuracy: 0.7369\n",
      "            valid loss: 0.6122843623161316, valid auroc: 0.7732, valid accuracy: 0.7277\n",
      "minimum valid loss is 0.6123 at 60 epoch\n",
      "epochs 61: train loss: 0.6103526949882507, train auroc: 0.7855, train accuracy: 0.7368\n",
      "            valid loss: 0.610552191734314, valid auroc: 0.7734, valid accuracy: 0.7276\n",
      "minimum valid loss is 0.6106 at 61 epoch\n",
      "epochs 62: train loss: 0.6085233688354492, train auroc: 0.7858, train accuracy: 0.7367\n",
      "            valid loss: 0.6088346838951111, valid auroc: 0.7737, valid accuracy: 0.7276\n",
      "minimum valid loss is 0.6088 at 62 epoch\n",
      "epochs 63: train loss: 0.6067084074020386, train auroc: 0.7860, train accuracy: 0.7367\n",
      "            valid loss: 0.6071385145187378, valid auroc: 0.7740, valid accuracy: 0.7277\n",
      "minimum valid loss is 0.6071 at 63 epoch\n",
      "epochs 64: train loss: 0.6049150228500366, train auroc: 0.7863, train accuracy: 0.7367\n",
      "            valid loss: 0.6054695844650269, valid auroc: 0.7744, valid accuracy: 0.7278\n",
      "minimum valid loss is 0.6055 at 64 epoch\n",
      "epochs 65: train loss: 0.6031495928764343, train auroc: 0.7866, train accuracy: 0.7367\n",
      "            valid loss: 0.6038339138031006, valid auroc: 0.7747, valid accuracy: 0.7279\n",
      "minimum valid loss is 0.6038 at 65 epoch\n",
      "epochs 66: train loss: 0.6014180183410645, train auroc: 0.7870, train accuracy: 0.7368\n",
      "            valid loss: 0.6022360920906067, valid auroc: 0.7751, valid accuracy: 0.7279\n",
      "minimum valid loss is 0.6022 at 66 epoch\n",
      "epochs 67: train loss: 0.5997254848480225, train auroc: 0.7874, train accuracy: 0.7369\n",
      "            valid loss: 0.6006806492805481, valid auroc: 0.7756, valid accuracy: 0.7281\n",
      "minimum valid loss is 0.6007 at 67 epoch\n",
      "epochs 68: train loss: 0.5980765223503113, train auroc: 0.7878, train accuracy: 0.7370\n",
      "            valid loss: 0.5991711020469666, valid auroc: 0.7760, valid accuracy: 0.7283\n",
      "minimum valid loss is 0.5992 at 68 epoch\n",
      "epochs 69: train loss: 0.5964751243591309, train auroc: 0.7883, train accuracy: 0.7372\n",
      "            valid loss: 0.597710371017456, valid auroc: 0.7765, valid accuracy: 0.7286\n",
      "minimum valid loss is 0.5977 at 69 epoch\n",
      "epochs 70: train loss: 0.5949239730834961, train auroc: 0.7888, train accuracy: 0.7374\n",
      "            valid loss: 0.5963007211685181, valid auroc: 0.7770, valid accuracy: 0.7288\n",
      "minimum valid loss is 0.5963 at 70 epoch\n",
      "epochs 71: train loss: 0.5934256315231323, train auroc: 0.7893, train accuracy: 0.7377\n",
      "            valid loss: 0.5949434041976929, valid auroc: 0.7776, valid accuracy: 0.7292\n",
      "minimum valid loss is 0.5949 at 71 epoch\n",
      "epochs 72: train loss: 0.5919815897941589, train auroc: 0.7899, train accuracy: 0.7380\n",
      "            valid loss: 0.5936393737792969, valid auroc: 0.7781, valid accuracy: 0.7295\n",
      "minimum valid loss is 0.5936 at 72 epoch\n",
      "epochs 73: train loss: 0.590592622756958, train auroc: 0.7905, train accuracy: 0.7383\n",
      "            valid loss: 0.5923888683319092, valid auroc: 0.7787, valid accuracy: 0.7297\n",
      "minimum valid loss is 0.5924 at 73 epoch\n",
      "epochs 74: train loss: 0.5892589092254639, train auroc: 0.7911, train accuracy: 0.7387\n",
      "            valid loss: 0.5911914110183716, valid auroc: 0.7793, valid accuracy: 0.7300\n",
      "minimum valid loss is 0.5912 at 74 epoch\n",
      "epochs 75: train loss: 0.5879802107810974, train auroc: 0.7918, train accuracy: 0.7390\n",
      "            valid loss: 0.590046226978302, valid auroc: 0.7800, valid accuracy: 0.7304\n",
      "minimum valid loss is 0.5900 at 75 epoch\n",
      "epochs 76: train loss: 0.586755633354187, train auroc: 0.7924, train accuracy: 0.7394\n",
      "            valid loss: 0.5889520049095154, valid auroc: 0.7806, valid accuracy: 0.7308\n",
      "minimum valid loss is 0.5890 at 76 epoch\n",
      "epochs 77: train loss: 0.5855836868286133, train auroc: 0.7931, train accuracy: 0.7399\n",
      "            valid loss: 0.5879072546958923, valid auroc: 0.7813, valid accuracy: 0.7311\n",
      "minimum valid loss is 0.5879 at 77 epoch\n",
      "epochs 78: train loss: 0.5844627618789673, train auroc: 0.7939, train accuracy: 0.7404\n",
      "            valid loss: 0.5869101285934448, valid auroc: 0.7820, valid accuracy: 0.7314\n",
      "minimum valid loss is 0.5869 at 78 epoch\n",
      "epochs 79: train loss: 0.583391010761261, train auroc: 0.7946, train accuracy: 0.7410\n",
      "            valid loss: 0.5859584212303162, valid auroc: 0.7827, valid accuracy: 0.7320\n",
      "minimum valid loss is 0.5860 at 79 epoch\n",
      "epochs 80: train loss: 0.5823661088943481, train auroc: 0.7954, train accuracy: 0.7415\n",
      "            valid loss: 0.5850500464439392, valid auroc: 0.7834, valid accuracy: 0.7325\n",
      "minimum valid loss is 0.5851 at 80 epoch\n",
      "epochs 81: train loss: 0.581385612487793, train auroc: 0.7961, train accuracy: 0.7421\n",
      "            valid loss: 0.5841827392578125, valid auroc: 0.7841, valid accuracy: 0.7329\n",
      "minimum valid loss is 0.5842 at 81 epoch\n",
      "epochs 82: train loss: 0.5804473161697388, train auroc: 0.7969, train accuracy: 0.7427\n",
      "            valid loss: 0.5833540558815002, valid auroc: 0.7849, valid accuracy: 0.7335\n",
      "minimum valid loss is 0.5834 at 82 epoch\n",
      "epochs 83: train loss: 0.5795485377311707, train auroc: 0.7977, train accuracy: 0.7434\n",
      "            valid loss: 0.5825618505477905, valid auroc: 0.7856, valid accuracy: 0.7341\n",
      "minimum valid loss is 0.5826 at 83 epoch\n",
      "epochs 84: train loss: 0.5786870718002319, train auroc: 0.7986, train accuracy: 0.7440\n",
      "            valid loss: 0.5818036794662476, valid auroc: 0.7864, valid accuracy: 0.7348\n",
      "minimum valid loss is 0.5818 at 84 epoch\n",
      "epochs 85: train loss: 0.577860414981842, train auroc: 0.7994, train accuracy: 0.7448\n",
      "            valid loss: 0.581077516078949, valid auroc: 0.7871, valid accuracy: 0.7354\n",
      "minimum valid loss is 0.5811 at 85 epoch\n",
      "epochs 86: train loss: 0.5770662426948547, train auroc: 0.8002, train accuracy: 0.7456\n",
      "            valid loss: 0.5803812742233276, valid auroc: 0.7879, valid accuracy: 0.7361\n",
      "minimum valid loss is 0.5804 at 86 epoch\n",
      "epochs 87: train loss: 0.5763022899627686, train auroc: 0.8011, train accuracy: 0.7464\n",
      "            valid loss: 0.5797128677368164, valid auroc: 0.7887, valid accuracy: 0.7367\n",
      "minimum valid loss is 0.5797 at 87 epoch\n",
      "epochs 88: train loss: 0.5755664706230164, train auroc: 0.8019, train accuracy: 0.7472\n",
      "            valid loss: 0.5790705680847168, valid auroc: 0.7894, valid accuracy: 0.7373\n",
      "minimum valid loss is 0.5791 at 88 epoch\n",
      "epochs 89: train loss: 0.5748568773269653, train auroc: 0.8028, train accuracy: 0.7480\n",
      "            valid loss: 0.5784525275230408, valid auroc: 0.7902, valid accuracy: 0.7380\n",
      "minimum valid loss is 0.5785 at 89 epoch\n",
      "epochs 90: train loss: 0.5741716623306274, train auroc: 0.8036, train accuracy: 0.7488\n",
      "            valid loss: 0.5778571963310242, valid auroc: 0.7910, valid accuracy: 0.7386\n",
      "minimum valid loss is 0.5779 at 90 epoch\n",
      "epochs 91: train loss: 0.5735090970993042, train auroc: 0.8045, train accuracy: 0.7495\n",
      "            valid loss: 0.5772832632064819, valid auroc: 0.7917, valid accuracy: 0.7392\n",
      "minimum valid loss is 0.5773 at 91 epoch\n",
      "epochs 92: train loss: 0.5728676915168762, train auroc: 0.8053, train accuracy: 0.7502\n",
      "            valid loss: 0.5767291784286499, valid auroc: 0.7925, valid accuracy: 0.7399\n",
      "minimum valid loss is 0.5767 at 92 epoch\n",
      "epochs 93: train loss: 0.5722460150718689, train auroc: 0.8062, train accuracy: 0.7511\n",
      "            valid loss: 0.5761938095092773, valid auroc: 0.7932, valid accuracy: 0.7404\n",
      "minimum valid loss is 0.5762 at 93 epoch\n",
      "epochs 94: train loss: 0.5716426968574524, train auroc: 0.8070, train accuracy: 0.7519\n",
      "            valid loss: 0.5756761431694031, valid auroc: 0.7940, valid accuracy: 0.7410\n",
      "minimum valid loss is 0.5757 at 94 epoch\n",
      "epochs 95: train loss: 0.5710566639900208, train auroc: 0.8079, train accuracy: 0.7527\n",
      "            valid loss: 0.5751749277114868, valid auroc: 0.7947, valid accuracy: 0.7417\n",
      "minimum valid loss is 0.5752 at 95 epoch\n",
      "epochs 96: train loss: 0.570486843585968, train auroc: 0.8087, train accuracy: 0.7536\n",
      "            valid loss: 0.5746895670890808, valid auroc: 0.7955, valid accuracy: 0.7423\n",
      "minimum valid loss is 0.5747 at 96 epoch\n",
      "epochs 97: train loss: 0.5699323415756226, train auroc: 0.8096, train accuracy: 0.7544\n",
      "            valid loss: 0.5742191076278687, valid auroc: 0.7962, valid accuracy: 0.7429\n",
      "minimum valid loss is 0.5742 at 97 epoch\n",
      "epochs 98: train loss: 0.569392204284668, train auroc: 0.8104, train accuracy: 0.7552\n",
      "            valid loss: 0.5737627744674683, valid auroc: 0.7969, valid accuracy: 0.7435\n",
      "minimum valid loss is 0.5738 at 98 epoch\n",
      "epochs 99: train loss: 0.5688656568527222, train auroc: 0.8112, train accuracy: 0.7560\n",
      "            valid loss: 0.5733198523521423, valid auroc: 0.7976, valid accuracy: 0.7441\n",
      "minimum valid loss is 0.5733 at 99 epoch\n",
      "epochs 100: train loss: 0.5683521032333374, train auroc: 0.8120, train accuracy: 0.7569\n",
      "            valid loss: 0.5728899240493774, valid auroc: 0.7984, valid accuracy: 0.7449\n",
      "minimum valid loss is 0.5729 at 100 epoch\n",
      "epochs 101: train loss: 0.5678508281707764, train auroc: 0.8129, train accuracy: 0.7578\n",
      "            valid loss: 0.572472333908081, valid auroc: 0.7991, valid accuracy: 0.7456\n",
      "minimum valid loss is 0.5725 at 101 epoch\n",
      "epochs 102: train loss: 0.5673613548278809, train auroc: 0.8137, train accuracy: 0.7586\n",
      "            valid loss: 0.572066605091095, valid auroc: 0.7997, valid accuracy: 0.7462\n",
      "minimum valid loss is 0.5721 at 102 epoch\n",
      "epochs 103: train loss: 0.5668830275535583, train auroc: 0.8145, train accuracy: 0.7594\n",
      "            valid loss: 0.5716721415519714, valid auroc: 0.8004, valid accuracy: 0.7469\n",
      "minimum valid loss is 0.5717 at 103 epoch\n",
      "epochs 104: train loss: 0.5664156079292297, train auroc: 0.8152, train accuracy: 0.7602\n",
      "            valid loss: 0.5712887644767761, valid auroc: 0.8011, valid accuracy: 0.7476\n",
      "minimum valid loss is 0.5713 at 104 epoch\n",
      "epochs 105: train loss: 0.5659583806991577, train auroc: 0.8160, train accuracy: 0.7610\n",
      "            valid loss: 0.5709158778190613, valid auroc: 0.8017, valid accuracy: 0.7484\n",
      "minimum valid loss is 0.5709 at 105 epoch\n",
      "epochs 106: train loss: 0.565511167049408, train auroc: 0.8168, train accuracy: 0.7618\n",
      "            valid loss: 0.5705533027648926, valid auroc: 0.8024, valid accuracy: 0.7489\n",
      "minimum valid loss is 0.5706 at 106 epoch\n",
      "epochs 107: train loss: 0.565073549747467, train auroc: 0.8175, train accuracy: 0.7626\n",
      "            valid loss: 0.570200502872467, valid auroc: 0.8030, valid accuracy: 0.7494\n",
      "minimum valid loss is 0.5702 at 107 epoch\n",
      "epochs 108: train loss: 0.5646451711654663, train auroc: 0.8183, train accuracy: 0.7634\n",
      "            valid loss: 0.5698572993278503, valid auroc: 0.8036, valid accuracy: 0.7499\n",
      "minimum valid loss is 0.5699 at 108 epoch\n",
      "epochs 109: train loss: 0.5642257332801819, train auroc: 0.8190, train accuracy: 0.7642\n",
      "            valid loss: 0.5695234537124634, valid auroc: 0.8042, valid accuracy: 0.7506\n",
      "minimum valid loss is 0.5695 at 109 epoch\n",
      "epochs 110: train loss: 0.5638148784637451, train auroc: 0.8197, train accuracy: 0.7649\n",
      "            valid loss: 0.5691984295845032, valid auroc: 0.8048, valid accuracy: 0.7512\n",
      "minimum valid loss is 0.5692 at 110 epoch\n",
      "epochs 111: train loss: 0.5634124279022217, train auroc: 0.8205, train accuracy: 0.7656\n",
      "            valid loss: 0.5688822269439697, valid auroc: 0.8054, valid accuracy: 0.7518\n",
      "minimum valid loss is 0.5689 at 111 epoch\n",
      "epochs 112: train loss: 0.5630180239677429, train auroc: 0.8212, train accuracy: 0.7663\n",
      "            valid loss: 0.5685744285583496, valid auroc: 0.8059, valid accuracy: 0.7523\n",
      "minimum valid loss is 0.5686 at 112 epoch\n",
      "epochs 113: train loss: 0.5626314878463745, train auroc: 0.8218, train accuracy: 0.7671\n",
      "            valid loss: 0.5682749152183533, valid auroc: 0.8065, valid accuracy: 0.7527\n",
      "minimum valid loss is 0.5683 at 113 epoch\n",
      "epochs 114: train loss: 0.5622524619102478, train auroc: 0.8225, train accuracy: 0.7678\n",
      "            valid loss: 0.5679833292961121, valid auroc: 0.8070, valid accuracy: 0.7532\n",
      "minimum valid loss is 0.5680 at 114 epoch\n",
      "epochs 115: train loss: 0.561880886554718, train auroc: 0.8232, train accuracy: 0.7684\n",
      "            valid loss: 0.5676995515823364, valid auroc: 0.8075, valid accuracy: 0.7536\n",
      "minimum valid loss is 0.5677 at 115 epoch\n",
      "epochs 116: train loss: 0.561516284942627, train auroc: 0.8238, train accuracy: 0.7691\n",
      "            valid loss: 0.5674232840538025, valid auroc: 0.8081, valid accuracy: 0.7540\n",
      "minimum valid loss is 0.5674 at 116 epoch\n",
      "epochs 117: train loss: 0.5611587166786194, train auroc: 0.8245, train accuracy: 0.7697\n",
      "            valid loss: 0.5671543478965759, valid auroc: 0.8085, valid accuracy: 0.7544\n",
      "minimum valid loss is 0.5672 at 117 epoch\n",
      "epochs 118: train loss: 0.5608078241348267, train auroc: 0.8251, train accuracy: 0.7703\n",
      "            valid loss: 0.5668925642967224, valid auroc: 0.8090, valid accuracy: 0.7547\n",
      "minimum valid loss is 0.5669 at 118 epoch\n",
      "epochs 119: train loss: 0.5604634881019592, train auroc: 0.8257, train accuracy: 0.7710\n",
      "            valid loss: 0.5666376948356628, valid auroc: 0.8095, valid accuracy: 0.7552\n",
      "minimum valid loss is 0.5666 at 119 epoch\n",
      "epochs 120: train loss: 0.560125470161438, train auroc: 0.8263, train accuracy: 0.7716\n",
      "            valid loss: 0.5663895606994629, valid auroc: 0.8100, valid accuracy: 0.7555\n",
      "minimum valid loss is 0.5664 at 120 epoch\n",
      "epochs 121: train loss: 0.5597935318946838, train auroc: 0.8269, train accuracy: 0.7722\n",
      "            valid loss: 0.5661481618881226, valid auroc: 0.8104, valid accuracy: 0.7558\n",
      "minimum valid loss is 0.5661 at 121 epoch\n",
      "epochs 122: train loss: 0.5594675540924072, train auroc: 0.8275, train accuracy: 0.7728\n",
      "            valid loss: 0.5659129619598389, valid auroc: 0.8108, valid accuracy: 0.7561\n",
      "minimum valid loss is 0.5659 at 122 epoch\n",
      "epochs 123: train loss: 0.5591473579406738, train auroc: 0.8280, train accuracy: 0.7734\n",
      "            valid loss: 0.5656840205192566, valid auroc: 0.8112, valid accuracy: 0.7563\n",
      "minimum valid loss is 0.5657 at 123 epoch\n",
      "epochs 124: train loss: 0.5588327646255493, train auroc: 0.8286, train accuracy: 0.7739\n",
      "            valid loss: 0.5654612183570862, valid auroc: 0.8117, valid accuracy: 0.7567\n",
      "minimum valid loss is 0.5655 at 124 epoch\n",
      "epochs 125: train loss: 0.5585235357284546, train auroc: 0.8291, train accuracy: 0.7745\n",
      "            valid loss: 0.5652441382408142, valid auroc: 0.8121, valid accuracy: 0.7569\n",
      "minimum valid loss is 0.5652 at 125 epoch\n",
      "epochs 126: train loss: 0.5582196712493896, train auroc: 0.8297, train accuracy: 0.7750\n",
      "            valid loss: 0.5650328993797302, valid auroc: 0.8124, valid accuracy: 0.7572\n",
      "minimum valid loss is 0.5650 at 126 epoch\n",
      "epochs 127: train loss: 0.5579208731651306, train auroc: 0.8302, train accuracy: 0.7755\n",
      "            valid loss: 0.5648272037506104, valid auroc: 0.8128, valid accuracy: 0.7574\n",
      "minimum valid loss is 0.5648 at 127 epoch\n",
      "epochs 128: train loss: 0.5576269626617432, train auroc: 0.8307, train accuracy: 0.7760\n",
      "            valid loss: 0.5646268725395203, valid auroc: 0.8132, valid accuracy: 0.7577\n",
      "minimum valid loss is 0.5646 at 128 epoch\n",
      "epochs 129: train loss: 0.5573379397392273, train auroc: 0.8312, train accuracy: 0.7765\n",
      "            valid loss: 0.5644317865371704, valid auroc: 0.8135, valid accuracy: 0.7579\n",
      "minimum valid loss is 0.5644 at 129 epoch\n",
      "epochs 130: train loss: 0.5570535063743591, train auroc: 0.8317, train accuracy: 0.7770\n",
      "            valid loss: 0.564241886138916, valid auroc: 0.8139, valid accuracy: 0.7581\n",
      "minimum valid loss is 0.5642 at 130 epoch\n",
      "epochs 131: train loss: 0.5567736029624939, train auroc: 0.8322, train accuracy: 0.7774\n",
      "            valid loss: 0.5640568733215332, valid auroc: 0.8142, valid accuracy: 0.7584\n",
      "minimum valid loss is 0.5641 at 131 epoch\n",
      "epochs 132: train loss: 0.5564980506896973, train auroc: 0.8326, train accuracy: 0.7779\n",
      "            valid loss: 0.563876748085022, valid auroc: 0.8145, valid accuracy: 0.7587\n",
      "minimum valid loss is 0.5639 at 132 epoch\n",
      "epochs 133: train loss: 0.5562267303466797, train auroc: 0.8331, train accuracy: 0.7784\n",
      "            valid loss: 0.5637012124061584, valid auroc: 0.8148, valid accuracy: 0.7589\n",
      "minimum valid loss is 0.5637 at 133 epoch\n",
      "epochs 134: train loss: 0.5559595823287964, train auroc: 0.8335, train accuracy: 0.7789\n",
      "            valid loss: 0.5635302662849426, valid auroc: 0.8151, valid accuracy: 0.7589\n",
      "minimum valid loss is 0.5635 at 134 epoch\n",
      "epochs 135: train loss: 0.5556962490081787, train auroc: 0.8340, train accuracy: 0.7793\n",
      "            valid loss: 0.5633637309074402, valid auroc: 0.8154, valid accuracy: 0.7591\n",
      "minimum valid loss is 0.5634 at 135 epoch\n",
      "epochs 136: train loss: 0.5554367303848267, train auroc: 0.8344, train accuracy: 0.7798\n",
      "            valid loss: 0.5632014274597168, valid auroc: 0.8157, valid accuracy: 0.7593\n",
      "minimum valid loss is 0.5632 at 136 epoch\n",
      "epochs 137: train loss: 0.5551810264587402, train auroc: 0.8349, train accuracy: 0.7802\n",
      "            valid loss: 0.5630432367324829, valid auroc: 0.8160, valid accuracy: 0.7597\n",
      "minimum valid loss is 0.5630 at 137 epoch\n",
      "epochs 138: train loss: 0.5549287796020508, train auroc: 0.8353, train accuracy: 0.7807\n",
      "            valid loss: 0.5628891587257385, valid auroc: 0.8162, valid accuracy: 0.7599\n",
      "minimum valid loss is 0.5629 at 138 epoch\n",
      "epochs 139: train loss: 0.5546800494194031, train auroc: 0.8357, train accuracy: 0.7812\n",
      "            valid loss: 0.5627388954162598, valid auroc: 0.8165, valid accuracy: 0.7600\n",
      "minimum valid loss is 0.5627 at 139 epoch\n",
      "epochs 140: train loss: 0.5544347167015076, train auroc: 0.8361, train accuracy: 0.7817\n",
      "            valid loss: 0.5625924468040466, valid auroc: 0.8167, valid accuracy: 0.7602\n",
      "minimum valid loss is 0.5626 at 140 epoch\n",
      "epochs 141: train loss: 0.5541924238204956, train auroc: 0.8365, train accuracy: 0.7821\n",
      "            valid loss: 0.5624496936798096, valid auroc: 0.8170, valid accuracy: 0.7604\n",
      "minimum valid loss is 0.5624 at 141 epoch\n",
      "epochs 142: train loss: 0.5539532899856567, train auroc: 0.8369, train accuracy: 0.7825\n",
      "            valid loss: 0.5623104572296143, valid auroc: 0.8172, valid accuracy: 0.7606\n",
      "minimum valid loss is 0.5623 at 142 epoch\n",
      "epochs 143: train loss: 0.5537171363830566, train auroc: 0.8373, train accuracy: 0.7830\n",
      "            valid loss: 0.5621746778488159, valid auroc: 0.8175, valid accuracy: 0.7608\n",
      "minimum valid loss is 0.5622 at 143 epoch\n",
      "epochs 144: train loss: 0.5534839034080505, train auroc: 0.8376, train accuracy: 0.7835\n",
      "            valid loss: 0.5620422959327698, valid auroc: 0.8177, valid accuracy: 0.7610\n",
      "minimum valid loss is 0.5620 at 144 epoch\n",
      "epochs 145: train loss: 0.5532533526420593, train auroc: 0.8380, train accuracy: 0.7839\n",
      "            valid loss: 0.5619131326675415, valid auroc: 0.8179, valid accuracy: 0.7612\n",
      "minimum valid loss is 0.5619 at 145 epoch\n",
      "epochs 146: train loss: 0.5530255436897278, train auroc: 0.8384, train accuracy: 0.7844\n",
      "            valid loss: 0.5617871284484863, valid auroc: 0.8181, valid accuracy: 0.7613\n",
      "minimum valid loss is 0.5618 at 146 epoch\n",
      "epochs 147: train loss: 0.5528002977371216, train auroc: 0.8388, train accuracy: 0.7848\n",
      "            valid loss: 0.5616641640663147, valid auroc: 0.8183, valid accuracy: 0.7615\n",
      "minimum valid loss is 0.5617 at 147 epoch\n",
      "epochs 148: train loss: 0.5525774955749512, train auroc: 0.8391, train accuracy: 0.7852\n",
      "            valid loss: 0.5615442395210266, valid auroc: 0.8185, valid accuracy: 0.7617\n",
      "minimum valid loss is 0.5615 at 148 epoch\n",
      "epochs 149: train loss: 0.5523570775985718, train auroc: 0.8395, train accuracy: 0.7857\n",
      "            valid loss: 0.5614270567893982, valid auroc: 0.8187, valid accuracy: 0.7619\n",
      "minimum valid loss is 0.5614 at 149 epoch\n",
      "epochs 150: train loss: 0.5521389842033386, train auroc: 0.8398, train accuracy: 0.7860\n",
      "            valid loss: 0.5613127946853638, valid auroc: 0.8189, valid accuracy: 0.7620\n",
      "minimum valid loss is 0.5613 at 150 epoch\n",
      "epochs 151: train loss: 0.5519230365753174, train auroc: 0.8401, train accuracy: 0.7864\n",
      "            valid loss: 0.5612012147903442, valid auroc: 0.8191, valid accuracy: 0.7621\n",
      "minimum valid loss is 0.5612 at 151 epoch\n",
      "epochs 152: train loss: 0.5517092347145081, train auroc: 0.8405, train accuracy: 0.7869\n",
      "            valid loss: 0.56109219789505, valid auroc: 0.8192, valid accuracy: 0.7622\n",
      "minimum valid loss is 0.5611 at 152 epoch\n",
      "epochs 153: train loss: 0.5514973998069763, train auroc: 0.8408, train accuracy: 0.7873\n",
      "            valid loss: 0.560985803604126, valid auroc: 0.8194, valid accuracy: 0.7623\n",
      "minimum valid loss is 0.5610 at 153 epoch\n",
      "epochs 154: train loss: 0.5512876510620117, train auroc: 0.8411, train accuracy: 0.7877\n",
      "            valid loss: 0.5608819723129272, valid auroc: 0.8196, valid accuracy: 0.7624\n",
      "minimum valid loss is 0.5609 at 154 epoch\n",
      "epochs 155: train loss: 0.5510796904563904, train auroc: 0.8415, train accuracy: 0.7881\n",
      "            valid loss: 0.5607804656028748, valid auroc: 0.8197, valid accuracy: 0.7625\n",
      "minimum valid loss is 0.5608 at 155 epoch\n",
      "epochs 156: train loss: 0.5508735179901123, train auroc: 0.8418, train accuracy: 0.7885\n",
      "            valid loss: 0.5606813430786133, valid auroc: 0.8199, valid accuracy: 0.7627\n",
      "minimum valid loss is 0.5607 at 156 epoch\n",
      "epochs 157: train loss: 0.5506690740585327, train auroc: 0.8421, train accuracy: 0.7888\n",
      "            valid loss: 0.5605844855308533, valid auroc: 0.8201, valid accuracy: 0.7627\n",
      "minimum valid loss is 0.5606 at 157 epoch\n",
      "epochs 158: train loss: 0.5504663586616516, train auroc: 0.8424, train accuracy: 0.7892\n",
      "            valid loss: 0.56048983335495, valid auroc: 0.8202, valid accuracy: 0.7628\n",
      "minimum valid loss is 0.5605 at 158 epoch\n",
      "epochs 159: train loss: 0.5502650737762451, train auroc: 0.8427, train accuracy: 0.7897\n",
      "            valid loss: 0.5603973865509033, valid auroc: 0.8204, valid accuracy: 0.7629\n",
      "minimum valid loss is 0.5604 at 159 epoch\n",
      "epochs 160: train loss: 0.5500653982162476, train auroc: 0.8430, train accuracy: 0.7901\n",
      "            valid loss: 0.5603070259094238, valid auroc: 0.8205, valid accuracy: 0.7630\n",
      "minimum valid loss is 0.5603 at 160 epoch\n",
      "epochs 161: train loss: 0.5498671531677246, train auroc: 0.8433, train accuracy: 0.7905\n",
      "            valid loss: 0.5602186918258667, valid auroc: 0.8206, valid accuracy: 0.7631\n",
      "minimum valid loss is 0.5602 at 161 epoch\n",
      "epochs 162: train loss: 0.5496703386306763, train auroc: 0.8436, train accuracy: 0.7909\n",
      "            valid loss: 0.5601323843002319, valid auroc: 0.8208, valid accuracy: 0.7632\n",
      "minimum valid loss is 0.5601 at 162 epoch\n",
      "epochs 163: train loss: 0.5494747757911682, train auroc: 0.8439, train accuracy: 0.7913\n",
      "            valid loss: 0.5600479245185852, valid auroc: 0.8209, valid accuracy: 0.7633\n",
      "minimum valid loss is 0.5600 at 163 epoch\n",
      "epochs 164: train loss: 0.5492805242538452, train auroc: 0.8442, train accuracy: 0.7917\n",
      "            valid loss: 0.5599654316902161, valid auroc: 0.8210, valid accuracy: 0.7634\n",
      "minimum valid loss is 0.5600 at 164 epoch\n",
      "epochs 165: train loss: 0.549087405204773, train auroc: 0.8445, train accuracy: 0.7921\n",
      "            valid loss: 0.559884786605835, valid auroc: 0.8211, valid accuracy: 0.7636\n",
      "minimum valid loss is 0.5599 at 165 epoch\n",
      "epochs 166: train loss: 0.548895537853241, train auroc: 0.8448, train accuracy: 0.7925\n",
      "            valid loss: 0.5598059296607971, valid auroc: 0.8213, valid accuracy: 0.7637\n",
      "minimum valid loss is 0.5598 at 166 epoch\n",
      "epochs 167: train loss: 0.5487046837806702, train auroc: 0.8451, train accuracy: 0.7929\n",
      "            valid loss: 0.5597288012504578, valid auroc: 0.8214, valid accuracy: 0.7638\n",
      "minimum valid loss is 0.5597 at 167 epoch\n",
      "epochs 168: train loss: 0.5485149025917053, train auroc: 0.8454, train accuracy: 0.7933\n",
      "            valid loss: 0.5596534013748169, valid auroc: 0.8215, valid accuracy: 0.7640\n",
      "minimum valid loss is 0.5597 at 168 epoch\n",
      "epochs 169: train loss: 0.5483261942863464, train auroc: 0.8457, train accuracy: 0.7937\n",
      "            valid loss: 0.559579610824585, valid auroc: 0.8216, valid accuracy: 0.7641\n",
      "minimum valid loss is 0.5596 at 169 epoch\n",
      "epochs 170: train loss: 0.5481383204460144, train auroc: 0.8460, train accuracy: 0.7941\n",
      "            valid loss: 0.5595074892044067, valid auroc: 0.8217, valid accuracy: 0.7641\n",
      "minimum valid loss is 0.5595 at 170 epoch\n",
      "epochs 171: train loss: 0.547951340675354, train auroc: 0.8462, train accuracy: 0.7945\n",
      "            valid loss: 0.5594369173049927, valid auroc: 0.8218, valid accuracy: 0.7642\n",
      "minimum valid loss is 0.5594 at 171 epoch\n",
      "epochs 172: train loss: 0.5477652549743652, train auroc: 0.8465, train accuracy: 0.7948\n",
      "            valid loss: 0.5593679547309875, valid auroc: 0.8219, valid accuracy: 0.7644\n",
      "minimum valid loss is 0.5594 at 172 epoch\n",
      "epochs 173: train loss: 0.5475800037384033, train auroc: 0.8468, train accuracy: 0.7952\n",
      "            valid loss: 0.5593004822731018, valid auroc: 0.8220, valid accuracy: 0.7644\n",
      "minimum valid loss is 0.5593 at 173 epoch\n",
      "epochs 174: train loss: 0.5473954081535339, train auroc: 0.8471, train accuracy: 0.7956\n",
      "            valid loss: 0.5592344403266907, valid auroc: 0.8221, valid accuracy: 0.7645\n",
      "minimum valid loss is 0.5592 at 174 epoch\n",
      "epochs 175: train loss: 0.5472115874290466, train auroc: 0.8473, train accuracy: 0.7960\n",
      "            valid loss: 0.5591698884963989, valid auroc: 0.8222, valid accuracy: 0.7646\n",
      "minimum valid loss is 0.5592 at 175 epoch\n",
      "epochs 176: train loss: 0.5470284819602966, train auroc: 0.8476, train accuracy: 0.7964\n",
      "            valid loss: 0.5591067671775818, valid auroc: 0.8223, valid accuracy: 0.7647\n",
      "minimum valid loss is 0.5591 at 176 epoch\n",
      "epochs 177: train loss: 0.5468459129333496, train auroc: 0.8479, train accuracy: 0.7968\n",
      "            valid loss: 0.5590450763702393, valid auroc: 0.8224, valid accuracy: 0.7647\n",
      "minimum valid loss is 0.5590 at 177 epoch\n",
      "epochs 178: train loss: 0.5466639995574951, train auroc: 0.8482, train accuracy: 0.7971\n",
      "            valid loss: 0.558984637260437, valid auroc: 0.8225, valid accuracy: 0.7648\n",
      "minimum valid loss is 0.5590 at 178 epoch\n",
      "epochs 179: train loss: 0.5464826226234436, train auroc: 0.8484, train accuracy: 0.7975\n",
      "            valid loss: 0.5589255094528198, valid auroc: 0.8226, valid accuracy: 0.7648\n",
      "minimum valid loss is 0.5589 at 179 epoch\n",
      "epochs 180: train loss: 0.5463018417358398, train auroc: 0.8487, train accuracy: 0.7979\n",
      "            valid loss: 0.5588677525520325, valid auroc: 0.8227, valid accuracy: 0.7649\n",
      "minimum valid loss is 0.5589 at 180 epoch\n",
      "epochs 181: train loss: 0.5461214780807495, train auroc: 0.8489, train accuracy: 0.7984\n",
      "            valid loss: 0.5588113069534302, valid auroc: 0.8228, valid accuracy: 0.7650\n",
      "minimum valid loss is 0.5588 at 181 epoch\n",
      "epochs 182: train loss: 0.5459415316581726, train auroc: 0.8492, train accuracy: 0.7988\n",
      "            valid loss: 0.5587559938430786, valid auroc: 0.8228, valid accuracy: 0.7650\n",
      "minimum valid loss is 0.5588 at 182 epoch\n",
      "epochs 183: train loss: 0.5457621216773987, train auroc: 0.8495, train accuracy: 0.7992\n",
      "            valid loss: 0.5587019324302673, valid auroc: 0.8229, valid accuracy: 0.7651\n",
      "minimum valid loss is 0.5587 at 183 epoch\n",
      "epochs 184: train loss: 0.5455830097198486, train auroc: 0.8497, train accuracy: 0.7996\n",
      "            valid loss: 0.5586491227149963, valid auroc: 0.8230, valid accuracy: 0.7651\n",
      "minimum valid loss is 0.5586 at 184 epoch\n",
      "epochs 185: train loss: 0.5454042553901672, train auroc: 0.8500, train accuracy: 0.8000\n",
      "            valid loss: 0.5585973262786865, valid auroc: 0.8231, valid accuracy: 0.7652\n",
      "minimum valid loss is 0.5586 at 185 epoch\n",
      "epochs 186: train loss: 0.5452259182929993, train auroc: 0.8503, train accuracy: 0.8004\n",
      "            valid loss: 0.5585469007492065, valid auroc: 0.8231, valid accuracy: 0.7653\n",
      "minimum valid loss is 0.5585 at 186 epoch\n",
      "epochs 187: train loss: 0.5450477600097656, train auroc: 0.8505, train accuracy: 0.8008\n",
      "            valid loss: 0.558497428894043, valid auroc: 0.8232, valid accuracy: 0.7653\n",
      "minimum valid loss is 0.5585 at 187 epoch\n",
      "epochs 188: train loss: 0.5448698997497559, train auroc: 0.8508, train accuracy: 0.8012\n",
      "            valid loss: 0.5584490895271301, valid auroc: 0.8233, valid accuracy: 0.7654\n",
      "minimum valid loss is 0.5584 at 188 epoch\n",
      "epochs 189: train loss: 0.5446923971176147, train auroc: 0.8510, train accuracy: 0.8016\n",
      "            valid loss: 0.5584018230438232, valid auroc: 0.8234, valid accuracy: 0.7656\n",
      "minimum valid loss is 0.5584 at 189 epoch\n",
      "epochs 190: train loss: 0.5445148944854736, train auroc: 0.8513, train accuracy: 0.8020\n",
      "            valid loss: 0.5583556294441223, valid auroc: 0.8234, valid accuracy: 0.7657\n",
      "minimum valid loss is 0.5584 at 190 epoch\n",
      "epochs 191: train loss: 0.5443376898765564, train auroc: 0.8515, train accuracy: 0.8024\n",
      "            valid loss: 0.5583103895187378, valid auroc: 0.8235, valid accuracy: 0.7657\n",
      "minimum valid loss is 0.5583 at 191 epoch\n",
      "epochs 192: train loss: 0.5441605448722839, train auroc: 0.8518, train accuracy: 0.8028\n",
      "            valid loss: 0.5582663416862488, valid auroc: 0.8236, valid accuracy: 0.7657\n",
      "minimum valid loss is 0.5583 at 192 epoch\n",
      "epochs 193: train loss: 0.5439836978912354, train auroc: 0.8521, train accuracy: 0.8032\n",
      "            valid loss: 0.5582230687141418, valid auroc: 0.8236, valid accuracy: 0.7658\n",
      "minimum valid loss is 0.5582 at 193 epoch\n",
      "epochs 194: train loss: 0.5438067317008972, train auroc: 0.8523, train accuracy: 0.8036\n",
      "            valid loss: 0.5581808686256409, valid auroc: 0.8237, valid accuracy: 0.7658\n",
      "minimum valid loss is 0.5582 at 194 epoch\n",
      "epochs 195: train loss: 0.5436300039291382, train auroc: 0.8526, train accuracy: 0.8041\n",
      "            valid loss: 0.5581395626068115, valid auroc: 0.8237, valid accuracy: 0.7659\n",
      "minimum valid loss is 0.5581 at 195 epoch\n",
      "epochs 196: train loss: 0.5434531569480896, train auroc: 0.8528, train accuracy: 0.8045\n",
      "            valid loss: 0.5580992698669434, valid auroc: 0.8238, valid accuracy: 0.7659\n",
      "minimum valid loss is 0.5581 at 196 epoch\n",
      "epochs 197: train loss: 0.5432764887809753, train auroc: 0.8531, train accuracy: 0.8049\n",
      "            valid loss: 0.5580597519874573, valid auroc: 0.8238, valid accuracy: 0.7659\n",
      "minimum valid loss is 0.5581 at 197 epoch\n",
      "epochs 198: train loss: 0.5430997610092163, train auroc: 0.8533, train accuracy: 0.8053\n",
      "            valid loss: 0.5580211877822876, valid auroc: 0.8239, valid accuracy: 0.7660\n",
      "minimum valid loss is 0.5580 at 198 epoch\n",
      "epochs 199: train loss: 0.5429230332374573, train auroc: 0.8536, train accuracy: 0.8058\n",
      "            valid loss: 0.5579835176467896, valid auroc: 0.8240, valid accuracy: 0.7660\n",
      "minimum valid loss is 0.5580 at 199 epoch\n",
      "epochs 200: train loss: 0.5427461266517639, train auroc: 0.8538, train accuracy: 0.8062\n",
      "            valid loss: 0.5579466819763184, valid auroc: 0.8240, valid accuracy: 0.7661\n",
      "minimum valid loss is 0.5579 at 200 epoch\n",
      "epochs 201: train loss: 0.5425692796707153, train auroc: 0.8541, train accuracy: 0.8067\n",
      "            valid loss: 0.557910680770874, valid auroc: 0.8241, valid accuracy: 0.7661\n",
      "minimum valid loss is 0.5579 at 201 epoch\n",
      "epochs 202: train loss: 0.5423923134803772, train auroc: 0.8543, train accuracy: 0.8071\n",
      "            valid loss: 0.5578754544258118, valid auroc: 0.8241, valid accuracy: 0.7661\n",
      "minimum valid loss is 0.5579 at 202 epoch\n",
      "epochs 203: train loss: 0.5422152876853943, train auroc: 0.8546, train accuracy: 0.8076\n",
      "            valid loss: 0.5578410625457764, valid auroc: 0.8242, valid accuracy: 0.7661\n",
      "minimum valid loss is 0.5578 at 203 epoch\n",
      "epochs 204: train loss: 0.542038083076477, train auroc: 0.8549, train accuracy: 0.8080\n",
      "            valid loss: 0.5578075051307678, valid auroc: 0.8242, valid accuracy: 0.7662\n",
      "minimum valid loss is 0.5578 at 204 epoch\n",
      "epochs 205: train loss: 0.5418606996536255, train auroc: 0.8551, train accuracy: 0.8084\n",
      "            valid loss: 0.5577746033668518, valid auroc: 0.8243, valid accuracy: 0.7662\n",
      "minimum valid loss is 0.5578 at 205 epoch\n",
      "epochs 206: train loss: 0.5416831970214844, train auroc: 0.8554, train accuracy: 0.8088\n",
      "            valid loss: 0.5577425360679626, valid auroc: 0.8243, valid accuracy: 0.7662\n",
      "minimum valid loss is 0.5577 at 206 epoch\n",
      "epochs 207: train loss: 0.5415055155754089, train auroc: 0.8556, train accuracy: 0.8093\n",
      "            valid loss: 0.557711124420166, valid auroc: 0.8243, valid accuracy: 0.7662\n",
      "minimum valid loss is 0.5577 at 207 epoch\n",
      "epochs 208: train loss: 0.5413275957107544, train auroc: 0.8559, train accuracy: 0.8097\n",
      "            valid loss: 0.5576805472373962, valid auroc: 0.8244, valid accuracy: 0.7663\n",
      "minimum valid loss is 0.5577 at 208 epoch\n",
      "epochs 209: train loss: 0.5411494970321655, train auroc: 0.8561, train accuracy: 0.8102\n",
      "            valid loss: 0.5576505661010742, valid auroc: 0.8244, valid accuracy: 0.7663\n",
      "minimum valid loss is 0.5577 at 209 epoch\n",
      "epochs 210: train loss: 0.5409712195396423, train auroc: 0.8564, train accuracy: 0.8106\n",
      "            valid loss: 0.5576213598251343, valid auroc: 0.8245, valid accuracy: 0.7664\n",
      "minimum valid loss is 0.5576 at 210 epoch\n",
      "epochs 211: train loss: 0.5407926440238953, train auroc: 0.8566, train accuracy: 0.8110\n",
      "            valid loss: 0.5575927495956421, valid auroc: 0.8245, valid accuracy: 0.7665\n",
      "minimum valid loss is 0.5576 at 211 epoch\n",
      "epochs 212: train loss: 0.5406137704849243, train auroc: 0.8569, train accuracy: 0.8115\n",
      "            valid loss: 0.5575648546218872, valid auroc: 0.8245, valid accuracy: 0.7665\n",
      "minimum valid loss is 0.5576 at 212 epoch\n",
      "epochs 213: train loss: 0.540434718132019, train auroc: 0.8571, train accuracy: 0.8120\n",
      "            valid loss: 0.5575376152992249, valid auroc: 0.8246, valid accuracy: 0.7666\n",
      "minimum valid loss is 0.5575 at 213 epoch\n",
      "epochs 214: train loss: 0.5402553677558899, train auroc: 0.8574, train accuracy: 0.8124\n",
      "            valid loss: 0.5575109720230103, valid auroc: 0.8246, valid accuracy: 0.7666\n",
      "minimum valid loss is 0.5575 at 214 epoch\n",
      "epochs 215: train loss: 0.5400756597518921, train auroc: 0.8576, train accuracy: 0.8129\n",
      "            valid loss: 0.5574849843978882, valid auroc: 0.8247, valid accuracy: 0.7667\n",
      "minimum valid loss is 0.5575 at 215 epoch\n",
      "epochs 216: train loss: 0.5398957133293152, train auroc: 0.8579, train accuracy: 0.8133\n",
      "            valid loss: 0.5574597120285034, valid auroc: 0.8247, valid accuracy: 0.7667\n",
      "minimum valid loss is 0.5575 at 216 epoch\n",
      "epochs 217: train loss: 0.5397154092788696, train auroc: 0.8581, train accuracy: 0.8138\n",
      "            valid loss: 0.5574349164962769, valid auroc: 0.8247, valid accuracy: 0.7667\n",
      "minimum valid loss is 0.5574 at 217 epoch\n",
      "epochs 218: train loss: 0.5395348072052002, train auroc: 0.8584, train accuracy: 0.8142\n",
      "            valid loss: 0.5574107766151428, valid auroc: 0.8248, valid accuracy: 0.7667\n",
      "minimum valid loss is 0.5574 at 218 epoch\n",
      "epochs 219: train loss: 0.5393539071083069, train auroc: 0.8587, train accuracy: 0.8147\n",
      "            valid loss: 0.5573872327804565, valid auroc: 0.8248, valid accuracy: 0.7668\n",
      "minimum valid loss is 0.5574 at 219 epoch\n",
      "epochs 220: train loss: 0.5391725301742554, train auroc: 0.8589, train accuracy: 0.8152\n",
      "            valid loss: 0.5573642253875732, valid auroc: 0.8248, valid accuracy: 0.7668\n",
      "minimum valid loss is 0.5574 at 220 epoch\n",
      "epochs 221: train loss: 0.5389909148216248, train auroc: 0.8592, train accuracy: 0.8156\n",
      "            valid loss: 0.5573418140411377, valid auroc: 0.8249, valid accuracy: 0.7668\n",
      "minimum valid loss is 0.5573 at 221 epoch\n",
      "epochs 222: train loss: 0.5388089418411255, train auroc: 0.8594, train accuracy: 0.8161\n",
      "            valid loss: 0.5573199391365051, valid auroc: 0.8249, valid accuracy: 0.7668\n",
      "minimum valid loss is 0.5573 at 222 epoch\n",
      "epochs 223: train loss: 0.5386265516281128, train auroc: 0.8597, train accuracy: 0.8165\n",
      "            valid loss: 0.5572987198829651, valid auroc: 0.8249, valid accuracy: 0.7668\n",
      "minimum valid loss is 0.5573 at 223 epoch\n",
      "epochs 224: train loss: 0.5384438633918762, train auroc: 0.8599, train accuracy: 0.8170\n",
      "            valid loss: 0.5572779178619385, valid auroc: 0.8249, valid accuracy: 0.7668\n",
      "minimum valid loss is 0.5573 at 224 epoch\n",
      "epochs 225: train loss: 0.5382606983184814, train auroc: 0.8602, train accuracy: 0.8174\n",
      "            valid loss: 0.5572576522827148, valid auroc: 0.8250, valid accuracy: 0.7668\n",
      "minimum valid loss is 0.5573 at 225 epoch\n",
      "epochs 226: train loss: 0.5380771160125732, train auroc: 0.8604, train accuracy: 0.8179\n",
      "            valid loss: 0.5572380423545837, valid auroc: 0.8250, valid accuracy: 0.7668\n",
      "minimum valid loss is 0.5572 at 226 epoch\n",
      "epochs 227: train loss: 0.5378932356834412, train auroc: 0.8607, train accuracy: 0.8184\n",
      "            valid loss: 0.5572188496589661, valid auroc: 0.8250, valid accuracy: 0.7668\n",
      "minimum valid loss is 0.5572 at 227 epoch\n",
      "epochs 228: train loss: 0.5377089381217957, train auroc: 0.8609, train accuracy: 0.8189\n",
      "            valid loss: 0.5572001934051514, valid auroc: 0.8250, valid accuracy: 0.7668\n",
      "minimum valid loss is 0.5572 at 228 epoch\n",
      "epochs 229: train loss: 0.5375242233276367, train auroc: 0.8612, train accuracy: 0.8193\n",
      "            valid loss: 0.5571820735931396, valid auroc: 0.8251, valid accuracy: 0.7668\n",
      "minimum valid loss is 0.5572 at 229 epoch\n",
      "epochs 230: train loss: 0.5373390913009644, train auroc: 0.8615, train accuracy: 0.8198\n",
      "            valid loss: 0.5571644902229309, valid auroc: 0.8251, valid accuracy: 0.7668\n",
      "minimum valid loss is 0.5572 at 230 epoch\n",
      "epochs 231: train loss: 0.5371536016464233, train auroc: 0.8617, train accuracy: 0.8203\n",
      "            valid loss: 0.5571473836898804, valid auroc: 0.8251, valid accuracy: 0.7669\n",
      "minimum valid loss is 0.5571 at 231 epoch\n",
      "epochs 232: train loss: 0.5369676351547241, train auroc: 0.8620, train accuracy: 0.8208\n",
      "            valid loss: 0.557130753993988, valid auroc: 0.8251, valid accuracy: 0.7670\n",
      "minimum valid loss is 0.5571 at 232 epoch\n",
      "epochs 233: train loss: 0.5367812514305115, train auroc: 0.8622, train accuracy: 0.8213\n",
      "            valid loss: 0.5571146607398987, valid auroc: 0.8252, valid accuracy: 0.7670\n",
      "minimum valid loss is 0.5571 at 233 epoch\n",
      "epochs 234: train loss: 0.536594569683075, train auroc: 0.8625, train accuracy: 0.8217\n",
      "            valid loss: 0.5570990443229675, valid auroc: 0.8252, valid accuracy: 0.7670\n",
      "minimum valid loss is 0.5571 at 234 epoch\n",
      "epochs 235: train loss: 0.5364073514938354, train auroc: 0.8627, train accuracy: 0.8222\n",
      "            valid loss: 0.5570839047431946, valid auroc: 0.8252, valid accuracy: 0.7670\n",
      "minimum valid loss is 0.5571 at 235 epoch\n",
      "epochs 236: train loss: 0.5362197160720825, train auroc: 0.8630, train accuracy: 0.8227\n",
      "            valid loss: 0.5570692420005798, valid auroc: 0.8252, valid accuracy: 0.7670\n",
      "minimum valid loss is 0.5571 at 236 epoch\n",
      "epochs 237: train loss: 0.5360316038131714, train auroc: 0.8633, train accuracy: 0.8232\n",
      "            valid loss: 0.5570551156997681, valid auroc: 0.8252, valid accuracy: 0.7670\n",
      "minimum valid loss is 0.5571 at 237 epoch\n",
      "epochs 238: train loss: 0.5358430743217468, train auroc: 0.8635, train accuracy: 0.8237\n",
      "            valid loss: 0.5570414066314697, valid auroc: 0.8252, valid accuracy: 0.7671\n",
      "minimum valid loss is 0.5570 at 238 epoch\n",
      "epochs 239: train loss: 0.5356541872024536, train auroc: 0.8638, train accuracy: 0.8241\n",
      "            valid loss: 0.5570281744003296, valid auroc: 0.8253, valid accuracy: 0.7671\n",
      "minimum valid loss is 0.5570 at 239 epoch\n",
      "epochs 240: train loss: 0.535464882850647, train auroc: 0.8640, train accuracy: 0.8246\n",
      "            valid loss: 0.5570153594017029, valid auroc: 0.8253, valid accuracy: 0.7671\n",
      "minimum valid loss is 0.5570 at 240 epoch\n",
      "epochs 241: train loss: 0.5352751016616821, train auroc: 0.8643, train accuracy: 0.8251\n",
      "            valid loss: 0.5570030808448792, valid auroc: 0.8253, valid accuracy: 0.7671\n",
      "minimum valid loss is 0.5570 at 241 epoch\n",
      "epochs 242: train loss: 0.5350848436355591, train auroc: 0.8646, train accuracy: 0.8256\n",
      "            valid loss: 0.5569912195205688, valid auroc: 0.8253, valid accuracy: 0.7672\n",
      "minimum valid loss is 0.5570 at 242 epoch\n",
      "epochs 243: train loss: 0.5348941683769226, train auroc: 0.8648, train accuracy: 0.8261\n",
      "            valid loss: 0.556979775428772, valid auroc: 0.8253, valid accuracy: 0.7672\n",
      "minimum valid loss is 0.5570 at 243 epoch\n",
      "epochs 244: train loss: 0.5347030758857727, train auroc: 0.8651, train accuracy: 0.8266\n",
      "            valid loss: 0.5569687485694885, valid auroc: 0.8253, valid accuracy: 0.7672\n",
      "minimum valid loss is 0.5570 at 244 epoch\n",
      "epochs 245: train loss: 0.5345114469528198, train auroc: 0.8653, train accuracy: 0.8271\n",
      "            valid loss: 0.5569582581520081, valid auroc: 0.8253, valid accuracy: 0.7672\n",
      "minimum valid loss is 0.5570 at 245 epoch\n",
      "epochs 246: train loss: 0.5343194603919983, train auroc: 0.8656, train accuracy: 0.8276\n",
      "            valid loss: 0.5569481253623962, valid auroc: 0.8254, valid accuracy: 0.7672\n",
      "minimum valid loss is 0.5569 at 246 epoch\n",
      "epochs 247: train loss: 0.5341269373893738, train auroc: 0.8659, train accuracy: 0.8280\n",
      "            valid loss: 0.5569384098052979, valid auroc: 0.8254, valid accuracy: 0.7673\n",
      "minimum valid loss is 0.5569 at 247 epoch\n",
      "epochs 248: train loss: 0.5339341163635254, train auroc: 0.8661, train accuracy: 0.8285\n",
      "            valid loss: 0.5569291114807129, valid auroc: 0.8254, valid accuracy: 0.7673\n",
      "minimum valid loss is 0.5569 at 248 epoch\n",
      "epochs 249: train loss: 0.533740758895874, train auroc: 0.8664, train accuracy: 0.8290\n",
      "            valid loss: 0.5569202899932861, valid auroc: 0.8254, valid accuracy: 0.7673\n",
      "minimum valid loss is 0.5569 at 249 epoch\n",
      "epochs 250: train loss: 0.533547043800354, train auroc: 0.8666, train accuracy: 0.8296\n",
      "            valid loss: 0.556911826133728, valid auroc: 0.8254, valid accuracy: 0.7673\n",
      "minimum valid loss is 0.5569 at 250 epoch\n",
      "epochs 251: train loss: 0.5333527326583862, train auroc: 0.8669, train accuracy: 0.8300\n",
      "            valid loss: 0.5569038391113281, valid auroc: 0.8254, valid accuracy: 0.7674\n",
      "minimum valid loss is 0.5569 at 251 epoch\n",
      "epochs 252: train loss: 0.5331581234931946, train auroc: 0.8672, train accuracy: 0.8305\n",
      "            valid loss: 0.5568961501121521, valid auroc: 0.8254, valid accuracy: 0.7674\n",
      "minimum valid loss is 0.5569 at 252 epoch\n",
      "epochs 253: train loss: 0.5329630374908447, train auroc: 0.8674, train accuracy: 0.8310\n",
      "            valid loss: 0.5568889379501343, valid auroc: 0.8254, valid accuracy: 0.7675\n",
      "minimum valid loss is 0.5569 at 253 epoch\n",
      "epochs 254: train loss: 0.5327675342559814, train auroc: 0.8677, train accuracy: 0.8315\n",
      "            valid loss: 0.5568820834159851, valid auroc: 0.8254, valid accuracy: 0.7675\n",
      "minimum valid loss is 0.5569 at 254 epoch\n",
      "epochs 255: train loss: 0.53257155418396, train auroc: 0.8679, train accuracy: 0.8320\n",
      "            valid loss: 0.5568755269050598, valid auroc: 0.8254, valid accuracy: 0.7675\n",
      "minimum valid loss is 0.5569 at 255 epoch\n",
      "epochs 256: train loss: 0.5323752164840698, train auroc: 0.8682, train accuracy: 0.8325\n",
      "            valid loss: 0.556869387626648, valid auroc: 0.8254, valid accuracy: 0.7675\n",
      "minimum valid loss is 0.5569 at 256 epoch\n",
      "epochs 257: train loss: 0.5321784615516663, train auroc: 0.8685, train accuracy: 0.8330\n",
      "            valid loss: 0.5568637251853943, valid auroc: 0.8254, valid accuracy: 0.7675\n",
      "minimum valid loss is 0.5569 at 257 epoch\n",
      "epochs 258: train loss: 0.5319812893867493, train auroc: 0.8687, train accuracy: 0.8335\n",
      "            valid loss: 0.5568583607673645, valid auroc: 0.8254, valid accuracy: 0.7675\n",
      "minimum valid loss is 0.5569 at 258 epoch\n",
      "epochs 259: train loss: 0.5317835807800293, train auroc: 0.8690, train accuracy: 0.8340\n",
      "            valid loss: 0.5568534135818481, valid auroc: 0.8254, valid accuracy: 0.7675\n",
      "minimum valid loss is 0.5569 at 259 epoch\n",
      "epochs 260: train loss: 0.5315855741500854, train auroc: 0.8692, train accuracy: 0.8345\n",
      "            valid loss: 0.5568487048149109, valid auroc: 0.8254, valid accuracy: 0.7675\n",
      "minimum valid loss is 0.5568 at 260 epoch\n",
      "epochs 261: train loss: 0.5313871502876282, train auroc: 0.8695, train accuracy: 0.8350\n",
      "            valid loss: 0.5568444132804871, valid auroc: 0.8254, valid accuracy: 0.7676\n",
      "minimum valid loss is 0.5568 at 261 epoch\n",
      "epochs 262: train loss: 0.5311883687973022, train auroc: 0.8698, train accuracy: 0.8355\n",
      "            valid loss: 0.5568404793739319, valid auroc: 0.8254, valid accuracy: 0.7676\n",
      "minimum valid loss is 0.5568 at 262 epoch\n",
      "epochs 263: train loss: 0.5309890508651733, train auroc: 0.8700, train accuracy: 0.8360\n",
      "            valid loss: 0.5568369030952454, valid auroc: 0.8254, valid accuracy: 0.7677\n",
      "minimum valid loss is 0.5568 at 263 epoch\n",
      "epochs 264: train loss: 0.5307894349098206, train auroc: 0.8703, train accuracy: 0.8365\n",
      "            valid loss: 0.5568336248397827, valid auroc: 0.8254, valid accuracy: 0.7676\n",
      "minimum valid loss is 0.5568 at 264 epoch\n",
      "epochs 265: train loss: 0.5305894017219543, train auroc: 0.8705, train accuracy: 0.8370\n",
      "            valid loss: 0.5568307042121887, valid auroc: 0.8254, valid accuracy: 0.7676\n",
      "minimum valid loss is 0.5568 at 265 epoch\n",
      "epochs 266: train loss: 0.530389130115509, train auroc: 0.8708, train accuracy: 0.8375\n",
      "            valid loss: 0.5568282008171082, valid auroc: 0.8254, valid accuracy: 0.7676\n",
      "minimum valid loss is 0.5568 at 266 epoch\n",
      "epochs 267: train loss: 0.5301883816719055, train auroc: 0.8711, train accuracy: 0.8380\n",
      "            valid loss: 0.5568258762359619, valid auroc: 0.8254, valid accuracy: 0.7676\n",
      "minimum valid loss is 0.5568 at 267 epoch\n",
      "epochs 268: train loss: 0.5299872756004333, train auroc: 0.8713, train accuracy: 0.8385\n",
      "            valid loss: 0.5568239688873291, valid auroc: 0.8254, valid accuracy: 0.7676\n",
      "minimum valid loss is 0.5568 at 268 epoch\n",
      "epochs 269: train loss: 0.5297857522964478, train auroc: 0.8716, train accuracy: 0.8390\n",
      "            valid loss: 0.5568223595619202, valid auroc: 0.8254, valid accuracy: 0.7677\n",
      "minimum valid loss is 0.5568 at 269 epoch\n",
      "epochs 270: train loss: 0.5295838713645935, train auroc: 0.8718, train accuracy: 0.8395\n",
      "            valid loss: 0.5568211078643799, valid auroc: 0.8254, valid accuracy: 0.7676\n",
      "minimum valid loss is 0.5568 at 270 epoch\n",
      "epochs 271: train loss: 0.5293817520141602, train auroc: 0.8721, train accuracy: 0.8400\n",
      "            valid loss: 0.5568201541900635, valid auroc: 0.8254, valid accuracy: 0.7676\n",
      "minimum valid loss is 0.5568 at 271 epoch\n",
      "epochs 272: train loss: 0.5291792750358582, train auroc: 0.8724, train accuracy: 0.8405\n",
      "            valid loss: 0.5568195581436157, valid auroc: 0.8254, valid accuracy: 0.7675\n",
      "minimum valid loss is 0.5568 at 272 epoch\n",
      "epochs 273: train loss: 0.5289763808250427, train auroc: 0.8726, train accuracy: 0.8410\n",
      "            valid loss: 0.5568192005157471, valid auroc: 0.8254, valid accuracy: 0.7675\n",
      "minimum valid loss is 0.5568 at 273 epoch\n",
      "epochs 274: train loss: 0.5287732481956482, train auroc: 0.8729, train accuracy: 0.8415\n",
      "            valid loss: 0.5568191409111023, valid auroc: 0.8254, valid accuracy: 0.7675\n",
      "minimum valid loss is 0.5568 at 274 epoch\n",
      "epochs 275: train loss: 0.528569757938385, train auroc: 0.8732, train accuracy: 0.8420\n",
      "            valid loss: 0.5568194389343262, valid auroc: 0.8254, valid accuracy: 0.7675\n",
      "epochs 276: train loss: 0.528365969657898, train auroc: 0.8734, train accuracy: 0.8425\n",
      "            valid loss: 0.5568200349807739, valid auroc: 0.8254, valid accuracy: 0.7675\n",
      "epochs 277: train loss: 0.528161883354187, train auroc: 0.8737, train accuracy: 0.8430\n",
      "            valid loss: 0.5568208694458008, valid auroc: 0.8254, valid accuracy: 0.7676\n",
      "epochs 278: train loss: 0.5279574990272522, train auroc: 0.8739, train accuracy: 0.8435\n",
      "            valid loss: 0.5568220019340515, valid auroc: 0.8254, valid accuracy: 0.7676\n",
      "epochs 279: train loss: 0.5277528762817383, train auroc: 0.8742, train accuracy: 0.8440\n",
      "            valid loss: 0.5568234324455261, valid auroc: 0.8254, valid accuracy: 0.7676\n",
      "early stopped at 279 epoch\n"
     ]
    }
   ],
   "source": [
    "least_loss, num = 1e+9, 0\n",
    "\n",
    "for e in range(epochs):\n",
    "    # train\n",
    "    train_loss, train_auroc, train_accuracy = train(optimizer, model, train_edges, train_edge_labels)\n",
    "    # valid\n",
    "    valid_loss, valid_auroc, valid_accuracy = validate(optimizer, model, valid_edges, valid_edge_labels)\n",
    "    print(f\"epochs {e}: train loss: {train_loss}, train auroc: {train_auroc:.4f}, train accuracy: {train_accuracy:.4f}\")\n",
    "    print(f\"            valid loss: {valid_loss}, valid auroc: {valid_auroc:.4f}, valid accuracy: {valid_accuracy:.4f}\")\n",
    "    \n",
    "    if valid_loss < least_loss:\n",
    "        print(f'minimum valid loss is {valid_loss:.4f} at {e} epoch')\n",
    "        least_loss, num = valid_loss, 0\n",
    "        best_auc, best_epochs = valid_auroc, e\n",
    "        best_model = deepcopy(model.state_dict())\n",
    "    else:\n",
    "        num += 1\n",
    "        if num >= patience:\n",
    "            print(f'early stopped at {e} epoch')\n",
    "            break\n",
    "\n",
    "    # lr_scheduler.step(valid_loss)"
   ]
  },
  {
   "cell_type": "code",
   "execution_count": 21,
   "metadata": {},
   "outputs": [
    {
     "data": {
      "text/plain": [
       "<All keys matched successfully>"
      ]
     },
     "execution_count": 21,
     "metadata": {},
     "output_type": "execute_result"
    }
   ],
   "source": [
    "model.load_state_dict(best_model)"
   ]
  },
  {
   "cell_type": "code",
   "execution_count": 34,
   "metadata": {},
   "outputs": [
    {
     "data": {
      "text/plain": [
       "274"
      ]
     },
     "execution_count": 34,
     "metadata": {},
     "output_type": "execute_result"
    }
   ],
   "source": [
    "best_epochs"
   ]
  },
  {
   "cell_type": "code",
   "execution_count": 22,
   "metadata": {},
   "outputs": [
    {
     "name": "stdout",
     "output_type": "stream",
     "text": [
      "train loss: 0.528569757938385, train auroc: 0.8732, train accuracy: 0.8420\n",
      "valid loss: 0.5568188428878784, valid auroc: 0.8254, valid accuracy: 0.7675\n"
     ]
    }
   ],
   "source": [
    "train_loss, train_auroc, train_accuracy = train(optimizer, model, train_edges, train_edge_labels)\n",
    "print(f\"train loss: {train_loss}, train auroc: {train_auroc:.4f}, train accuracy: {train_accuracy:.4f}\")\n",
    "valid_loss, valid_auroc, valid_accuracy = validate(optimizer, model, valid_edges, valid_edge_labels)\n",
    "print(f\"valid loss: {valid_loss}, valid auroc: {valid_auroc:.4f}, valid accuracy: {valid_accuracy:.4f}\")"
   ]
  },
  {
   "cell_type": "code",
   "execution_count": 23,
   "metadata": {},
   "outputs": [
    {
     "data": {
      "text/plain": [
       "tensor([9.9723e-01, 1.6548e-01, 9.9336e-01,  ..., 6.0056e-04, 9.9950e-01,\n",
       "        9.9557e-01], device='cuda:0', grad_fn=<SigmoidBackward0>)"
      ]
     },
     "execution_count": 23,
     "metadata": {},
     "output_type": "execute_result"
    }
   ],
   "source": [
    "model.predict_link(valid_edges, prob=True)"
   ]
  },
  {
   "cell_type": "code",
   "execution_count": 24,
   "metadata": {},
   "outputs": [
    {
     "data": {
      "text/plain": [
       "tensor([0.0182, 0.9775, 0.5714,  ..., 0.9961, 0.9993, 0.8813], device='cuda:0',\n",
       "       grad_fn=<SigmoidBackward0>)"
      ]
     },
     "execution_count": 24,
     "metadata": {},
     "output_type": "execute_result"
    }
   ],
   "source": [
    "model.predict_link(train_edges, prob=True)"
   ]
  },
  {
   "cell_type": "code",
   "execution_count": 25,
   "metadata": {},
   "outputs": [
    {
     "data": {
      "text/plain": [
       "(tensor(0.6054, device='cuda:0',\n",
       "        grad_fn=<BinaryCrossEntropyWithLogitsBackward0>),\n",
       " 0.8513841649458016,\n",
       " 0.8156166019707375)"
      ]
     },
     "execution_count": 25,
     "metadata": {},
     "output_type": "execute_result"
    }
   ],
   "source": [
    "# 학습, 검증 엣지 텐서로 변환 & transpose\n",
    "train_last_edges = torch.tensor(train_last_edges).T.to(device)\n",
    "test_last_edges = torch.tensor(test_last_edges).T.to(device)\n",
    "\n",
    "# 학습, 검증 레이블 텐서로 변환 & unsqueeze\n",
    "train_last_edge_labels = torch.tensor(train_last_edge_labels).squeeze(-1).to(device)\n",
    "test_last_edge_labels = torch.tensor(test_last_edge_labels).squeeze(-1).to(device)\n",
    "\n",
    "train_last_loss, train_last_auroc, train_last_accuracy =\\\n",
    "    validate(optimizer, model, train_last_edges, train_last_edge_labels)\n",
    "train_last_loss, train_last_auroc, train_last_accuracy"
   ]
  },
  {
   "cell_type": "code",
   "execution_count": 26,
   "metadata": {},
   "outputs": [],
   "source": [
    "model.eval()\n",
    "preds = model.predict_link(test_last_edges, prob=True)\n",
    "preds = preds.detach().cpu().numpy()"
   ]
  },
  {
   "cell_type": "code",
   "execution_count": 27,
   "metadata": {},
   "outputs": [
    {
     "data": {
      "text/plain": [
       "array([0.08815 , 0.97398 , 0.006145, 0.683157, 0.023222, 0.968662,\n",
       "       0.022186, 0.03584 , 0.000186, 0.741616], dtype=float32)"
      ]
     },
     "execution_count": 27,
     "metadata": {},
     "output_type": "execute_result"
    }
   ],
   "source": [
    "np.set_printoptions(precision=6, suppress=True)\n",
    "preds[:10]"
   ]
  },
  {
   "cell_type": "code",
   "execution_count": 28,
   "metadata": {},
   "outputs": [],
   "source": [
    "from datetime import datetime as dt\n",
    "submission_df = pd.read_csv(os.path.join(data_dir, 'sample_submission.csv'))\n",
    "modelname = 'lightgcn'"
   ]
  },
  {
   "cell_type": "code",
   "execution_count": 33,
   "metadata": {},
   "outputs": [],
   "source": [
    "submission_df['prediction'] = preds"
   ]
  },
  {
   "cell_type": "code",
   "execution_count": 30,
   "metadata": {},
   "outputs": [
    {
     "data": {
      "text/plain": [
       "0      0.088150\n",
       "1      0.973980\n",
       "2      0.006145\n",
       "3      0.683157\n",
       "4      0.023222\n",
       "         ...   \n",
       "739    0.022927\n",
       "740    0.325030\n",
       "741    0.973013\n",
       "742    0.758820\n",
       "743    0.428707\n",
       "Name: prediction, Length: 744, dtype: float32"
      ]
     },
     "execution_count": 30,
     "metadata": {},
     "output_type": "execute_result"
    }
   ],
   "source": [
    "submission_df['prediction']"
   ]
  },
  {
   "cell_type": "code",
   "execution_count": 32,
   "metadata": {},
   "outputs": [],
   "source": [
    "now = dt.strftime(dt.now(), '%y%m%d-%H%M%S')\n",
    "result_dir = '../results/'\n",
    "savename = f'{modelname}_{now}_{valid_auroc:.4f}.csv'\n",
    "submission_df.to_csv(os.path.join(result_dir, savename), index=False)"
   ]
  },
  {
   "cell_type": "code",
   "execution_count": 38,
   "metadata": {},
   "outputs": [
    {
     "data": {
      "text/plain": [
       "torch.Size([16896, 128])"
      ]
     },
     "execution_count": 38,
     "metadata": {},
     "output_type": "execute_result"
    }
   ],
   "source": [
    "model.get_embedding(train_last_edges).size()"
   ]
  },
  {
   "cell_type": "code",
   "execution_count": 46,
   "metadata": {},
   "outputs": [
    {
     "name": "stderr",
     "output_type": "stream",
     "text": [
      "/tmp/ipykernel_225790/863483139.py:2: UserWarning: To copy construct from a tensor, it is recommended to use sourceTensor.clone().detach() or sourceTensor.clone().detach().requires_grad_(True), rather than torch.tensor(sourceTensor).\n",
      "  total_edges = torch.tensor(total_edges).T.to(device)\n"
     ]
    },
    {
     "data": {
      "text/plain": [
       "torch.Size([16896, 128])"
      ]
     },
     "execution_count": 46,
     "metadata": {},
     "output_type": "execute_result"
    }
   ],
   "source": [
    "# 학습, 검증 엣지 텐서로 변환 & transpose\n",
    "total_edges = torch.tensor(total_edges).T.to(device)\n",
    "node_embeddings = model.get_embedding(total_edges)\n",
    "node_embeddings.size()"
   ]
  },
  {
   "cell_type": "code",
   "execution_count": 50,
   "metadata": {},
   "outputs": [],
   "source": [
    "user_index2id = {index: uid for uid,index in user_id2index.items()}\n",
    "item_index2id = {index: iid for iid,index in item_id2index.items()}"
   ]
  },
  {
   "cell_type": "code",
   "execution_count": 61,
   "metadata": {},
   "outputs": [],
   "source": [
    "user_embeddings = {uid: ue for uid,ue in zip(user_index2id.values(), node_embeddings)}\n",
    "item_embeddings = {iid: ue for iid,ue in zip(item_index2id.values(), node_embeddings)}"
   ]
  },
  {
   "cell_type": "code",
   "execution_count": null,
   "metadata": {},
   "outputs": [],
   "source": [
    "data = {\n",
    "    'user_embeddings': user_embeddings,\n",
    "    'item_embeddings': item_embeddings\n",
    "}"
   ]
  },
  {
   "cell_type": "code",
   "execution_count": null,
   "metadata": {},
   "outputs": [
    {
     "data": {
      "text/plain": [
       "dict_values(['A060001001', 'A060001002', 'A060001003', 'A060001004', 'A060001005', 'A060001007', 'A060003001', 'A060003002', 'A060003003', 'A060003004', 'A060003005', 'A060003006', 'A060003007', 'A060005001', 'A060005002', 'A060005003', 'A060005004', 'A060005005', 'A060005006', 'A060005007', 'A060007001', 'A060007002', 'A060007003', 'A060007004', 'A060007005', 'A060007006', 'A060007007', 'A080002001', 'A080002002', 'A080002003', 'A080002004', 'A080002005', 'A080002006', 'A060009001', 'A060009002', 'A060009003', 'A060009004', 'A060009005', 'A060009006', 'A060009007', 'A060016001', 'A060016002', 'A060016003', 'A060016004', 'A060016005', 'A060016006', 'A060016007', 'A080004001', 'A080004002', 'A080004003', 'A080004004', 'A080004005', 'A080004006', 'A080004008', 'A080004007', 'A080006001', 'A080006002', 'A080006003', 'A080006004', 'A080006005', 'A080006006', 'A080006007', 'A080006008', 'A060018001', 'A060018002', 'A060018003', 'A060018004', 'A060018005', 'A060018006', 'A060018007', 'A060020001', 'A060020002', 'A060020003', 'A060020004', 'A060020005', 'A060020006', 'A060020007', 'A080008008', 'A080008001', 'A080008002', 'A080008003', 'A080008004', 'A080008005', 'A080008006', 'A080008007', 'A080010001', 'A080010002', 'A080010003', 'A080010004', 'A080010005', 'A080010006', 'A080010007', 'A080010008', 'A060022001', 'A060022002', 'A060022003', 'A060022004', 'A060022005', 'A060022006', 'A060022007', 'A080012001', 'A080012002', 'A080012003', 'A080012008', 'A080012004', 'A080012005', 'A080012006', 'A080012007', 'A080014001', 'A080014002', 'A080014003', 'A080014004', 'A080014005', 'A080014008', 'A080014006', 'A080014007', 'A080016001', 'A080016002', 'A080016004', 'A080016003', 'A080016005', 'A080016006', 'A080016007', 'A080016008', 'A060024001', 'A060024002', 'A060024003', 'A060024004', 'A060024005', 'A060024006', 'A060024007', 'A080018001', 'A080018002', 'A080018003', 'A080018004', 'A080018006', 'A080018005', 'A080018007', 'A080018008', 'A080020008', 'A080020001', 'A080020002', 'A080020003', 'A080020004', 'A080020005', 'A080020007', 'A080020006', 'A060031001', 'A060031002', 'A060031003', 'A060031004', 'A060031005', 'A060031006', 'A060031007', 'A060033001', 'A060033002', 'A060033003', 'A060033004', 'A060033005', 'A060033006', 'A060033007', 'A060035001', 'A060035002', 'A060035003', 'A060035004', 'A060035005', 'A060035006', 'A060035007', 'A060037001', 'A060037002', 'A060037003', 'A060037004', 'A060037005', 'A060037006', 'A060037007', 'A080022001', 'A080022002', 'A080022003', 'A080022004', 'A080022006', 'A080022005', 'A060039001', 'A060039002', 'A060039003', 'A060039004', 'A060039005', 'A060039006', 'A060039007', 'A080024001', 'A080024002', 'A080024003', 'A080024004', 'A080024005', 'A080024006', 'A060041001', 'A060041002', 'A060041003', 'A060041004', 'A060041005', 'A060041006', 'A060041007', 'A080035001', 'A080035002', 'A080035003', 'A080035004', 'A080035005', 'A080035006', 'A080035007', 'A080035008', 'A060043001', 'A060043002', 'A060043003', 'A060043004', 'A060043005', 'A060043006', 'A060043007', 'A080036001', 'A080036002', 'A080036003', 'A080036004', 'A080036005', 'A080036006', 'A080036007', 'A080036008', 'A080037001', 'A080037002', 'A080037003', 'A080037004', 'A080037005', 'A080037006', 'A080037007', 'A080037008', 'A060052001', 'A060052002', 'A060052003', 'A060052004', 'A060052005', 'A060052006', 'A060052007', 'A060054001', 'A060054002', 'A060054003', 'A060054004', 'A060054005', 'A060054006', 'A060054007', 'A080038001', 'A080038002', 'A080038003', 'A080038004', 'A080038005', 'A080038006', 'A080038008', 'A080038007', 'A060056001', 'A060056002', 'A060056003', 'A060056004', 'A060056005', 'A060056006', 'A060056007', 'A080039001', 'A080039003', 'A080039002', 'A080039004', 'A080039006', 'A080039005', 'A080039007', 'A080039008', 'A060058001', 'A060058002', 'A060058003', 'A060058004', 'A060058005', 'A060058006', 'A060058007', 'A060060001', 'A060060002', 'A060060003', 'A060060004', 'A060060005', 'A060060006', 'A060060007', 'A080040001', 'A080040002', 'A080040003', 'A080040004', 'A080040005', 'A080040006', 'A060062001', 'A060062002', 'A060062003', 'A060062004', 'A060062005', 'A060062006', 'A060062007', 'A080041001', 'A080041002', 'A080041003', 'A080041004', 'A080041005', 'A080041006', 'A080042001', 'A080042002', 'A080042003', 'A080042004', 'A080042005', 'A080042006', 'A080042007', 'A080042008', 'A060070001', 'A060070002', 'A060070003', 'A060070004', 'A060070005', 'A060070006', 'A060070007', 'A060072001', 'A060072002', 'A060072003', 'A060072004', 'A060072005', 'A060072006', 'A060072007', 'A080043001', 'A080043002', 'A080043003', 'A080043004', 'A080043005', 'A080043006', 'A080043007', 'A080043008', 'A060074001', 'A060074002', 'A060074003', 'A060074004', 'A060074005', 'A060074006', 'A060074007', 'A080044008', 'A080044007', 'A080044006', 'A080044005', 'A080044004', 'A080044003', 'A080044001', 'A080044002', 'A060076001', 'A060076002', 'A060076003', 'A060076004', 'A060076005', 'A060076006', 'A060076007', 'A060078001', 'A060078002', 'A060078003', 'A060078004', 'A060078005', 'A060078006', 'A060078007', 'A080046001', 'A080046002', 'A080046003', 'A080046004', 'A080046005', 'A080046006', 'A080046007', 'A080046008', 'A080048001', 'A080048002', 'A080048003', 'A080048004', 'A080048005', 'A080048006', 'A080048007', 'A080048008', 'A060085001', 'A060085002', 'A060085003', 'A060085004', 'A060085005', 'A060085006', 'A060085007', 'A060087001', 'A060087002', 'A060087003', 'A060087004', 'A060087005', 'A060087006', 'A060087007', 'A060089001', 'A060089002', 'A060089003', 'A060089004', 'A060089005', 'A060089006', 'A060089007', 'A060091001', 'A060091002', 'A060091003', 'A060091004', 'A060091005', 'A060091006', 'A060091007', 'A060093001', 'A060093002', 'A060093003', 'A060093004', 'A060094001', 'A060094002', 'A060094003', 'A060094004', 'A060094005', 'A060094006', 'A060094007', 'A060094008', 'A060094009', 'A060095001', 'A060095002', 'A060095003', 'A060095004', 'A060095005', 'A060096001', 'A060096002', 'A060096003', 'A060096004', 'A060096005', 'A060096006', 'A060096007', 'A060096008', 'A060096009', 'A080062001', 'A080062002', 'A080062004', 'A080062003', 'A080062006', 'A080062005', 'A080070001', 'A080070002', 'A080070003', 'A080070004', 'A080070005', 'A080070006', 'A080070007', 'A080070008', 'A080072001', 'A080072002', 'A080072003', 'A080072004', 'A080072005', 'A080072006', 'A080072007', 'A080072008', 'A080076001', 'A080076002', 'A080076003', 'A080076004', 'A080076005', 'A080076006', 'A080076007', 'A080076008', 'A080078001', 'A080078002', 'A080078003', 'A080078004', 'A080078005', 'A080078006', 'A080078007', 'A080078008', 'A060097001', 'A060097002', 'A060097003', 'A060097004', 'A060097005', 'A060097006', 'A060097007', 'A080080001', 'A080080002', 'A080080003', 'A080080004', 'A080080005', 'A080080006', 'A080080007', 'A080080008', 'A060099001', 'A060099002', 'A060099003', 'A060099004', 'A060099005', 'A060099006', 'A060099007', 'A080082001', 'A080082002', 'A080082003', 'A080082004', 'A080082005', 'A080082006', 'A060101001', 'A060101002', 'A060101003', 'A060101004', 'A060101005', 'A060101006', 'A060101007', 'A080084001', 'A080084002', 'A080084003', 'A080084004', 'A080084005', 'A080084006', 'A080084007', 'A080084008', 'A060103001', 'A060103002', 'A060103003', 'A060103004', 'A060103005', 'A060103006', 'A060103007', 'A080086001', 'A080086002', 'A080086003', 'A080086004', 'A080086005', 'A080086006', 'A060105001', 'A060105002', 'A060105003', 'A060105004', 'A060105005', 'A060105006', 'A060105007', 'A080088001', 'A080088002', 'A080088003', 'A080088004', 'A080088005', 'A080088006', 'A080088007', 'A080088008', 'A060107001', 'A060107002', 'A060107003', 'A060107004', 'A060107005', 'A060107006', 'A060107007', 'A080090001', 'A080090005', 'A080090006', 'A080090004', 'A080090003', 'A080090002', 'A080092001', 'A080092003', 'A080092002', 'A080092004', 'A080092005', 'A080092008', 'A080092006', 'A080092007', 'A080094001', 'A080094002', 'A080094003', 'A080094004', 'A080094005', 'A080094006', 'A080096008', 'A080096001', 'A080096002', 'A080096003', 'A080096004', 'A080096005', 'A080096006', 'A080096007', 'A080098001', 'A080098002', 'A080098003', 'A080098004', 'A080098005', 'A080098006', 'A080098007', 'A080098008', 'A020172001', 'A020172002', 'A020172003', 'A020172004', 'A020172005', 'A020172006', 'A060121001', 'A060121002', 'A060121003', 'A060121004', 'A060121005', 'A060121006', 'A060121007', 'A080100001', 'A080100002', 'A080100003', 'A080100004', 'A080100005', 'A080100006', 'A080100007', 'A080100008', 'A060123001', 'A060123002', 'A060123003', 'A060123004', 'A060123005', 'A060123006', 'A060123007', 'A060125001', 'A060125002', 'A060125003', 'A060125004', 'A060125005', 'A060125006', 'A060125007', 'A080102001', 'A080102002', 'A080102003', 'A080102004', 'A080102005', 'A080102006', 'A080102007', 'A080102008', 'A020174001', 'A020174002', 'A020174003', 'A020174004', 'A020174005', 'A020181001', 'A020181002', 'A020181003', 'A020181004', 'A020181005', 'A020181006', 'A060127001', 'A060127002', 'A060127003', 'A060127004', 'A060127005', 'A060127006', 'A060127007', 'A060129001', 'A060129002', 'A060129003', 'A060129004', 'A060129005', 'A060129006', 'A060129007', 'A020182001', 'A020182002', 'A020182003', 'A020182004', 'A020182005', 'A060131001', 'A060131002', 'A060131003', 'A060131004', 'A060131005', 'A060131006', 'A060131007', 'A020183001', 'A020183002', 'A020183003', 'A020183004', 'A020183005', 'A020183006', 'A020183007', 'A060119001', 'A060119002', 'A060119003', 'A060119004', 'A060119005', 'A060119006', 'A060115001', 'A060115002', 'A060115003', 'A060115004', 'A060115005', 'A060115006', 'A020192001', 'A020192002', 'A020192003', 'A020192004', 'A020192005', 'A020192006', 'A020192007', 'A080108001', 'A080108002', 'A080108003', 'A080108004', 'A080108005', 'A080108006', 'A080108007', 'A080108008', 'A080112001', 'A080112008', 'A080112002', 'A080112003', 'A080112004', 'A080112005', 'A080112006', 'A080112007', 'A080114001', 'A080114002', 'A080114003', 'A080114004', 'A080114005', 'A080114006', 'A080114007', 'A080114008', 'A080118001', 'A080118002', 'A080118003', 'A080118004', 'A080118005', 'A080118006', 'A080118007', 'A080118008', 'A080120001', 'A080120002', 'A080120003', 'A080120004', 'A080120005', 'A080120006', 'A080128001', 'A080128002', 'A080128003', 'A080128004', 'A080128005', 'A080128006', 'A080128007', 'A080128008', 'A080128009', 'A080128010', 'A080128011', 'A080129001', 'A080129002', 'A080129003', 'A080129004', 'A080129005', 'A080129006', 'A040013001', 'A040013002', 'A040013003', 'A040013004', 'A040013005', 'A040015001', 'A040015002', 'A040015003', 'A040015004', 'A040015005', 'A040017001', 'A040017002', 'A040017003', 'A040017004', 'A040017005', 'A040019001', 'A040019002', 'A040019003', 'A040019004', 'A040019005', 'A040021001', 'A040021002', 'A040021003', 'A040033001', 'A040033002', 'A040033003', 'A040033004', 'A040033005', 'A040035001', 'A040035002', 'A040035003', 'A040035004', 'A040035005', 'A040037001', 'A040037002', 'A040037003', 'A040037004', 'A040037005', 'A040039001', 'A040039002', 'A040039003', 'A040039004', 'A040039005', 'A040041001', 'A040041002', 'A040041003', 'A040041004', 'A040041005', 'A040046001', 'A040046002', 'A040046003', 'A040046004', 'A040046005', 'A040049001', 'A040049002', 'A040049003', 'A040049004', 'A040049005', 'A040051001', 'A040051002', 'A040051003', 'A040051004', 'A040051005', 'A040063001', 'A040063002', 'A040063003', 'A040063004', 'A040063005', 'A040065001', 'A040065002', 'A040065003', 'A040065004', 'A040065005', 'A040058001', 'A040058002', 'A040058003', 'A040058004', 'A040058005', 'A040073001', 'A040073002', 'A040073003', 'A040073004', 'A040073005', 'A040075001', 'A040075002', 'A040075003', 'A040075004', 'A040075005', 'A090001001', 'A090001002', 'A090001003', 'A090001004', 'A090001005', 'A090001006', 'A090001007', 'A090001008', 'A040081001', 'A040081002', 'A040081003', 'A040081004', 'A040081005', 'A090003001', 'A090003002', 'A090003003', 'A090003004', 'A090003005', 'A090003006', 'A090003007', 'A090003008', 'A040083001', 'A040083003', 'A040083002', 'A040083004', 'A040083005', 'A090005001', 'A090005002', 'A090005003', 'A090005004', 'A090005005', 'A090005006', 'A040094001', 'A040094002', 'A040094003', 'A040094004', 'A040094005', 'A090007001', 'A090007002', 'A090007003', 'A090007004', 'A090007005', 'A090007006', 'A040096001', 'A040096002', 'A040096003', 'A040096004', 'A040096005', 'A090009001', 'A090009002', 'A090009003', 'A090009004', 'A090009005', 'A090009006', 'A090009007', 'A090009008', 'A040100001', 'A040100002', 'A040100003', 'A040100004', 'A040100005', 'A090011001', 'A090011002', 'A090011003', 'A090011004', 'A090011005', 'A090011006', 'A090011007', 'A090011008', 'A040088001', 'A040088002', 'A040088003', 'A040088004', 'A040088005', 'A090013001', 'A090013002', 'A090013003', 'A090013004', 'A090013005', 'A090013006', 'A090013007', 'A090013008', 'A040090001', 'A040090002', 'A040090003', 'A040090004', 'A040090005', 'A090014001', 'A090014002', 'A090014003', 'A090014005', 'A090014006', 'A090014004', 'A040092001', 'A040092002', 'A040092003', 'A040092004', 'A040092005', 'A090015001', 'A090015002', 'A090015003', 'A090015004', 'A090015005', 'A090015006', 'A090015007', 'A090015008', 'A040002001', 'A040002002', 'A040002003', 'A040002004', 'A040002005', 'A090016001', 'A090016002', 'A090016003', 'A090016004', 'A090016005', 'A090016006', 'A090016007', 'A090016008', 'A040004001', 'A040004002', 'A040004003', 'A040004004', 'A040004005', 'A090017001', 'A090017002', 'A090017003', 'A090017004', 'A090017005', 'A090017006', 'A040006001', 'A040006002', 'A040006003', 'A040006004', 'A040006005', 'A090018001', 'A090018002', 'A090018003', 'A090018004', 'A090018005', 'A090018006', 'A090018007', 'A090018008', 'A040014001', 'A040014002', 'A040014003', 'A040014004', 'A040014005', 'A090019001', 'A090019002', 'A090019003', 'A090019004', 'A090019005', 'A090019006', 'A090019007', 'A090019008', 'A040016001', 'A040016002', 'A040016003', 'A040016004', 'A040016005', 'A090020001', 'A090020002', 'A090020003', 'A090020004', 'A090020005', 'A090020006', 'A090020007', 'A090020008', 'A040018001', 'A040018002', 'A040018003', 'A040018004', 'A040018005', 'A090021001', 'A090021002', 'A090021003', 'A090021004', 'A090021005', 'A090021006', 'A090022001', 'A090022002', 'A090022003', 'A090022004', 'A090022005', 'A090022006', 'A090022007', 'A090022008', 'A090023001', 'A090023002', 'A090023003', 'A090023004', 'A090023005', 'A090023006', 'A090023007', 'A090023008', 'A040022001', 'A040022002', 'A040022003', 'A090024001', 'A090024002', 'A090024003', 'A090024004', 'A090024005', 'A090024006', 'A090024007', 'A090024008', 'A040024001', 'A040024002', 'A040024003', 'A040024004', 'A040024005', 'A090025001', 'A090025002', 'A090025003', 'A090025004', 'A090025005', 'A090025006', 'A040026001', 'A040026002', 'A040026003', 'A040026004', 'A040026005', 'A090026001', 'A090026002', 'A090026003', 'A090026004', 'A090026005', 'A090026006', 'A040034001', 'A040034002', 'A040034003', 'A040034004', 'A040034005', 'A090027001', 'A090027002', 'A090027003', 'A090027004', 'A090027005', 'A090027006', 'A040036001', 'A040036002', 'A040036003', 'A040036004', 'A040036005', 'A090028001', 'A090028002', 'A090028003', 'A090028004', 'A090028005', 'A090028006', 'A090029002', 'A090029001', 'A090029003', 'A090029004', 'A090029005', 'A090029006', 'A040038001', 'A040038002', 'A040038003', 'A040038004', 'A040038005', 'A090030001', 'A090030002', 'A090030003', 'A090030004', 'A090030005', 'A090030006', 'A040040001', 'A040040002', 'A040040005', 'A040040004', 'A040040003', 'A090031001', 'A090031002', 'A090031003', 'A090031004', 'A090031005', 'A090031006', 'A090032001', 'A090032002', 'A090032003', 'A090032004', 'A090032005', 'A090032006', 'A040050001', 'A040050002', 'A040050003', 'A040050004', 'A040050005', 'A040047001', 'A040047002', 'A040047003', 'A040047004', 'A040047005', 'A090033001', 'A090033002', 'A090033003', 'A090033004', 'A090033006', 'A090033005', 'A090034001', 'A090034002', 'A090034003', 'A090034004', 'A090034005', 'A090034006', 'A090034007', 'A090034008', 'A040052001', 'A040052002', 'A040052003', 'A040052004', 'A040052005', 'A090035001', 'A090035006', 'A090035007', 'A090035008', 'A090035002', 'A090035003', 'A090035004', 'A090035005', 'A040054001', 'A040054003', 'A040054004', 'A040054005', 'A040054002', 'A090036002', 'A090036001', 'A090036003', 'A090036006', 'A090036004', 'A090036005', 'A040155001', 'A040155002', 'A040155003', 'A040155004', 'A040155005', 'A040155006', 'A040156001', 'A040156002', 'A040156003', 'A040156004', 'A040156005', 'A040156006', 'A090037001', 'A090037002', 'A090037003', 'A090037004', 'A090037005', 'A090037006', 'A090037007', 'A090037008', 'A040068001', 'A040068002', 'A040068003', 'A040068004', 'A040068005', 'A090038001', 'A090038002', 'A090038003', 'A090038004', 'A090038005', 'A090038006', 'A040157001', 'A040157002', 'A040157003', 'A040157004', 'A040157005', 'A040157006', 'A040070001', 'A040070002', 'A040070003', 'A040070004', 'A040070005', 'A040042001', 'A040042002', 'A040042003', 'A040042004', 'A040042005', 'A090039001', 'A090039002', 'A090039003', 'A090039004', 'A090039005', 'A090039006', 'A040158001', 'A040158002', 'A040158003', 'A040158004', 'A040158005', 'A040158006', 'A040064001', 'A040064002', 'A040064003', 'A040064004', 'A040064005', 'A040066001', 'A040066002', 'A040066003', 'A040066004', 'A040066005', 'A040160001', 'A040160002', 'A040160003', 'A040160004', 'A040160005', 'A040059001', 'A040059002', 'A040059003', 'A040059004', 'A040059005', 'A040161001', 'A040161002', 'A040161003', 'A040161004', 'A040161005', 'A040161006', 'A040161007', 'A040162001', 'A040162002', 'A040162003', 'A040162004', 'A040074001', 'A040074002', 'A040074003', 'A040074004', 'A040163001', 'A040163002', 'A040163003', 'A040163004', 'A040163005', 'A040076001', 'A040076002', 'A040076003', 'A040076004', 'A040076005', 'A040164001', 'A040164002', 'A040164003', 'A040164004', 'A040164005', 'A040082001', 'A040082002', 'A040082003', 'A040082004', 'A040082005', 'A040103001', 'A040103002', 'A040103003', 'A040103004', 'A040103005', 'A040103006', 'A040165001', 'A040165002', 'A040165003', 'A040165004', 'A040104001', 'A040104002', 'A040104003', 'A040104004', 'A040104005', 'A040104006', 'A040184001', 'A040184002', 'A040184003', 'A040184004', 'A040184005', 'A040184006', 'A040184007', 'A040184008', 'A040184009', 'A040184010', 'A040184011', 'A040184012', 'A040184013', 'A040106001', 'A040106002', 'A040106003', 'A040106004', 'A040106005', 'A040106006', 'A040107001', 'A040107002', 'A040107003', 'A040107004', 'A040107005', 'A040107006', 'A040185001', 'A040185002', 'A040185003', 'A040185004', 'A040185005', 'A040185006', 'A040185007', 'A040108001', 'A040108002', 'A040108003', 'A040108004', 'A040108005', 'A040108006', 'A040131001', 'A040131002', 'A040131003', 'A040131004', 'A040131005', 'A040186001', 'A040186002', 'A040186003', 'A040186004', 'A040186005', 'A040132001', 'A040132002', 'A040132003', 'A040132004', 'A040133001', 'A040133002', 'A040133003', 'A040133004', 'A040134001', 'A040134002', 'A040134003', 'A040134004', 'A040134005', 'A040195001', 'A040195002', 'A040195003', 'A040195004', 'A040195005', 'A040195006', 'A040195007', 'A040135001', 'A040135002', 'A040135003', 'A040135004', 'A040196001', 'A040196002', 'A040196003', 'A040196004', 'A040196005', 'A040152001', 'A040152002', 'A040152003', 'A040152004', 'A040152005', 'A040152006', 'A040153001', 'A040153002', 'A040153003', 'A040153004', 'A040153005', 'A040153006', 'A040154001', 'A040154002', 'A040154003', 'A040154004', 'A040154005', 'A040154006', 'A040197001', 'A040197002', 'A040197003', 'A040197004', 'A040197005', 'A040197006', 'A040198001', 'A040198002', 'A040198003', 'A040198004', 'A040159001', 'A040159002', 'A040159003', 'A040159004', 'A040159005', 'A040159006', 'A090043001', 'A090043002', 'A090043003', 'A090043004', 'A090043005', 'A090043006', 'A090043007', 'A090043008', 'A090044001', 'A090044002', 'A090044003', 'A090044004', 'A090044005', 'A090044006', 'A090044007', 'A090044008', 'A090045001', 'A090045002', 'A090045003', 'A090045004', 'A090045005', 'A090045006', 'A040109001', 'A040109002', 'A040109003', 'A040109004', 'A040109005', 'A090046001', 'A090046002', 'A090046003', 'A090046004', 'A090046005', 'A090046006', 'A040111001', 'A040111002', 'A040111003', 'A040111004', 'A040111005', 'A090047001', 'A090047002', 'A090047003', 'A090047004', 'A090047005', 'A090047006', 'A090047007', 'A090047008', 'A040113001', 'A040113002', 'A040113003', 'A040113004', 'A040113005', 'A040115001', 'A040115002', 'A040115003', 'A040115004', 'A040115005', 'A090048001', 'A090048004', 'A090048003', 'A090048002', 'A090048005', 'A090048006', 'A040117001', 'A040117002', 'A040117003', 'A040117004', 'A040117005', 'A090049001', 'A090049004', 'A090049002', 'A090049003', 'A090049005', 'A090049006', 'A040119001', 'A040119002', 'A040119003', 'A040119004', 'A040119005', 'A090050001', 'A090050004', 'A090050002', 'A090050003', 'A090050005', 'A090050006', 'A040121001', 'A040121002', 'A040121003', 'A040121004', 'A040121005', 'A090051001', 'A090051002', 'A090051003', 'A090051004', 'A090051005', 'A090051006', 'A090051007', 'A090051008', 'A040123001', 'A040123002', 'A040123003', 'A040123004', 'A040123005', 'A040125001', 'A040125002', 'A040125003', 'A040125004', 'A040125005', 'A090052001', 'A090052004', 'A090052005', 'A090052003', 'A090052002', 'A090052006', 'A040127001', 'A040127002', 'A040127003', 'A040127004', 'A040127005', 'A090053001', 'A090053002', 'A090053003', 'A090053004', 'A090053005', 'A090053006', 'A040129001', 'A040129002', 'A040129003', 'A040129004', 'A040129005', 'A090054001', 'A090054002', 'A090054003', 'A090054004', 'A090054005', 'A090054006', 'A090054008', 'A090054007', 'A040136001', 'A040136002', 'A040136003', 'A040136004', 'A040136005', 'A040138001', 'A040138002', 'A040138003', 'A040138004', 'A040138005', 'A040140001', 'A040140002', 'A040140003', 'A040140004', 'A040140005', 'A040142001', 'A040142002', 'A040142003', 'A040142004', 'A040142005', 'A040144001', 'A040144002', 'A040144003', 'A040144004', 'A040144005', 'A040146001', 'A040146002', 'A040146003', 'A040146004', 'A040146005', 'A040148001', 'A040148002', 'A040148003', 'A040148004', 'A040148005', 'A040150001', 'A040150002', 'A040150003', 'A040150004', 'A040150005', 'A090069001', 'A090069002', 'A090069003', 'A090069004', 'A090069005', 'A090069006', 'A090070001', 'A090070002', 'A090070003', 'A090070004', 'A090070006', 'A090070005', 'A090070007', 'A090070008', 'A090071001', 'A090071002', 'A090071003', 'A090071004', 'A090071005', 'A090071006', 'A090071007', 'A090071008', 'A090072001', 'A090072002', 'A090072003', 'A090072004', 'A090072005', 'A090072006', 'A090073001', 'A090073002', 'A090073003', 'A090073004', 'A090073005', 'A090073006', 'A090074001', 'A090074004', 'A090074002', 'A090074003', 'A090074005', 'A090074006', 'A030050001', 'A030050002', 'A030050003', 'A030050004', 'A030050005', 'A030001001', 'A030001002', 'A030001003', 'A030001004', 'A030001005', 'A030014001', 'A030014002', 'A030014003', 'A030014004', 'A030014005', 'A030003001', 'A030003002', 'A030003003', 'A030003004', 'A030003005', 'A030021001', 'A030021002', 'A030021003', 'A030021004', 'A030021005', 'A030019001', 'A030019002', 'A030019003', 'A030019004', 'A030019005', 'A050006001', 'A050006002', 'A050006004', 'A050006005', 'A050006006', 'A050006003', 'A050006007', 'A030023001', 'A030023002', 'A030023003', 'A030023004', 'A030023005', 'A030028001', 'A030028002', 'A030028003', 'A030028004', 'A030028005', 'A050010001', 'A050010002', 'A050010003', 'A050010004', 'A050010005', 'A050010006', 'A050010007', 'A030040001', 'A030040003', 'A030040002', 'A030040004', 'A030040005', 'A030042001', 'A030042002', 'A030042003', 'A030042004', 'A030042005', 'A030036001', 'A030036002', 'A030036003', 'A030036004', 'A030036005', 'A030046001', 'A030046002', 'A030046003', 'A030046004', 'A030046005', 'A050027001', 'A050027002', 'A050027003', 'A050027004', 'A050027005', 'A050027006', 'A050027007', 'A050046001', 'A050046002', 'A050046003', 'A050046004', 'A050046005', 'A050046006', 'A050046007', 'A050048001', 'A050048002', 'A050048003', 'A050048005', 'A050048004', 'A050048006', 'A050048007', 'A050050001', 'A050050002', 'A050050003', 'A050050004', 'A050050005', 'A050050006', 'A050050007', 'A050059001', 'A050059002', 'A050059003', 'A050059004', 'A050059005', 'A050059006', 'A050059007', 'A050061002', 'A050061003', 'A050061004', 'A050061005', 'A050061007', 'A050061006', 'A050061001', 'A050065001', 'A050065002', 'A050065003', 'A050065004', 'A050065005', 'A050065006', 'A050065007', 'A030009001', 'A030009002', 'A030009003', 'A030009004', 'A030009005', 'A030009006', 'A030018001', 'A030018002', 'A030018003', 'A030018004', 'A030018005', 'A030018006', 'A030007001', 'A030007002', 'A030007003', 'A030007004', 'A030007005', 'A030007006', 'A050069001', 'A050069002', 'A050069003', 'A050069004', 'A050069005', 'A050069006', 'A050069007', 'A030008001', 'A030008002', 'A030008003', 'A030008004', 'A030008005', 'A030008006', 'A030025001', 'A030025002', 'A030025003', 'A030025004', 'A030025005', 'A030026001', 'A030026002', 'A030026004', 'A030026005', 'A030027001', 'A030027002', 'A030027003', 'A030027005', 'A030075001', 'A030075002', 'A030075003', 'A030075004', 'A030075005', 'A030032001', 'A030032002', 'A030032003', 'A030032004', 'A030032005', 'A030033001', 'A030033002', 'A030033003', 'A030033004', 'A030033005', 'A030033006', 'A030033007', 'A030033008', 'A030033009', 'A030033010', 'A030044001', 'A030044002', 'A030044003', 'A030044004', 'A030044005', 'A030044006', 'A030045001', 'A030045002', 'A030045003', 'A030045004', 'A030045005', 'A050089001', 'A050089002', 'A050089003', 'A050089004', 'A050089005', 'A050089006', 'A050089007', 'A030119001', 'A030119002', 'A030119003', 'A030119004', 'A030119005', 'A030123001', 'A030123002', 'A030123003', 'A030123004', 'A030123005', 'A030117001', 'A030117002', 'A030117003', 'A030117004', 'A030117005', 'A030137001', 'A030137002', 'A030137003', 'A030137004', 'A030137005', 'A030139001', 'A030139002', 'A030139003', 'A030139004', 'A030139005', 'A030141001', 'A030141002', 'A030141003', 'A030141004', 'A030141005', 'A030149001', 'A030149002', 'A030149003', 'A030149004', 'A030149005', 'A030151001', 'A030151002', 'A030151003', 'A030151004', 'A030151005', 'A030153001', 'A030153002', 'A030153003', 'A030153004', 'A030153005', 'A050131001', 'A050131002', 'A050131003', 'A050131004', 'A050131005', 'A050131006', 'A050131007', 'A030155001', 'A030155002', 'A030155003', 'A030155004', 'A030155005', 'A050137001', 'A050137002', 'A050137003', 'A050137004', 'A050137005', 'A050137006', 'A050137007', 'A050139001', 'A050139002', 'A050139003', 'A050139004', 'A050139005', 'A050139006', 'A050139007', 'A080001001', 'A080001002', 'A080001003', 'A080001004', 'A080001005', 'A080001006', 'A080003001', 'A080003002', 'A080003003', 'A080003004', 'A080003005', 'A080003006', 'A080003007', 'A080003008', 'A080005001', 'A080005002', 'A080005003', 'A080005004', 'A080005005', 'A080005006', 'A080005007', 'A080005008', 'A080007001', 'A080007002', 'A080007003', 'A080007004', 'A080007005', 'A080007006', 'A080007007', 'A080007008', 'A080009001', 'A080009002', 'A080009003', 'A080009004', 'A080009005', 'A080009006', 'A080009007', 'A080009008', 'A080011001', 'A080011002', 'A080011003', 'A080011004', 'A080011005', 'A080011006', 'A080011008', 'A080011007', 'A080013001', 'A080013002', 'A080013003', 'A080013004', 'A080013005', 'A080013006', 'A080013007', 'A080013008', 'A080015001', 'A080015002', 'A080015003', 'A080015004', 'A080015005', 'A080015007', 'A080015006', 'A080015008', 'A080017001', 'A080017002', 'A080017003', 'A080017004', 'A080017005', 'A080017006', 'A080017007', 'A080017008', 'A080019001', 'A080019002', 'A080019003', 'A080019004', 'A080019005', 'A080019006', 'A080019007', 'A080019008', 'A080021001', 'A080021002', 'A080021003', 'A080021004', 'A080021005', 'A080021006', 'A080023001', 'A080023002', 'A080023003', 'A080023004', 'A080023005', 'A080023006', 'A080025001', 'A080025002', 'A080025003', 'A080025004', 'A080025005', 'A080025006', 'A080025007', 'A080025008', 'A080026001', 'A080026002', 'A080026003', 'A080026004', 'A080026005', 'A080026006', 'A080026007', 'A080026008', 'A080027001', 'A080027002', 'A080027003', 'A080027004', 'A080027005', 'A080027006', 'A080027007', 'A080027008', 'A080028001', 'A080028002', 'A080028003', 'A080028004', 'A080028005', 'A080028006', 'A080028008', 'A080028007', 'A080029001', 'A080029002', 'A080029003', 'A080029004', 'A080029005', 'A080029006', 'A080029007', 'A080029008', 'A080030001', 'A080030002', 'A080030003', 'A080030004', 'A080030005', 'A080030006', 'A080031001', 'A080031002', 'A080031003', 'A080031004', 'A080031005', 'A080031006', 'A080032001', 'A080032002', 'A080032005', 'A080032003', 'A080032004', 'A080032006', 'A080032007', 'A080032008', 'A080033001', 'A080033002', 'A080033003', 'A080033004', 'A080033005', 'A080033006', 'A080033007', 'A080033008', 'A080034001', 'A080034002', 'A080034003', 'A080034004', 'A080034005', 'A080034006', 'A080034008', 'A080034007', 'A080045001', 'A080045002', 'A080045003', 'A080045004', 'A080045005', 'A080045006', 'A080045007', 'A080045008', 'A080047001', 'A080047002', 'A080047003', 'A080047004', 'A080047005', 'A080047006', 'A080047007', 'A080047008', 'A080049001', 'A080049002', 'A080049003', 'A080049004', 'A080049005', 'A080049006', 'A080049007', 'A080049008', 'A080051001', 'A080051002', 'A080051003', 'A080051004', 'A080051005', 'A080051006', 'A010018001', 'A010018002', 'A010018003', 'A010018004', 'A010018005', 'A010018006', 'A010018007', 'A010018008', 'A010019001', 'A010019002', 'A010019003', 'A010019004', 'A010019005', 'A080053001', 'A080053002', 'A080053003', 'A080053004', 'A080053006', 'A080053005', 'A080055001', 'A080055004', 'A080055002', 'A080055003', 'A080055005', 'A080055006', 'A080055007', 'A080055008', 'A010020001', 'A010020002', 'A010020004', 'A010020003', 'A010021001', 'A010021002', 'A010021003', 'A010021004', 'A010021005', 'A010021006', 'A080057001', 'A080057002', 'A080057003', 'A080057004', 'A080057005', 'A080057006', 'A080057007', 'A080057008', 'A080059001', 'A080059002', 'A080059005', 'A080059003', 'A080059004', 'A080059006', 'A080061001', 'A080061002', 'A080061003', 'A080061004', 'A080061005', 'A080061006', 'A080063001', 'A080063002', 'A080063003', 'A080063004', 'A080063005', 'A080063006', 'A080063007', 'A080063008', 'A010027001', 'A010027002', 'A010027003', 'A080065001', 'A080065002', 'A080065003', 'A080065004', 'A080065005', 'A080065006', 'A080065007', 'A080065008', 'A080067001', 'A080067002', 'A080067003', 'A080067004', 'A080067005', 'A080067006', 'A080067007', 'A080067008', 'A010050004', 'A010050005', 'A010050006', 'A010050001', 'A010050003', 'A080069001', 'A080069002', 'A080069003', 'A080069004', 'A080069005', 'A080069006', 'A080069007', 'A080069008', 'A080071001', 'A080071002', 'A080071003', 'A080071004', 'A080071005', 'A080071006', 'A080071007', 'A080071008', 'A080073001', 'A080073002', 'A080073003', 'A080073004', 'A080073005', 'A080073006', 'A080073007', 'A080073008', 'A080075001', 'A080075002', 'A080075003', 'A080075004', 'A080075005', 'A080075006', 'A080075008', 'A080075007', 'A010054001', 'A010054002', 'A010054003', 'A010054004', 'A010060001', 'A010060002', 'A010060003', 'A010060004', 'A010060005', 'A010060006', 'A010060007', 'A010057001', 'A010057002', 'A010057003', 'A010057004', 'A010057005', 'A010058001', 'A010058002', 'A010058003', 'A010058004', 'A010072001', 'A010072002', 'A010072003', 'A010072004', 'A010072005', 'A010072006', 'A010076001', 'A010076002', 'A010076003', 'A010076004', 'A010076005', 'A010075001', 'A010075002', 'A010075003', 'A010075004', 'A010075005', 'A010075006', 'A010073001', 'A010073002', 'A010073003', 'A010073004', 'A010073005', 'A010073006', 'A010074001', 'A010074002', 'A010074003', 'A010074004', 'A010074005', 'A010074006', 'A010010001', 'A010010002', 'A010010003', 'A010010004', 'A010010005', 'A010014001', 'A010014002', 'A010014003', 'A010014004', 'A010014005', 'A080077001', 'A080077002', 'A080077003', 'A080077004', 'A080077005', 'A080077006', 'A080077007', 'A080077008', 'A010037001', 'A010037002', 'A010037003', 'A010037004', 'A010037005', 'A080079001', 'A080079002', 'A080079003', 'A080079004', 'A080079005', 'A080079008', 'A080079006', 'A080079007', 'A010045001', 'A010045002', 'A010045003', 'A010045004', 'A010045005', 'A080081001', 'A080081002', 'A080081003', 'A080081004', 'A080081005', 'A080081006', 'A010049001', 'A010049002', 'A010049003', 'A010049004', 'A010049005', 'A010068001', 'A010068002', 'A010068003', 'A010068004', 'A010068005', 'A080083001', 'A080083002', 'A080083003', 'A080083004', 'A080083005', 'A080083006', 'A080083007', 'A080083008', 'A010078001', 'A010078002', 'A010078003', 'A010078004', 'A010078005', 'A010079001', 'A010079002', 'A010079003', 'A010079004', 'A010079005', 'A080085001', 'A080085002', 'A080085003', 'A080085004', 'A080085005', 'A080085006', 'A010084001', 'A010084002', 'A010084003', 'A010084004', 'A010084005', 'A010086001', 'A010086002', 'A010086003', 'A010086004', 'A010086005', 'A010088001', 'A010088002', 'A010088003', 'A010088004', 'A010088005', 'A080087001', 'A080087002', 'A080087003', 'A080087004', 'A080087005', 'A080087006', 'A080087007', 'A080087008', 'A080089001', 'A080089002', 'A080089003', 'A080089004', 'A080089005', 'A080089006', 'A010107001', 'A010107002', 'A010107003', 'A010107004', 'A010107005', 'A010107006', 'A080091001', 'A080091002', 'A080091003', 'A080091004', 'A080091005', 'A080091006', 'A080091007', 'A080091008', 'A060108007', 'A060108001', 'A060108002', 'A060108003', 'A060108004', 'A060108005', 'A060108006', 'A060124001', 'A060124002', 'A060124003', 'A060124004', 'A060124005', 'A060124006', 'A060124007', 'A080093001', 'A080093002', 'A080093003', 'A080093004', 'A080093005', 'A080093006', 'A060126001', 'A060126002', 'A060126004', 'A060126005', 'A060126006', 'A060126007', 'A060126003', 'A010110001', 'A010110002', 'A010110003', 'A010110004', 'A010110005', 'A060128001', 'A060128002', 'A060128003', 'A060128004', 'A060128005', 'A060128007', 'A060128006', 'A080095001', 'A080095002', 'A080095003', 'A080095004', 'A080095005', 'A080095006', 'A080095007', 'A080095008', 'A060130001', 'A060130002', 'A060130003', 'A060130004', 'A060130006', 'A060130007', 'A060130005', 'A080097001', 'A080097002', 'A080097003', 'A080097004', 'A080097005', 'A080097006', 'A080097007', 'A080097008', 'A060132001', 'A060132002', 'A060132003', 'A060132004', 'A060132005', 'A060132006', 'A060132007', 'A060134001', 'A060134002', 'A060134003', 'A060134004', 'A060134005', 'A060134006', 'A060134007', 'A080099001', 'A080099002', 'A080099003', 'A080099004', 'A080099005', 'A080099006', 'A080099007', 'A080099008', 'A080101001', 'A080101002', 'A080101003', 'A080101004', 'A080101005', 'A080101006', 'A080101007', 'A080101008', 'A060136005', 'A060136006', 'A060136001', 'A060136002', 'A060136003', 'A060136004', 'A060136007', 'A060138001', 'A060138002', 'A060138003', 'A060138004', 'A060138005', 'A060138006', 'A060138007', 'A080103001', 'A080103002', 'A080103003', 'A080103004', 'A080103005', 'A080103006', 'A080103007', 'A080103008', 'A060140001', 'A060140002', 'A060140003', 'A060140004', 'A060140005', 'A060140006', 'A060140007', 'A080105001', 'A080105002', 'A080105003', 'A080105004', 'A080105005', 'A080105006', 'A080105007', 'A080105008', 'A080107001', 'A080107002', 'A080107003', 'A080107004', 'A080107005', 'A080107008', 'A080107006', 'A080107007', 'A010154001', 'A010154002', 'A010154003', 'A010154004', 'A080109001', 'A080109002', 'A080109003', 'A080109004', 'A080109005', 'A080109006', 'A080109008', 'A080109007', 'A080111001', 'A080111002', 'A080111003', 'A080111004', 'A080111005', 'A080111006', 'A080111007', 'A080111008', 'A080113001', 'A080113002', 'A080113003', 'A080113004', 'A080113005', 'A080113006', 'A080113007', 'A080113008', 'A080115001', 'A080115002', 'A080115003', 'A080115004', 'A080115005', 'A080115006', 'A080115007', 'A080115008', 'A080117001', 'A080117002', 'A080117003', 'A080117004', 'A080117005', 'A080117006', 'A080117007', 'A080117008', 'A080119001', 'A080119002', 'A080119003', 'A080119004', 'A080119005', 'A080119006', 'A080121002', 'A080121001', 'A080121003', 'A080121004', 'A080121005', 'A080121006', 'A080121007', 'A080121008', 'A080122001', 'A080122002', 'A080122003', 'A080122004', 'A080122006', 'A080122005', 'A080123001', 'A080123002', 'A080123003', 'A080123004', 'A080123005', 'A080123006', 'A080123007', 'A080123008', 'A080124001', 'A080124002', 'A080124003', 'A080124004', 'A080124005', 'A080124006', 'A080124007', 'A080124008', 'A080125001', 'A080125002', 'A080125003', 'A080125004', 'A080125005', 'A080125006', 'A080125007', 'A080125008', 'A080126002', 'A080126003', 'A080126006', 'A080126007', 'A080126001', 'A080126004', 'A080126008', 'A080126005', 'A080127001', 'A080127002', 'A080127003', 'A080127004', 'A080127005', 'A080127006', 'A080127007', 'A080127008', 'A080130001', 'A080130002', 'A080130003', 'A080130004', 'A080130005', 'A080130006', 'A080130007', 'A080130008', 'A080131001', 'A080131002', 'A080131003', 'A080131004', 'A080131005', 'A080131006', 'A080131007', 'A080131008', 'A080131009', 'A080131010', 'A080133001', 'A080133002', 'A080133003', 'A080133004', 'A080133005', 'A080133008', 'A080133006', 'A080133007', 'A080135001', 'A080135002', 'A080135003', 'A080135004', 'A080135005', 'A080135006', 'A080135007', 'A080135008', 'A080137001', 'A080137002', 'A080137003', 'A080137004', 'A080137005', 'A080137006', 'A080137007', 'A080137008', 'A080136001', 'A080136002', 'A080136003', 'A080136004', 'A080136005', 'A080136006', 'A080136007', 'A080136008', 'A080138001', 'A080138002', 'A080138003', 'A080138004', 'A080138005', 'A080138006', 'A080138008', 'A080138007', 'A030016001', 'A030016002', 'A030016003', 'A030016004', 'A030016005', 'A030016006', 'A030017001', 'A030017002', 'A030017003', 'A030017004', 'A030017005', 'A030017006', 'A030012001', 'A030012002', 'A030012003', 'A030012004', 'A030012005', 'A030030001', 'A030030002', 'A030030003', 'A030030004', 'A030030005', 'A030038001', 'A030038002', 'A030038003', 'A030038004', 'A030038005', 'A030034001', 'A030034002', 'A030034003', 'A030034004', 'A030034005', 'A030039001', 'A030039002', 'A030039003', 'A030039004', 'A030039005', 'A030039006', 'A030039007', 'A030039008', 'A030039009', 'A030039010', 'A030039011', 'A030056001', 'A030056002', 'A030056003', 'A030056004', 'A030056005', 'A030056006', 'A030057001', 'A030057002', 'A030057003', 'A030057004', 'A030057005', 'A030057006', 'A030048001', 'A030048002', 'A030048003', 'A030048004', 'A030048005', 'A030058001', 'A030058002', 'A030058003', 'A030058004', 'A030058005', 'A030058006', 'A030059001', 'A030059002', 'A030059003', 'A030059004', 'A030059005', 'A030059006', 'A030052001', 'A030052002', 'A030052003', 'A030052004', 'A030052005', 'A030060001', 'A030060002', 'A030060003', 'A030060004', 'A030060005', 'A030060006', 'A030054001', 'A030054002', 'A030054003', 'A030054004', 'A030054005', 'A030067001', 'A030067002', 'A030067003', 'A030067004', 'A030067005', 'A030068001', 'A030068002', 'A030068003', 'A030068004', 'A030068005', 'A030068006', 'A030063001', 'A030063002', 'A030063003', 'A030063004', 'A030063005', 'A030069001', 'A030069002', 'A030069003', 'A030069004', 'A030069005', 'A030065001', 'A030065002', 'A030065003', 'A030065004', 'A030065005', 'A030086001', 'A030086002', 'A030086003', 'A030086004', 'A030086005', 'A030086006', 'A040084001', 'A040084002', 'A040084003', 'A040084004', 'A040084005', 'A040020001', 'A040020002', 'A040020003', 'A040020004', 'A040020005', 'A040097001', 'A040097002', 'A040097003', 'A040097004', 'A040097005', 'A040101001', 'A040101002', 'A040101003', 'A040101004', 'A040101005', 'A040091001', 'A040091002', 'A040091003', 'A040091004', 'A040091005', 'A040095001', 'A040095002', 'A040095003', 'A040095004', 'A040095005', 'A040089001', 'A040089002', 'A040089003', 'A040089004', 'A040089005', 'A040168001', 'A040168002', 'A040168003', 'A040168004', 'A040168005', 'A040172001', 'A040172002', 'A040172003', 'A040172004', 'A040172005', 'A040093001', 'A040093002', 'A040093003', 'A040093004', 'A040093005', 'A040174001', 'A040174002', 'A040174003', 'A040174004', 'A040174005', 'A040176001', 'A040176002', 'A040176003', 'A040176004', 'A040176005', 'A040178001', 'A040178002', 'A040178003', 'A040178004', 'A040178005', 'A030055001', 'A030055002', 'A030055003', 'A030055004', 'A030055005', 'A030062001', 'A030062002', 'A030062003', 'A030062004', 'A030062005', 'A040180001', 'A040180002', 'A040180003', 'A040180004', 'A040180005', 'A040182001', 'A040182002', 'A040182003', 'A040182004', 'A040182005', 'A030072001', 'A030072002', 'A030072003', 'A030072004', 'A030072005', 'A030082001', 'A030082002', 'A030082003', 'A030082004', 'A030082005', 'A030087001', 'A030087002', 'A030087003', 'A030087004', 'A030087005', 'A030084001', 'A030084002', 'A030084003', 'A030084004', 'A030084005', 'A030098001', 'A030098002', 'A030098003', 'A030098004', 'A030098005', 'A030099001', 'A030099002', 'A030099003', 'A030099004', 'A030099005', 'A030099006', 'A030099007', 'A040187001', 'A040187002', 'A040187003', 'A040187004', 'A040187005', 'A040189001', 'A040189002', 'A040189003', 'A040189004', 'A040189005', 'A030090001', 'A030090002', 'A030090003', 'A030090004', 'A030090005', 'A040191001', 'A040191002', 'A040191003', 'A040191004', 'A040191005', 'A030092001', 'A030092002', 'A030092003', 'A030092004', 'A030092005', 'A030100001', 'A030100002', 'A030100003', 'A030100004', 'A030100005', 'A030100006', 'A030101001', 'A030101002', 'A030101003', 'A030101004', 'A030101005', 'A030101006', 'A040193001', 'A040193002', 'A040193003', 'A040193004', 'A040193005', 'A030103001', 'A030103002', 'A030103003', 'A030103004', 'A030103005', 'A030103006', 'A030093001', 'A030093002', 'A030093003', 'A030093004', 'A030093005', 'A030113001', 'A030113002', 'A030113003', 'A030113004', 'A030113005', 'A030104001', 'A030104002', 'A030104003', 'A030104004', 'A030104005', 'A030104006', 'A030091001', 'A030091002', 'A030091003', 'A030091004', 'A030091005', 'A040171001', 'A040171002', 'A040171003', 'A040171004', 'A040171005', 'A030094001', 'A030094002', 'A030094003', 'A030094004', 'A030094005', 'A030102001', 'A030102002', 'A030102003', 'A030102004', 'A030102005', 'A030102006', 'A030102007', 'A030096001', 'A030096002', 'A030096003', 'A030096004', 'A030096005', 'A030079001', 'A030079002', 'A030079003', 'A030079004', 'A030079005', 'A030079006', 'A030105001', 'A030105002', 'A030105003', 'A030105004', 'A030105005', 'A030105006', 'A040169001', 'A040169002', 'A040169003', 'A040169004', 'A040169005', 'A040173001', 'A040173002', 'A040173003', 'A040173004', 'A040173005', 'A040175001', 'A040175002', 'A040175003', 'A040175004', 'A040175005', 'A030115001', 'A030115002', 'A030115003', 'A030115004', 'A030115005', 'A030073001', 'A030073002', 'A030073003', 'A030073004', 'A030073005', 'A030106001', 'A030106002', 'A030106003', 'A030106004', 'A030106005', 'A030106006', 'A040177001', 'A040177002', 'A040177003', 'A040177004', 'A040177005', 'A030080001', 'A030080002', 'A030080003', 'A030080004', 'A030080005', 'A030080006', 'A030081001', 'A030081002', 'A030081003', 'A030081004', 'A030081005', 'A030081006', 'A030077001', 'A030077002', 'A030077003', 'A030077004', 'A030077005', 'A030024001', 'A030024002', 'A030024003', 'A030024004', 'A030024005', 'A030011001', 'A030011002', 'A030011003', 'A030011004', 'A030011005', 'A030013001', 'A030013002', 'A030013003', 'A030013004', 'A030013005', 'A030015001', 'A030015002', 'A030015003', 'A030015004', 'A030015005', 'A030002001', 'A030002002', 'A030002003', 'A030002004', 'A030002005', 'A030004001', 'A030004002', 'A030004003', 'A030004004', 'A030004005', 'A030006001', 'A030006002', 'A030006003', 'A030006004', 'A030006005', 'A030022001', 'A030022002', 'A030022003', 'A030022004', 'A030022005', 'A030020001', 'A030020002', 'A030020003', 'A030020004', 'A030020005', 'A030089001', 'A030089002', 'A030089003', 'A030089004', 'A030089005', 'A030085001', 'A030085002', 'A030085003', 'A030085004', 'A030085005', 'A030107001', 'A030107002', 'A030107003', 'A030107004', 'A030107005', 'A030107006', 'A030083001', 'A030083002', 'A030083003', 'A030083004', 'A030083005', 'A030071001', 'A030071002', 'A030071003', 'A030071004', 'A030071005', 'A030066001', 'A030066002', 'A030066003', 'A030066004', 'A030066005', 'A040110001', 'A040110002', 'A040110003', 'A040110004', 'A040110005', 'A040112001', 'A040112002', 'A040112003', 'A040112004', 'A040112005', 'A030064001', 'A030064002', 'A030064003', 'A030064004', 'A030064005', 'A030053001', 'A030053002', 'A030053003', 'A030053004', 'A030053005', 'A040114001', 'A040114002', 'A040114003', 'A040114004', 'A040114005', 'A040116001', 'A040116002', 'A040116003', 'A040116004', 'A040116005', 'A030109001', 'A030109002', 'A030109003', 'A030109004', 'A030109006', 'A030109005', 'A030051001', 'A030051002', 'A030051003', 'A030051004', 'A030051005', 'A030121001', 'A030121002', 'A030121003', 'A030121004', 'A030121005', 'A030108001', 'A030108002', 'A030108003', 'A030108004', 'A030108005', 'A030108006', 'A030049001', 'A030049002', 'A030049003', 'A030049004', 'A030049005', 'A040118001', 'A040118002', 'A040118003', 'A040118004', 'A040118005', 'A030047001', 'A030047002', 'A030047003', 'A030047004', 'A030047005', 'A040120001', 'A040120002', 'A040120003', 'A040120004', 'A040120005', 'A030029001', 'A030029002', 'A030029003', 'A030029004', 'A030029005', 'A030125001', 'A030125002', 'A030125003', 'A030125004', 'A030125005', 'A030110001', 'A030110002', 'A030110003', 'A030110004', 'A030110005', 'A030037001', 'A030037002', 'A030037003', 'A030037004', 'A030037005', 'A030035001', 'A030035002', 'A030035003', 'A030035004', 'A030035005', 'A030043001', 'A030043002', 'A030043003', 'A030043004', 'A030043005', 'A030041001', 'A030041002', 'A030041003', 'A030041004', 'A030041005', 'A030031001', 'A030031002', 'A030031003', 'A030031004', 'A030031005', 'A030127001', 'A030127002', 'A030127003', 'A030127004', 'A030127005', 'A030127006', 'A030127007', 'A030127008', 'A030127009', 'A030135001', 'A030135002', 'A030135003', 'A030135004', 'A030135005', 'A030128001', 'A030128002', 'A030128003', 'A030128004', 'A030128005', 'A030128006', 'A030129001', 'A030129002', 'A030129003', 'A030129004', 'A030129005', 'A040166001', 'A040166002', 'A040166003', 'A040166004', 'A040166005', 'A030131001', 'A030131002', 'A030131003', 'A030131004', 'A030131005', 'A030143001', 'A030143002', 'A030143003', 'A030143004', 'A030143005', 'A040139001', 'A040139002', 'A040139003', 'A040139004', 'A040139005', 'A030132001', 'A030132002', 'A030132003', 'A030132004', 'A030132005', 'A040141001', 'A040141002', 'A040141003', 'A040141004', 'A040141005', 'A040170001', 'A040170002', 'A040170003', 'A040170004', 'A040170005', 'A030130001', 'A030130002', 'A030130003', 'A030130004', 'A030130005', 'A030130006', 'A040143001', 'A040143002', 'A040143003', 'A040143004', 'A040143005', 'A030145001', 'A030145002', 'A030145003', 'A030145004', 'A030145005', 'A050012001', 'A050012002', 'A050012003', 'A050012004', 'A050012005', 'A050013001', 'A050013002', 'A050013003', 'A050013004', 'A050013005', 'A050029001', 'A050029002', 'A050029003', 'A050029004', 'A050029005', 'A050029006', 'A050030001', 'A050030002', 'A050030003', 'A050030004', 'A050030005', 'A050033001', 'A050033002', 'A050033003', 'A050033004', 'A050033005', 'A050033006', 'A050041001', 'A050041002', 'A050041003', 'A050041004', 'A050041005', 'A050041006', 'A050041007', 'A050042001', 'A050042002', 'A050042003', 'A050042004', 'A050042005', 'A050054001', 'A050054002', 'A050054003', 'A050054004', 'A050054005', 'A050054006', 'A050054007', 'A020006001', 'A020006002', 'A020006003', 'A020006004', 'A020006005', 'A020008001', 'A020008002', 'A020008003', 'A020008004', 'A020008005', 'A020010001', 'A020010002', 'A020010003', 'A020010004', 'A020010005', 'A050008001', 'A050008002', 'A050008003', 'A050008004', 'A050008005', 'A050008006', 'A050008007', 'A020012001', 'A020012002', 'A020012003', 'A020012004', 'A020012005', 'A020002001', 'A020002002', 'A020002003', 'A020002004', 'A020002005', 'A020014001', 'A020014002', 'A020014003', 'A020014004', 'A020014005', 'A020016001', 'A020016002', 'A020016003', 'A020016004', 'A020016005', 'A050025001', 'A050025002', 'A050025003', 'A050025004', 'A050025005', 'A050025006', 'A050025007', 'A020018002', 'A020018003', 'A020018004', 'A020018005', 'A050017001', 'A050017002', 'A050017003', 'A050017004', 'A050017005', 'A050017006', 'A050017007', 'A020020001', 'A020020002', 'A020020003', 'A020020004', 'A020020005', 'A020004001', 'A020004002', 'A020004003', 'A020004005', 'A050023001', 'A050023002', 'A050023003', 'A050023004', 'A050023005', 'A050023006', 'A050023007', 'A050021001', 'A050021002', 'A050021003', 'A050021004', 'A050021005', 'A050021006', 'A050021007', 'A020024001', 'A020024002', 'A020024003', 'A020024004', 'A020024005', 'A020036001', 'A020036002', 'A020036003', 'A020036004', 'A020036005', 'A020036007', 'A020036008', 'A020036009', 'A050035001', 'A050035002', 'A050035003', 'A050035004', 'A050035005', 'A050035006', 'A050035007', 'A050037001', 'A050037002', 'A050037003', 'A050037004', 'A050037005', 'A050037006', 'A050037007', 'A020038001', 'A020038002', 'A020038003', 'A020038004', 'A020038005', 'A050039001', 'A050039002', 'A050039003', 'A050039004', 'A050039005', 'A050039006', 'A050039007', 'A050019001', 'A050019002', 'A050019003', 'A050019004', 'A050019005', 'A050019006', 'A050019007', 'A020042001', 'A020042005', 'A020042002', 'A020042003', 'A020042004', 'A020057006', 'A020057005', 'A020057004', 'A020057003', 'A020057002', 'A020057001', 'A020044001', 'A020044002', 'A020044003', 'A020044004', 'A020044005', 'A020052001', 'A020052002', 'A020052003', 'A020052004', 'A020052005', 'A020066001', 'A020066002', 'A020066003', 'A020066004', 'A020066005', 'A020066006', 'A020061001', 'A020061002', 'A020061003', 'A020061004', 'A020061005', 'A020068001', 'A020068002', 'A020068003', 'A020068004', 'A020068005', 'A020068006', 'A020063001', 'A020063002', 'A020063003', 'A020063004', 'A020063005', 'A050071001', 'A050071002', 'A050071003', 'A050071004', 'A050071005', 'A050071006', 'A020075001', 'A020075002', 'A020075003', 'A020075004', 'A020071001', 'A020071002', 'A020071003', 'A020071004', 'A020071005', 'A020071006', 'A020077001', 'A020077002', 'A020077003', 'A020077004', 'A020077005', 'A020072001', 'A020072002', 'A020072003', 'A020072004', 'A020072005', 'A020079001', 'A020079002', 'A020079003', 'A020079004', 'A020079005', 'A020069001', 'A020069002', 'A020069003', 'A020069004', 'A020069005', 'A050056001', 'A050056002', 'A050056003', 'A050056004', 'A050056005', 'A050056006', 'A020081001', 'A020081002', 'A020081003', 'A020081004', 'A020074001', 'A020074002', 'A020074003', 'A020074004', 'A020074005', 'A050072001', 'A050072002', 'A050072003', 'A050072004', 'A050072005', 'A050072006', 'A020083001', 'A020083002', 'A020083003', 'A020083004', 'A020083005', 'A020086001', 'A020086002', 'A020086003', 'A020086004', 'A020086005', 'A020086006', 'A020086007', 'A020086008', 'A020086009', 'A020086010', 'A020085001', 'A020085002', 'A020085003', 'A020085004', 'A020085005', 'A020087001', 'A020087002', 'A020087003', 'A020087004', 'A020087005', 'A020087006', 'A020087007', 'A050074001', 'A050074002', 'A050074003', 'A050074004', 'A050074005', 'A050074006', 'A050075001', 'A050075002', 'A050075003', 'A050075004', 'A050075005', 'A050075006', 'A050076001', 'A050076002', 'A050076003', 'A050076004', 'A050076005', 'A050076006', 'A050095001', 'A050095002', 'A050095003', 'A050095004', 'A020092001', 'A020092002', 'A020092003', 'A020092004', 'A020092005', 'A020094001', 'A020094002', 'A020094003', 'A020094004', 'A020094005', 'A020089001', 'A020089002', 'A020089003', 'A020089004', 'A020089005', 'A020089006', 'A020096001', 'A020096002', 'A020096003', 'A020096004', 'A020096005', 'A050101001', 'A050101002', 'A050101003', 'A050101004', 'A050101005', 'A050101006', 'A050101007', 'A050102001', 'A050102002', 'A050102003', 'A050102004', 'A020152001', 'A020152002', 'A020152003', 'A020152004', 'A020152005', 'A020098001', 'A020098002', 'A020098003', 'A020098004', 'A020098005', 'A050104001', 'A050104002', 'A050104003', 'A050104004', 'A050104005', 'A050104006', 'A050104007', 'A020110001', 'A020110002', 'A020110003', 'A020110004', 'A020110005', 'A020110006', 'A020100001', 'A020100002', 'A020100003', 'A020100004', 'A020100005', 'A050106001', 'A050106002', 'A050106003', 'A050106004', 'A050106005', 'A050106006', 'A050106007', 'A020111001', 'A020111002', 'A020111003', 'A020111004', 'A020111005', 'A020111006', 'A020102001', 'A020102003', 'A020102004', 'A020102005', 'A020102002', 'A050110001', 'A050110002', 'A050110003', 'A050110004', 'A050110005', 'A050110006', 'A050110007', 'A020112001', 'A020112002', 'A020112003', 'A020112004', 'A020112005', 'A020112006', 'A020104001', 'A020104002', 'A020104003', 'A020104004', 'A020104005', 'A050114001', 'A050114002', 'A050114003', 'A050114004', 'A050114005', 'A050114006', 'A050114007', 'A020113001', 'A020113002', 'A020113003', 'A020113004', 'A020113005', 'A020106001', 'A020106002', 'A020106003', 'A020106004', 'A020106005', 'A020114001', 'A020114002', 'A020114003', 'A020114004', 'A020114005', 'A020114006', 'A020108001', 'A020108002', 'A020108003', 'A020108004', 'A020108005', 'A050112001', 'A050112002', 'A050112003', 'A050112004', 'A050112005', 'A050112006', 'A050112007', 'A020119001', 'A020119002', 'A020119003', 'A020119004', 'A020119005', 'A020119006', 'A020116001', 'A020116002', 'A020116003', 'A020116004', 'A020116005', 'A020120001', 'A020120002', 'A020120003', 'A020120004', 'A020120005', 'A020118001', 'A020118002', 'A020118003', 'A020118004', 'A020118005', 'A050096001', 'A050096002', 'A050096003', 'A050096004', 'A050096005', 'A020135001', 'A020135002', 'A020135003', 'A020135004', 'A020135005', 'A020135006', 'A020122001', 'A020122002', 'A020122003', 'A020122004', 'A020122005', 'A020136001', 'A020136002', 'A020136003', 'A020136004', 'A020136005', 'A020136006', 'A020124001', 'A020124002', 'A020124003', 'A020124004', 'A020124005', 'A050141001', 'A050141002', 'A050141003', 'A050141004', 'A050141005', 'A050141006', 'A050141007', 'A020137001', 'A020137002', 'A020137003', 'A020137004', 'A020137005', 'A020137006', 'A020126001', 'A020126002', 'A020126003', 'A020126004', 'A020126005', 'A020138001', 'A020138002', 'A020138003', 'A020138004', 'A020138005', 'A020138006', 'A020128001', 'A020128002', 'A020128003', 'A020128004', 'A020128005', 'A090055001', 'A090055002', 'A090055003', 'A090055004', 'A090055005', 'A090055006', 'A050149001', 'A050149002', 'A050149003', 'A050149004', 'A050149005', 'A050149006', 'A050149007', 'A020139001', 'A020139002', 'A020139003', 'A020139004', 'A020139005', 'A020139006', 'A020130001', 'A020130002', 'A020130003', 'A020130004', 'A020130005', 'A020140001', 'A020140002', 'A020140003', 'A020140004', 'A020140005', 'A020132001', 'A020132002', 'A020132003', 'A020132004', 'A020132005', 'A010007001', 'A010007002', 'A010007003', 'A010007004', 'A010007005', 'A010009001', 'A010009002', 'A010009003', 'A010009004', 'A010009005', 'A010011001', 'A010011002', 'A010011003', 'A010011004', 'A010011005', 'A010013001', 'A010013002', 'A010013003', 'A010013004', 'A010013005', 'A010015001', 'A010015003', 'A010015004', 'A010015005', 'A010001001', 'A010001002', 'A010001003', 'A010001004', 'A010001005', 'A010005001', 'A010005002', 'A010005003', 'A010005004', 'A010005005', 'A010030001', 'A010030002', 'A010030003', 'A010030004', 'A010030005', 'A010034001', 'A010034002', 'A010034003', 'A010034004', 'A010034005', 'A010032002', 'A010032003', 'A010032004', 'A010032001', 'A010036001', 'A010036002', 'A010036003', 'A010036004', 'A010036005', 'A010038001', 'A010038002', 'A010038003', 'A010038005', 'A010038004', 'A010040001', 'A010040002', 'A010040003', 'A010040004', 'A010040005', 'A010042001', 'A010042002', 'A010042003', 'A010042004', 'A010042005', 'A010044001', 'A010044002', 'A010044003', 'A010044004', 'A010044005', 'A010046001', 'A010046002', 'A010046003', 'A010046004', 'A010046005', 'A010048001', 'A010048002', 'A010048003', 'A010048004', 'A010048005', 'A010061001', 'A010061002', 'A010061003', 'A010061004', 'A010061005', 'A010063001', 'A010063002', 'A010063003', 'A010063004', 'A010063005', 'A010065001', 'A010065002', 'A010065003', 'A010065004', 'A010065005', 'A010067001', 'A010067002', 'A010067003', 'A010067004', 'A010067005', 'A010077001', 'A010077002', 'A010077003', 'A010077004', 'A010077005', 'A060021001', 'A060021002', 'A060021003', 'A060021004', 'A060021005', 'A060021006', 'A060021007', 'A010080001', 'A010080002', 'A010080003', 'A010080004', 'A010080005', 'A010081001', 'A010081002', 'A010081003', 'A010081004', 'A010081005', 'A010083001', 'A010083002', 'A010083003', 'A010083004', 'A010083005', 'A010087001', 'A010087002', 'A010087003', 'A010087004', 'A010087005', 'A060044001', 'A060044002', 'A060044003', 'A060044004', 'A060044005', 'A060044006', 'A060044007', 'A010089001', 'A010089002', 'A010089003', 'A010089004', 'A010089005', 'A010008001', 'A010008002', 'A010008003', 'A010008004', 'A010008005', 'A060071001', 'A060071002', 'A060071003', 'A060071004', 'A060071005', 'A060071006', 'A060071007', 'A060073001', 'A060073002', 'A060073003', 'A060073004', 'A060073005', 'A060073006', 'A060073007', 'A010012001', 'A010012002', 'A010012003', 'A010012004', 'A010012005', 'A010016001', 'A010016002', 'A010016003', 'A010016004', 'A010016005', 'A010025001', 'A010025002', 'A010025003', 'A010025004', 'A010025005', 'A060092001', 'A060092002', 'A060092003', 'A060092004', 'A060092005', 'A060092006', 'A060092007', 'A010002001', 'A010002002', 'A010002003', 'A010002004', 'A010002005', 'A010004001', 'A010004002', 'A010004003', 'A010004004', 'A010004005', 'A010006001', 'A010006002', 'A010006003', 'A010006004', 'A010006005', 'A010029001', 'A010029002', 'A010029003', 'A010029004', 'A010029005', 'A070012001', 'A070012002', 'A070012003', 'A070012004', 'A070012005', 'A070012006', 'A070012007', 'A070012008', 'A070012009', 'A010031001', 'A010031002', 'A010031003', 'A010031004', 'A010031005', 'A010033001', 'A010033002', 'A010033003', 'A010033004', 'A010035001', 'A010035002', 'A010035003', 'A010035005', 'A010035004', 'A060111001', 'A060111002', 'A060111003', 'A060111004', 'A060111005', 'A060111006', 'A010039001', 'A010039002', 'A010039003', 'A010039004', 'A010039005', 'A070034001', 'A070034002', 'A070034003', 'A070034004', 'A070034005', 'A070034006', 'A070034007', 'A070034008', 'A070034009', 'A070036001', 'A070036002', 'A070036003', 'A070036004', 'A070036005', 'A070036006', 'A070036007', 'A070036008', 'A070036009', 'A070040006', 'A070040002', 'A070040003', 'A070040004', 'A070040001', 'A070040005', 'A070042001', 'A070042002', 'A070042003', 'A070042004', 'A070042005', 'A070042006', 'A070050001', 'A070050002', 'A070050003', 'A070050004', 'A070050005', 'A070050006', 'A070050007', 'A070050008', 'A070050009', 'A070054001', 'A070054002', 'A070054003', 'A070054005', 'A070054006', 'A070054004', 'A060114001', 'A060114002', 'A060114003', 'A060114004', 'A060114005', 'A060114006', 'A070056001', 'A070056002', 'A070056003', 'A070056004', 'A070056005', 'A070056006', 'A070056007', 'A070056008', 'A070056009', 'A070058002', 'A070058003', 'A070058004', 'A070058005', 'A070058001', 'A070058006', 'A070058007', 'A070058008', 'A070058009', 'A070058010', 'A070058011', 'A070058012', 'A010117001', 'A010117002', 'A010117003', 'A010117004', 'A010117005', 'A060120001', 'A060120002', 'A060120003', 'A060120004', 'A060120005', 'A060120006', 'A060116001', 'A060116002', 'A060116003', 'A060116004', 'A060116005', 'A060116006', 'A060117001', 'A060117002', 'A060117003', 'A060117004', 'A060117005', 'A010100001', 'A010100002', 'A010100003', 'A010100004', 'A010100005', 'A060141001', 'A060141002', 'A060141003', 'A060141004', 'A060141005', 'A060141006', 'A060141007', 'A060141008', 'A060141009', 'A060142001', 'A060142002', 'A060142003', 'A060142004', 'A060142005', 'A010096001', 'A010096002', 'A010096003', 'A010096004', 'A010096005', 'A060143001', 'A060143002', 'A060143003', 'A060143004', 'A060143005', 'A060143006', 'A060143007', 'A060143008', 'A060143009', 'A060143010', 'A060143011', 'A060144001', 'A060144002', 'A060144003', 'A060144004', 'A060144005', 'A010133001', 'A010133002', 'A010133003', 'A010133004', 'A010133005', 'A010157001', 'A010157002', 'A010157003', 'A010157004', 'A010157005', 'A010165001', 'A010165002', 'A010165003', 'A010165004', 'A010165005', 'A010143001', 'A010143002', 'A010143003', 'A010143004', 'A010143005', 'A010125001', 'A010125002', 'A010125003', 'A010125004', 'A010125005', 'A010167001', 'A010167002', 'A010167003', 'A010167004', 'A010167005', 'A010141001', 'A010141002', 'A010141003', 'A010141004', 'A010141005', 'A010139001', 'A010139002', 'A010139003', 'A010139004', 'A010139005', 'A060147001', 'A060147002', 'A060147003', 'A060147004', 'A060147005', 'A060147006', 'A060147007', 'A060153001', 'A060153002', 'A060153003', 'A060153004', 'A060153005', 'A060153006', 'A060153007', 'A060155001', 'A060155002', 'A060155003', 'A060155004', 'A060155005', 'A010190001', 'A010190002', 'A010190003', 'A010190004', 'A010190005', 'A060156001', 'A060156002', 'A060156003', 'A060156004', 'A060156005', 'A010184001', 'A010184002', 'A010184003', 'A010184004', 'A010184005', 'A060157001', 'A060157002', 'A060157003', 'A060157004', 'A060157005', 'A060158001', 'A060158002', 'A060158003', 'A060158004', 'A060158005', 'A060158006', 'A060158007', 'A060158008', 'A060159001', 'A060159002', 'A060159003', 'A060159004', 'A060159005', 'A060159006', 'A010095001', 'A010095002', 'A010095003', 'A010095004', 'A010095005', 'A070131001', 'A070131002', 'A070131003', 'A070131004', 'A070131005', 'A070131006', 'A070131007', 'A070131008', 'A070132001', 'A070132002', 'A070132003', 'A070132004', 'A070132005', 'A070132006', 'A070132007', 'A070132008', 'A070133001', 'A070133003', 'A070133002', 'A070133004', 'A070133005', 'A070133006', 'A070133007', 'A070133008', 'A070060001', 'A070060002', 'A070060003', 'A070060004', 'A070060005', 'A070060006', 'A040027001', 'A040027002', 'A040027003', 'A040027004', 'A040027005', 'A040027006', 'A040027007', 'A040027010', 'A040027009', 'A040027008', 'A070038001', 'A070038002', 'A070038003', 'A070038004', 'A070038005', 'A070038006', 'A070044003', 'A070044004', 'A070044005', 'A070044006', 'A070044007', 'A070044008', 'A070044009', 'A070044001', 'A070044002', 'A070044010', 'A070044011', 'A070044012', 'A070020001', 'A070020002', 'A070020003', 'A070020004', 'A070020005', 'A070020006', 'A070022001', 'A070022002', 'A070022003', 'A070022004', 'A070022005', 'A070022006', 'A070022007', 'A070022008', 'A070022009', 'A070030001', 'A070030002', 'A070030003', 'A070030004', 'A070030005', 'A070030006', 'A070030007', 'A070030008', 'A070030009', 'A040001001', 'A040001002', 'A040001003', 'A040001004', 'A040001005', 'A070032001', 'A070032002', 'A070032003', 'A070032004', 'A070032005', 'A070032006', 'A070032007', 'A070032008', 'A070032009', 'A040003001', 'A040003002', 'A040003003', 'A040003004', 'A040003005', 'A040005001', 'A040005002', 'A040005003', 'A040005004', 'A040005005', 'A070046001', 'A070046002', 'A070046003', 'A070046004', 'A070046005', 'A070046006', 'A070046007', 'A070046008', 'A070046009', 'A070048001', 'A070048002', 'A070048003', 'A070048004', 'A070048005', 'A070048006', 'A070048007', 'A070048008', 'A070048009', 'A040023001', 'A040023002', 'A040023003', 'A040023004', 'A040023005', 'A070052001', 'A070052002', 'A070052003', 'A070052004', 'A070052005', 'A070052006', 'A070052007', 'A070052008', 'A070052009', 'A070052010', 'A070052011', 'A070052012', 'A040025001', 'A040025002', 'A040025003', 'A040025004', 'A040025005', 'A070062001', 'A070062002', 'A070062003', 'A070062004', 'A070062005', 'A070062006', 'A070062007', 'A070062008', 'A070062009', 'A070064001', 'A070064002', 'A070064003', 'A070064004', 'A070064005', 'A070064006', 'A070066001', 'A070066002', 'A070066003', 'A070066004', 'A070066005', 'A070066006', 'A070068001', 'A070068002', 'A070068003', 'A070068004', 'A070068005', 'A070068006', 'A070068007', 'A070068008', 'A070068009', 'A070068010', 'A070068011', 'A070068012', 'A040067001', 'A040067002', 'A040067003', 'A040067004', 'A040067005', 'A070070001', 'A070070002', 'A070070003', 'A070070004', 'A070070005', 'A070070006', 'A070070007', 'A070070008', 'A070070009', 'A040069001', 'A040069002', 'A040069003', 'A040069004', 'A040069005', 'A070072001', 'A070072002', 'A070072003', 'A070072004', 'A070072005', 'A070072006', 'A070074001', 'A070074002', 'A070074003', 'A070074004', 'A070074005', 'A070074006', 'A070074007', 'A070074008', 'A070074009', 'A070076001', 'A070076003', 'A070076002', 'A070076004', 'A070076005', 'A070076006', 'A070078001', 'A070078002', 'A070078003', 'A070078004', 'A070078005', 'A070078006', 'A070138001', 'A070138002', 'A070138003', 'A070138004', 'A070138005', 'A070138006', 'A070140001', 'A070140002', 'A070140003', 'A070140004', 'A070140005', 'A070140006', 'A070140007', 'A070140008', 'A070142001', 'A070142002', 'A070142003', 'A070142004', 'A070142005', 'A070142006', 'A070142007', 'A070142008', 'A070144001', 'A070144002', 'A070144003', 'A070144004', 'A070144005', 'A070144006', 'A070144007', 'A070144008', 'A070146001', 'A070146002', 'A070146003', 'A070146004', 'A070146005', 'A070146006', 'A070146007', 'A070146008', 'A070148001', 'A070148002', 'A070148003', 'A070148004', 'A070148005', 'A070148006', 'A070148007', 'A070148008', 'A070150001', 'A070150002', 'A070150003', 'A070150004', 'A070150005', 'A070150006', 'A070150007', 'A070150008', 'A070152001', 'A070152002', 'A070152003', 'A070152004', 'A070152005', 'A070152006', 'A070152007', 'A070152008', 'A070154002', 'A070154001', 'A070154003', 'A070154004', 'A070154005', 'A070154006', 'A070154007', 'A070154008', 'A070158001', 'A070158002', 'A070158003', 'A070158004', 'A070158005', 'A070158006', 'A070158007', 'A070158008', 'A060133001', 'A060133002', 'A060133003', 'A060133004', 'A060133005', 'A060133006', 'A060133007', 'A060135001', 'A060135002', 'A060135003', 'A060135004', 'A060135005', 'A060135006', 'A060135007', 'A060137001', 'A060137002', 'A060137003', 'A060137004', 'A060137005', 'A060137006', 'A060137007', 'A060139001', 'A060139002', 'A060139003', 'A060139004', 'A060139005', 'A060139006', 'A060139007', 'A070001001', 'A070001002', 'A070001003', 'A070001004', 'A070001005', 'A070001006', 'A070001007', 'A070001008', 'A070001009', 'A070003001', 'A070003002', 'A070003003', 'A070003004', 'A070003005', 'A070003006', 'A070003007', 'A070003008', 'A070003009', 'A070005001', 'A070005002', 'A070005003', 'A070005004', 'A070005005', 'A070005006', 'A070005007', 'A070005008', 'A070005009', 'A070007001', 'A070007002', 'A070007003', 'A070007004', 'A070007005', 'A070007006', 'A070007007', 'A070007008', 'A070007009', 'A070009001', 'A070009002', 'A070009003', 'A070009004', 'A070009005', 'A070009007', 'A070009008', 'A070009009', 'A070011001', 'A070011002', 'A070011003', 'A070011004', 'A070011005', 'A070011006', 'A070011007', 'A070011008', 'A070011009', 'A070013001', 'A070013002', 'A070013003', 'A070013004', 'A070013005', 'A070013006', 'A070013008', 'A070013007', 'A070013009', 'A070015001', 'A070015002', 'A070015004', 'A070015005', 'A070015006', 'A070015008', 'A070015009', 'A070015003', 'A070015007', 'A070017001', 'A070017002', 'A070017003', 'A070017004', 'A070017005', 'A070017006', 'A070017007', 'A070017008', 'A070017009', 'A070017010', 'A070017011', 'A070017012', 'A070023001', 'A070023002', 'A070023004', 'A070023005', 'A070023006', 'A070023007', 'A070023008', 'A070023009', 'A070023003', 'A070025001', 'A070025002', 'A070025003', 'A070025004', 'A070025005', 'A070025006', 'A070025007', 'A070025008', 'A070025009', 'A070027001', 'A070027002', 'A070027003', 'A070027004', 'A070027005', 'A070027006', 'A070033001', 'A070033002', 'A070033003', 'A070033004', 'A070033005', 'A070033006', 'A070033007', 'A070033008', 'A070033009', 'A070035001', 'A070035002', 'A070035003', 'A070035004', 'A070035005', 'A070035006', 'A070035007', 'A070035008', 'A070035009', 'A070037001', 'A070037002', 'A070037003', 'A070037004', 'A070037005', 'A070037006', 'A070043001', 'A070043002', 'A070043004', 'A070043005', 'A070043006', 'A070043007', 'A070043008', 'A070043009', 'A070043010', 'A070043011', 'A070043012', 'A070043003', 'A070019001', 'A070019002', 'A070019003', 'A070019004', 'A070019005', 'A070019006', 'A070021001', 'A070021002', 'A070021003', 'A070021004', 'A070021005', 'A070021006', 'A070021007', 'A070021008', 'A070021009', 'A070031001', 'A070031002', 'A070031003', 'A070031004', 'A070031005', 'A070031006', 'A070031007', 'A070031008', 'A070031009', 'A070029001', 'A070029002', 'A070029003', 'A070029004', 'A070029005', 'A070029006', 'A070029007', 'A070029008', 'A070029009', 'A070039001', 'A070039002', 'A070039003', 'A070039004', 'A070039005', 'A070039006', 'A070045001', 'A070045002', 'A070045003', 'A070045004', 'A070045005', 'A070045006', 'A070045007', 'A070045008', 'A070045009', 'A070047001', 'A070047002', 'A070047003', 'A070047004', 'A070047005', 'A070047006', 'A070047007', 'A070047008', 'A070047009', 'A070049001', 'A070049002', 'A070049003', 'A070049004', 'A070049005', 'A070049006', 'A070049007', 'A070049008', 'A070049009', 'A070051001', 'A070051002', 'A070051003', 'A070051004', 'A070051006', 'A070051005', 'A070051007', 'A070051008', 'A070051009', 'A070051012', 'A070051010', 'A070051011', 'A070053001', 'A070053002', 'A070053003', 'A070053004', 'A070053005', 'A070053006', 'A070059001', 'A070059002', 'A070059003', 'A070059004', 'A070059005', 'A070059006', 'A070061001', 'A070061002', 'A070061003', 'A070061005', 'A070061007', 'A070061004', 'A070061006', 'A070061008', 'A070061009', 'A070057001', 'A070057002', 'A070057003', 'A070057004', 'A070057005', 'A070057006', 'A070057007', 'A070057008', 'A070057009', 'A070057010', 'A070057011', 'A070057012', 'A070063001', 'A070063002', 'A070063003', 'A070063004', 'A070063005', 'A070063006', 'A070065001', 'A070065002', 'A070065003', 'A070065004', 'A070065005', 'A070065006', 'A070067001', 'A070067002', 'A070067004', 'A070067005', 'A070067006', 'A070067007', 'A070067008', 'A070067009', 'A070067010', 'A070067011', 'A070067012', 'A070067003', 'A070069001', 'A070069002', 'A070069003', 'A070069004', 'A070069005', 'A070069006', 'A070069007', 'A070069008', 'A070069009', 'A070071002', 'A070071003', 'A070071004', 'A070071005', 'A070071006', 'A070071001', 'A070073001', 'A070073002', 'A070073004', 'A070073005', 'A070073006', 'A070073007', 'A070073008', 'A070073009', 'A070073003', 'A070075001', 'A070075002', 'A070075003', 'A070075004', 'A070075005', 'A070075006', 'A070077001', 'A070077002', 'A070077003', 'A070077004', 'A070077005', 'A070077006', 'A040122001', 'A040122002', 'A040122003', 'A040122004', 'A040122005', 'A040126001', 'A040126002', 'A040126003', 'A040126004', 'A040126005', 'A040128001', 'A040128002', 'A040128003', 'A040128004', 'A040128005', 'A040130001', 'A040130002', 'A040130003', 'A040130004', 'A040130005', 'A040137001', 'A040137002', 'A040137003', 'A040137004', 'A040137005', 'A040145001', 'A040145002', 'A040145003', 'A040145004', 'A040145005', 'A040147001', 'A040147002', 'A040147003', 'A040147004', 'A040147005', 'A070101001', 'A070101002', 'A070101003', 'A070101004', 'A070101005', 'A070101006', 'A070101007', 'A070101008', 'A040149001', 'A040149002', 'A040149003', 'A040149004', 'A040149005', 'A020028001', 'A020028002', 'A020028003', 'A020028004', 'A020028005', 'A020031001', 'A020031002', 'A020031003', 'A020031004', 'A020031005', 'A020031006', 'A020032001', 'A020032002', 'A020032003', 'A020032004', 'A020032005', 'A020032006', 'A020026001', 'A020026002', 'A070041001', 'A070041002', 'A070041003', 'A070041004', 'A070041005', 'A070041006', 'A020058001', 'A020058002', 'A020058003', 'A020058004', 'A020058005', 'A020058006', 'A070055001', 'A070055002', 'A070055003', 'A070055004', 'A070055005', 'A070055006', 'A070055007', 'A070055008', 'A070055009', 'A070079001', 'A070079002', 'A070079003', 'A070079004', 'A070079005', 'A070079006', 'A070079007', 'A070079008', 'A070079009', 'A070081001', 'A070081002', 'A070081003', 'A070081004', 'A070081005', 'A070081006', 'A070083001', 'A070083002', 'A070083003', 'A070083004', 'A070083005', 'A070083006', 'A070083007', 'A070083008', 'A070083009', 'A020109001', 'A020109002', 'A020109003', 'A020109004', 'A020109005', 'A020109006', 'A070085001', 'A070085002', 'A070085003', 'A070085004', 'A070085005', 'A070085006', 'A070087001', 'A070087002', 'A070087003', 'A070087004', 'A070087005', 'A070087006', 'A070087007', 'A070087008', 'A020064001', 'A020064002', 'A020064003', 'A020064004', 'A020064005', 'A020064006', 'A020065001', 'A020065002', 'A020065003', 'A020065004', 'A020065005', 'A020065006', 'A070089001', 'A070089002', 'A070089003', 'A070089004', 'A070089005', 'A070089006', 'A070089007', 'A070089008', 'A070091001', 'A070091002', 'A070091003', 'A070091004', 'A070091005', 'A070091006', 'A070091007', 'A070091008', 'A070093001', 'A070093002', 'A070093003', 'A070093004', 'A070093005', 'A070093006', 'A070093007', 'A070093008', 'A070095001', 'A070095002', 'A070095003', 'A070095004', 'A070095005', 'A070095006', 'A070095007', 'A070095008', 'A070097001', 'A070097002', 'A070097003', 'A070097004', 'A070097005', 'A070097006', 'A070097007', 'A070097008', 'A020073001', 'A020073002', 'A020073003', 'A020073004', 'A020073005', 'A070099001', 'A070099002', 'A070099003', 'A070099004', 'A070099005', 'A070099006', 'A070099007', 'A070099008', 'A070103001', 'A070103002', 'A070103003', 'A070103004', 'A070103005', 'A070103006', 'A070103008', 'A070103007', 'A020090001', 'A020090002', 'A020090003', 'A020090004', 'A020090005', 'A020090006', 'A020090007', 'A020090008', 'A020090009', 'A020090010', 'A070105001', 'A070105002', 'A070105003', 'A070105006', 'A070105008', 'A070105004', 'A070105005', 'A070105007', 'A070107001', 'A070107002', 'A070107003', 'A070107004', 'A070107005', 'A070107006', 'A070107007', 'A070107008', 'A070109001', 'A070109002', 'A070109003', 'A070109004', 'A070109005', 'A070109006', 'A070109007', 'A070109008', 'A070110001', 'A070110002', 'A070110003', 'A070110004', 'A070110005', 'A070110006', 'A070110007', 'A070110008', 'A090057001', 'A090057002', 'A090057003', 'A090057004', 'A090057005', 'A090057006', 'A090057007', 'A090057008', 'A070111001', 'A070111002', 'A070111003', 'A070111004', 'A070111005', 'A070111006', 'A070111007', 'A070111008', 'A090059001', 'A090059002', 'A090059003', 'A090059004', 'A090059005', 'A090059006', 'A070112001', 'A070112002', 'A070112003', 'A070112004', 'A070112005', 'A070112006', 'A070113001', 'A070113002', 'A070113003', 'A070113004', 'A070113005', 'A070113006', 'A070114001', 'A070114002', 'A070114003', 'A070114004', 'A070114005', 'A070114006', 'A070114007', 'A070114008', 'A070115001', 'A070115002', 'A070115003', 'A070115004', 'A070115005', 'A070115006', 'A070115007', 'A070115008', 'A070116001', 'A070116002', 'A070116003', 'A070116004', 'A070116005', 'A070116006', 'A070127001', 'A070127002', 'A070127003', 'A070127004', 'A070127005', 'A070127006', 'A070127007', 'A070127008', 'A070128001', 'A070128002', 'A070128003', 'A070128005', 'A070128006', 'A070128004', 'A070128008', 'A070128007', 'A070129001', 'A070129002', 'A070129003', 'A070129004', 'A070129005', 'A070129006', 'A070129007', 'A070129008', 'A070130001', 'A070130002', 'A070130003', 'A070130004', 'A070130005', 'A070130006', 'A070130007', 'A070130008', 'A070135001', 'A070135002', 'A070135003', 'A070135004', 'A070135005', 'A070135006', 'A070135007', 'A070135008', 'A070137001', 'A070137002', 'A070137003', 'A070137004', 'A070137005', 'A070137006', 'A070139001', 'A070139002', 'A070139003', 'A070139004', 'A070139005', 'A070139006', 'A070139007', 'A070139008', 'A010017001', 'A010017002', 'A010017003', 'A010017004', 'A010017005', 'A010017006', 'A010017007', 'A010017008', 'A010052001', 'A010052002', 'A010052003', 'A010052004', 'A010052005', 'A010052006', 'A010053001', 'A010053002', 'A010053003', 'A010053004', 'A010053005', 'A010055001', 'A010055002', 'A010055003', 'A010055004', 'A010056001', 'A010056002', 'A010056003', 'A010056004', 'A010056005', 'A010059001', 'A010059002', 'A010059003', 'A010059004', 'A010059005', 'A010059006', 'A010069001', 'A010069002', 'A010069003', 'A010069004', 'A010069005', 'A010071003', 'A010071004', 'A010071005', 'A010071006', 'A010071001', 'A010071002', 'A010091001', 'A010091002', 'A010091003', 'A010091004', 'A010091005', 'A010091006', 'A010024001', 'A010024002', 'A010024003', 'A010024004', 'A010024005', 'A010092001', 'A010092002', 'A010092003', 'A010092004', 'A010092005', 'A010092006', 'A010093001', 'A010093002', 'A010093003', 'A010093004', 'A010093005', 'A010028001', 'A010028002', 'A010028003', 'A010028004', 'A010028005', 'A010085001', 'A010085002', 'A010085003', 'A010085004', 'A010085005', 'A010041001', 'A010041002', 'A010041003', 'A010041004', 'A010041005', 'A010043001', 'A010043002', 'A010043003', 'A010043004', 'A010043005', 'A010047001', 'A010047002', 'A010047003', 'A010047004', 'A010047005', 'A010062001', 'A010062002', 'A010062003', 'A010062004', 'A010062005', 'A010064001', 'A010064002', 'A010064003', 'A010064004', 'A010064005', 'A010066001', 'A010066002', 'A010066003', 'A010066004', 'A010066005', 'A010082001', 'A010082002', 'A010082003', 'A010082004', 'A010082005', 'A010090001', 'A010090002', 'A010090003', 'A010090004', 'A010090005', 'A010104001', 'A010104002', 'A010104003', 'A010104004', 'A010104005', 'A010105001', 'A010105002', 'A010105003', 'A010105004', 'A010105005', 'A010105006', 'A010106001', 'A010106002', 'A010106003', 'A010106004', 'A010106005', 'A010108001', 'A010108002', 'A010108003', 'A010108004', 'A010108005', 'A010109001', 'A010109002', 'A010109003', 'A010109004', 'A010109005', 'A010109006', 'A010111001', 'A010111002', 'A010111003', 'A010111004', 'A010111005', 'A010112001', 'A010112002', 'A010112003', 'A010112004', 'A010112005', 'A010112006', 'A010097001', 'A010097002', 'A010097003', 'A010097004', 'A010097005', 'A010099001', 'A010099002', 'A010099003', 'A010099004', 'A010099005', 'A010101001', 'A010101002', 'A010101003', 'A010101004', 'A010101005', 'A010103001', 'A010103002', 'A010103003', 'A010103004', 'A010103005', 'A010113001', 'A010113002', 'A010113003', 'A010113004', 'A010113005', 'A010113006', 'A010114001', 'A010114002', 'A010114003', 'A010114004', 'A010114005', 'A010115001', 'A010115002', 'A010115003', 'A010115004', 'A010115005', 'A010116001', 'A010116002', 'A010116003', 'A010116004', 'A010116005', 'A010137001', 'A010137002', 'A010137003', 'A010137004', 'A010137005', 'A010137006', 'A010137007', 'A010138001', 'A010138002', 'A010138003', 'A010138004', 'A010151001', 'A010151002', 'A010151003', 'A010151004', 'A010151005', 'A010151006', 'A020170001', 'A020170002', 'A020170003', 'A020170004', 'A020170005', 'A020170006', 'A010152001', 'A010152002', 'A010152003', 'A010152004', 'A010152005', 'A020171001', 'A020171002', 'A020171003', 'A020171004', 'A020171005', 'A020171006', 'A010153001', 'A010153002', 'A010153003', 'A010153004', 'A010153005', 'A010153006', 'A020005001', 'A020005002', 'A020005003', 'A020005004', 'A020005005', 'A020007001', 'A020007002', 'A020007003', 'A020007004', 'A020007005', 'A020009001', 'A020009002', 'A020009003', 'A020009004', 'A020009005', 'A020011001', 'A020011002', 'A020011003', 'A020011004', 'A020011005', 'A020001001', 'A020001002', 'A020001003', 'A020001004', 'A020001005', 'A020013001', 'A020013002', 'A020013003', 'A020013004', 'A020013005', 'A020015001', 'A020015002', 'A020015003', 'A020015004', 'A020015005', 'A020017001', 'A020017002', 'A020017003', 'A020017004', 'A020017005', 'A020019001', 'A020019002', 'A020019003', 'A020019004', 'A020019005', 'A020021001', 'A020021002', 'A020021003', 'A020021004', 'A020021005', 'A020023001', 'A020023002', 'A020023003', 'A020023004', 'A020023005', 'A020037001', 'A020037002', 'A020037003', 'A020037004', 'A020037005', 'A020039001', 'A020039002', 'A020039003', 'A020039004', 'A020039005', 'A020041001', 'A020041002', 'A020041003', 'A020041004', 'A020041005', 'A020043001', 'A020043002', 'A020043003', 'A020043004', 'A020043005', 'A020045001', 'A020045002', 'A020045003', 'A020045004', 'A020045005', 'A020047001', 'A020047002', 'A020047003', 'A020047004', 'A020047005', 'A020049001', 'A020049002', 'A020049003', 'A020049004', 'A020049005', 'A020060001', 'A020060002', 'A020060003', 'A020060004', 'A020060005', 'A020051001', 'A020051002', 'A020051003', 'A020051004', 'A020051005', 'A020062001', 'A020062002', 'A020062003', 'A020062004', 'A020062005', 'A020053001', 'A020053002', 'A020053003', 'A020053004', 'A020053005', 'A020070001', 'A020070002', 'A020070003', 'A020070004', 'A020070005', 'A020076001', 'A020076002', 'A020076003', 'A020076004', 'A020076005', 'A020078001', 'A020078002', 'A020078003', 'A020078004', 'A020078005', 'A020080001', 'A020080002', 'A020080003', 'A020080004', 'A020080005', 'A020082001', 'A020082002', 'A020082003', 'A020082004', 'A020082005', 'A020084001', 'A020084002', 'A020084003', 'A020084004', 'A020084005', 'A020091001', 'A020091002', 'A020091003', 'A020091004', 'A020091005', 'A020093001', 'A020093002', 'A020093003', 'A020093004', 'A020093005', 'A020095001', 'A020095002', 'A020095003', 'A020095004', 'A020095005', 'A020055001', 'A020055002', 'A020055003', 'A020055004', 'A020055005', 'A020055006', 'A020056001', 'A020056002', 'A020056003', 'A020056004', 'A020056005', 'A020056006', 'A020059001', 'A020059002', 'A020059003', 'A020059004', 'A020059005', 'A020059006', 'A030111001', 'A030111002', 'A030111003', 'A030111004', 'A030111005', 'A020067001', 'A020067002', 'A020067003', 'A020067004', 'A020067005', 'A020067006', 'A030147001', 'A030147002', 'A030147003', 'A030147004', 'A030147005', 'A030165001', 'A030165002', 'A030165003', 'A030165004', 'A030165005', 'A030167001', 'A030167002', 'A030167003', 'A030167004', 'A030167005', 'A030171001', 'A030171002', 'A030171003', 'A030171004', 'A030171005', 'A020088001', 'A020088002', 'A020088003', 'A020088004', 'A020088005', 'A020088006', 'A020088007', 'A030173001', 'A030173002', 'A030173003', 'A030173004', 'A030173005', 'A030175001', 'A030175002', 'A030175003', 'A030175004', 'A030175005', 'A030177001', 'A030177002', 'A030177003', 'A030177004', 'A030177005', 'A030179001', 'A030179002', 'A030179003', 'A030179004', 'A030179005', 'A030181001', 'A030181002', 'A030181003', 'A030181004', 'A030181005', 'A030183001', 'A030183002', 'A030183003', 'A030183004', 'A030183005', 'A030195001', 'A030195002', 'A030195003', 'A030195004', 'A030195005', 'A030197001', 'A030197002', 'A030197003', 'A030197004', 'A030197005', 'A020097001', 'A020097002', 'A020097003', 'A020097004', 'A020097005', 'A020099001', 'A020099002', 'A020099003', 'A020099004', 'A020099005', 'A020101001', 'A020101002', 'A020101003', 'A020101004', 'A020101005', 'A020103001', 'A020103002', 'A020103003', 'A020103004', 'A020103005', 'A020105001', 'A020105002', 'A020105003', 'A020105004', 'A020105005', 'A020107001', 'A020107002', 'A020107003', 'A020107004', 'A020107005', 'A020115001', 'A020115002', 'A020115003', 'A020115004', 'A020115005', 'A020117001', 'A020117002', 'A020117003', 'A020117004', 'A020117005', 'A020121001', 'A020121002', 'A020121003', 'A020121004', 'A020121005', 'A020123001', 'A020123002', 'A020123003', 'A020123004', 'A020123005', 'A030133001', 'A030133005', 'A030133004', 'A030133003', 'A030133002', 'A030134001', 'A030134002', 'A030134003', 'A030134004', 'A030134005', 'A030134006', 'A020142001', 'A020142002', 'A020142003', 'A020142004', 'A020142005', 'A030157001', 'A030157002', 'A030157003', 'A030157004', 'A030157005', 'A030157006', 'A030157007', 'A030157008', 'A030158001', 'A030158002', 'A030158003', 'A030158004', 'A030158005', 'A030158006', 'A070117001', 'A070117002', 'A070117003', 'A070117004', 'A070117005', 'A070117006', 'A070117008', 'A070117007', 'A070141001', 'A070141002', 'A070141003', 'A070141004', 'A070141005', 'A070141006', 'A070141007', 'A070141008', 'A070147001', 'A070147002', 'A070147003', 'A070147004', 'A070147005', 'A070147006', 'A070147007', 'A070147008', 'A070149001', 'A070149002', 'A070149003', 'A070149004', 'A070149005', 'A070149006', 'A070149008', 'A070149007', 'A070151001', 'A070151002', 'A070151003', 'A070151004', 'A070151005', 'A070151006', 'A070151007', 'A070151008', 'A070153001', 'A070153002', 'A070153003', 'A070153004', 'A070153005', 'A070153006', 'A070153007', 'A070153008', 'A070145001', 'A070145002', 'A070145003', 'A070145004', 'A070145005', 'A070145006', 'A070145007', 'A070145008', 'A070155001', 'A070155002', 'A070155003', 'A070155004', 'A070155005', 'A070155006', 'A010003001', 'A010003002', 'A010003003', 'A010003004', 'A010003005', 'A020003001', 'A020003002', 'A020003003', 'A020003005', 'A020029001', 'A020029002', 'A020029003', 'A020029004', 'A020029005', 'A020025001', 'A020025002', 'A020025003', 'A020025004', 'A020025005', 'A020025006', 'A020025007', 'A010026001', 'A010026002', 'A010026003', 'A010026004', 'A010026005', 'A010026006', 'A020050001', 'A020050002', 'A020050003', 'A020050004', 'A020050005', 'A010022001', 'A010022002', 'A010022003', 'A010022004', 'A010022005', 'A010022006', 'A010023001', 'A010023002', 'A010023003', 'A010023004', 'A010051001', 'A010051002', 'A010051003', 'A010051004', 'A010051005', 'A010094001', 'A010094002', 'A010094003', 'A010094004', 'A010094005', 'A020129001', 'A020129002', 'A020129003', 'A020129004', 'A020129005', 'A010102001', 'A010102002', 'A010102003', 'A010102004', 'A010102005', 'A020148001', 'A020148002', 'A020148003', 'A020148004', 'A020148005', 'A010119001', 'A010119002', 'A010119003', 'A010119004', 'A010119005', 'A020150001', 'A020150002', 'A020150003', 'A020150004', 'A020150005', 'A020157001', 'A020157002', 'A020157003', 'A020157004', 'A020157005', 'A010121001', 'A010121002', 'A010121003', 'A010121004', 'A010121005', 'A020159001', 'A020159002', 'A020159003', 'A020159004', 'A020159005', 'A020125001', 'A020125002', 'A020125003', 'A020125004', 'A020125005', 'A020161001', 'A020161002', 'A020161003', 'A020161004', 'A020161005', 'A020163001', 'A020163002', 'A020163003', 'A020163004', 'A020163005', 'A010123001', 'A010123002', 'A010123003', 'A010123004', 'A010123005', 'A020127001', 'A020127002', 'A020127003', 'A020127004', 'A020127005', 'A020165001', 'A020165002', 'A020165004', 'A020165005', 'A020165003', 'A020167001', 'A020167002', 'A020167003', 'A020167004', 'A020167005', 'A020175001', 'A020175002', 'A020175003', 'A020175004', 'A020175005', 'A020131001', 'A020131002', 'A020131003', 'A020131004', 'A020131005', 'A020177001', 'A020177002', 'A020177003', 'A020177004', 'A020177005', 'A010127001', 'A010127002', 'A010127003', 'A010127004', 'A010127005', 'A020179001', 'A020179002', 'A020179004', 'A020179005', 'A020184001', 'A020184002', 'A020184003', 'A020184004', 'A020184005', 'A010098001', 'A010098002', 'A010098003', 'A010098004', 'A010098005', 'A020186001', 'A020186002', 'A020186003', 'A020186004', 'A020186005', 'A020188001', 'A020188002', 'A020188003', 'A020188004', 'A020188005', 'A020190001', 'A020190002', 'A020190003', 'A020190004', 'A020190005', 'A010131001', 'A010131002', 'A010131003', 'A010131004', 'A010131005', 'A010129001', 'A010129002', 'A010129003', 'A010129004', 'A010129005', 'A020133001', 'A020133002', 'A020133003', 'A020133004', 'A020133005', 'A020144001', 'A020144002', 'A020144003', 'A020144004', 'A020144005', 'A010135001', 'A010135002', 'A010135003', 'A010135004', 'A010135005', 'A020134001', 'A020134002', 'A020134003', 'A020134004', 'A020134005', 'A020143001', 'A020143002', 'A020143003', 'A020143004', 'A020143005', 'A020141001', 'A020141002', 'A020141003', 'A020141004', 'A020141005', 'A020141006', 'A020158001', 'A020158002', 'A020158003', 'A020158004', 'A020158005', 'A020160001', 'A020160002', 'A020160003', 'A020160004', 'A020160005', 'A020162001', 'A020162002', 'A020162003', 'A020162004', 'A020162005', 'A020164002', 'A020164003', 'A020164004', 'A020164005', 'A020145001', 'A020145002', 'A020145003', 'A020145004', 'A020145005', 'A020149001', 'A020149002', 'A020149003', 'A020149004', 'A020149005', 'A020146001', 'A020146002', 'A020146003', 'A020146004', 'A020146005', 'A020151001', 'A020151002', 'A020151003', 'A020151004', 'A020151005', 'A020147001', 'A020147002', 'A020147003', 'A020147004', 'A020153001', 'A020153002', 'A020153003', 'A020153004', 'A020153005', 'A020154001', 'A020154002', 'A020154003', 'A020154004', 'A020154005', 'A020154006', 'A020155001', 'A020155002', 'A020155003', 'A020155004', 'A020155005', 'A020155006', 'A020156001', 'A020156002', 'A020156003', 'A020156004', 'A020156005', 'A020156006', 'A020156007', 'A020156008', 'A020169001', 'A020169002', 'A020169003', 'A020169004', 'A020169005', 'A020169006', 'A010163001', 'A010163002', 'A010163003', 'A010163004', 'A010163005', 'A020168001', 'A020168002', 'A020168003', 'A020168004', 'A020168005', 'A040060001', 'A040060002', 'A040060003', 'A040060004', 'A040060005', 'A040080001', 'A040080002', 'A040080003', 'A040080004', 'A040080005', 'A040080006', 'A040086001', 'A040086002', 'A040086003', 'A040086004', 'A040086005', 'A040086006', 'A040087001', 'A040087002', 'A040087003', 'A040087004', 'A040087005', 'A010070001', 'A010070002', 'A010070003', 'A010070004', 'A010070005', 'A010070006', 'A030076002', 'A030076001', 'A030076003', 'A030076004', 'A030076005', 'A030185001', 'A030185002', 'A030185003', 'A030185004', 'A030185005', 'A030112001', 'A030112002', 'A030112003', 'A030112004', 'A030112005', 'A030114002', 'A030114003', 'A030114004', 'A030114005', 'A030114001', 'A030116001', 'A030116002', 'A030116003', 'A030116004', 'A030116005', 'A030118001', 'A030118002', 'A030118003', 'A030118004', 'A030118005', 'A030120005', 'A030120004', 'A030120003', 'A030120002', 'A030120001', 'A030122001', 'A030122002', 'A030122004', 'A030122005', 'A030122003', 'A030124001', 'A030124002', 'A030124003', 'A030124004', 'A030124005', 'A030126001', 'A030126002', 'A030126003', 'A030126004', 'A030126005', 'A030136001', 'A030136002', 'A030136003', 'A030136004', 'A030136005', 'A040105001', 'A040105002', 'A040105003', 'A040105004', 'A040105005', 'A030138001', 'A030138002', 'A030138003', 'A030138004', 'A030138005', 'A030140002', 'A030140001', 'A030140003', 'A030140004', 'A030140005', 'A030142002', 'A030142001', 'A030142003', 'A030142004', 'A030142005', 'A030144001', 'A030144002', 'A030144003', 'A030144004', 'A030144005', 'A030146001', 'A030146004', 'A030146002', 'A030146003', 'A030146005', 'A030148001', 'A030148002', 'A030148003', 'A030148004', 'A030148005', 'A030150001', 'A030150002', 'A030150003', 'A030150004', 'A030150005', 'A010155001', 'A010155002', 'A010155003', 'A010155004', 'A010155005', 'A020027001', 'A020027002', 'A020027003', 'A020027004', 'A020027005', 'A020027006', 'A020030001', 'A020030002', 'A020030003', 'A020030004', 'A020030005', 'A020030006', 'A030010001', 'A030010002', 'A030010003', 'A030010004', 'A030010005', 'A020033001', 'A020033002', 'A020033003', 'A020033004', 'A020033005', 'A020033006', 'A020034001', 'A020034002', 'A020034003', 'A020034004', 'A020034005', 'A020034006', 'A020035001', 'A020035002', 'A020035004', 'A020035003', 'A020035005', 'A020035006', 'A020022001', 'A020022002', 'A020022003', 'A020022004', 'A020022005', 'A020040001', 'A020040002', 'A020040003', 'A020040004', 'A020040005', 'A020046001', 'A020046002', 'A020046003', 'A020046004', 'A020046005', 'A020048001', 'A020048002', 'A020048003', 'A020048004', 'A020048005', 'A020054001', 'A020054002', 'A020054003', 'A020054004', 'A020054005', 'A010122001', 'A010122002', 'A010122003', 'A010122004', 'A010122005', 'A010124001', 'A010124002', 'A010124003', 'A010124004', 'A010124005', 'A010128001', 'A010128002', 'A010128003', 'A010128004', 'A010128005', 'A010134001', 'A010134002', 'A010134003', 'A010134004', 'A010134005', 'A010140001', 'A010140002', 'A010140003', 'A010140004', 'A010140005', 'A010142001', 'A010142002', 'A010142003', 'A010142004', 'A010142005', 'A010146001', 'A010146002', 'A010146003', 'A010146004', 'A010146005', 'A010173001', 'A010173002', 'A010173003', 'A010173004', 'A010173005', 'A010170001', 'A010170002', 'A010170003', 'A010170004', 'A010170005', 'A050002001', 'A050002002', 'A050002003', 'A050002004', 'A050002005', 'A050002006', 'A050002007', 'A050004001', 'A050004002', 'A050004003', 'A050004004', 'A050004005', 'A050004006', 'A050004007', 'A060046001', 'A060046002', 'A060046003', 'A060046004', 'A060046005', 'A060046006', 'A060047001', 'A060047002', 'A060047003', 'A060047004', 'A060047005', 'A060047006', 'A050044001', 'A050044002', 'A050044003', 'A050044004', 'A050044005', 'A050044006', 'A050044007', 'A060048001', 'A060048002', 'A060048003', 'A060048004', 'A060048005', 'A060048006', 'A060064001', 'A060064002', 'A060064003', 'A060066001', 'A060066002', 'A060066003', 'A060066004', 'A060066005', 'A060066006', 'A050052001', 'A050052002', 'A050052003', 'A050052004', 'A050052005', 'A050052006', 'A050052007', 'A050077001', 'A050077002', 'A050077003', 'A050077004', 'A050077005', 'A050077006', 'A050077007', 'A050079001', 'A050079002', 'A050079003', 'A050079004', 'A050079005', 'A050079006', 'A050079007', 'A050081001', 'A050081002', 'A050081003', 'A050081004', 'A050081005', 'A050081006', 'A050081007', 'A030159001', 'A030159002', 'A030159003', 'A030159004', 'A030159005', 'A030159006', 'A030159007', 'A050063001', 'A050063002', 'A050063003', 'A050063004', 'A050063005', 'A050063006', 'A050063007', 'A030160001', 'A030160002', 'A030160003', 'A030160004', 'A030160005', 'A050067001', 'A050067002', 'A050067003', 'A050067004', 'A050067005', 'A050067006', 'A050067007', 'A030161001', 'A030161002', 'A030161003', 'A030161004', 'A030161005', 'A030161006', 'A030161007', 'A030161008', 'A030161009', 'A030163001', 'A030163002', 'A030163003', 'A030163004', 'A030163005', 'A030163006', 'A030162001', 'A030162002', 'A030162003', 'A030162004', 'A030162005', 'A030162006', 'A050085001', 'A050085002', 'A050085003', 'A050085004', 'A050085005', 'A050085006', 'A050085007', 'A050087001', 'A050087002', 'A050087003', 'A050087004', 'A050087005', 'A050087006', 'A050087007', 'A030164001', 'A030164002', 'A030164003', 'A030164004', 'A030164005', 'A030164006', 'A030187001', 'A030187002', 'A030187003', 'A030187004', 'A030187005', 'A030187006', 'A030187007', 'A030187008', 'A030187009', 'A030187010', 'A050091001', 'A050091002', 'A050091003', 'A050091004', 'A050091006', 'A050091005', 'A050091007', 'A050093001', 'A050093002', 'A050093003', 'A050093004', 'A050093005', 'A050093006', 'A050093007', 'A030188001', 'A030188002', 'A030188003', 'A030188004', 'A030188005', 'A050014001', 'A050014002', 'A050014003', 'A050014004', 'A050014005', 'A050014006', 'A050015001', 'A050015002', 'A050015003', 'A050015004', 'A050015005', 'A050015006', 'A050016001', 'A050016002', 'A050016003', 'A050016004', 'A050016005', 'A050016006', 'A030189001', 'A030189002', 'A030189003', 'A030189004', 'A030189005', 'A030189006', 'A030190001', 'A030190002', 'A030190003', 'A030190004', 'A030190005', 'A030190006', 'A030190007', 'A030190008', 'A030190009', 'A050031001', 'A050031002', 'A050031003', 'A050031004', 'A050031005', 'A050031006', 'A050032001', 'A050032002', 'A050032003', 'A050032004', 'A050032005', 'A050032006', 'A030191001', 'A030191002', 'A030191003', 'A030191004', 'A030192001', 'A030192002', 'A030192003', 'A030192004', 'A030192005', 'A030192006', 'A050058001', 'A050058002', 'A050058003', 'A050058004', 'A050058005', 'A050058006', 'A030193001', 'A030193002', 'A030193003', 'A030193004', 'A030193005', 'A030193006', 'A030193007', 'A030193008', 'A030193009', 'A030194001', 'A030194002', 'A030194003', 'A030194004', 'A030194005', 'A030194006', 'A030194007', 'A030194008', 'A050098001', 'A050098002', 'A050098003', 'A050098004', 'A050098005', 'A050098006', 'A050103001', 'A050103002', 'A050103003', 'A050103004', 'A050103005', 'A050103006', 'A050103007', 'A050100001', 'A050100002', 'A050100003', 'A050100004', 'A050100005', 'A050100006', 'A050108001', 'A050108002', 'A050108003', 'A050108004', 'A050108005', 'A050108006', 'A050108007', 'A050116001', 'A050116002', 'A050116003', 'A050116004', 'A050116005', 'A050116006', 'A050116007', 'A050125001', 'A050125002', 'A050125003', 'A050125004', 'A050125005', 'A050125006', 'A050125007', 'A050127001', 'A050127002', 'A050127003', 'A050127004', 'A050127005', 'A050127006', 'A050127007', 'A030152001', 'A030152002', 'A030152003', 'A030152004', 'A030152005', 'A050129001', 'A050129002', 'A050129003', 'A050129004', 'A050129005', 'A050129006', 'A050129007', 'A030154001', 'A030154002', 'A030154003', 'A030154004', 'A030154005', 'A030156001', 'A030156002', 'A030156003', 'A030156004', 'A030156005', 'A050083001', 'A050083002', 'A050083003', 'A050083004', 'A050083005', 'A050083006', 'A050083007', 'A050003001', 'A050003002', 'A050003003', 'A050003004', 'A050003005', 'A050003006', 'A050003007', 'A050005001', 'A050005002', 'A050005003', 'A050005004', 'A050005005', 'A050005006', 'A050005007', 'A050007001', 'A050007002', 'A050007003', 'A050007004', 'A050007005', 'A050007006', 'A050007007', 'A050009001', 'A050009002', 'A050009003', 'A050009004', 'A050009005', 'A050009006', 'A050009007', 'A050011001', 'A050011002', 'A050011003', 'A050011004', 'A050011005', 'A050011006', 'A050011007', 'A050018001', 'A050018002', 'A050018003', 'A050018004', 'A050018005', 'A050018006', 'A050018007', 'A050020001', 'A050020002', 'A050020003', 'A050020004', 'A050020005', 'A050020006', 'A050020007', 'A050022001', 'A050022002', 'A050022003', 'A050022004', 'A050022005', 'A050022006', 'A050022007', 'A050024001', 'A050024002', 'A050024003', 'A050024004', 'A050024005', 'A050024006', 'A050024007', 'A050026001', 'A050026002', 'A050026003', 'A050026004', 'A050026005', 'A050026006', 'A050026007', 'A050028001', 'A050028002', 'A050028003', 'A050028004', 'A050028005', 'A050028006', 'A050028007', 'A050036001', 'A050036002', 'A050036003', 'A050036004', 'A050036005', 'A050036006', 'A050036007', 'A050038001', 'A050038002', 'A050038003', 'A050038004', 'A050038005', 'A050038006', 'A050038007', 'A050040001', 'A050040002', 'A050040003', 'A050040004', 'A050040005', 'A050040006', 'A050040007', 'A050045001', 'A050045002', 'A050045003', 'A050045004', 'A050045005', 'A050045006', 'A050045007', 'A050047001', 'A050047002', 'A050047003', 'A050047004', 'A050047005', 'A050047006', 'A050047007', 'A050049001', 'A050049002', 'A050049003', 'A050049004', 'A050049005', 'A050049006', 'A050049007', 'A050051001', 'A050051002', 'A050051003', 'A050051004', 'A050051005', 'A050051006', 'A050053001', 'A050053002', 'A050053003', 'A050053004', 'A050053005', 'A050053006', 'A050053007', 'A050060001', 'A050060002', 'A050060003', 'A050060004', 'A050060005', 'A050060006', 'A050060007', 'A050062001', 'A050062002', 'A050062003', 'A050062004', 'A050062005', 'A050062006', 'A050062007', 'A050064001', 'A050064002', 'A050064003', 'A050064004', 'A050064005', 'A050064006', 'A050064007', 'A050066001', 'A050066002', 'A050066003', 'A050066004', 'A050066005', 'A050066006', 'A050066007', 'A050068001', 'A050068002', 'A050068003', 'A050068004', 'A050068005', 'A050068006', 'A050068007', 'A050070001', 'A050070002', 'A050070003', 'A050078001', 'A050078002', 'A050078003', 'A050078004', 'A050078005', 'A050078006', 'A050078007', 'A050070004', 'A050070005', 'A050070006', 'A050070007', 'A050080001', 'A050080002', 'A050080003', 'A050080004', 'A050080005', 'A050080006', 'A050080007', 'A050082001', 'A050082002', 'A050082003', 'A050082004', 'A050082005', 'A050082006', 'A050082007', 'A050084001', 'A050084002', 'A050084003', 'A050084004', 'A050084005', 'A050084006', 'A050084007', 'A050086001', 'A050086002', 'A050086003', 'A050086004', 'A050086005', 'A050086006', 'A050086007', 'A050088001', 'A050088002', 'A050088003', 'A050088004', 'A050088005', 'A050088006', 'A050088007', 'A050090001', 'A050090002', 'A050090003', 'A050090004', 'A050090005', 'A050090006', 'A050090007', 'A050092001', 'A050092002', 'A050092003', 'A050092004', 'A050092005', 'A050092006', 'A050092007', 'A050094001', 'A050094002', 'A050094003', 'A050094004', 'A050094005', 'A050094006', 'A050094007', 'A050105001', 'A050105002', 'A050105003', 'A050105004', 'A050105005', 'A050105006', 'A050105007', 'A050107001', 'A050107002', 'A050107003', 'A050107004', 'A050107005', 'A050107006', 'A050107007', 'A050111001', 'A050111002', 'A050111003', 'A050111004', 'A050111005', 'A050111006', 'A050111007', 'A050109001', 'A050109002', 'A050109003', 'A050109004', 'A050109005', 'A050109006', 'A050109007', 'A050113001', 'A050113002', 'A050113003', 'A050113004', 'A050113005', 'A050113006', 'A050113007', 'A050115001', 'A050115002', 'A050115003', 'A050115004', 'A050115005', 'A050115006', 'A050115007', 'A050117001', 'A050117002', 'A050117003', 'A050117004', 'A050117005', 'A050117006', 'A050117007', 'A050126001', 'A050126002', 'A050126003', 'A050126004', 'A050126005', 'A050126006', 'A050126007', 'A050143001', 'A050143002', 'A050143003', 'A050143004', 'A050143005', 'A050143006', 'A050143007', 'A050151001', 'A050151002', 'A050151003', 'A050151004', 'A050151005', 'A050151006', 'A050151007', 'A050153001', 'A050153002', 'A050153003', 'A050153004', 'A050153005', 'A050153006', 'A050153007', 'A050155001', 'A050155002', 'A050155003', 'A050155004', 'A050155005', 'A050155006', 'A050155007', 'A050157001', 'A050157002', 'A050157003', 'A050157004', 'A050157005', 'A050157006', 'A050157007', 'A050164001', 'A050164002', 'A050164003', 'A050164004', 'A050164005', 'A050164006', 'A050164007', 'A050166001', 'A050166002', 'A050166003', 'A050166004', 'A050166005', 'A050166006', 'A050166007', 'A050168001', 'A050168002', 'A050168003', 'A050168004', 'A050168005', 'A050168006', 'A050168007', 'A050170001', 'A050170002', 'A050170003', 'A050170004', 'A050170005', 'A050170006', 'A050170007', 'A050172001', 'A050172002', 'A050172003', 'A050172004', 'A050172005', 'A050172006', 'A050172007', 'A050179001', 'A050179002', 'A050179003', 'A050179004', 'A050179005', 'A050179006', 'A050179007', 'A050181001', 'A050181002', 'A050181003', 'A050181004', 'A050181005', 'A050181006', 'A050181007', 'A050183001', 'A050183002', 'A050183003', 'A050183004', 'A050183005', 'A050183006', 'A050183007', 'A050185001', 'A050185002', 'A050185003', 'A050185004', 'A050185005', 'A050185006', 'A050185007', 'A050187001', 'A050187002', 'A050187003', 'A050187004', 'A050187005', 'A050187006', 'A050187007', 'A030088001', 'A030088002', 'A030088003', 'A030088004', 'A030088005', 'A070094001', 'A070094002', 'A070094003', 'A070094004', 'A070094005', 'A070094006', 'A070094007', 'A070094008', 'A070106001', 'A070106002', 'A070106003', 'A070106004', 'A070106005', 'A070106006', 'A070106007', 'A070106008', 'A070124001', 'A070124005', 'A070124006', 'A070124004', 'A070124002', 'A070124007', 'A070124008', 'A070124003', 'A070126002', 'A070126005', 'A070126006', 'A070126004', 'A070126008', 'A070126001', 'A070126003', 'A070126007', 'A070136007', 'A070136005', 'A070136001', 'A070136002', 'A070136003', 'A070136008', 'A070136006', 'A070136004', 'A070160001', 'A070160002', 'A070160003', 'A070160004', 'A070160005', 'A070160006', 'A070160007', 'A070160008', 'A070162001', 'A070162002', 'A070162003', 'A070162004', 'A070162005', 'A070162006', 'A070162007', 'A070162008', 'A070143001', 'A070143002', 'A070143003', 'A070143004', 'A070143005', 'A070143006', 'A070143007', 'A070143008', 'A070157001', 'A070157002', 'A070157003', 'A070157004', 'A070157005', 'A070157006', 'A070157007', 'A070157008', 'A070159001', 'A070159002', 'A070159003', 'A070159004', 'A070159005', 'A070159006', 'A070159007', 'A070159008', 'A070161001', 'A070161002', 'A070161003', 'A070161004', 'A070161005', 'A070161006', 'A070161007', 'A070161008', 'A070163002', 'A070163003', 'A070163004', 'A070163001', 'A070163005', 'A070163006', 'A070163007', 'A070163008', 'A070086001', 'A070086002', 'A070086003', 'A070086004', 'A070086005', 'A070086006', 'A070088001', 'A070088002', 'A070088003', 'A070088004', 'A070088005', 'A070088006', 'A070088007', 'A070088008', 'A070090003', 'A070090004', 'A070090005', 'A070090001', 'A070090002', 'A070090008', 'A070090006', 'A070090007', 'A070092001', 'A070092004', 'A070092002', 'A070092003', 'A070092005', 'A070092006', 'A070092007', 'A070092008', 'A070096001', 'A070096002', 'A070096003', 'A070096004', 'A070096005', 'A070096006', 'A070096007', 'A070098001', 'A070098002', 'A070098003', 'A070098004', 'A070098005', 'A070098006', 'A070098007', 'A070098008', 'A070100001', 'A070100002', 'A070100003', 'A070100004', 'A070100005', 'A070100006', 'A070100007', 'A070100008', 'A070102001', 'A070102002', 'A070102003', 'A070102004', 'A070102005', 'A070102006', 'A070102007', 'A070102008', 'A070104001', 'A070104002', 'A070104003', 'A070104004', 'A070104005', 'A070104006', 'A070104007', 'A070104008', 'A070108001', 'A070108002', 'A070108003', 'A070108004', 'A070108005', 'A070108006', 'A070108007', 'A070108008', 'A070118001', 'A070118002', 'A070118003', 'A070118004', 'A070118005', 'A070118006', 'A070118007', 'A070118008', 'A070119002', 'A070119003', 'A070119001', 'A070119004', 'A070119005', 'A070119006', 'A070119007', 'A070119008', 'A070120001', 'A070120002', 'A070120003', 'A070120004', 'A070120005', 'A070120006', 'A070120007', 'A070120008', 'A070121001', 'A070121002', 'A070121003', 'A070121004', 'A070121006', 'A070121005', 'A070122001', 'A070122002', 'A070122003', 'A070122004', 'A070122006', 'A070122005', 'A070123001', 'A070123002', 'A070123003', 'A070123004', 'A070123005', 'A070123006', 'A070123007', 'A070123008', 'A070125001', 'A070125002', 'A070125003', 'A070125004', 'A070125005', 'A070125006', 'A070134001', 'A070134002', 'A070134003', 'A070134004', 'A070134005', 'A070134006', 'A070134007', 'A070134008', 'A070156001', 'A070156006', 'A070156005', 'A070156004', 'A070156003', 'A070156002', 'A070164001', 'A070164002', 'A070164003', 'A070164004', 'A070164005', 'A070164006', 'A070164007', 'A070164008', 'A070082001', 'A070082002', 'A070082003', 'A070082004', 'A070082005', 'A070082006', 'A070084001', 'A070084002', 'A070084003', 'A070084004', 'A070084006', 'A070084005', 'A070084007', 'A070084008', 'A070084009', 'A090056001', 'A090056002', 'A090056003', 'A090056004', 'A090056005', 'A090056006', 'A090060001', 'A090060002', 'A090060003', 'A090060004', 'A090060005', 'A090060006', 'A090061001', 'A090061003', 'A090061004', 'A090061005', 'A090061006', 'A090061007', 'A090061008', 'A090062001', 'A090062002', 'A090062003', 'A090062004', 'A090062005', 'A090062006', 'A090062007', 'A090062008', 'A090063001', 'A090063002', 'A090063003', 'A090063004', 'A090063005', 'A090063006', 'A090064001', 'A090064002', 'A090064003', 'A090064004', 'A090064005', 'A090064006', 'A090058001', 'A090058002', 'A090058003', 'A090058004', 'A090058005', 'A090058006', 'A090058007', 'A090058008', 'A040007001', 'A040007002', 'A040007003', 'A040007004', 'A040007005', 'A040007006', 'A040008001', 'A040008002', 'A040008003', 'A040008004', 'A040008005', 'A040010001', 'A040010002', 'A040010003', 'A040010004', 'A040010005', 'A040010006', 'A040011001', 'A040011002', 'A040011003', 'A040011004', 'A040011005', 'A040011006', 'A050034001', 'A050034002', 'A050034003', 'A050034004', 'A050034005', 'A050034006', 'A040012001', 'A040012002', 'A040012003', 'A040012004', 'A040012005', 'A040012006', 'A050043001', 'A050043002', 'A050043003', 'A050043004', 'A050043005', 'A050055001', 'A050055002', 'A050055003', 'A050055004', 'A050055005', 'A050055006', 'A050057001', 'A050057002', 'A050057003', 'A050057004', 'A050057005', 'A040028001', 'A040028002', 'A040028003', 'A050057006', 'A040029001', 'A040029002', 'A040029003', 'A040029004', 'A040029005', 'A040029006', 'A040029007', 'A040030001', 'A040030002', 'A040030003', 'A040030004', 'A040030005', 'A040030006', 'A050073001', 'A050073002', 'A050073003', 'A050073004', 'A050073005', 'A040032001', 'A040032002', 'A040032003', 'A040032004', 'A040032005', 'A050099001', 'A050099002', 'A050099003', 'A050099004', 'A050099005', 'A040031001', 'A040031002', 'A040031003', 'A040031004', 'A040031005', 'A040043001', 'A040043002', 'A040043003', 'A040043004', 'A040043005', 'A040043006', 'A040044001', 'A040044002', 'A040044003', 'A040044004', 'A040044005', 'A040044006', 'A040045001', 'A040045002', 'A040045003', 'A040045004', 'A040045005', 'A040048001', 'A040048002', 'A040048003', 'A040048004', 'A040048005', 'A040048006', 'A040055001', 'A040055002', 'A040055003', 'A040055004', 'A040055005', 'A040055006', 'A040056001', 'A040056002', 'A040056003', 'A040056004', 'A040056005', 'A040056006', 'A030061001', 'A030061002', 'A030061003', 'A030061004', 'A030061005', 'A040057001', 'A040057002', 'A040057003', 'A040057004', 'A040057005', 'A040057006', 'A040071001', 'A040071002', 'A040071003', 'A040071004', 'A040071005', 'A040072001', 'A040072002', 'A040072003', 'A040072004', 'A040072005', 'A040072006', 'A040061001', 'A040061002', 'A040061003', 'A040061004', 'A040061005', 'A040061006', 'A040062001', 'A040062002', 'A040062003', 'A040062004', 'A040062005', 'A040062006', 'A040077001', 'A040077002', 'A040077003', 'A040077004', 'A040077005', 'A040077006', 'A040078001', 'A040078002', 'A040078003', 'A040078004', 'A040078005', 'A040078006', 'A040079001', 'A040079002', 'A040079003', 'A040079004', 'A040079005', 'A040098001', 'A040098002', 'A040098003', 'A040098004', 'A040098005', 'A040099001', 'A040099002', 'A040099003', 'A040099004', 'A040099005', 'A040099006', 'A040102001', 'A040102002', 'A040102003', 'A040102004', 'A040102005', 'A040085001', 'A040085002', 'A040085003', 'A040085004', 'A040085005', 'A040085006', 'A030005001', 'A030005002', 'A030005003', 'A030005004', 'A030005005', 'A030070001', 'A030070002', 'A030070003', 'A030070004', 'A030070005', 'A050152001', 'A050152002', 'A050152003', 'A050152004', 'A050152005', 'A050152006', 'A050152007', 'A050158002', 'A050158003', 'A050158001', 'A050158004', 'A050158005', 'A050158007', 'A050158006', 'A050165001', 'A050165002', 'A050165003', 'A050165004', 'A050165005', 'A050165006', 'A050165007', 'A050167001', 'A050167002', 'A050167003', 'A050167004', 'A050167005', 'A050167006', 'A050167007', 'A050169001', 'A050169002', 'A050169003', 'A050169004', 'A050169005', 'A050169006', 'A050169007', 'A050171002', 'A050171003', 'A050171004', 'A050171005', 'A050171006', 'A050171007', 'A050173001', 'A050173002', 'A050173003', 'A050173004', 'A050173005', 'A050173006', 'A050173007', 'A050180001', 'A050180002', 'A050180003', 'A050180004', 'A050180005', 'A050180006', 'A050180007', 'A050182001', 'A050182002', 'A050182003', 'A050182004', 'A050182005', 'A050182006', 'A050182007', 'A050184001', 'A050184002', 'A050184003', 'A050184004', 'A050184007', 'A050184005', 'A050184006', 'A050186001', 'A050186003', 'A050186004', 'A050186005', 'A050186006', 'A050186007', 'A050188001', 'A050188003', 'A050188004', 'A050188005', 'A050188006', 'A050188007', 'A050128001', 'A050128002', 'A050128003', 'A050128004', 'A050128005', 'A050128006', 'A050128007', 'A050130001', 'A050130002', 'A050130003', 'A050130004', 'A050130005', 'A050130006', 'A050130007', 'A050132001', 'A050132004', 'A050132005', 'A050132002', 'A050132003', 'A050132006', 'A050132007', 'A050138001', 'A050138002', 'A050138003', 'A050138004', 'A050138005', 'A050138006', 'A050138007', 'A050140001', 'A050140002', 'A050140003', 'A050140004', 'A050140005', 'A050140006', 'A050140007', 'A050142001', 'A050142002', 'A050142003', 'A050142004', 'A050142005', 'A050142006', 'A050142007', 'A050144001', 'A050144002', 'A050144003', 'A050144004', 'A050144005', 'A050144006', 'A050144007', 'A050150001', 'A050150002', 'A050150003', 'A050150004', 'A050150005', 'A050150006', 'A050150007', 'A050154001', 'A050154002', 'A050154003', 'A050154004', 'A050154005', 'A050154007', 'A050154006', 'A050156001', 'A050156002', 'A050156003', 'A050156004', 'A050156005', 'A050156007', 'A050156006', 'A070006001', 'A070006002', 'A070006003', 'A070006004', 'A070006005', 'A070006006', 'A070006007', 'A070006008', 'A070006009', 'A070016001', 'A070016002', 'A070016003', 'A070016004', 'A070016005', 'A070016006', 'A070016007', 'A070016008', 'A070016009', 'A070018001', 'A070018002', 'A070018003', 'A070018004', 'A070018005', 'A070018006', 'A070018007', 'A070018008', 'A070018009', 'A070018010', 'A070018011', 'A070018012', 'A070024001', 'A070024002', 'A070024003', 'A070024004', 'A070024005', 'A070024006', 'A070024007', 'A070024008', 'A070024009', 'A070026001', 'A070026002', 'A070026003', 'A070026004', 'A070026005', 'A070026006', 'A070026007', 'A070026008', 'A070026009', 'A070028001', 'A070028002', 'A070028003', 'A070028004', 'A070028005', 'A070028006', 'A070080001', 'A070080002', 'A070080003', 'A070080004', 'A070080005', 'A070080006', 'A070080007', 'A070080008', 'A070080009', 'A010169001', 'A010169002', 'A010169003', 'A010169004', 'A010169005', 'A010182001', 'A010182002', 'A010182003', 'A010182004', 'A010182005', 'A010188001', 'A010188002', 'A010188003', 'A010188004', 'A010188005', 'A010192001', 'A010192002', 'A010192003', 'A010192004', 'A010192005', 'A010191001', 'A010191002', 'A010191003', 'A010191004', 'A010191005', 'A040009001', 'A040009002', 'A040009003', 'A040009004', 'A040009005', 'A040009006', 'A070002002', 'A070002003', 'A070002004', 'A070002005', 'A070002006', 'A070002007', 'A070002001', 'A070002008', 'A070002009', 'A070004001', 'A070004002', 'A070004003', 'A070004004', 'A070004005', 'A070004006', 'A070004007', 'A070004008', 'A070004009', 'A070008001', 'A070008002', 'A070008003', 'A070008004', 'A070008005', 'A070008006', 'A070008007', 'A070008008', 'A070008009', 'A070010001', 'A070010002', 'A070010003', 'A070010004', 'A070010005', 'A070010006', 'A070010007', 'A070010009', 'A070010008', 'A070014001', 'A070014002', 'A070014003', 'A070014004', 'A070014005', 'A070014006', 'A070014007', 'A070014009', 'A070014008', 'A090040001', 'A090040002', 'A090040003', 'A090040004', 'A090040005', 'A090040006', 'A090040007', 'A090040008', 'A090041001', 'A090041002', 'A090041003', 'A090041004', 'A090041005', 'A090041006', 'A090042001', 'A090042002', 'A090042003', 'A090042004', 'A090042005', 'A090042006', 'A060002001', 'A060002002', 'A060002003', 'A060002004', 'A060002005', 'A060002007', 'A060002006', 'A060008001', 'A060008002', 'A060008003', 'A060008004', 'A060008005', 'A060008006', 'A060008007', 'A060010001', 'A060010002', 'A060010003', 'A060010004', 'A060010005', 'A060010006', 'A060010007', 'A060023001', 'A060023002', 'A060023003', 'A060023004', 'A060023005', 'A060023006', 'A060023007', 'A060032001', 'A060032003', 'A060032002', 'A060032004', 'A060032005', 'A060032006', 'A060032007', 'A060042001', 'A060042002', 'A060042003', 'A060042005', 'A060042004', 'A060042006', 'A060042007', 'A060034001', 'A060034002', 'A060034003', 'A060034004', 'A060034005', 'A060034006', 'A060034007', 'A060036001', 'A060036004', 'A060036002', 'A060036003', 'A060036005', 'A060036007', 'A060036006', 'A060038001', 'A060038002', 'A060038003', 'A060038004', 'A060038005', 'A060038006', 'A060038007', 'A060055001', 'A060055003', 'A060055004', 'A060055002', 'A060055005', 'A060055006', 'A060055007', 'A060057001', 'A060057002', 'A060057004', 'A060057003', 'A060057005', 'A060057007', 'A060057006', 'A060061001', 'A060061002', 'A060061003', 'A060061004', 'A060061005', 'A060061007', 'A060061006', 'A060077001', 'A060077002', 'A060077004', 'A060077003', 'A060077005', 'A060077006', 'A060077007', 'A060079001', 'A060079003', 'A060079002', 'A060079004', 'A060079005', 'A060079006', 'A060079007', 'A060088001', 'A060088002', 'A060088003', 'A060088004', 'A060088005', 'A060088006', 'A060088007', 'A060090001', 'A060090002', 'A060090003', 'A060090004', 'A060090006', 'A060090005', 'A060090007', 'A050097001', 'A050097002', 'A050097003', 'A050097004', 'A050097005', 'A060100001', 'A060100002', 'A060100003', 'A060100004', 'A060100005', 'A060100006', 'A060100007', 'A060102001', 'A060102002', 'A060102003', 'A060102004', 'A060102005', 'A060102006', 'A060102007', 'A060106001', 'A060106002', 'A060106003', 'A060106004', 'A060106005', 'A060106007', 'A060122001', 'A060122002', 'A060122003', 'A060122004', 'A060122005', 'A060122006', 'A060122007', 'A060148001', 'A060148002', 'A060148003', 'A060148004', 'A060148005', 'A060148006', 'A060148007', 'A040124001', 'A040124002', 'A040124003', 'A040124004', 'A040124005', 'A060150001', 'A060150002', 'A060150003', 'A060150004', 'A060150005', 'A060150006', 'A060150007', 'A060146001', 'A060146002', 'A060146003', 'A060146004', 'A060146005', 'A060146006', 'A060146007', 'A060152001', 'A060152002', 'A060152003', 'A060152004', 'A060152005', 'A060152006', 'A060152007', 'A060161001', 'A060161002', 'A060161003', 'A060161004', 'A060161005', 'A060161006', 'A060161007', 'A060163001', 'A060163002', 'A060163003', 'A060163004', 'A060163005', 'A060163006', 'A060163007', 'A060167001', 'A060167002', 'A060167003', 'A060167004', 'A060167005', 'A060167006', 'A060167007', 'A060176002', 'A060176003', 'A060176004', 'A060176007', 'A060180001', 'A060180002', 'A060180003', 'A060180004', 'A060180005', 'A060180006', 'A060180007', 'A040151001', 'A040151002', 'A040151003', 'A040151004', 'A040151005', 'A040167001', 'A040167002', 'A040167003', 'A040167004', 'A040167005', 'A040179001', 'A040179002', 'A040179003', 'A040179004', 'A040179005', 'A040181001', 'A040181002', 'A040181003', 'A040181004', 'A040181005', 'A040183001', 'A040183002', 'A040183003', 'A040183004', 'A040183005', 'A040188001', 'A040188002', 'A040188003', 'A040188004', 'A040190001', 'A040190002', 'A040190003', 'A040190004', 'A040190005', 'A040192001', 'A040192002', 'A040192003', 'A040192004', 'A040192005', 'A040194001', 'A040194002', 'A040194003', 'A040194004', 'A060004001', 'A060004002', 'A060004003', 'A060004004', 'A060004005', 'A060004006', 'A060004007', 'A060040001', 'A060040002', 'A060040003', 'A060040004', 'A060040005', 'A060040006', 'A060040007', 'A060059001', 'A060059002', 'A060059003', 'A060059004', 'A060059005', 'A060059006', 'A060059007', 'A060086001', 'A060086002', 'A060086003', 'A060086004', 'A060086005', 'A060086006', 'A060086007', 'A060149001', 'A060149002', 'A060149003', 'A060149004', 'A060149005', 'A060149006', 'A060149007', 'A060151001', 'A060151002', 'A060151003', 'A060151004', 'A060151005', 'A060151006', 'A060151007', 'A060166001', 'A060166002', 'A060166003', 'A060166004', 'A060166005', 'A060166006', 'A060166007', 'A060160001', 'A060160002', 'A060160003', 'A060160004', 'A060160005', 'A060160006', 'A060160007', 'A060162001', 'A060162002', 'A060162003', 'A060162004', 'A060162005', 'A060162006', 'A060162007', 'A060164001', 'A060164002', 'A060164003', 'A060164004', 'A060164005', 'A060164006', 'A060164007', 'A060168001', 'A060168002', 'A060168003', 'A060168004', 'A060168005', 'A060168006', 'A060168007', 'A060170001', 'A060170002', 'A060170003', 'A060170004', 'A060170005', 'A060170006', 'A060170007', 'A060170008', 'A060170009', 'A060171001', 'A060171002', 'A060171003', 'A060171005', 'A060171006', 'A090065001', 'A090065002', 'A090065003', 'A090065004', 'A090065005', 'A090065006', 'A090065007', 'A090065008', 'A060098001', 'A060098002', 'A060098003', 'A060098004', 'A060098005', 'A060098006', 'A060098007', 'A050118001', 'A050118002', 'A050118003', 'A050118004', 'A050118005', 'A050118006', 'A050119001', 'A050119002', 'A050119003', 'A050119004', 'A050119005', 'A050119006', 'A050120001', 'A050120002', 'A050120003', 'A050120004', 'A050120005', 'A050121001', 'A050121002', 'A050121003', 'A050121004', 'A050121005', 'A050122001', 'A050122002', 'A050122003', 'A050122004', 'A050122005', 'A050123001', 'A050123002', 'A050123003', 'A050123004', 'A050123005', 'A050123006', 'A050124001', 'A050124002', 'A050124003', 'A050124004', 'A050124005', 'A050124006', 'A050133001', 'A050133002', 'A050133003', 'A050133004', 'A050133005', 'A050133006', 'A050133007', 'A050133008', 'A050134001', 'A050134002', 'A050134003', 'A050134004', 'A050134005', 'A050134006', 'A050134007', 'A050134008', 'A050134009', 'A050135001', 'A050135002', 'A050135003', 'A050135004', 'A050135005', 'A050135006', 'A050135007', 'A050136001', 'A050136002', 'A050136003', 'A050136004', 'A050136005', 'A050136006', 'A050145001', 'A050145002', 'A050145003', 'A050145004', 'A050145005', 'A050145006', 'A050146001', 'A050146002', 'A050146003', 'A050146004', 'A050146005', 'A050147001', 'A050147002', 'A050147003', 'A050147004', 'A050147005', 'A050148001', 'A050148002', 'A050148003', 'A050148004', 'A050148005', 'A040053001', 'A040053002', 'A040053003', 'A040053004', 'A040053005', 'A010147001', 'A010147002', 'A010147003', 'A010147004', 'A010147005', 'A010145001', 'A010145002', 'A010145003', 'A010145004', 'A010145005', 'A010149001', 'A010149002', 'A010149003', 'A010149004', 'A010149005', 'A010159001', 'A010159002', 'A010159003', 'A010159004', 'A010159005', 'A010120001', 'A010120002', 'A010120003', 'A010120004', 'A010120005', 'A060006001', 'A060006002', 'A060006003', 'A060006004', 'A060006005', 'A060006006', 'A060006007', 'A060017001', 'A060017002', 'A060017003', 'A060017004', 'A060017005', 'A060017006', 'A060017007', 'A060011001', 'A060011002', 'A060011003', 'A060011004', 'A060011005', 'A060013001', 'A060013002', 'A060013003', 'A060013004', 'A060013005', 'A060013006', 'A060015001', 'A060015002', 'A060015003', 'A060015004', 'A060015005', 'A060015006', 'A060026001', 'A060026002', 'A060026003', 'A060026004', 'A060050001', 'A060050002', 'A060050003', 'A060050004', 'A060050005', 'A060050006', 'A060065001', 'A060065002', 'A060065003', 'A060065004', 'A060065005', 'A060068001', 'A060068002', 'A060068003', 'A060068004', 'A060068005', 'A030095001', 'A030095002', 'A030095003', 'A030095004', 'A030095005', 'A030097001', 'A030097002', 'A030097003', 'A030097004', 'A030097005', 'A030074001', 'A030074002', 'A030074003', 'A030074004', 'A030074005', 'A030078001', 'A030078002', 'A030078003', 'A030078004', 'A030078005', 'A060014001', 'A060014002', 'A060014003', 'A060014004', 'A060014005', 'A060045001', 'A060045002', 'A060045003', 'A060045004', 'A060045005', 'A060045006', 'A060049001', 'A060049002', 'A060049003', 'A060049004', 'A060049005', 'A060049006', 'A060051001', 'A060051002', 'A060051003', 'A060051004', 'A060051005', 'A060080001', 'A060080002', 'A060080003', 'A060081001', 'A060081002', 'A060081003', 'A060081004', 'A060081005', 'A060081006', 'A060081007', 'A060081008', 'A060082001', 'A060082002', 'A060082003', 'A060082004', 'A060082005', 'A060082006', 'A060082007', 'A060083001', 'A060083002', 'A060083003', 'A060083004', 'A060083005', 'A060084001', 'A060084002', 'A060084003', 'A060084004', 'A030169001', 'A030169002', 'A030169003', 'A030169004', 'A030169005', 'A030166001', 'A030166002', 'A030166003', 'A030166004', 'A030166005', 'A030168001', 'A030168002', 'A030168003', 'A030168004', 'A030168005', 'A030170001', 'A030170002', 'A030170003', 'A030170004', 'A030170005', 'A030172001', 'A030172002', 'A030172003', 'A030172004', 'A030172005', 'A030174001', 'A030174002', 'A030174003', 'A030174004', 'A030174005', 'A030176001', 'A030176003', 'A030176004', 'A030176005', 'A030178002', 'A030178004', 'A030178005', 'A030180001', 'A030180002', 'A030180003', 'A030180004', 'A030180005', 'A030182001', 'A030182003', 'A030182004', 'A030182005', 'A030184001', 'A030184002', 'A030184003', 'A030184004', 'A030184005', 'A030186002', 'A030186003', 'A030186004', 'A030186005', 'A030196001', 'A030196002', 'A030196003', 'A030196004', 'A030198001', 'A030198002', 'A030198003', 'A030198004', 'A030198005', 'A050159001', 'A050159002', 'A050159003', 'A050159004', 'A050159005', 'A050160001', 'A050160002', 'A050160003', 'A050160004', 'A050160005', 'A050161001', 'A050161002', 'A050161003', 'A050161004', 'A050161005', 'A050161006', 'A050161007', 'A050162001', 'A050162003', 'A050162004', 'A050162005', 'A050162006', 'A050162007', 'A050163001', 'A050163002', 'A050163003', 'A050163004', 'A050163005', 'A050174001', 'A050174002', 'A050174003', 'A050174004', 'A050174005', 'A050174006', 'A050174007', 'A050174008', 'A050174009', 'A050174010', 'A050175001', 'A050175002', 'A050175003', 'A050175004', 'A050175005', 'A050175006', 'A050176001', 'A050176002', 'A050176003', 'A050176004', 'A050176005', 'A050176006', 'A050177001', 'A050177002', 'A050177003', 'A050177004', 'A050177005', 'A050177006', 'A050178001', 'A050178002', 'A050178003', 'A050178004', 'A050178005', 'A050189001', 'A050189002', 'A050189003', 'A050189004', 'A050190001', 'A050190002', 'A050190003', 'A050190004', 'A050191001', 'A050191002', 'A050191003', 'A050191004', 'A050193001', 'A050193002', 'A050193003', 'A050193004', 'A050192001', 'A050192002', 'A050192003', 'A050192004', 'A050192005', 'A080050001', 'A080050002', 'A080050003', 'A080050004', 'A080050005', 'A080050006', 'A080050007', 'A080050008', 'A080052001', 'A080052002', 'A080052003', 'A080052004', 'A080052005', 'A080052006', 'A080054003', 'A080054004', 'A080054005', 'A080054006', 'A080054001', 'A080054002', 'A080056001', 'A080056002', 'A080056003', 'A080056004', 'A080056005', 'A080056006', 'A080056008', 'A080056007', 'A080058008', 'A080058001', 'A080058002', 'A080058003', 'A080058004', 'A080058005', 'A080058006', 'A080058007', 'A080060006', 'A080060001', 'A080060002', 'A080060003', 'A080060004', 'A080060005', 'A080064008', 'A080064001', 'A080064002', 'A080064003', 'A080064004', 'A080064005', 'A080064006', 'A080064007', 'A080066008', 'A080066001', 'A080066002', 'A080066003', 'A080066004', 'A080066005', 'A080066006', 'A080066007', 'A080068008', 'A080068005', 'A080068006', 'A080068001', 'A080068002', 'A080068003', 'A080068004', 'A080068007', 'A080074008', 'A080074001', 'A080074002', 'A080074003', 'A080074004', 'A080074005', 'A080074006', 'A080074007', 'A080104001', 'A080104002', 'A080104003', 'A080104004', 'A080104005', 'A080104006', 'A080104007', 'A080104008', 'A080106001', 'A080106002', 'A080106003', 'A080106004', 'A080106005', 'A080106006', 'A080106007', 'A080106008', 'A080110008', 'A080110007', 'A080110001', 'A080110002', 'A080110003', 'A080110004', 'A080110005', 'A080110006', 'A080116001', 'A080116002', 'A080116003', 'A080116004', 'A080116006', 'A080116007', 'A080116008', 'A080132001', 'A080132002', 'A080132003', 'A080132004', 'A080132005', 'A080132006', 'A080132007', 'A080132008', 'A080132009', 'A080132010', 'A080134001', 'A080134002', 'A080134003', 'A080134004', 'A080134005', 'A080134006', 'A080134007', 'A080134008', 'A010186001', 'A010186002', 'A010186003', 'A010186004', 'A010186005', 'A010118001', 'A010118002', 'A010118003', 'A010118004', 'A010118005', 'A010126001', 'A010126002', 'A010126003', 'A010126004', 'A010126005', 'A010130001', 'A010130002', 'A010130003', 'A010130004', 'A010130005', 'A060025001', 'A060025002', 'A060025003', 'A060025004', 'A060025005', 'A060025006', 'A060025007', 'A060053001', 'A060053002', 'A060053003', 'A060053004', 'A060053005', 'A060053006', 'A060053007', 'A060175001', 'A060175002', 'A060175003', 'A060175004', 'A060175005', 'A060175006', 'A060175007', 'A060177001', 'A060177002', 'A060177003', 'A060177004', 'A060177005', 'A060177006', 'A060177007', 'A060179001', 'A060179002', 'A060179003', 'A060179004', 'A060179005', 'A060179006', 'A060179007', 'A060181001', 'A060181002', 'A060181003', 'A060181004', 'A060181005', 'A060181006', 'A060181007', 'A060019001', 'A060019002', 'A060019003', 'A060019004', 'A060019005', 'A060019006', 'A060019007', 'A060075001', 'A060075002', 'A060075003', 'A060075004', 'A060075005', 'A060075006', 'A060075007', 'A060169001', 'A060169002', 'A060169003', 'A060169004', 'A060169005', 'A060169006', 'A060169007', 'A060178001', 'A060178003', 'A060178004', 'A060178005', 'A060178006', 'A060178007', 'A060182001', 'A060182002', 'A060182003', 'A060182004', 'A060182005', 'A060182006', 'A060182007', 'A060145001', 'A060145002', 'A060145003', 'A060145004', 'A060145005', 'A060145006', 'A060145007', 'A020173001', 'A020173002', 'A020173003', 'A020173004', 'A020173005', 'A060165001', 'A060165002', 'A060165003', 'A060165004', 'A060165005', 'A060165006', 'A060165007', 'A060174001', 'A060174002', 'A060174003', 'A060174004', 'A060174005', 'A060184001', 'A060184002', 'A060184003', 'A060184004', 'A060185001', 'A060185002', 'A060185003', 'A060185004', 'A060185005', 'A060186001', 'A060186002', 'A060186003', 'A060186004', 'A060186005', 'A060154001', 'A060154002', 'A060154004', 'A060154005', 'A060154007', 'A060154003', 'A060154006', 'A010132001', 'A010132002', 'A010132003', 'A010132004', 'A010132005', 'A060030001', 'A060030002', 'A060030003', 'A060030004', 'A060069001', 'A060069002', 'A060069003', 'A060069004', 'A060109001', 'A060109002', 'A060109003', 'A060109004', 'A060109005', 'A060109006', 'A060112001', 'A060112002', 'A060112003', 'A060112004', 'A060112005', 'A060112006', 'A060113001', 'A060113002', 'A060113003', 'A060113004', 'A060113005', 'A060113006', 'A060118001', 'A060118002', 'A060118003', 'A060118004', 'A060118005', 'A060118006', 'A060172001', 'A060172002', 'A060172003', 'A060172004', 'A060172005', 'A060173001', 'A060173002', 'A060173003', 'A060173004', 'A060173005', 'A060173006', 'A060012001', 'A060012002', 'A060012003', 'A060012004', 'A060012006', 'A060012005', 'A060027001', 'A060027002', 'A060027003', 'A060027004', 'A060028001', 'A060028002', 'A060028003', 'A060028004', 'A060028005', 'A060028006', 'A060029001', 'A060029002', 'A060029003', 'A060029004', 'A060067001', 'A060067002', 'A060067003', 'A060067004', 'A060110001', 'A060110002', 'A060110003', 'A060110004', 'A060110005', 'A060110006', 'A060183001', 'A060183002', 'A060183003', 'A060183004', 'A060183005', 'A010136001', 'A010136002', 'A010136003', 'A010136004', 'A010136005', 'A010144001', 'A010144002', 'A010144003', 'A010144004', 'A010144005', 'A010148001', 'A010148002', 'A010148003', 'A010148004', 'A010148005', 'A010156001', 'A010156002', 'A010156003', 'A010156004', 'A010156005', 'A010156006', 'A010156007', 'A010150001', 'A010150002', 'A010150003', 'A010150004', 'A010150005', 'A010161001', 'A010161002', 'A010161003', 'A010161004', 'A010161005', 'A010158001', 'A010158002', 'A010158003', 'A010158004', 'A010158005', 'A060063001', 'A060063002', 'A060063003', 'A060063004', 'A060063005', 'A060063006', 'A060063007', 'A060104001', 'A060104002', 'A060104003', 'A060104004', 'A060104005', 'A060104006', 'A060104007', 'A020193001', 'A020193002', 'A020193003', 'A020193004', 'A020193005', 'A020193006', 'A020193007', 'A020193008', 'A020194001', 'A020194002', 'A020194003', 'A020194004', 'A020195001', 'A020195002', 'A020195003', 'A020195004', 'A020195005', 'A020176001', 'A020176003', 'A020176004', 'A020176005', 'A020178001', 'A020178002', 'A020178003', 'A020178004', 'A020185001', 'A020185002', 'A020185003', 'A020185004', 'A020185005', 'A020191001', 'A020191002', 'A020191003', 'A020191004', 'A020191005', 'A090066001', 'A090066002', 'A090066003', 'A090066004', 'A090066005', 'A090066006', 'A090066007', 'A090066008', 'A090067001', 'A090067002', 'A090067003', 'A090067004', 'A090067005', 'A090067006', 'A090067007', 'A090067008', 'A090068001', 'A090068002', 'A090068003', 'A090068004', 'A090068005', 'A090068006', 'A090068007', 'A090068008', 'A010162001', 'A010162002', 'A010162003', 'A010162004', 'A010162005', 'A010171001', 'A010171002', 'A010171003', 'A010171004', 'A010171005', 'A010172001', 'A010172002', 'A010172003', 'A010172004', 'A010172005', 'A010172006', 'A010172007', 'A010172008', 'A010175001', 'A010175002', 'A010175003', 'A010175004', 'A010176001', 'A010176002', 'A010176003', 'A010176004', 'A010177001', 'A010177002', 'A010177003', 'A010177004', 'A010177005', 'A010179001', 'A010179002', 'A010179003', 'A010179004', 'A010181001', 'A010181002', 'A010181003', 'A010181004', 'A020180001', 'A020180002', 'A020180003', 'A020180004', 'A020180005', 'A020187001', 'A020187002', 'A020187003', 'A020187004', 'A020187005', 'A020189001', 'A020189003', 'A020189004', 'A020189005', 'A010185001', 'A010185002', 'A010185003', 'A010185004', 'A010185005', 'A010187001', 'A010187002', 'A010187004', 'A010187003', 'A010187005', 'A050001001', 'A050001002', 'A050001003', 'A050001004', 'A050001005', 'A050001006', 'A050001007', 'A090002002', 'A090002005', 'A090002008', 'A090002001', 'A090002007', 'A090002003', 'A090002004', 'A090002006', 'A090004005', 'A090004007', 'A090004008', 'A090004004', 'A090004006', 'A090004001', 'A090004002', 'A090004003', 'A090006001', 'A090006002', 'A090006003', 'A090006004', 'A090006005', 'A090006006', 'A090008001', 'A090008002', 'A090008003', 'A090008005', 'A090008004', 'A090008006', 'A090010001', 'A090010003', 'A090010004', 'A090010002', 'A090010005', 'A090010007', 'A090010006', 'A090010008', 'A090012001', 'A090012002', 'A090012003', 'A090012005', 'A090012006', 'A090012007', 'A090012008', 'A090012004', 'A010160001', 'A010160002', 'A010160003', 'A010160004', 'A010160005', 'A010164001', 'A010164002', 'A010164003', 'A010164004', 'A010166001', 'A010166003', 'A010166004', 'A010166005', 'A010168001', 'A010168002', 'A010168003', 'A010168005', 'A010174001', 'A010174002', 'A010174003', 'A010174004', 'A010174005', 'A010183001', 'A010183002', 'A010183004', 'A010183005', 'A010178001', 'A010178002', 'A010178003', 'A010178004', 'A010189001', 'A010189002', 'A010189003', 'A010189004', 'A010189005', 'A010180001', 'A010180002', 'A010180003', 'A010180004', 'A010180005', 'A010180006'])"
      ]
     },
     "execution_count": 60,
     "metadata": {},
     "output_type": "execute_result"
    }
   ],
   "source": [
    "import pickle\n",
    "\n",
    "with open(f'{modelname}_{now}_{valid_auroc:.4f}_embeddings.pickle', 'wb') as f:\n",
    "    pickle.dump(data, f)"
   ]
  }
 ],
 "metadata": {
  "kernelspec": {
   "display_name": ".dkt",
   "language": "python",
   "name": "python3"
  },
  "language_info": {
   "codemirror_mode": {
    "name": "ipython",
    "version": 3
   },
   "file_extension": ".py",
   "mimetype": "text/x-python",
   "name": "python",
   "nbconvert_exporter": "python",
   "pygments_lexer": "ipython3",
   "version": "3.10.4"
  }
 },
 "nbformat": 4,
 "nbformat_minor": 2
}
